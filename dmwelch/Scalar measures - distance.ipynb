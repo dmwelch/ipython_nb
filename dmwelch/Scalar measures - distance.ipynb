{
 "metadata": {
  "name": "Scalar measures - distance"
 },
 "nbformat": 3,
 "nbformat_minor": 0,
 "worksheets": [
  {
   "cells": [
    {
     "cell_type": "markdown",
     "metadata": {},
     "source": [
      "# Calculate the interpupilary distance #"
     ]
    },
    {
     "cell_type": "code",
     "collapsed": false,
     "input": [
      "# file1 = '/paulsen/Experiments/20130202_PREDICTHD_Results/PHD_024/0131/90863/ACPCAlign/BCD_ACPC_Landmarks.fcsv'\n",
      "def calculateIPD(dirname):\n",
      "    filename = os.path.join(dirname, 'BCD_ACPC_Landmarks.fcsv')\n",
      "    with open(filename, 'r') as fid:\n",
      "        for line in fid.readlines():\n",
      "            if line[:2] == 'LE':\n",
      "                # print line\n",
      "                left_eye = line\n",
      "            elif line[:2] == 'RE':\n",
      "                # print line\n",
      "                right_eye = line\n",
      "            else:\n",
      "                pass\n",
      "    _, x_left, y_left, z_left, __, ___ = left_eye.split(',')\n",
      "    _, x_right, y_right, z_right, __, ___ = right_eye.split(',')\n",
      "    dist = math.sqrt((float(x_left) - float(x_right)) ** 2 + (float(y_left) - float(y_right)) ** 2 + (float(z_left) - float(z_right)) ** 2)\n",
      "    return dist\n",
      "    # print \"The interpupilary distance is:\", dist, \"mm\""
     ],
     "language": "python",
     "metadata": {},
     "outputs": [],
     "prompt_number": 26
    },
    {
     "cell_type": "code",
     "collapsed": false,
     "input": [
      "insertFunction = \"select add_measurements(%s,%s,%s,%s,%s,%s)\""
     ],
     "language": "python",
     "metadata": {},
     "outputs": [],
     "prompt_number": 27
    },
    {
     "cell_type": "code",
     "collapsed": false,
     "input": [
      "import keyring\n",
      "import math\n",
      "import psycopg2 as sql\n",
      "import os\n",
      "\n",
      "### Connect to imagingmeasurements database\n",
      "password = keyring.get_password('Postgres', 'autoworkup')\n",
      "connection = sql.connect(host='psych-db.psychiatry.uiowa.edu',port=5432, database='imagingmeasurements', \n",
      "                         user='autoworkup', password=password)\n",
      "analysisPath = ['/paulsen/Experiments/20130202_PREDICTHD_Results', '/hjohnson/TrackOn/Experiments/20130109_TrackOn_Results/']\n",
      "for currentPath in analysisPath:\n",
      "    for base, dirs, files in os.walk(currentPath):\n",
      "        if 'BCD_ACPC_Landmarks.fcsv' in files:\n",
      "            # print '.',\n",
      "            pathElements = base.split(os.path.sep)\n",
      "            assert pathElements.pop() == 'ACPCAlign'\n",
      "            session = pathElements.pop()\n",
      "            subject = pathElements.pop()\n",
      "            site = pathElements.pop()\n",
      "            experiment = pathElements.pop()\n",
      "            tool = experiment.split('_')[0]\n",
      "            cursor = connection.cursor()\n",
      "            cursor.execute(insertFunction, (experiment, session, 'interpupilary_distance', 'mm', calculateIPD(base), tool))\n",
      "            print cursor.mogrify(insertFunction, (experiment, session, 'interpupilary_distance', 'mm', calculateIPD(base), tool))\n",
      "            break\n",
      "            connection.commit()\n",
      "            \n",
      "connection.close()"
     ],
     "language": "python",
     "metadata": {},
     "outputs": [],
     "prompt_number": "*"
    },
    {
     "cell_type": "code",
     "collapsed": false,
     "input": [
      "connection.close()"
     ],
     "language": "python",
     "metadata": {},
     "outputs": [
      {
       "output_type": "stream",
       "stream": "stdout",
       "text": [
        "\n"
       ]
      }
     ],
     "prompt_number": 23
    },
    {
     "cell_type": "code",
     "collapsed": false,
     "input": [],
     "language": "python",
     "metadata": {},
     "outputs": []
    }
   ],
   "metadata": {}
  }
 ]
}