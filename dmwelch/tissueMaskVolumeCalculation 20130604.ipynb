{
 "metadata": {
  "name": "tissueMaskVolumeCalculation 20130604"
 },
 "nbformat": 3,
 "nbformat_minor": 0,
 "worksheets": [
  {
   "cells": [
    {
     "cell_type": "markdown",
     "metadata": {},
     "source": [
      "# INCOMPLETE #\n",
      "## Do not use! #"
     ]
    },
    {
     "cell_type": "markdown",
     "metadata": {},
     "source": [
      "# Task: Get Volume measurements for database population\n",
      "\n",
      "Mask the ICV in the probabilities and sum for these regions:\n",
      "\n",
      "* Cerebral WM\n",
      "* Cerebellar WM\n",
      "* Cerebral GM (+ Surface GM)\n",
      "* Cerebellar GM\n",
      "* CSF\n",
      "* Venous blood"
     ]
    },
    {
     "cell_type": "code",
     "collapsed": false,
     "input": [
      "import csv\n",
      "import os\n",
      "import re\n",
      "import sys\n",
      "from decimal import Decimal\n",
      "sys.path.insert(1, '/ipldev/scratch/welchdm/bld/rs-fMRI/BSA/SimpleITK-build/lib/')\n",
      "sys.path.insert(2, '/ipldev/scratch/welchdm/bld/rs-fMRI/BSA/SimpleITK-build/bin/')\n",
      "sys.path.insert(3, '/ipldev/scratch/welchdm/bld/rs-fMRI/BSA/SimpleITK-build/Wrapping/')\n",
      "sys.path.insert(4, '/ipldev/sharedopt/ipython_notebooks/SimpleITK-Notebooks/')\n",
      "sys.path.insert(5, '/ipldev/sharedopt/ipython_notebooks/common')\n",
      "\n",
      "import SimpleITK as sitk\n",
      "#from myshow import *\n",
      "\n",
      "basedir = '/paulsen/Experiments/20130202_PREDICTHD_Results'\n",
      "# basedir = '/hjohnson/TrackOn/Experiments/20130109_TrackOn_Results'\n",
      "\n",
      "lower_threshold = 0.0099\n",
      "upper_threshold = 1.0099"
     ],
     "language": "python",
     "metadata": {},
     "outputs": [],
     "prompt_number": 2
    },
    {
     "cell_type": "markdown",
     "metadata": {},
     "source": [
      "## Step 1: get the 'easy' volumes"
     ]
    },
    {
     "cell_type": "code",
     "collapsed": false,
     "input": [
      "#key = 'cerebellar_white_matter'\n",
      "#value = 'POSTERIOR_CRBLWM.nii.gz'\n",
      "#img = sitk.ReadImage(os.path.join(basedir, \"FMRI_HD_024\", \"0135/52907/TissueClassify\", value))\n",
      "#img.GetPixelIDValue()\n",
      "#array = sitk.GetArrayFromImage(img)\n",
      "import numpy as np\n",
      "D = computeVolumes(os.path.join(basedir, \"FMRI_HD_024\", \"0135/52907/ACCUMULATED_POSTERIORS\"))"
     ],
     "language": "python",
     "metadata": {},
     "outputs": [],
     "prompt_number": 89
    },
    {
     "cell_type": "code",
     "collapsed": false,
     "input": [
      "for values in D.values():\n",
      "    print values\n",
      "    print \"{:.0f}\".format(values)\n"
     ],
     "language": "python",
     "metadata": {},
     "outputs": [
      {
       "output_type": "stream",
       "stream": "stdout",
       "text": [
        "4485.65820312\n",
        "4486\n",
        "529810.75\n",
        "529811\n",
        "229368.375\n",
        "229368\n",
        "6538360.5\n",
        "6538360\n",
        "626041.1875\n",
        "626041\n",
        "39104.3203125\n",
        "39104\n"
       ]
      }
     ],
     "prompt_number": 90
    },
    {
     "cell_type": "code",
     "collapsed": false,
     "input": [
      "ICV = (D['gray_matter'] + D['white_matter'] + D['cranial_csf'] + D['venous_blood'] + D['globus'])\n",
      "print ICV\n",
      "print (D['gray_matter'] + D['white_matter'] + D['globus'])/ICV\n",
      "print 1 - (D['cranial_csf'] + D['venous_blood'])/ICV\n",
      "print D['bkg'] + ICV"
     ],
     "language": "python",
     "metadata": {},
     "outputs": [
      {
       "output_type": "stream",
       "stream": "stdout",
       "text": [
        "1428810.29102\n",
        "0.81210053077\n",
        "0.81210053077\n",
        "7967170.79102\n"
       ]
      }
     ],
     "prompt_number": 91
    },
    {
     "cell_type": "code",
     "collapsed": false,
     "input": [
      "image = sitk.ReadImage(os.path.join(basedir, \"FMRI_HD_024\", \"0135/52907/ACCUMULATED_POSTERIORS/POSTERIOR_BACKGROUND_TOTAL.nii.gz\"))\n",
      "size = image.GetSize()\n",
      "totalsize = size[0]*size[1]*size[2]\n",
      "print (D['bkg'] + ICV)/totalsize\n",
      "\n",
      "sitk.Resample(image, sitk.Transform(3, sitk.sitkIdentity), sitk.sitkLinear, size*2, image.GetOrigin(), image.GetSpacing(), image.GetDirection())"
     ],
     "language": "python",
     "metadata": {},
     "outputs": [
      {
       "output_type": "stream",
       "stream": "stdout",
       "text": [
        "1.00026274583\n"
       ]
      },
      {
       "output_type": "pyout",
       "prompt_number": 103,
       "text": [
        "<SimpleITK.Image; proxy of <Swig Object of type 'std::vector< itk::simple::Image >::value_type *' at 0x10f9ff120> >"
       ]
      }
     ],
     "prompt_number": 103
    },
    {
     "cell_type": "code",
     "collapsed": false,
     "input": [
      "def computeVolumes(path):\n",
      "    easy_volumes = {\"globus\":\"POSTERIOR_GLOBUS_TOTAL.nii.gz\",\n",
      "                    \"gray_matter\":\"POSTERIOR_GM_TOTAL.nii.gz\",\n",
      "                    \"cranial_csf\":\"POSTERIOR_CSF_TOTAL.nii.gz\",\n",
      "                    \"venous_blood\":\"POSTERIOR_VB_TOTAL.nii.gz\",\n",
      "                    \"white_matter\":\"POSTERIOR_WM_TOTAL.nii.gz\",\n",
      "                    \"bkg\":\"POSTERIOR_BACKGROUND_TOTAL.nii.gz\"}\n",
      "    # print easy_volumes.keys()\n",
      "    retdict = dict.fromkeys(easy_volumes)\n",
      "    for key, value in easy_volumes.items():\n",
      "        img = sitk.ReadImage(os.path.join(path, value))\n",
      "        array = sitk.GetArrayFromImage(img)\n",
      "        total = np.sum(array)\n",
      "        spacing = img.GetSpacing()\n",
      "        volume = total * spacing[0] * spacing[1] * spacing[2]\n",
      "        # print \"Total:\", total,\n",
      "        # print \"Volume:\", volume, \" mm\"\n",
      "        retdict[key] = volume\n",
      "    return retdict"
     ],
     "language": "python",
     "metadata": {},
     "outputs": [],
     "prompt_number": 88
    },
    {
     "cell_type": "markdown",
     "metadata": {},
     "source": [
      "## Step 2: compute the above measurements for all sessions"
     ]
    },
    {
     "cell_type": "code",
     "collapsed": false,
     "input": [
      "def computeAllVolumes(path):\n",
      "    retdict = computeVolumes(path)\n",
      "    return retdict"
     ],
     "language": "python",
     "metadata": {},
     "outputs": [],
     "prompt_number": 63
    },
    {
     "cell_type": "code",
     "collapsed": false,
     "input": [
      "def writeRecord(fid, rowDict):\n",
      "    labels = ['white_matter', 'cranial_csf', 'gray_matter', 'venous_blood', 'globus']\n",
      "    tool = 'tissueMaskVolumeCalculation-20130604'\n",
      "    for key in labels:\n",
      "        valueString = \"{0},{1},{2},{3},{4:.0f},{5}\\n\".format(rowDict['experiment'], rowDict['session'], key, 'mm_3', rowDict[key], tool)\n",
      "        # print valueString\n",
      "        fid.write(valueString)"
     ],
     "language": "python",
     "metadata": {},
     "outputs": [],
     "prompt_number": 64
    },
    {
     "cell_type": "markdown",
     "metadata": {},
     "source": [
      "## Step 3: Calculate volume measures for all sessions"
     ]
    },
    {
     "cell_type": "code",
     "collapsed": false,
     "input": [
      "target_dir = 'ACCUMULATED_POSTERIORS'\n",
      "analysisPath = os.path.join(basedir, \"FMRI_HD_024\", \"0135\", \"52907\") # basedir\n",
      "for base, dirs, _ in os.walk(analysisPath):\n",
      "    if os.path.basename(base).endswith(target_dir):\n",
      "        pathElements = base.split(os.path.sep)\n",
      "        assert pathElements.pop() == target_dir \n",
      "        session = pathElements.pop()\n",
      "        subject = pathElements.pop()\n",
      "        site = pathElements.pop()\n",
      "        experiment = pathElements.pop()\n",
      "        try:\n",
      "            retdict = computeAllVolumes(base)\n",
      "            retdict['session'] = session\n",
      "            retdict['experiment'] = experiment\n",
      "            with open(os.path.join(base, 'tissueMaskVolumeCalculation.csv'), 'w', 1) as fid:\n",
      "                fid.write(\"experiment, session, label, measurement_type, value, tool\\n\")\n",
      "                writeRecord(fid, retdict)\n",
      "        except Exception, err:\n",
      "            raise\n",
      "        print \". \",\n",
      "print \"Done\""
     ],
     "language": "python",
     "metadata": {},
     "outputs": [
      {
       "output_type": "stream",
       "stream": "stdout",
       "text": [
        ".  Done\n"
       ]
      }
     ],
     "prompt_number": 81
    },
    {
     "cell_type": "markdown",
     "metadata": {},
     "source": [
      "## Step 4: insert measures into database"
     ]
    },
    {
     "cell_type": "code",
     "collapsed": false,
     "input": [
      "for base, dirs, _ in os.walk(analysisPath):\n",
      "    if os.path.basename(base).endswith(target_dir):\n",
      "        with open(os.path.join(base, 'tissueMaskVolumeCalculation.csv'), 'r', 1) as fid:\n",
      "            output = fid.readlines()\n",
      "        count = 0\n",
      "        D = {}\n",
      "        for line in output:\n",
      "            if count == 0:\n",
      "                pass\n",
      "            else:\n",
      "                values = line.split(',')\n",
      "                D[values[2]] = float(values[4])\n",
      "            count += 1\n",
      "        ICV = (D['gray_matter'] + D['white_matter'] + D['cranial_csf'] + D['venous_blood'])\n",
      "        print base\n",
      "        print \"(GM + WM)ICV = {:.4f}\".format(((D['gray_matter'] + D['white_matter'])/ICV))\n",
      "        #print \"1-(CSF+VB)ICV = {:.4f}\".format((1 - (D['cranial_csf'] + D['venous_blood'])/ICV))\n",
      "        print \"\""
     ],
     "language": "python",
     "metadata": {},
     "outputs": [
      {
       "output_type": "stream",
       "stream": "stdout",
       "text": [
        "/paulsen/Experiments/20130202_PREDICTHD_Results/FMRI_HD_024/0135/52907/ACCUMULATED_POSTERIORS\n",
        "(GM + WM)ICV = 0.8119\n",
        "\n"
       ]
      }
     ],
     "prompt_number": 82
    },
    {
     "cell_type": "raw",
     "metadata": {},
     "source": [
      "import pinc\n",
      "connection = pinc.connectToPostgres()\n",
      "isHeader = True\n",
      "with open('/raid0/homes/dmwelch/Desktop/trackon_tissue_mask_bkp.csv', 'r') as fid:\n",
      "    for line in fid.readlines():\n",
      "        if not isHeader:\n",
      "            values = line.strip('\\n').split(',')\n",
      "            values.append(True)\n",
      "            cursor = connection.cursor()\n",
      "            try:\n",
      "                sqlFid = open('/raid0/homes/dmwelch/Desktop/trackon_tissue_masks.sql', 'a')\n",
      "                ### HACK: cursor.execute() doesn't work, but manual insertion does!\n",
      "                sqlFid.write(cursor.mogrify(\"SELECT add_measurements(%s, %s, %s, %s, %s, %s, %s);\", tuple(values)))\n",
      "                sqlFid.close()\n",
      "                ### END HACK\n",
      "                cursor.close()\n",
      "            except Exception, err:\n",
      "                print cursor.query\n",
      "                cursor.close()\n",
      "                connection.close()\n",
      "                raise\n",
      "        else:\n",
      "            isHeader = False\n",
      "connection.close()\n",
      "print \"Done\""
     ]
    }
   ],
   "metadata": {}
  }
 ]
}