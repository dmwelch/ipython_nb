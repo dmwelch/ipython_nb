{
 "metadata": {
  "name": "tissueMaskVolumeCalculation 20130604"
 },
 "nbformat": 3,
 "nbformat_minor": 0,
 "worksheets": [
  {
   "cells": [
    {
     "cell_type": "markdown",
     "metadata": {},
     "source": [
      "# INCOMPLETE #\n",
      "## Do not use! #"
     ]
    },
    {
     "cell_type": "markdown",
     "metadata": {},
     "source": [
      "# Task: Get Volume measurements for database population\n",
      "\n",
      "Mask the ICV in the probabilities and sum for these regions:\n",
      "\n",
      "* Cerebral WM\n",
      "* Cerebellar WM\n",
      "* Cerebral GM (+ Surface GM)\n",
      "* Cerebellar GM\n",
      "* CSF\n",
      "* Venous blood"
     ]
    },
    {
     "cell_type": "code",
     "collapsed": false,
     "input": [
      "import csv\n",
      "import os\n",
      "import re\n",
      "import sys\n",
      "from decimal import Decimal\n",
      "sys.path.insert(1, '/ipldev/scratch/welchdm/bld/rs-fMRI/BSA/SimpleITK-build/lib/')\n",
      "sys.path.insert(2, '/ipldev/scratch/welchdm/bld/rs-fMRI/BSA/SimpleITK-build/bin/')\n",
      "sys.path.insert(3, '/ipldev/scratch/welchdm/bld/rs-fMRI/BSA/SimpleITK-build/Wrapping/')\n",
      "sys.path.insert(4, '/ipldev/sharedopt/ipython_notebooks/SimpleITK-Notebooks/')\n",
      "sys.path.insert(5, '/ipldev/sharedopt/ipython_notebooks/common')\n",
      "\n",
      "import SimpleITK as sitk\n",
      "from myshow import *\n",
      "\n",
      "basedir = '/paulsen/Experiments/20130202_PREDICTHD_Results'\n",
      "# basedir = '/hjohnson/TrackOn/Experiments/20130109_TrackOn_Results'"
     ],
     "language": "python",
     "metadata": {},
     "outputs": [],
     "prompt_number": 1
    },
    {
     "cell_type": "markdown",
     "metadata": {},
     "source": [
      "## Step 1: get the 'easy' volumes"
     ]
    },
    {
     "cell_type": "code",
     "collapsed": false,
     "input": [
      "def computeVolumes(path):\n",
      "    # TODO: Use the /ACCUMULATED_POSTERIORS files!!!\n",
      "    easy_volumes = {'cerebellar_white_matter':'POSTERIOR_CRBLWM.nii.gz', \n",
      "                    'cerebral_white_matter':'POSTERIOR_WM.nii.gz',\n",
      "                    'cerebellar_gray_matter':'POSTERIOR_CRBLGM.nii.gz',\n",
      "                    'cranial_csf':'POSTERIOR_CSF.nii.gz',\n",
      "                    'venous_blood':'POSTERIOR_VB.nii.gz'}\n",
      "    retdict = dict.fromkeys(easy_volumes)\n",
      "    icvMask = os.path.join(\n",
      "    for key, value in easy_volumes.items():\n",
      "        img = sitk.ReadImage(os.path.join(path, value))\n",
      "        mask = sitk.BinaryThreshold(img, 0.5, 1.01, 1, 0)\n",
      "        stat = sitk.LabelStatisticsImageFilter()\n",
      "        stat.Execute(mask, mask)\n",
      "        spacing = mask.GetSpacing()\n",
      "        try:\n",
      "            measurements = stat.GetMeasurementMap(1)\n",
      "            keys = measurements.GetVectorOfMeasurementNames()\n",
      "            values = measurements.GetVectorOfMeasurementValues()\n",
      "            measures = dict(zip(keys, values))\n",
      "            volume = spacing[0] * spacing[1] * spacing[2] * measures['Count'] \n",
      "            retdict[key] = volume\n",
      "        except RuntimeError, err:\n",
      "            # There is no surviving mask!\n",
      "            retdict[key] = 0.0\n",
      "    return retdict"
     ],
     "language": "python",
     "metadata": {},
     "outputs": [],
     "prompt_number": 4
    },
    {
     "cell_type": "markdown",
     "metadata": {},
     "source": [
      "## Step 2: get the cerebral GM\n",
      "\n",
      "In order to compute this value, we need to sum the volumes from each tissue region (putamen, accumben, etc).\n",
      "\n",
      "_(The cerebral GM is the sum of the different gray matter tissue regions **PLUS** the unclassified surface GM)_"
     ]
    },
    {
     "cell_type": "code",
     "collapsed": false,
     "input": [
      "def computeCerebralGM(path):\n",
      "    # TODO: Use the all_Labels.nii.gz file\n",
      "    regions = {'accumben':'POSTERIOR_ACCUMBEN.nii.gz',\n",
      "               'caudate':'POSTERIOR_CAUDATE.nii.gz',\n",
      "               'globus':'POSTERIOR_GLOBUS.nii.gz',\n",
      "               'hippocampus':'POSTERIOR_HIPPOCAMPUS.nii.gz',\n",
      "               'putamen':'POSTERIOR_PUTAMEN.nii.gz',\n",
      "               'thalamus':'POSTERIOR_THALAMUS.nii.gz',\n",
      "               'surfgm':'POSTERIOR_SURFGM.nii.gz',}\n",
      "\n",
      "    total = 0.0\n",
      "    count = 0\n",
      "    for key, value in regions.items():\n",
      "        img = sitk.ReadImage(os.path.join(path, value))\n",
      "        mask = sitk.BinaryThreshold(img, 0.5, 1.01, 1, 0)\n",
      "        stat = sitk.LabelStatisticsImageFilter()\n",
      "        stat.Execute(mask, mask)\n",
      "        if count > 0:\n",
      "            crbrgm += mask\n",
      "        else:\n",
      "            crbrgm = mask\n",
      "        count += 1\n",
      "        spacing = mask.GetSpacing()\n",
      "        try:\n",
      "            measurements = stat.GetMeasurementMap(1)\n",
      "            keys = measurements.GetVectorOfMeasurementNames()\n",
      "            values = measurements.GetVectorOfMeasurementValues()\n",
      "            measures = dict(zip(keys, values))\n",
      "            volume = spacing[0] * spacing[1] * spacing[2] * measures['Count']\n",
      "        except RuntimeError, err:\n",
      "            # There is no surviving mask!\n",
      "            volume = 0.0\n",
      "        total += volume\n",
      "    # myshow3d(crbrgm, yslices=range(50, size[1]-50, 20), zslices=range(50, size[2]-50, 20), dpi=30)\n",
      "    return volume"
     ],
     "language": "python",
     "metadata": {},
     "outputs": [],
     "prompt_number": 3
    },
    {
     "cell_type": "markdown",
     "metadata": {},
     "source": [
      "## Step 3: compute the above measurements for all sessions"
     ]
    },
    {
     "cell_type": "code",
     "collapsed": false,
     "input": [
      "def computeAllVolumes(path):\n",
      "    retdict = computeVolumes(path)\n",
      "    retdict['cerebral_gray_matter'] = computeCerebralGM(path)\n",
      "    return retdict"
     ],
     "language": "python",
     "metadata": {},
     "outputs": [],
     "prompt_number": 6
    },
    {
     "cell_type": "code",
     "collapsed": false,
     "input": [
      "def writeRecord(fid, rowDict):\n",
      "    labels = ('cerebral_gray_matter', 'cerebellar_gray_matter', 'cerebral_white_matter', 'cerebellar_white_matter', 'cranial_csf', 'venous_blood')\n",
      "    for key in labels:\n",
      "        fid.write(\"%s,%s,%s,%s,%g,%s\\n\" % (rowDict['experiment'], rowDict['session'], key, 'mm_3', float(rowDict[key]), 'BRAINSTools_20130109'))  # *** ATTENTION: Change tool for PREDICT! ***"
     ],
     "language": "python",
     "metadata": {},
     "outputs": [],
     "prompt_number": 7
    },
    {
     "cell_type": "markdown",
     "metadata": {},
     "source": [
      "## Step 4: insert measures into database"
     ]
    },
    {
     "cell_type": "code",
     "collapsed": false,
     "input": [
      "with open('/raid0/homes/dmwelch/Desktop/trackon_tissue_mask.csv', 'w', 1) as fid:\n",
      "    fid.write(\"experiment, session, label, measurement_type, value, tool\\n\")\n",
      "    analysisPath = basedir\n",
      "    for base, dirs, files in os.walk(analysisPath):\n",
      "        if 't1_average_BRAINSABC.nii.gz' in files:\n",
      "            pathElements = base.split(os.path.sep)\n",
      "            assert pathElements.pop() == 'TissueClassify'\n",
      "            session = pathElements.pop()\n",
      "            subject = pathElements.pop()\n",
      "            site = pathElements.pop()\n",
      "            experiment = pathElements.pop()\n",
      "            try:\n",
      "                retdict = computeAllVolumes(base)\n",
      "                retdict['session'] = session\n",
      "                retdict['experiment'] = experiment\n",
      "                writeRecord(fid, retdict)\n",
      "                fid.flush()\n",
      "            except Exception, err:\n",
      "                raise\n",
      "print \"Done\""
     ],
     "language": "python",
     "metadata": {},
     "outputs": [
      {
       "output_type": "stream",
       "stream": "stdout",
       "text": [
        "Done\n"
       ]
      }
     ],
     "prompt_number": 9
    },
    {
     "cell_type": "code",
     "collapsed": true,
     "input": [
      "import pinc\n",
      "connection = pinc.connectToPostgres()\n",
      "isHeader = True\n",
      "with open('/raid0/homes/dmwelch/Desktop/trackon_tissue_mask_bkp.csv', 'r') as fid:\n",
      "    for line in fid.readlines():\n",
      "        if not isHeader:\n",
      "            values = line.strip('\\n').split(',')\n",
      "            values.append(True)\n",
      "            cursor = connection.cursor()\n",
      "            try:\n",
      "                sqlFid = open('/raid0/homes/dmwelch/Desktop/trackon_tissue_masks.sql', 'a')\n",
      "                ### HACK: cursor.execute() doesn't work, but manual insertion does!\n",
      "                sqlFid.write(cursor.mogrify(\"SELECT add_measurements(%s, %s, %s, %s, %s, %s, %s);\", tuple(values)))\n",
      "                sqlFid.close()\n",
      "                ### END HACK\n",
      "                cursor.close()\n",
      "            except Exception, err:\n",
      "                print cursor.query\n",
      "                cursor.close()\n",
      "                connection.close()\n",
      "                raise\n",
      "        else:\n",
      "            isHeader = False\n",
      "connection.close()\n",
      "print \"Done\""
     ],
     "language": "python",
     "metadata": {},
     "outputs": [
      {
       "output_type": "stream",
       "stream": "stdout",
       "text": [
        "Done\n"
       ]
      }
     ],
     "prompt_number": 10
    }
   ],
   "metadata": {}
  }
 ]
}