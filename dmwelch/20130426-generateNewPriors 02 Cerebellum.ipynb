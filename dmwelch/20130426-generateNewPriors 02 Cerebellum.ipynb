{
 "metadata": {
  "name": "20130426-generateNewPriors 02 Cerebellum"
 },
 "nbformat": 3,
 "nbformat_minor": 0,
 "worksheets": [
  {
   "cells": [
    {
     "cell_type": "code",
     "collapsed": false,
     "input": [
      "import os\n",
      "import sys\n",
      "\n",
      "import SimpleITK as sitk"
     ],
     "language": "python",
     "metadata": {},
     "outputs": [],
     "prompt_number": 1
    },
    {
     "cell_type": "code",
     "collapsed": false,
     "input": [
      "notebookDir = os.path.dirname(os.getcwd())\n",
      "# print notebookDir\n",
      "experimentDir = os.path.join('/paulsen','Experiments', '20130426-generateNewPriors')\n",
      "# experimentDir = os.path.join(os.environ['HOME'], 'DATA', '20130426-generateNewPriors')\n",
      "# print experimentDir"
     ],
     "language": "python",
     "metadata": {},
     "outputs": [],
     "prompt_number": 2
    },
    {
     "cell_type": "code",
     "collapsed": false,
     "input": [
      "sys.path.insert(0, os.path.join(notebookDir, 'common'))\n",
      "import pinc\n",
      "\n",
      "# POSTERIOR_DIR = '/paulsen/Experiments/20130202_PREDICTHD_Results/SubjectToAtlasWarped/'"
     ],
     "language": "python",
     "metadata": {},
     "outputs": [],
     "prompt_number": 3
    },
    {
     "cell_type": "code",
     "collapsed": false,
     "input": [
      "sys.path.insert(1, os.path.join(notebookDir, 'SimpleITK-Notebooks'))\n",
      "\n",
      "import myshow as sitk_show\n",
      "\n",
      "def show(img, **kwds):\n",
      "    size = img.GetSize()\n",
      "    if kwds == {}:\n",
      "        zslices=range(size[2]/10,size[2]-size[2]/10,size[2]/10)\n",
      "        sitk_show.myshow3d(img, xslices=[], yslices=[], zslices=zslices, dpi=30)\n",
      "        return 0\n",
      "    for key, value in kwds.items():\n",
      "        if key.lower() == 'x':\n",
      "            if value == []:\n",
      "                xslices = range(50,size[0]-50,10)\n",
      "            else: \n",
      "                xslices = value\n",
      "        elif key.lower() == 'y':\n",
      "            if value == []:\n",
      "                yslices=range(50,size[1]-50,20)\n",
      "            else: \n",
      "                yslices = value\n",
      "        elif key.lower() == 'z':\n",
      "            if value == []:\n",
      "                zslices=range(120,size[2]-120,20)\n",
      "            else:\n",
      "                zslices = value\n",
      "        else:\n",
      "            raise Exception(\"Unknown dimension\")\n",
      "    sitk_show.myshow3d(img, xslices=xslices, yslices=yslices, zslices=zslices, dpi=30)\n",
      "    return 0"
     ],
     "language": "python",
     "metadata": {},
     "outputs": [],
     "prompt_number": 4
    },
    {
     "cell_type": "code",
     "collapsed": false,
     "input": [
      "def filesplit(filename):\n",
      "    \"\"\" \n",
      "    Split filename by the first '.' in order to append to filename (not extension)\n",
      "    \"\"\"\n",
      "    flist = filename.split('.')\n",
      "    if len(flist) == 2:\n",
      "        # HACK\n",
      "        # return flist[0], '.' + flist[1]\n",
      "        return flist[0], '.nii.gz' # END HACK \n",
      "    else:\n",
      "        return flist[0], '.' + '.'.join(flist[1:])"
     ],
     "language": "python",
     "metadata": {},
     "outputs": [],
     "prompt_number": 5
    },
    {
     "cell_type": "code",
     "collapsed": false,
     "input": [
      "originalAtlas = os.path.join(experimentDir, 'newAtlas', 'atlas_075mm.nii.gz')\n",
      "atlas = sitk.ReadImage(originalAtlas)\n",
      "# sitk.Show(atlas)"
     ],
     "language": "python",
     "metadata": {},
     "outputs": [],
     "prompt_number": 6
    },
    {
     "cell_type": "code",
     "collapsed": false,
     "input": [
      "atlas_np = sitk.GetArrayFromImage(atlas)\n",
      "for label in numpy.unique(atlas_np):\n",
      "    print int(label)"
     ],
     "language": "python",
     "metadata": {},
     "outputs": [
      {
       "ename": "NameError",
       "evalue": "name 'atlas' is not defined",
       "output_type": "pyerr",
       "traceback": [
        "\u001b[0;31m---------------------------------------------------------------------------\u001b[0m\n\u001b[0;31mNameError\u001b[0m                                 Traceback (most recent call last)",
        "\u001b[0;32m<ipython-input-6-392b17224ec2>\u001b[0m in \u001b[0;36m<module>\u001b[0;34m()\u001b[0m\n\u001b[0;32m----> 1\u001b[0;31m \u001b[0matlas_np\u001b[0m \u001b[0;34m=\u001b[0m \u001b[0msitk\u001b[0m\u001b[0;34m.\u001b[0m\u001b[0mGetArrayFromImage\u001b[0m\u001b[0;34m(\u001b[0m\u001b[0matlas\u001b[0m\u001b[0;34m)\u001b[0m\u001b[0;34m\u001b[0m\u001b[0m\n\u001b[0m\u001b[1;32m      2\u001b[0m \u001b[0;32mfor\u001b[0m \u001b[0mlabel\u001b[0m \u001b[0;32min\u001b[0m \u001b[0mnumpy\u001b[0m\u001b[0;34m.\u001b[0m\u001b[0munique\u001b[0m\u001b[0;34m(\u001b[0m\u001b[0matlas_np\u001b[0m\u001b[0;34m)\u001b[0m\u001b[0;34m:\u001b[0m\u001b[0;34m\u001b[0m\u001b[0m\n\u001b[1;32m      3\u001b[0m     \u001b[0;32mprint\u001b[0m \u001b[0mint\u001b[0m\u001b[0;34m(\u001b[0m\u001b[0mlabel\u001b[0m\u001b[0;34m)\u001b[0m\u001b[0;34m\u001b[0m\u001b[0m\n",
        "\u001b[0;31mNameError\u001b[0m: name 'atlas' is not defined"
       ]
      }
     ],
     "prompt_number": 6
    },
    {
     "cell_type": "code",
     "collapsed": false,
     "input": [
      "resampledDir = os.path.join(experimentDir, 'summed_1456', 'resampled')\n",
      "cerebellumDir = os.path.join(resampledDir, 'cerebellum')\n",
      "if not os.path.exists(cerebellumDir):\n",
      "    os.mkdir(cerebellumDir)\n",
      "\n",
      "white_matter_crbl = 'resamp_POSTERIOR_CRBLWM_summed_1456_075.nrrd'\n",
      "white_matter = 'resamp_POSTERIOR_WM_summed_1456_075.nrrd'\n",
      "not_white = 'resamp_POSTERIOR_NOTWM_summed_1456_075.nrrd'\n",
      "gray_matter = 'POSTERIOR_SURFGM_summed_1456_resamp_075.nrrd'\n",
      "gray_matter_crbl = 'POSTERIOR_CRBLGM_summed_1456_resamp_075.nrrd'\n",
      "not_gray = 'POSTERIOR_NOTGM_summed_1456_resamp_075.nrrd'\n",
      "csf = 'resamp_POSTERIOR_CSF_summed_1456_075.nrrd'\n",
      "not_csf = 'resamp_POSTERIOR_NOTCSF_summed_1456_075.nrrd'\n",
      "\n",
      "cerebellum_wm = sitk.ReadImage(os.path.join(resampledDir, white_matter))\n",
      "resample_atlas = sitk.Resample(atlas, \n",
      "                               interpolator=sitk.sitkNearestNeighbor, \n",
      "                               size=cerebellum_wm.GetSize(),\n",
      "                               outputOrigin=cerebellum_wm.GetOrigin(),\n",
      "                               outputSpacing=cerebellum_wm.GetSpacing(),\n",
      "                               outputDirection=cerebellum_wm.GetDirection())\n"
     ],
     "language": "python",
     "metadata": {},
     "outputs": [],
     "prompt_number": 7
    },
    {
     "cell_type": "code",
     "collapsed": false,
     "input": [
      "labels_crbl = sitk.BinaryThreshold(resample_atlas, 299.9, 379.9) + sitk.BinaryThreshold(resample_atlas, 6.9, 7.9) + sitk.BinaryThreshold(resample_atlas, 45.9, 46.9)\n",
      "sitk.WriteImage(labels_crbl, os.path.join(experimentDir, 'newAtlas', 'cerebellum_mask_075mm_resamp.nii.gz'))\n",
      "\n",
      "# Two pixel dilation is sufficient\n",
      "# Hard mask\n",
      "close_by_3 = sitk.BinaryMorphologicalClosing(labels_crbl, 3)\n",
      "dilate_by_1 = sitk.BinaryDilate(close_by_3, 1) # 1 pixel\n",
      "sitk.WriteImage(dilate_by_1, os.path.join(experimentDir, 'newAtlas', 'cerebellum_mask_075mm_resamp_dilate_1.nii.gz'))"
     ],
     "language": "python",
     "metadata": {},
     "outputs": [],
     "prompt_number": 8
    },
    {
     "cell_type": "code",
     "collapsed": false,
     "input": [
      "def SoftMask(image, FWTM, directions=[0,1,2]):\n",
      "    \"\"\" \n",
      "    Returns the Gaussian blurred (soft) mask of a binary (hard) mask with the full-width-tenth-max (FWTM) width \n",
      "    \"\"\"\n",
      "    import math\n",
      "    factor = 2 * math.sqrt(2 * math.log(10))\n",
      "    sigma = FWTM / factor\n",
      "    soft = image\n",
      "    for direction in directions:\n",
      "        soft = sitk.RecursiveGaussian(soft, sigma=sigma, direction=direction)\n",
      "    return soft"
     ],
     "language": "python",
     "metadata": {},
     "outputs": [],
     "prompt_number": 9
    },
    {
     "cell_type": "code",
     "collapsed": false,
     "input": [
      "cerebellum_wm = sitk.ReadImage(os.path.join(resampledDir, white_matter_crbl))\n",
      "cerebral_wm = sitk.ReadImage(os.path.join(resampledDir, white_matter))\n",
      "summed_wm = cerebral_wm + cerebellum_wm # The joint probabilities of the two images"
     ],
     "language": "python",
     "metadata": {},
     "outputs": [],
     "prompt_number": 11
    },
    {
     "cell_type": "code",
     "collapsed": false,
     "input": [
      "sitk.MaskNegatedImageFilter?\n",
      "print dilate_by_1.GetPixelIDTypeAsString()\n",
      "print summed_wm.GetPixelIDTypeAsString()"
     ],
     "language": "python",
     "metadata": {},
     "outputs": [
      {
       "output_type": "stream",
       "stream": "stdout",
       "text": [
        "8-bit unsigned integer\n",
        "32-bit float\n"
       ]
      }
     ],
     "prompt_number": 12
    },
    {
     "cell_type": "code",
     "collapsed": false,
     "input": [
      "# Mask with a 'hard' binary mask\n",
      "new_cerebellum_wm = sitk.Mask(summed_wm, dilate_by_1)\n",
      "new_cerebral_wm = sitk.MaskNegated(summed_wm, sitk.Cast(dilate_by_1, summed_wm.GetPixelIDValue()))\n",
      "## BUG\n",
      "## new_cerebral_wm_1 = sitk.MaskNegated(summed_wm, dilate_by_1) \n",
      "## This fails with error: \n",
      "## sitk::ERROR: Image2 for MaskNegatedImageFilter doesnt match type or dimension!\n",
      "\n",
      "# new_cerebral_wm = cerebral_wm + masked_wm\n",
      "sitk.WriteImage(new_cerebral_wm, os.path.join(cerebellumDir, 'hard_' + white_matter))\n",
      "sitk.WriteImage(new_cerebellum_wm, os.path.join(cerebellumDir, 'hard_' + white_matter_crbl))"
     ],
     "language": "python",
     "metadata": {},
     "outputs": [],
     "prompt_number": 17
    },
    {
     "cell_type": "code",
     "collapsed": false,
     "input": [
      "# Mask with a 'soft' mask\n",
      "soft_mask = SoftMask(dilate_by_1, 2)\n",
      "\n",
      "soft_new_cerebral_wm = summed_wm * (1.0 - soft_mask)\n",
      "sitk.WriteImage(soft_new_cerebral_wm, os.path.join(cerebellumDir, 'soft_' + white_matter))\n",
      "soft_new_cerebellum_wm = summed_wm * soft_mask\n",
      "sitk.WriteImage(soft_new_cerebellum_wm, os.path.join(cerebellumDir, 'soft_' + white_matter_crbl))"
     ],
     "language": "python",
     "metadata": {},
     "outputs": [],
     "prompt_number": 18
    },
    {
     "cell_type": "code",
     "collapsed": true,
     "input": [
      "cerebellum_gm = sitk.ReadImage(os.path.join(resampledDir, gray_matter_crbl))\n",
      "cerebral_gm = sitk.ReadImage(os.path.join(resampledDir, gray_matter))\n",
      "summed_gm = cerebral_gm + cerebellum_gm # The joint probabilities of the two images"
     ],
     "language": "python",
     "metadata": {},
     "outputs": [],
     "prompt_number": 19
    },
    {
     "cell_type": "code",
     "collapsed": false,
     "input": [
      "# Mask with a 'hard' binary mask\n",
      "new_cerebellum_gm = sitk.Mask(summed_gm, dilate_by_1)\n",
      "new_cerebral_gm = sitk.MaskNegated(summed_gm, sitk.Cast(dilate_by_1, summed_gm.GetPixelIDValue()))\n",
      "\n",
      "sitk.WriteImage(new_cerebral_gm, os.path.join(cerebellumDir, 'hard_' + gray_matter))\n",
      "sitk.WriteImage(new_cerebellum_gm, os.path.join(cerebellumDir, 'hard_' + gray_matter_crbl))"
     ],
     "language": "python",
     "metadata": {},
     "outputs": [],
     "prompt_number": 20
    },
    {
     "cell_type": "code",
     "collapsed": false,
     "input": [
      "# Mask with a 'soft' mask\n",
      "soft_mask = SoftMask(dilate_by_1, 2)\n",
      "\n",
      "soft_new_cerebral_gm = summed_gm * (1.0 - soft_mask)\n",
      "sitk.WriteImage(soft_new_cerebral_gm, os.path.join(cerebellumDir, 'soft_' + gray_matter))\n",
      "soft_new_cerebellum_gm = summed_gm * soft_mask\n",
      "sitk.WriteImage(soft_new_cerebellum_gm, os.path.join(cerebellumDir, 'soft_' + gray_matter_crbl))"
     ],
     "language": "python",
     "metadata": {},
     "outputs": [],
     "prompt_number": 21
    },
    {
     "cell_type": "code",
     "collapsed": false,
     "input": [],
     "language": "python",
     "metadata": {},
     "outputs": []
    }
   ],
   "metadata": {}
  }
 ]
}