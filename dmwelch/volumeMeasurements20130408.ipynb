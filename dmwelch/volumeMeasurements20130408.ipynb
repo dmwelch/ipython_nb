{
 "metadata": {
  "name": "volumeMeasurements20130408"
 },
 "nbformat": 3,
 "nbformat_minor": 0,
 "worksheets": [
  {
   "cells": [
    {
     "cell_type": "markdown",
     "metadata": {},
     "source": [
      "<h1> Modify these values"
     ]
    },
    {
     "cell_type": "code",
     "collapsed": false,
     "input": [
      "CSVFileName = '/raid0/homes/dmwelch/results/PADDINGTON_master_regions_12.csv'\n",
      "baseDir = '/hjohnson/HDNI/20130312_PADDINGTON/20130312_PADDINGTON_Results'\n",
      "# baseDir = '/paulsen/Experiments/20130202_PREDICTHD_Results'\n",
      "#CSVFileName = '/raid0/homes/dmwelch/Desktop/trackon_volumes.csv'\n",
      "#baseDir = '/hjohnson/TrackOn/Experiments/20130109_TrackOn_Results/'"
     ],
     "language": "python",
     "metadata": {},
     "outputs": [],
     "prompt_number": 13
    },
    {
     "cell_type": "markdown",
     "metadata": {},
     "source": [
      "<h1> Do NOT modify the code below </h1>\n",
      "Unless necessary..."
     ]
    },
    {
     "cell_type": "code",
     "collapsed": false,
     "input": [
      "import csv\n",
      "import os.path\n",
      "import sys\n",
      "sys.path.insert(1, '/ipldev/scratch/welchdm/bld/rs-fMRI/BSA/SimpleITK-build/lib/')\n",
      "sys.path.insert(2, '/ipldev/scratch/welchdm/bld/rs-fMRI/BSA/SimpleITK-build/bin/')\n",
      "sys.path.insert(3, '/ipldev/scratch/welchdm/bld/rs-fMRI/BSA/SimpleITK-build/Wrapping/')\n",
      "sys.path.insert(4, '/ipldev/scratch/welchdm/src/BRAINSStandAlone/AutoWorkup/')\n",
      "sys.path.insert(5, '/ipldev/sharedopt/ipython_notebooks/common/')\n",
      "import SimpleITK as sitk"
     ],
     "language": "python",
     "metadata": {},
     "outputs": [],
     "prompt_number": 24
    },
    {
     "cell_type": "code",
     "collapsed": false,
     "input": [
      "valueDict = {\n",
      "    \"l_caudate\": 1,\n",
      "    \"r_caudate\": 2,\n",
      "    \"l_putamen\": 3,\n",
      "    \"r_putamen\": 4,\n",
      "    \"l_hippocampus\": 5,\n",
      "    \"r_hippocampus\": 6,\n",
      "    \"l_thalamus\": 7,\n",
      "    \"r_thalamus\": 8,\n",
      "    \"l_accumbens\": 9,\n",
      "    \"r_accumbens\": 10,\n",
      "    \"l_globus\": 11,\n",
      "    \"r_globus\": 12\n",
      "}\n",
      "\n",
      "orderOfPriority = [\"l_caudate\", \n",
      "                   \"r_caudate\",\n",
      "                   \"l_putamen\",\n",
      "                   \"r_putamen\",\n",
      "                   \"l_hippocampus\",\n",
      "                   \"r_hippocampus\",\n",
      "                   \"l_thalamus\",\n",
      "                   \"r_thalamus\",\n",
      "                   \"l_accumbens\",\n",
      "                   \"r_accumbens\",\n",
      "                   \"l_globus\",\n",
      "                   \"r_globus\"]"
     ],
     "language": "python",
     "metadata": {},
     "outputs": [],
     "prompt_number": 12
    },
    {
     "cell_type": "code",
     "collapsed": false,
     "input": [
      "csvFile = open(CSVFileName, 'w')\n",
      "dWriter = csv.DictWriter(csvFile, ['_analysis', '_site', '_subject', '_session', \n",
      "                                   'Structure', 'LabelCode', 'Volume_mm3', \"FileName\"], \n",
      "                         restval='', extrasaction='raise', dialect='excel')\n",
      "dWriter.writeheader()\n",
      "csvFile.close()"
     ],
     "language": "python",
     "metadata": {},
     "outputs": [],
     "prompt_number": 4
    },
    {
     "cell_type": "code",
     "collapsed": false,
     "input": [
      "def getVolumes(labelImageDir):\n",
      "    parts = labelImageDir.split(os.path.sep)\n",
      "    _dummy = parts.pop()\n",
      "    session = parts.pop()\n",
      "    subject = parts.pop()\n",
      "    project = parts.pop()\n",
      "    experiment = parts.pop()\n",
      "    labelImageName = os.path.join(labelImageDir, \"allLabels_seg.nii.gz\")\n",
      "    labelImage = sitk.ReadImage(labelImageName)\n",
      "    lstat = sitk.LabelStatisticsImageFilter()\n",
      "    lstat.Execute(labelImage, labelImage)\n",
      "    \n",
      "    ImageSpacing = labelImage.GetSpacing()\n",
      "    for name in orderOfPriority:\n",
      "        value = valueDict[name]\n",
      "        if lstat.HasLabel(value):\n",
      "            # print \"Displaying: \", name, value\n",
      "            writeDictionary = dict()\n",
      "            myMeasurementMap = lstat.GetMeasurementMap(value)\n",
      "            dictKeys = myMeasurementMap.GetVectorOfMeasurementNames()\n",
      "            dictValues = myMeasurementMap.GetVectorOfMeasurementValues()\n",
      "            measurementDict = dict(zip(dictKeys, dictValues))\n",
      "            structVolume = ImageSpacing[0] * ImageSpacing[1] * ImageSpacing[2] * measurementDict['Count']\n",
      "            \n",
      "            writeDictionary['Volume_mm3'] = structVolume\n",
      "            writeDictionary['Structure'] = name\n",
      "            writeDictionary['LabelCode'] = value\n",
      "            writeDictionary['FileName'] = os.path.abspath(labelImageName)\n",
      "            writeDictionary['_analysis'] = experiment\n",
      "            writeDictionary['_site'] = project\n",
      "            writeDictionary['_subject'] = subject\n",
      "            writeDictionary['_session'] = session\n",
      "            ## HACK\n",
      "            dWriter.writerow(writeDictionary)\n",
      "            ## return writeDictionary\n",
      "            ## END HACK"
     ],
     "language": "python",
     "metadata": {},
     "outputs": [],
     "prompt_number": 5
    },
    {
     "cell_type": "code",
     "collapsed": false,
     "input": [
      "def getICV(sessionDir):\n",
      "    parts = sessionDir.split(os.path.sep)\n",
      "    _dummy = parts.pop()\n",
      "    session = parts.pop()\n",
      "    subject = parts.pop()\n",
      "    project = parts.pop()\n",
      "    experiment = parts.pop()\n",
      "    labelImageName = os.path.join(sessionDir, \"fixed_brainlabels_seg.nii.gz\")\n",
      "    labelImage = sitk.ReadImage(labelImageName)\n",
      "    ImageSpacing = labelImage.GetSpacing()\n",
      "    \n",
      "    lstat = sitk.LabelStatisticsImageFilter()\n",
      "    lstat.Execute(labelImage, labelImage)\n",
      "    \n",
      "    structVolume = 0.0\n",
      "    labels = []\n",
      "    writeDictionary = dict()\n",
      "    for value in lstat.GetValidLabels():\n",
      "        if value != 0:\n",
      "            labels.append(value)\n",
      "            myMeasurementMap = lstat.GetMeasurementMap(value)\n",
      "            dictKeys = myMeasurementMap.GetVectorOfMeasurementNames()\n",
      "            dictValues = myMeasurementMap.GetVectorOfMeasurementValues()\n",
      "            measurementDict = dict(zip(dictKeys, dictValues))\n",
      "            structVolume += ImageSpacing[0] * ImageSpacing[1] * ImageSpacing[2] * measurementDict['Count']\n",
      "    writeDictionary['Volume_mm3'] = structVolume\n",
      "    writeDictionary['Structure'] = 'ICV' ## Changed to match imagemeasurements database entry\n",
      "    writeDictionary['LabelCode'] = labels\n",
      "    writeDictionary['FileName'] = os.path.abspath(labelImageName)\n",
      "    writeDictionary['_analysis'] = experiment\n",
      "    writeDictionary['_site'] = project\n",
      "    writeDictionary['_subject'] = subject\n",
      "    writeDictionary['_session'] = session\n",
      "    ## HACK\n",
      "    dWriter.writerow(writeDictionary)\n",
      "    ## return writeDictionary\n",
      "    ## END HACK"
     ],
     "language": "python",
     "metadata": {},
     "outputs": [],
     "prompt_number": 6
    },
    {
     "cell_type": "code",
     "collapsed": false,
     "input": [
      "output = getICV('/paulsen/Experiments/20130202_PREDICTHD_Results/PHD_001/1166/78958/TissueClassify')\n",
      "print output"
     ],
     "language": "python",
     "metadata": {},
     "outputs": [
      {
       "output_type": "stream",
       "stream": "stdout",
       "text": [
        "{'_analysis': '', 'LabelCode': [1, 2, 4, 5, 11, 12, 20, 21, 22, 23, 24, 25], '_session': '78958', 'FileName': '/paulsen/Experiments/20130202_PREDICTHD_Results/PHD_001/1166/78958/TissueClassify/fixed_brainlabels_seg.nii.gz', 'Volume_mm3': 1229476.0, '_subject': '1166', '_site': 'PHD_001', 'Structure': 'ICV'}\n"
       ]
      }
     ],
     "prompt_number": 7
    },
    {
     "cell_type": "code",
     "collapsed": false,
     "input": [
      "for base, dirs, _ in os.walk(baseDir):\n",
      "    if 'CleanedDenoisedRFSegmentations' in dirs:\n",
      "        \n",
      "        csvFile = open(CSVFileName, 'a')\n",
      "        dWriter = csv.DictWriter(csvFile, ['_analysis', '_site', '_subject', '_session', \n",
      "                                           'Structure', 'LabelCode', 'Volume_mm3', \"FileName\"], \n",
      "                                 restval='', extrasaction='raise', dialect='excel')\n",
      "        labelImageDir = os.path.join(base, 'CleanedDenoisedRFSegmentations')\n",
      "        getVolumes(labelImageDir)\n",
      "        csvFile.close()\n",
      "        # if 'TissueClassify' in dirs:\n",
      "        #     csvFile = open(CSVFileName, 'a')\n",
      "        #     dWriter = csv.DictWriter(csvFile, ['_analysis', '_site', '_subject', '_session', \n",
      "        #                                        'Structure', 'LabelCode', 'Volume_mm3', \"FileName\"], \n",
      "        #                             restval='', extrasaction='raise', dialect='excel')\n",
      "        #     labelImageDir = os.path.join(base, 'TissueClassify')\n",
      "        #     getICV(labelImageDir)\n",
      "        #     csvFile.close()"
     ],
     "language": "python",
     "metadata": {},
     "outputs": [],
     "prompt_number": 7
    },
    {
     "cell_type": "markdown",
     "metadata": {},
     "source": [
      "# Write to database #\n",
      "\n",
      "output values directly into database?"
     ]
    },
    {
     "cell_type": "code",
     "collapsed": false,
     "input": [
      "connection.closed == True\n",
      "connection.close()"
     ],
     "language": "python",
     "metadata": {},
     "outputs": [],
     "prompt_number": 23
    },
    {
     "cell_type": "code",
     "collapsed": false,
     "input": [
      "# import pinc\n",
      "# connection = pinc.connectToPostgres()\n",
      "isHeader = True\n",
      "sqlFid = open('/raid0/homes/dmwelch/Desktop/predicthd_volumes20130408.sql', 'w')\n",
      "with open(CSVFileName, 'rb') as fid:\n",
      "    reader = csv.reader(fid, delimiter=',', quotechar='\"')\n",
      "    for values in reader:\n",
      "        if not isHeader:\n",
      "            values.append(True)\n",
      "            # print (values[0], values[3], values[4], 'mm', values[6], 'BRAINSTools_20130202', values[-1])\n",
      "            # break\n",
      "            ### HACK: fix accumben typo\n",
      "            # if values[4][2:] == \"accumben\":\n",
      "            #     values[4] += 's'\n",
      "            ### END HACK\n",
      "            #cursor = connection.cursor()\n",
      "            try:\n",
      "                ### HACK: cursor.execute() doesn't work, but manual insertion does!\n",
      "                #sqlFid.write(cursor.mogrify(\"SELECT add_measurements(%s, %s, %s, %s, %s, %s, %s);\", (values[0], values[3], values[4], 'mm', values[6], 'BRAINSTools_20130202', values[-1])))\n",
      "                sqlFid.write(\"SELECT add_measurements('%s', '%s', '%s', '%s', %s, '%s', %s);\\n\" % (values[0], values[3], values[4], 'mm_3', values[6], 'BRAINSTools_20130202', values[-1]))\n",
      "                sqlFid.flush()\n",
      "                ### END HACK\n",
      "                #cursor.close()\n",
      "            except Exception, err:\n",
      "                sqlFid.close()\n",
      "                # print cursor.query\n",
      "                # cursor.close()\n",
      "                # connection.close()\n",
      "                raise\n",
      "        else:\n",
      "            isHeader = False\n",
      "#connection.close()\n",
      "sqlFid.close()\n",
      "print \"Done\""
     ],
     "language": "python",
     "metadata": {},
     "outputs": [
      {
       "output_type": "stream",
       "stream": "stdout",
       "text": [
        "Done\n"
       ]
      }
     ],
     "prompt_number": 45
    },
    {
     "cell_type": "code",
     "collapsed": false,
     "input": [],
     "language": "python",
     "metadata": {},
     "outputs": []
    }
   ],
   "metadata": {}
  }
 ]
}