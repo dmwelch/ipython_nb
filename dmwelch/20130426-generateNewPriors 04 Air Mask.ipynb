{
 "metadata": {
  "name": "20130426-generateNewPriors 04 Air Mask"
 },
 "nbformat": 3,
 "nbformat_minor": 0,
 "worksheets": [
  {
   "cells": [
    {
     "cell_type": "code",
     "collapsed": false,
     "input": [
      "import os\n",
      "import sys\n",
      "\n",
      "import SimpleITK as sitk"
     ],
     "language": "python",
     "metadata": {},
     "outputs": [],
     "prompt_number": 1
    },
    {
     "cell_type": "code",
     "collapsed": false,
     "input": [
      "notebookDir = os.path.dirname(os.getcwd())\n",
      "# print notebookDir\n",
      "experimentDir = os.path.join('/paulsen', 'Experiments', '20130426-generateNewPriors')\n",
      "# print experimentDir"
     ],
     "language": "python",
     "metadata": {},
     "outputs": [],
     "prompt_number": 2
    },
    {
     "cell_type": "code",
     "collapsed": false,
     "input": [
      "sys.path.insert(0, os.path.join(notebookDir, 'common'))\n",
      "import pinc\n",
      "\n",
      "# POSTERIOR_DIR = '/paulsen/Experiments/20130202_PREDICTHD_Results/SubjectToAtlasWarped/'"
     ],
     "language": "python",
     "metadata": {},
     "outputs": [],
     "prompt_number": 3
    },
    {
     "cell_type": "code",
     "collapsed": false,
     "input": [
      "sys.path.insert(1, os.path.join(notebookDir, 'SimpleITK-Notebooks'))\n",
      "\n",
      "import myshow as sitk_show\n",
      "\n",
      "def show(img, **kwds):\n",
      "    size = img.GetSize()\n",
      "    if kwds == {}:\n",
      "        zslices=range(size[2]/10,size[2]-size[2]/10,size[2]/10)\n",
      "        sitk_show.myshow3d(img, xslices=[], yslices=[], zslices=zslices, dpi=30)\n",
      "        return 0\n",
      "    for key, value in kwds.items():\n",
      "        if key.lower() == 'x':\n",
      "            if value == []:\n",
      "                xslices = range(50,size[0]-50,10)\n",
      "            else: \n",
      "                xslices = value\n",
      "        elif key.lower() == 'y':\n",
      "            if value == []:\n",
      "                yslices=range(50,size[1]-50,20)\n",
      "            else: \n",
      "                yslices = value\n",
      "        elif key.lower() == 'z':\n",
      "            if value == []:\n",
      "                zslices=range(120,size[2]-120,20)\n",
      "            else:\n",
      "                zslices = value\n",
      "        else:\n",
      "            raise Exception(\"Unknown dimension\")\n",
      "    sitk_show.myshow3d(img, xslices=xslices, yslices=yslices, zslices=zslices, dpi=30)\n",
      "    return 0"
     ],
     "language": "python",
     "metadata": {},
     "outputs": [],
     "prompt_number": 4
    },
    {
     "cell_type": "code",
     "collapsed": false,
     "input": [
      "def filesplit(filename):\n",
      "    \"\"\" \n",
      "    Split filename by the first '.' in order to append to filename (not extension)\n",
      "    \"\"\"\n",
      "    flist = filename.split('.')\n",
      "    if len(flist) == 2:\n",
      "        return flist[0], '.' + flist[1]\n",
      "    else:\n",
      "        return flist[0], '.' + '.'.join(flist[1:])"
     ],
     "language": "python",
     "metadata": {},
     "outputs": [],
     "prompt_number": 5
    },
    {
     "cell_type": "markdown",
     "metadata": {},
     "source": [
      "# AIR #"
     ]
    },
    {
     "cell_type": "code",
     "collapsed": false,
     "input": [
      "originalAtlas = '/paulsen/Experiments/20130426-generateNewPriors/newAtlas/atlas_075mm.nii.gz'\n",
      "atlas = sitk.ReadImage(originalAtlas)\n"
     ],
     "language": "python",
     "metadata": {},
     "outputs": [],
     "prompt_number": 61
    },
    {
     "cell_type": "code",
     "collapsed": false,
     "input": [
      "resampledDir = os.path.join(experimentDir, 'summed_1456', 'resampled')\n",
      "count = 0\n",
      "filelist = ['POSTERIOR_CRBLGM_summed_1456_resamp_075.nrrd',\n",
      "            'resamp_POSTERIOR_NOTCSF_summed_1456_075.nrrd',\n",
      "            'resamp_POSTERIOR_VB_summed_1456_075.nrrd',\n",
      "            'ACCUMULATE_POST_GM_summed_1456_resamp_075.nrrd',\n",
      "            'resamp_POSTERIOR_NOTWM_summed_1456_075.nrrd',\n",
      "            'resamp_POSTERIOR_NOTVB_summed_1456_075.nrrd',\n",
      "            'POSTERIOR_NOTGM_summed_1456_resamp_075.nrrd',\n",
      "            'resamp_POSTERIOR_WM_summed_1456_075.nrrd',\n",
      "            'resamp_POSTERIOR_CRBLWM_summed_1456_075.nrrd',\n",
      "            'POSTERIOR_SURFGM_summed_1456_resamp_075.nrrd',\n",
      "            'resamp_POSTERIOR_CSF_summed_1456_075.nrrd']"
     ],
     "language": "python",
     "metadata": {},
     "outputs": [],
     "prompt_number": 17
    },
    {
     "cell_type": "code",
     "collapsed": false,
     "input": [
      "for filename in filelist:\n",
      "    if count == 0:\n",
      "        newAir = sitk.ReadImage(os.path.join(resampledDir, filename))\n",
      "        # airFile = 'resamp_POSTERIOR_AIR_summed_1456_075.nrrd'\n",
      "    else:\n",
      "        newImage = sitk.ReadImage(os.path.join(resampledDir, filename))\n",
      "        newAir += newImage\n",
      "    count += 1"
     ],
     "language": "python",
     "metadata": {},
     "outputs": [],
     "prompt_number": 18
    },
    {
     "cell_type": "code",
     "collapsed": false,
     "input": [
      "print filename\n",
      "show(newAir)\n"
     ],
     "language": "python",
     "metadata": {},
     "outputs": [
      {
       "output_type": "stream",
       "stream": "stdout",
       "text": [
        "resamp_POSTERIOR_CSF_summed_1456_075.nrrd\n"
       ]
      },
      {
       "output_type": "pyout",
       "prompt_number": 19,
       "text": [
        "0"
       ]
      }
     ],
     "prompt_number": 19
    },
    {
     "cell_type": "code",
     "collapsed": false,
     "input": [
      "connected_air = sitk.ConnectedThreshold(sitk.Abs(newAir), [(0,0,0)], lower=0.0, upper=0.3)\n",
      "sitk.WriteImage(connected_air, os.path.join(resampledDir, 'AIR_03.nii.gz'))\n"
     ],
     "language": "python",
     "metadata": {},
     "outputs": [],
     "prompt_number": 37
    },
    {
     "cell_type": "code",
     "collapsed": false,
     "input": [
      "def SoftMask(image, FWTM, directions=[0,1,2]):\n",
      "    \"\"\" \n",
      "    Returns the Gaussian blurred (soft) mask of a binary (hard) mask with the full-width-tenth-max (FWTM) width \n",
      "    \"\"\"\n",
      "    import math\n",
      "    factor = 2 * math.sqrt(2 * math.log(10))\n",
      "    sigma = FWTM / factor\n",
      "    soft = image\n",
      "    for direction in directions:\n",
      "        soft = sitk.RecursiveGaussian(soft, sigma=sigma, direction=direction)\n",
      "    return soft\n"
     ],
     "language": "python",
     "metadata": {},
     "outputs": [],
     "prompt_number": 38
    },
    {
     "cell_type": "code",
     "collapsed": false,
     "input": [
      "smooth_air = SoftMask(connected_air, 3.0)\n",
      "sitk.WriteImage(smooth_air, os.path.join(resampledDir, 'smooth_AIR.nii.gz'))"
     ],
     "language": "python",
     "metadata": {},
     "outputs": [],
     "prompt_number": 41
    },
    {
     "cell_type": "code",
     "collapsed": false,
     "input": [],
     "language": "python",
     "metadata": {},
     "outputs": []
    }
   ],
   "metadata": {}
  }
 ]
}