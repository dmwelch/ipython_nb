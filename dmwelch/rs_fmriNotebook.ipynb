{
 "metadata": {
  "name": "rs_fmriNotebook"
 },
 "nbformat": 3,
 "nbformat_minor": 0,
 "worksheets": [
  {
   "cells": [
    {
     "cell_type": "markdown",
     "metadata": {},
     "source": [
      "<h1>rs_fMRI pilot project</h1> \n",
      "<h3>Development notes</h3>\n",
      "<h3>Date: December, 2012</h3>"
     ]
    },
    {
     "cell_type": "markdown",
     "metadata": {},
     "source": [
      "<h4>Environment setup for pipeline:</h4>\n",
      "This would be better accomplished in a <b>virtualenv</b>\n",
      "<li>Portable\n",
      "<li>Avoids needed teardown at the script end\n",
      "<li>Flexible\n",
      "<li>Avoids confusion when nipype_display_crash is called in 'clean' parent enviroment \n",
      "    <i><b>(spent a whole day trying to debug what I thought was a pipeline error that was actually due to nipype_display_crash ImportError)</b></i>"
     ]
    },
    {
     "cell_type": "code",
     "collapsed": false,
     "input": [
      "import argparse\n",
      "import os\n",
      "import sys\n",
      "\n",
      "### HACK: Set PYTHONPATH, DYLD_LIBRARY_PATH, FREESURFER_HOME, and SUBJECTS_DIR for Athena ###\n",
      "### export PATH=$PATH:/opt/afni-OSX_10.7:/opt/freesurfer_v4.5.0-full/bin ###\n",
      "os.environ['FREESURFER_HOME'] = '/opt/freesurfer_v4.5.0-full'\n",
      "os.environ['SUBJECTS_DIR'] = '/paulsen/MRx'\n",
      "try:\n",
      "    old_dyld = os.environ['DYLD_LIBRARY_PATH']\n",
      "except KeyError:\n",
      "    old_dyld = ''\n",
      "old_path = os.environ['PATH']\n",
      "try:\n",
      "    old_fallback = os.environ['DYLD_FALLBACK_LIBRARY_PATH']\n",
      "except KeyError:\n",
      "    old_fallback = ''\n",
      "\n",
      "os.environ['PATH'] = '/Volumes/scratch/welchdm/bld/latest_BSA/bin:' + \\\n",
      "    '/opt/afni-OSX_10.7:' + '/opt/freesurfer_v4.5.0-full/bin:' + old_path\n",
      "\n",
      "os.environ['DYLD_LIBRARY_PATH'] = '/Volumes/scratch/welchdm/bld/latest_BSA/lib:' + \\\n",
      "    '/Volumes/scratch/welchdm/bld/latest_BSA/bin:' + \\\n",
      "    '/opt/freesurfer_v4.5.0-full/lib:' + old_dyld\n",
      "\n",
      "os.environ['DYLD_FALLBACK_LIBRARY_PATH'] = '/opt/afni-OSX_10.7:' + old_fallback\n",
      "\n",
      "sys.path.insert(1, '/Volumes/scratch/welchdm/src/nipype/nipype')\n",
      "sys.path.insert(2, '/Volumes/scratch/welchdm/bld/latest_BSA/SimpleITK-build/lib')\n",
      "sys.path.insert(3, '/Volumes/scratch/welchdm/src/BRAINSStandAlone/AutoWorkup')\n",
      "# print sys.path"
     ],
     "language": "python",
     "metadata": {},
     "outputs": [],
     "prompt_number": 1
    },
    {
     "cell_type": "markdown",
     "metadata": {},
     "source": [
      "Function <b><i>select_volume()</i></b> pulls out one 3D timepoint from a 4D (3D + time) DWI array"
     ]
    },
    {
     "cell_type": "code",
     "collapsed": false,
     "input": [
      "def select_volume(filename, index):\n",
      "    \"\"\"Return the 3D volume with timestep index from a 4D (3D + time) file\n",
      "    \"\"\"\n",
      "    from nibabel import nifti1 as nifti\n",
      "    import numpy as np\n",
      "    assert isinstance(index, int)\n",
      "    image = nifti.load(filename)\n",
      "    fourD = image.get_data()\n",
      "    print len(fourD[...,:])\n",
      "    header = image.get_header()\n",
      "    affine = header.get_best_affine()\n",
      "    threeD = fourD[...,index]\n",
      "    newVolume = nifti.Nifti1Image(data=threeD, affine=affine, header=header) \n",
      "    newVolume.update_header()\n",
      "    return newVolume, header"
     ],
     "language": "python",
     "metadata": {},
     "outputs": [
      {
       "output_type": "stream",
       "stream": "stdout",
       "text": [
        "128\n"
       ]
      }
     ],
     "prompt_number": 100
    },
    {
     "cell_type": "code",
     "collapsed": false,
     "input": [
      "fMRI_file = '/Volumes/scratch/welchdm/src/rs-fMRI-pilot/workflow_20121203_0948/afni3Ddetrend/errts_Decon+orig_dt.nii'\n",
      "threeD0, header = select_volume(fMRI_file, 0)\n",
      "# print threeD0.get_header()"
     ],
     "language": "python",
     "metadata": {},
     "outputs": []
    },
    {
     "cell_type": "code",
     "collapsed": false,
     "input": [
      "print \"\"\"Get the valid label list from the freesurfer label volume \"\"\"\n",
      "label_file = '/Volumes/scratch/welchdm/src/rs-fMRI-pilot/workflow_20121203_0948/antsApplyTransformsFS1/aparc+aseg_trans.nii.gz'\n",
      "import SimpleITK as sitk\n",
      "temp = sitk.ReadImage(label_file)\n",
      "print temp.GetPixelIDTypeAsString()\n",
      "labelStat_1 = sitk.LabelStatisticsImageFilter()\n",
      "labelStat_1.Execute(sitk.Cast(temp, sitk.sitkUInt32), sitk.Cast(temp, sitk.sitkUInt32))\n",
      "labelList = labelStat_1.GetValidLabels()\n",
      "print labelList\n",
      "count = 0;\n",
      "for item in labelList[1:]:\n",
      "    if item == 47:\n",
      "        print count + 1\n",
      "    else: count += 1"
     ],
     "language": "python",
     "metadata": {},
     "outputs": [
      {
       "output_type": "stream",
       "stream": "stdout",
       "text": [
        "Get the valid label list from the freesurfer label volume \n",
        "64-bit float\n",
        "(0, 2, 4, 5, 7, 8, 10, 11, 12, 13, 14, 15, 16, 17, 18, 24, 26, 28, 30, 31, 41, 43, 44, 46, 47, 49, 50, 51, 52, 53, 54, 58, 60, 62, 63, 77, 85, 251, 252, 253, 254, 255, 1000, 1001, 1002, 1003, 1005, 1006, 1007, 1008, 1009, 1010, 1011, 1012, 1013, 1014, 1015, 1016, 1017, 1018, 1019, 1020, 1021, 1022, 1023, 1024, 1025, 1026, 1027, 1028, 1029, 1030, 1031, 1032, 1033, 1034, 1035, 2000, 2001, 2002, 2003, 2005, 2006, 2007, 2008, 2009, 2010, 2011, 2012, 2013, 2014, 2015, 2016, 2017, 2018, 2019, 2020, 2021, 2022, 2023, 2024, 2025, 2026, 2027, 2028, 2029, 2030, 2031, 2032, 2033, 2034, 2035)"
       ]
      },
      {
       "output_type": "stream",
       "stream": "stdout",
       "text": [
        "\n",
        "24\n"
       ]
      }
     ],
     "prompt_number": 102
    },
    {
     "cell_type": "markdown",
     "metadata": {},
     "source": [
      "<h3><color rgb(255,0,0)>The code below does not work: cannot verify the image cosines!</color></h3>\n",
      "Instead, used nipy.nifti file reader!!!"
     ]
    },
    {
     "cell_type": "code",
     "collapsed": false,
     "input": [
      "\"\"\" Roll threeD0 array so that it matches dimensions with label image \"\"\"\n",
      "### label = sitk.Cast(temp, sitk.sitkInt64)\n",
      "### array = sitk.GetArrayFromImage(label)\n",
      "### print array.shape\n",
      "\n",
      "# Rotate (roll) volume until it matches label\n",
      "# print threeD0.shape\n",
      "# newArray = np.rollaxis(threeD0, 2, 0)\n",
      "### Why doesn't this work: >>> newArray = np.rollaxis(newArray, 1, 2)\n",
      "# newArray = np.rollaxis(newArray, 2, 1) # TODO: verify that image cosines are still correct!\n",
      "# print newArray.shape\n",
      "# print threeD0.shape\n",
      "\n",
      "# labelStat.Execute(array, sitk.Cast(image, sitk.sitkUInt32))\n",
      "# Copy label image data to newArray\n",
      "threeD0.set_filename('threeD0.nii')\n",
      "threeD0.to_files()\n",
      "newVol = sitk.ReadImage(threeD0.get_filename())\n",
      "newVol.GetPixelIDTypeAsString()\n",
      "# print header.keys()\n",
      "# pixdim = header.get('pixdim')\n",
      "# print pixdim\n",
      "# newVol.SetSpacing(header.get('pixdim')[1:3])\n",
      "# newVol.CopyInformation(label) # Cannot use newVol image cosines!  How can we get the information from the fMRI image???\n",
      "# sitk.Show(label, 'Orig label')\n",
      "# sitk.Show(newVol, 'Modified fMRI')\n",
      "# fmri = sitk.ReadImage(fMRI_file)\n",
      "# labelStat = sitk.LabelStatistics(fmri, temp) # label image comes SECOND & ITK can't read 4D images!\n",
      "# statMap1 = labelStat.GetLabelStatisticsMap()\n",
      "labelStat2 = sitk.LabelStatisticsImageFilter()\n",
      "labelStat2.Execute(newVol, sitk.Cast(temp, sitk.sitkUInt32))\n",
      "labelStat2.GetLabelStatisticsMap()\n",
      "print labelStat2.GetValidLabels()[4]"
     ],
     "language": "python",
     "metadata": {},
     "outputs": [
      {
       "ename": "NameError",
       "evalue": "name 'newVol' is not defined",
       "output_type": "pyerr",
       "traceback": [
        "\u001b[0;31m---------------------------------------------------------------------------\u001b[0m\n\u001b[0;31mNameError\u001b[0m                                 Traceback (most recent call last)",
        "\u001b[0;32m<ipython-input-11-6da7f44fc506>\u001b[0m in \u001b[0;36m<module>\u001b[0;34m()\u001b[0m\n\u001b[1;32m      1\u001b[0m \u001b[0mlabelStat2\u001b[0m \u001b[0;34m=\u001b[0m \u001b[0msitk\u001b[0m\u001b[0;34m.\u001b[0m\u001b[0mLabelStatisticsImageFilter\u001b[0m\u001b[0;34m(\u001b[0m\u001b[0;34m)\u001b[0m\u001b[0;34m\u001b[0m\u001b[0m\n\u001b[0;32m----> 2\u001b[0;31m \u001b[0mlabelStat2\u001b[0m\u001b[0;34m.\u001b[0m\u001b[0mExecute\u001b[0m\u001b[0;34m(\u001b[0m\u001b[0mnewVol\u001b[0m\u001b[0;34m,\u001b[0m \u001b[0msitk\u001b[0m\u001b[0;34m.\u001b[0m\u001b[0mCast\u001b[0m\u001b[0;34m(\u001b[0m\u001b[0mtemp\u001b[0m\u001b[0;34m,\u001b[0m \u001b[0msitk\u001b[0m\u001b[0;34m.\u001b[0m\u001b[0msitkUInt32\u001b[0m\u001b[0;34m)\u001b[0m\u001b[0;34m)\u001b[0m\u001b[0;34m\u001b[0m\u001b[0m\n\u001b[0m\u001b[1;32m      3\u001b[0m \u001b[0mlabelStat2\u001b[0m\u001b[0;34m.\u001b[0m\u001b[0mGetLabelStatisticsMap\u001b[0m\u001b[0;34m(\u001b[0m\u001b[0;34m)\u001b[0m\u001b[0;34m\u001b[0m\u001b[0m\n\u001b[1;32m      4\u001b[0m \u001b[0;32mprint\u001b[0m \u001b[0mlabelStat2\u001b[0m\u001b[0;34m.\u001b[0m\u001b[0mGetValidLabels\u001b[0m\u001b[0;34m(\u001b[0m\u001b[0;34m)\u001b[0m\u001b[0;34m[\u001b[0m\u001b[0;36m4\u001b[0m\u001b[0;34m]\u001b[0m\u001b[0;34m\u001b[0m\u001b[0m\n",
        "\u001b[0;31mNameError\u001b[0m: name 'newVol' is not defined"
       ]
      }
     ],
     "prompt_number": 11
    },
    {
     "cell_type": "code",
     "collapsed": false,
     "input": [
      "import numpy as np\n",
      "rows = 10\n",
      "columns = len(labelList)\n",
      "data = np.array(np.empty((rows, columns)), ndmin=2)\n",
      "index = 0\n",
      "for row in range(rows):\n",
      "    numpy.put( data, index, np.array(labelList, ndmin=2))\n",
      "    index += columns\n",
      "frow, fcolumn =  data.shape\n",
      "# print '%d, %d' %(frow, fcolumn)\n",
      "# print data\n",
      "\n",
      "# for ii in range(columns):\n",
      "#     print data[:,ii].shape\n",
      "covar = np.cov(data)\n",
      "print covar.shape\n"
     ],
     "language": "python",
     "metadata": {},
     "outputs": [
      {
       "output_type": "stream",
       "stream": "stdout",
       "text": [
        "(10, 10)\n"
       ]
      }
     ],
     "prompt_number": 51
    },
    {
     "cell_type": "markdown",
     "metadata": {},
     "source": [
      "<h3>Binary Thresholding testing</h3>"
     ]
    },
    {
     "cell_type": "code",
     "collapsed": false,
     "input": [
      "import SimpleITK as sitk\n",
      "import copy\n",
      "# img1 = sitk.ReadImage(label_file)\n",
      "input_file = '/Volumes/scratch/welchdm/src/rs-fMRI-pilot/rs_fmri_workflow/antsApplyTransformWHM/mapflow/_antsApplyTransformWHM0/POSTERIOR_WM_TOTAL_trans.nii'\n",
      "image = sitk.ReadImage(input_file)\n",
      "# sitk.Show(image, 'Posteriors')\n",
      "# print image.GetPixelIDTypeAsString()\n",
      "binaryMask = sitk.BinaryThreshold(image, 0.5, 1.0)\n",
      "sitk.Show(binaryMask*255, 'binary')\n",
      "# fileName = 'whiteMatterMask.nii'\n",
      "radiusMM = 1\n",
      "erodedMask = sitk.BinaryErode(binaryMask, radiusMM)\n",
      "sitk.Show(erodedMask*255, 'eroded')\n",
      "connected = sitk.ConnectedComponent(erodedMask)\n",
      "sitk.Show(connected*15, 'connected')\n",
      "sortedComp = sitk.RelabelComponent(connected, 10)\n",
      "sitk.Show(sortedComp*15, 'sorted_10')\n",
      "maskOnly = sitk.BinaryThreshold(sortedComp, 1, 1)\n",
      "sitk.Show(maskOnly*255, 'maskOnly')\n",
      "# fullName = os.path.join(os.getcwd(), fileName)\n",
      "# sitk.WriteImage(maskOnly, os.path.join(os.getcwd(), 'Only' + fileName))\n",
      "sitk.Show(img1, 'label_file')"
     ],
     "language": "python",
     "metadata": {},
     "outputs": [],
     "prompt_number": 6
    },
    {
     "cell_type": "markdown",
     "metadata": {},
     "source": [
      "<h3>Correlation .mat file</h3>"
     ]
    },
    {
     "cell_type": "code",
     "collapsed": false,
     "input": [
      "### Test writeMat function\n",
      "import os\n",
      "import numpy as np\n",
      "from scipy.io import savemat\n",
      "in_file = '/Volumes/scratch/welchdm/src/rs-fMRI-pilot/workflow_20121206_1330/_label_file_..Volumes..scratch..welchdm..src..rs-fMRI-pilot..workflow_20121205_1330..antsApplyTransformsFS1..aparc+aseg_trans.nii.gz/afni3DroiStats/errts_Decon+orig_dtroiStat.1D'\n",
      "out_file = 'my_out_file.mat'\n",
      "with open(in_file, 'r') as fID:\n",
      "    count = 0\n",
      "    timepoint = []\n",
      "    row_data = []\n",
      "    for valueStr in fID.readlines():\n",
      "        value_list = valueStr.split()\n",
      "        if count == 0:\n",
      "            column_header = value_list[2:]\n",
      "            valid_labels = [item.strip('NZMed_') for item in column_header]\n",
      "            columns = len(column_header)\n",
      "            # print column_header\n",
      "        else:\n",
      "            timepoint.append(value_list[1].split('[')[0])\n",
      "            row_data.append(value_list[2:])\n",
      "        count += 1\n",
      "    rows = len(timepoint)\n",
      "    data = np.array(row_data, dtype='float', ndmin=2)\n",
      "    labels = np.array(valid_labels, dtype='int', ndmin=1)\n",
      "corr = np.corrcoef(data)\n",
      "temp = out_file\n",
      "if temp[-4:] == '.mat':\n",
      "    temp = temp[:-4]\n",
      "fileName = os.path.abspath(temp)\n",
      "savemat(file_name=temp + '_corr', mdict={'data':corr}, appendmat=True, oned_as='row')\n",
      "savemat(file_name=temp + '_labels', mdict={'data':labels}, appendmat=True, oned_as='row')\n",
      "savemat(file_name=temp + '_raw', mdict={'data':data}, appendmat=True, oned_as='row')\n",
      "# return out_file\n",
      "# s = timepoint[0]\n",
      "# print timepoint\n",
      "# print valid_labels\n",
      "print data.shape, corr.shape, labels.shape\n"
     ],
     "language": "python",
     "metadata": {},
     "outputs": [
      {
       "output_type": "stream",
       "stream": "stdout",
       "text": [
        "(132, 111) (132, 132) (111,)\n"
       ]
      }
     ],
     "prompt_number": 157
    }
   ],
   "metadata": {}
  }
 ]
}