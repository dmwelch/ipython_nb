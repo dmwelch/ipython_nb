{
 "metadata": {
  "name": "SGE usage plotting"
 },
 "nbformat": 3,
 "nbformat_minor": 0,
 "worksheets": [
  {
   "cells": [
    {
     "cell_type": "heading",
     "level": 1,
     "metadata": {},
     "source": [
      "Cluster usage"
     ]
    },
    {
     "cell_type": "markdown",
     "metadata": {},
     "source": [
      "<em>Generate the account file for user johnsonhj on Helium</em>\n",
      "\n",
      "    qacct -o johnsonhj -b 1201010000 -f /opt/gridengine/default/common/accounting-10-15-2012\n",
      "    qacct -o johnsonhj\n",
      "\n",
      "<em>The format of the accounting file is:</em>\n",
      "> qname:hostname:group:owner:job_name:job_number:account:priority:submission_time:start_time:end_time:failed:exit_status:\n",
      "ru_wallclock:...(UNIX getrusage)...:project:department:granted_pe:slots:task_number:cpu:mem:io:category:iow:pe_taskid:\n",
      "maxvmem:arid:ar_submission_time\n",
      "\n",
      "* <em>submission_time - Submission time (GMT unix time stamp)</em>\n",
      "* <em>cpu - The cpu time usage in seconds</em>\n",
      "* <em>ru_wallclock - Difference between end_time and start_time</em>\n",
      "* <em>ru_utime - user time used (from getrusage)</em>\n",
      "* <em>ru_stime - system time used (from getrusage)</em>"
     ]
    },
    {
     "cell_type": "code",
     "collapsed": false,
     "input": [
      "import csv\n",
      "import time\n",
      "filename1 = '/hjohnson/HDNI/20121219_MakeClusterAccountingGraphs/tempAcct'\n",
      "filename2 = '/raid0/homes/dmwelch/regina.txt'\n",
      "\n",
      "def parseSGElog(filename):\n",
      "    header = ('qname', 'hostname', 'group', 'owner', 'job_name', 'job_number', 'account', 'priority', 'submission_time', 'start_time', \n",
      "              'end_time', 'failed', 'exit_status', 'ru_wallclock', 'ru_utime', 'ru_stime', 'ru_maxrss', 'ru_ixrss', 'ru_ismrss', 'ru_idrss', \n",
      "              'ru_isrss', 'ru_minflt', 'ru_majflt', 'ru_nswap', 'ru_inblock', 'ru_oublock', 'ru_msgsnd', 'ru_msgrcv', 'ru_nsignals', 'ru_nvcsw', \n",
      "              'ru_nivcsw', 'project', 'department', 'granted_pe', 'slots', 'task_number', 'cpu', 'mem', 'io', 'category', 'iow', 'pe_taskid',\n",
      "              'maxvmem', 'arid', 'ar_submission_time')\n",
      "    #subtime = []\n",
      "    submissiontime = []\n",
      "    #usertime = []\n",
      "    #systime = []\n",
      "    cputime = []\n",
      "    #wallclock = []\n",
      "    with open(filename, 'rb') as fid:\n",
      "        csvOut = csv.DictReader(fid, fieldnames=header, restkey='Extra_stuff', delimiter=':', quotechar='\"')\n",
      "        count = 0\n",
      "        for row in csvOut.reader:\n",
      "            temp = dict(zip(header, row))\n",
      "            submissiontime.append(int(temp['submission_time']))\n",
      "            #subtime.append(time.ctime(int(temp['submission_time'])))\n",
      "            #usertime.append(temp['ru_utime'])\n",
      "            #systime.append(temp['ru_stime'])\n",
      "            cputime.append(temp['cpu'])\n",
      "            #wallclock.append(temp['ru_wallclock'])\n",
      "    output = sorted(zip(submissiontime, cputime))\n",
      "    return output\n",
      "hans = parseSGElog(filename1)\n",
      "regina = parseSGElog(filename2)"
     ],
     "language": "python",
     "metadata": {},
     "outputs": [],
     "prompt_number": 2
    },
    {
     "cell_type": "code",
     "collapsed": false,
     "input": [
      "test = zip([1,3,2,7,5,6,4], [20,6,4,14,10,12,8])\n",
      "sorted_test = sorted(test)\n",
      "sorted_test"
     ],
     "language": "python",
     "metadata": {},
     "outputs": [],
     "prompt_number": 6
    },
    {
     "cell_type": "code",
     "collapsed": false,
     "input": [
      "resultList = []\n",
      "oldDay = 0\n",
      "oldMonth = 'Xxx'\n",
      "cpusum = 0.0\n",
      "for tstamp, cpu in hans:\n",
      "    readableTime = time.ctime(tstamp)\n",
      "    dateList = readableTime.split(' ')\n",
      "    if int(dateList[-1]) < 2011:\n",
      "        pass\n",
      "    month = dateList[1]\n",
      "    if dateList[2] == '':\n",
      "        day = int(dateList[3])\n",
      "    else:\n",
      "        day = int(dateList[2])\n",
      "    if month != oldMonth or day != oldDay:\n",
      "        resultList.append(('%s-%s'%(oldMonth, oldDay), cpusum))\n",
      "        oldMonth = month\n",
      "        oldDay = day\n",
      "        cpusum = float(cpu)\n",
      "    else:\n",
      "        cpusum += float(cpu)\n",
      "        \n",
      "print len(resultList)"
     ],
     "language": "python",
     "metadata": {},
     "outputs": [
      {
       "output_type": "stream",
       "stream": "stdout",
       "text": [
        "236\n"
       ]
      }
     ],
     "prompt_number": 15
    },
    {
     "cell_type": "code",
     "collapsed": false,
     "input": [
      "dates, cpusums = zip(*resultList)\n",
      "dayCount = [float(value) / ((60.0**2) * 24.0) for value in cpusums]\n",
      "leftBar = [float(x) - 0.5 for x in range(1,13)]\n",
      "fig = figure()\n",
      "ax = fig.add_subplot(111)\n",
      "bar(left, dayCount, color='red')"
     ],
     "language": "python",
     "metadata": {},
     "outputs": [
      {
       "ename": "RuntimeError",
       "evalue": "Failed to obtain the display ID of the main display",
       "output_type": "pyerr",
       "traceback": [
        "\u001b[0;31m---------------------------------------------------------------------------\u001b[0m\n\u001b[0;31mRuntimeError\u001b[0m                              Traceback (most recent call last)",
        "\u001b[0;32m<ipython-input-16-170a0b14a2c4>\u001b[0m in \u001b[0;36m<module>\u001b[0;34m()\u001b[0m\n\u001b[1;32m      2\u001b[0m \u001b[0mdayCount\u001b[0m \u001b[0;34m=\u001b[0m \u001b[0;34m[\u001b[0m\u001b[0mfloat\u001b[0m\u001b[0;34m(\u001b[0m\u001b[0mvalue\u001b[0m\u001b[0;34m)\u001b[0m \u001b[0;34m/\u001b[0m \u001b[0;34m(\u001b[0m\u001b[0;34m(\u001b[0m\u001b[0;36m60.0\u001b[0m\u001b[0;34m**\u001b[0m\u001b[0;36m2\u001b[0m\u001b[0;34m)\u001b[0m \u001b[0;34m*\u001b[0m \u001b[0;36m24.0\u001b[0m\u001b[0;34m)\u001b[0m \u001b[0;32mfor\u001b[0m \u001b[0mvalue\u001b[0m \u001b[0;32min\u001b[0m \u001b[0mcpusums\u001b[0m\u001b[0;34m]\u001b[0m\u001b[0;34m\u001b[0m\u001b[0m\n\u001b[1;32m      3\u001b[0m \u001b[0mleftBar\u001b[0m \u001b[0;34m=\u001b[0m \u001b[0;34m[\u001b[0m\u001b[0mfloat\u001b[0m\u001b[0;34m(\u001b[0m\u001b[0mx\u001b[0m\u001b[0;34m)\u001b[0m \u001b[0;34m-\u001b[0m \u001b[0;36m0.5\u001b[0m \u001b[0;32mfor\u001b[0m \u001b[0mx\u001b[0m \u001b[0;32min\u001b[0m \u001b[0mrange\u001b[0m\u001b[0;34m(\u001b[0m\u001b[0;36m1\u001b[0m\u001b[0;34m,\u001b[0m\u001b[0;36m13\u001b[0m\u001b[0;34m)\u001b[0m\u001b[0;34m]\u001b[0m\u001b[0;34m\u001b[0m\u001b[0m\n\u001b[0;32m----> 4\u001b[0;31m \u001b[0mfig\u001b[0m \u001b[0;34m=\u001b[0m \u001b[0mfigure\u001b[0m\u001b[0;34m(\u001b[0m\u001b[0;34m)\u001b[0m\u001b[0;34m\u001b[0m\u001b[0m\n\u001b[0m\u001b[1;32m      5\u001b[0m \u001b[0max\u001b[0m \u001b[0;34m=\u001b[0m \u001b[0mfig\u001b[0m\u001b[0;34m.\u001b[0m\u001b[0madd_subplot\u001b[0m\u001b[0;34m(\u001b[0m\u001b[0;36m111\u001b[0m\u001b[0;34m)\u001b[0m\u001b[0;34m\u001b[0m\u001b[0m\n\u001b[1;32m      6\u001b[0m \u001b[0mbar\u001b[0m\u001b[0;34m(\u001b[0m\u001b[0mleft\u001b[0m\u001b[0;34m,\u001b[0m \u001b[0mdayCount\u001b[0m\u001b[0;34m,\u001b[0m \u001b[0mcolor\u001b[0m\u001b[0;34m=\u001b[0m\u001b[0;34m'red'\u001b[0m\u001b[0;34m)\u001b[0m\u001b[0;34m\u001b[0m\u001b[0m\n",
        "\u001b[0;32m/Library/Python/2.7/site-packages/matplotlib-1.2.x-py2.7-macosx-10.7-intel.egg/matplotlib/pyplot.pyc\u001b[0m in \u001b[0;36mfigure\u001b[0;34m(num, figsize, dpi, facecolor, edgecolor, frameon, FigureClass, **kwargs)\u001b[0m\n\u001b[1;32m    344\u001b[0m                                              \u001b[0mframeon\u001b[0m\u001b[0;34m=\u001b[0m\u001b[0mframeon\u001b[0m\u001b[0;34m,\u001b[0m\u001b[0;34m\u001b[0m\u001b[0m\n\u001b[1;32m    345\u001b[0m                                              \u001b[0mFigureClass\u001b[0m\u001b[0;34m=\u001b[0m\u001b[0mFigureClass\u001b[0m\u001b[0;34m,\u001b[0m\u001b[0;34m\u001b[0m\u001b[0m\n\u001b[0;32m--> 346\u001b[0;31m                                              **kwargs)\n\u001b[0m\u001b[1;32m    347\u001b[0m \u001b[0;34m\u001b[0m\u001b[0m\n\u001b[1;32m    348\u001b[0m         \u001b[0;32mif\u001b[0m \u001b[0mfigLabel\u001b[0m\u001b[0;34m:\u001b[0m\u001b[0;34m\u001b[0m\u001b[0m\n",
        "\u001b[0;32m/Library/Python/2.7/site-packages/matplotlib-1.2.x-py2.7-macosx-10.7-intel.egg/matplotlib/backends/backend_macosx.pyc\u001b[0m in \u001b[0;36mnew_figure_manager\u001b[0;34m(num, *args, **kwargs)\u001b[0m\n\u001b[1;32m    240\u001b[0m     \u001b[0mCreate\u001b[0m \u001b[0ma\u001b[0m \u001b[0mnew\u001b[0m \u001b[0mfigure\u001b[0m \u001b[0mmanager\u001b[0m \u001b[0minstance\u001b[0m\u001b[0;34m\u001b[0m\u001b[0m\n\u001b[1;32m    241\u001b[0m     \"\"\"\n\u001b[0;32m--> 242\u001b[0;31m     \u001b[0;32mif\u001b[0m \u001b[0;32mnot\u001b[0m \u001b[0m_macosx\u001b[0m\u001b[0;34m.\u001b[0m\u001b[0mverify_main_display\u001b[0m\u001b[0;34m(\u001b[0m\u001b[0;34m)\u001b[0m\u001b[0;34m:\u001b[0m\u001b[0;34m\u001b[0m\u001b[0m\n\u001b[0m\u001b[1;32m    243\u001b[0m         \u001b[0;32mimport\u001b[0m \u001b[0mwarnings\u001b[0m\u001b[0;34m\u001b[0m\u001b[0m\n\u001b[1;32m    244\u001b[0m         \u001b[0mwarnings\u001b[0m\u001b[0;34m.\u001b[0m\u001b[0mwarn\u001b[0m\u001b[0;34m(\u001b[0m\u001b[0;34m\"Python is not installed as a framework. The MacOSX backend may not work correctly if Python is not installed as a framework. Please see the Python documentation for more information on installing Python as a framework on Mac OS X\"\u001b[0m\u001b[0;34m)\u001b[0m\u001b[0;34m\u001b[0m\u001b[0m\n",
        "\u001b[0;31mRuntimeError\u001b[0m: Failed to obtain the display ID of the main display"
       ]
      }
     ],
     "prompt_number": 16
    },
    {
     "cell_type": "code",
     "collapsed": false,
     "input": [
      "timeDict = dict()\n",
      "for index in range(len(subtime)):\n",
      "    stime = subtime[index]\n",
      "    dateList = stime.split(' ')\n",
      "    month = dateList[1]\n",
      "    year = dateList[-1]\n",
      "    day = dateList[2]\n",
      "    if day == '':\n",
      "        day = dateList[3]\n",
      "    if year in timeDict.keys():\n",
      "        if month in timeDict[year].keys():\n",
      "            if day in timeDict[year][month].keys():\n",
      "                pass\n",
      "            else:\n",
      "                timeDict[year][month][day] = {'cputime':0.0,'systime':0.0, 'usertime':0.0, 'walltime':0.0}\n",
      "        else:\n",
      "            timeDict[year][month] = {day:{'cputime':0.0,'systime':0.0, 'usertime':0.0, 'walltime':0.0}}\n",
      "    else:\n",
      "        timeDict[year] = {month:{day:{'cputime':0.0,'systime':0.0, 'usertime':0.0, 'walltime':0.0}}}\n",
      "    timeDict[year][month][day]['cputime'] += float(cputime[index])\n",
      "    timeDict[year][month][day]['systime'] += float(systime[index])\n",
      "    timeDict[year][month][day]['usertime'] += float(usertime[index])\n",
      "    timeDict[year][month][day]['walltime'] += float(wallclock[index])"
     ],
     "language": "python",
     "metadata": {},
     "outputs": [],
     "prompt_number": 2
    },
    {
     "cell_type": "code",
     "collapsed": false,
     "input": [
      "print timeDict.keys()\n",
      "print timeDict['1969']"
     ],
     "language": "python",
     "metadata": {},
     "outputs": [
      {
       "output_type": "stream",
       "stream": "stdout",
       "text": [
        "['2010', '2011', '1969', '2012']\n",
        "{'Dec': {'31': {'walltime': 0.0, 'usertime': 0.0, 'cputime': 0.0, 'systime': 0.0}}}\n"
       ]
      }
     ],
     "prompt_number": 3
    },
    {
     "cell_type": "code",
     "collapsed": false,
     "input": [
      "count = 0.0\n",
      "for month, monthDict in timeDict['2012'].iteritems():\n",
      "    for day, dayDict in monthDict.iteritems():\n",
      "        count += dayDict['cputime']\n",
      "print \"Years: %g\" % ((count / (((60.0**2) * 24.0) * 365.25)))"
     ],
     "language": "python",
     "metadata": {},
     "outputs": [
      {
       "output_type": "stream",
       "stream": "stdout",
       "text": [
        "Years: 182.274\n"
       ]
      }
     ],
     "prompt_number": 147
    },
    {
     "cell_type": "code",
     "collapsed": false,
     "input": [
      "count = []\n",
      "stimes = []\n",
      "for month in ('Jan', 'Feb', 'Mar', 'Apr', 'May', 'Jun', 'Jul', 'Aug', 'Sep', 'Oct', 'Nov', 'Dec'):\n",
      "    monthDict = timeDict['2012'][month]\n",
      "    # print month\n",
      "    mcount = 0.0\n",
      "    for day in range(1,32):\n",
      "        if str(day) in monthDict.keys():\n",
      "            # print month, day\n",
      "            mcount += monthDict[str(day)]['cputime']\n",
      "    count.append(mcount)\n",
      "    stimes.append(month)\n",
      "    #stimes.append(str(mcount).zfill(2) + '-' + str(day).zfill(2))\n",
      "mysum = sum(count)\n",
      "print \"Years: %g\" % ((mysum / (((60.0**2) * 24.0) * 365.25)))"
     ],
     "language": "python",
     "metadata": {},
     "outputs": [
      {
       "output_type": "stream",
       "stream": "stdout",
       "text": [
        "Years: 5.34709\n"
       ]
      }
     ],
     "prompt_number": 5
    },
    {
     "cell_type": "code",
     "collapsed": false,
     "input": [
      "import matplotlib.dates as mdates\n",
      "\n",
      "locator = mdates.AutoDateLocator(minticks=12, maxticks=12, interval_multiples=False)\n",
      "locator.intervald[MONTHLY] = [1]\n",
      "formator = mdates.AutoDateFormatter(locator)\n",
      "dayCount = [value / ((60.0**2) * 24.0) for value in count]\n",
      "leftBar = [float(x) - 0.5 for x in range(1,13)]\n",
      "fig = figure()\n",
      "ax = fig.add_subplot(111)\n",
      "#gca().xaxis.set_major_formatter(formator)\n",
      "#gca().xaxis.set_major_locator(locator)\n",
      "#plot(stimes, count, color='black', marker=',')\n",
      "# gcf().autofmt_xdate()\n",
      "ax.bar(leftBar, dayCount, color='red', capsize=0)\n",
      "myaxes = gca()\n",
      "fig.suptitle('Helium Usage (2011): Hans Johnson')\n",
      "#fig.suptitle('Helium Usage (2011): Eun Young Kim')\n",
      "myaxes.xaxis.set_label_text('Month')\n",
      "myaxes.yaxis.set_label_text('CPU days / month')"
     ],
     "language": "python",
     "metadata": {},
     "outputs": [
      {
       "output_type": "pyout",
       "prompt_number": 6,
       "text": [
        "<matplotlib.text.Text at 0x10b8c61d0>"
       ]
      }
     ],
     "prompt_number": 6
    },
    {
     "cell_type": "code",
     "collapsed": false,
     "input": [
      "import matplotlib.collections as mcollect\n",
      "\n",
      "import numpy as np\n",
      "tlocs = myaxes.yaxis.get_majorticklocs() \n",
      "MAX = max(tlocs)\n",
      "for tick in tlocs:\n",
      "    if tick == MAX:\n",
      "        pass\n",
      "    for ADDME in range(1,11):\n",
      "        thiscolor = ((1.0*(tick+float(ADDME)))/MAX, \n",
      "                     0.0, \n",
      "                     1.0 - (1.0*(tick+float(ADDME)))/MAX)\n",
      "        red = thiscolor[0] - mod(thiscolor[0]*100, 1)/100\n",
      "        blue = thiscolor[2] - mod(thiscolor[2]*100, 1)/100\n",
      "        if red >= 1.0:\n",
      "            red = 0.99\n",
      "        if blue < 0:\n",
      "            blue = 0\n",
      "        #print thiscolor, red, blue\n",
      "        collection = mcollect.BrokenBarHCollection.span_where(np.arange(0.5, 12.5, 0.5), ymin=0, \n",
      "                                                              ymax=1, #tick+10.0, \n",
      "                                                              where=[point > 0 for point in dayCount], \n",
      "                                                              facecolor=(red, 0.0, blue), \n",
      "                                                              alpha=0.5)\n",
      "        ax.add_collection(collection)  \n",
      "        show()"
     ],
     "language": "python",
     "metadata": {},
     "outputs": [],
     "prompt_number": 143
    },
    {
     "cell_type": "code",
     "collapsed": false,
     "input": [
      "from matplotlib.colors import LinearSegmentedColormap\n",
      "mymap = LinearSegmentedColormap('cold2hot', {'red':[(0.0,)*3, (1.0, 0.0, 0.0)], 'green':[(0.0,)*3], 'blue':[(1.0, 0.0, 0.0), (0.0,)*3]}, N=256)\n"
     ],
     "language": "python",
     "metadata": {},
     "outputs": [],
     "prompt_number": 25
    },
    {
     "cell_type": "raw",
     "metadata": {},
     "source": [
      "http://stackoverflow.com/questions/10958835/matplotlib-color-gradient-in-patches"
     ]
    },
    {
     "cell_type": "code",
     "collapsed": false,
     "input": [
      "Ymax = max(dayCount)\n",
      "Ymin = 0.0\n",
      "Xmax = 12.5\n",
      "Xmin = 0.5\n",
      "x = np.arange(Xmin, Xmax, 0.05)\n",
      "y = np.arange(Ymin, Ymax+10.0, 0.05)\n",
      "X,Y = meshgrid(x,y)\n",
      "fig = figure(frameon=False)\n",
      "import numpy as np\n",
      "for item in dayCount:\n",
      "    Xmax = Xmin + 1.0\n",
      "    \n",
      "    im = imshow(\n",
      "    y = np.arange(Ymin, item, 0.05)\n",
      "    "
     ],
     "language": "python",
     "metadata": {},
     "outputs": [],
     "prompt_number": 8
    },
    {
     "cell_type": "code",
     "collapsed": false,
     "input": [
      "thiscolor[0] - mod(thiscolor[0]*100, 1)/100"
     ],
     "language": "python",
     "metadata": {},
     "outputs": [
      {
       "output_type": "pyout",
       "prompt_number": 80,
       "text": [
        "0.0"
       ]
      }
     ],
     "prompt_number": 80
    },
    {
     "cell_type": "code",
     "collapsed": false,
     "input": [],
     "language": "python",
     "metadata": {},
     "outputs": []
    }
   ],
   "metadata": {}
  }
 ]
}