{
 "metadata": {
  "name": "20130426-generateNewPriors Basal Ganglia"
 },
 "nbformat": 3,
 "nbformat_minor": 0,
 "worksheets": [
  {
   "cells": [
    {
     "cell_type": "code",
     "collapsed": false,
     "input": [
      "import os\n",
      "import sys\n",
      "\n",
      "import SimpleITK as sitk\n",
      "import pinc"
     ],
     "language": "python",
     "metadata": {},
     "outputs": [],
     "prompt_number": 3
    },
    {
     "cell_type": "code",
     "collapsed": false,
     "input": [
      "notebookDir = os.path.dirname(os.getcwd())\n",
      "experimentDir = os.path.join('/paulsen', 'Experiments', '20130426-generateNewPriors')\n",
      "summedDir = os.path.join(experimentDir, 'summed_1457')"
     ],
     "language": "python",
     "metadata": {},
     "outputs": [],
     "prompt_number": 9
    },
    {
     "cell_type": "code",
     "collapsed": false,
     "input": [
      "# !ls \"$summedDir\"\n",
      "files = [\"summed_1457_accumben_left.nii.gz\",\n",
      "         \"summed_1457_accumben_right.nii.gz\",\n",
      "         \"summed_1457_caudate_left.nii.gz\",\n",
      "         \"summed_1457_caudate_right.nii.gz\",\n",
      "         \"summed_1457_globus_left.nii.gz\",\n",
      "         \"summed_1457_globus_right.nii.gz\",\n",
      "         \"summed_1457_hippocampus_left.nii.gz\",\n",
      "         \"summed_1457_hippocampus_right.nii.gz\",\n",
      "         \"summed_1457_putamen_left.nii.gz\",\n",
      "         \"summed_1457_putamen_right.nii.gz\",\n",
      "         \"summed_1457_thalamus_left.nii.gz\",\n",
      "         \"summed_1457_thalamus_right.nii.gz\"]"
     ],
     "language": "python",
     "metadata": {},
     "outputs": [],
     "prompt_number": 11
    },
    {
     "cell_type": "code",
     "collapsed": false,
     "input": [
      "bg_imgs = []\n",
      "for fname in files:\n",
      "    if fname.find(\"accumben\") > -1 or fname.find(\"caudate\") > -1 or fname.find(\"putamen\") > -1:\n",
      "        print fname\n",
      "        img = sitk.ReadImage(os.path.join(summedDir, fname))\n",
      "        bg_imgs.append(img)"
     ],
     "language": "python",
     "metadata": {},
     "outputs": [
      {
       "output_type": "stream",
       "stream": "stdout",
       "text": [
        "summed_1457_accumben_left.nii.gz\n",
        "summed_1457_accumben_right.nii.gz"
       ]
      },
      {
       "output_type": "stream",
       "stream": "stdout",
       "text": [
        "\n",
        "summed_1457_caudate_left.nii.gz"
       ]
      },
      {
       "output_type": "stream",
       "stream": "stdout",
       "text": [
        "\n",
        "summed_1457_caudate_right.nii.gz"
       ]
      },
      {
       "output_type": "stream",
       "stream": "stdout",
       "text": [
        "\n",
        "summed_1457_putamen_left.nii.gz"
       ]
      },
      {
       "output_type": "stream",
       "stream": "stdout",
       "text": [
        "\n",
        "summed_1457_putamen_right.nii.gz"
       ]
      },
      {
       "output_type": "stream",
       "stream": "stdout",
       "text": [
        "\n"
       ]
      }
     ],
     "prompt_number": 12
    },
    {
     "cell_type": "code",
     "collapsed": false,
     "input": [
      "basal_ganglia = bg_imgs[0]\n",
      "for ii in range(len(bg_imgs)-1):\n",
      "    basal_ganglia += bg_imgs[ii + 1]\n",
      "    "
     ],
     "language": "python",
     "metadata": {},
     "outputs": [
      {
       "output_type": "display_data",
       "png": "[encoded data removed]"
      }
     ],
     "prompt_number": 13
    },
    {
     "cell_type": "code",
     "collapsed": false,
     "input": [
      "pinc.myshow.myshow3d(basal_ganglia, zslices=range(120, 150, 10))"
     ],
     "language": "python",
     "metadata": {},
     "outputs": [
      {
       "output_type": "display_data",
       "png": "[encoded data removed]"
      }
     ],
     "prompt_number": 18
    },
    {
     "cell_type": "code",
     "collapsed": false,
     "input": [
      "over = basal_ganglia > 1.0\n",
      "final = basal_ganglia * sitk.Cast((1 - over), basal_ganglia.GetPixelIDValue()) + sitk.Cast(over, basal_ganglia.GetPixelIDValue())"
     ],
     "language": "python",
     "metadata": {},
     "outputs": [],
     "prompt_number": 23
    },
    {
     "cell_type": "code",
     "collapsed": false,
     "input": [
      "pinc.myshow.myshow3d(over, zslices=range(120, 150, 10))\n",
      "pinc.myshow.myshow3d(final, zslices=range(120, 150, 10))"
     ],
     "language": "python",
     "metadata": {},
     "outputs": [
      {
       "output_type": "display_data",
       "png": "[encoded data removed]"
      },
      {
       "output_type": "display_data",
       "png": "[encoded data removed]"
      }
     ],
     "prompt_number": 26
    },
    {
     "cell_type": "code",
     "collapsed": false,
     "input": [
      "sitk.WriteImage(final, os.path.join(experimentDir, 'basal_ganglia.nii.gz'))"
     ],
     "language": "python",
     "metadata": {},
     "outputs": [],
     "prompt_number": 27
    },
    {
     "cell_type": "code",
     "collapsed": false,
     "input": [
      "imgs = []\n",
      "for fname in files:\n",
      "    if fname.find(\"globus\") > -1:\n",
      "        print fname\n",
      "        img = sitk.ReadImage(os.path.join(summedDir, fname))\n",
      "        imgs.append(img)\n",
      "globus = imgs[0] + imgs[1]\n",
      "pinc.myshow.myshow3d(globus, zslices=range(120, 150, 10))\n",
      "\n",
      "imgs = []\n",
      "for fname in files:\n",
      "    if fname.find(\"hippo\") > -1:\n",
      "        print fname\n",
      "        img = sitk.ReadImage(os.path.join(summedDir, fname))\n",
      "        imgs.append(img)\n",
      "hippo = imgs[0] + imgs[1]\n",
      "pinc.myshow.myshow3d(hippo, zslices=range(120, 150, 10))\n",
      "\n",
      "imgs = []\n",
      "for fname in files:\n",
      "    if fname.find(\"thalamus\") > -1:\n",
      "        print fname\n",
      "        img = sitk.ReadImage(os.path.join(summedDir, fname))\n",
      "        imgs.append(img)\n",
      "thalamus = imgs[0] + imgs[1]\n",
      "pinc.myshow.myshow3d(thalamus, zslices=range(120, 150, 10))"
     ],
     "language": "python",
     "metadata": {},
     "outputs": [
      {
       "output_type": "stream",
       "stream": "stdout",
       "text": [
        "summed_1457_globus_left.nii.gz\n",
        "summed_1457_globus_right.nii.gz"
       ]
      },
      {
       "output_type": "stream",
       "stream": "stdout",
       "text": [
        "\n",
        "summed_1457_hippocampus_left.nii.gz"
       ]
      },
      {
       "output_type": "stream",
       "stream": "stdout",
       "text": [
        "\n",
        "summed_1457_hippocampus_right.nii.gz"
       ]
      },
      {
       "output_type": "stream",
       "stream": "stdout",
       "text": [
        "\n",
        "summed_1457_thalamus_left.nii.gz"
       ]
      },
      {
       "output_type": "stream",
       "stream": "stdout",
       "text": [
        "\n",
        "summed_1457_thalamus_right.nii.gz"
       ]
      },
      {
       "output_type": "stream",
       "stream": "stdout",
       "text": [
        "\n"
       ]
      },
      {
       "output_type": "display_data",
       "png": "[encoded data removed]"
      },
      {
       "output_type": "display_data",
       "png": "[encoded data removed]"
      },
      {
       "output_type": "display_data",
       "png": "[encoded data removed]"
      }
     ],
     "prompt_number": 28
    },
    {
     "cell_type": "code",
     "collapsed": false,
     "input": [
      "def clamp(image, upper=1.0):\n",
      "    over = image > upper\n",
      "    final = image * sitk.Cast((1 - over), image.GetPixelIDValue()) + sitk.Cast(over, image.GetPixelIDValue())\n",
      "    return final"
     ],
     "language": "python",
     "metadata": {},
     "outputs": [],
     "prompt_number": 29
    },
    {
     "cell_type": "code",
     "collapsed": false,
     "input": [
      "globus_c = clamp(globus)\n",
      "hippo_c = clamp(hippo)\n",
      "thalamus_c = clamp(thalamus)"
     ],
     "language": "python",
     "metadata": {},
     "outputs": [],
     "prompt_number": 30
    },
    {
     "cell_type": "code",
     "collapsed": false,
     "input": [
      "sitk.WriteImage(globus_c, os.path.join(experimentDir, 'globus.nii.gz'))\n",
      "sitk.WriteImage(hippo_c, os.path.join(experimentDir, 'hippocampus.nii.gz'))\n",
      "sitk.WriteImage(thalamus_c, os.path.join(experimentDir, 'thalamus.nii.gz'))"
     ],
     "language": "python",
     "metadata": {},
     "outputs": [],
     "prompt_number": 31
    },
    {
     "cell_type": "code",
     "collapsed": false,
     "input": [],
     "language": "python",
     "metadata": {},
     "outputs": []
    }
   ],
   "metadata": {}
  }
 ]
}