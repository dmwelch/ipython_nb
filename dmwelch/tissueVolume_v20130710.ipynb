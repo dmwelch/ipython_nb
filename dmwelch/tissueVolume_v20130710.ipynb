{
 "metadata": {
  "name": "tissueMaskVolumeCalculation20130604"
 },
 "nbformat": 3,
 "nbformat_minor": 0,
 "worksheets": [
  {
   "cells": [
    {
     "cell_type": "markdown",
     "metadata": {},
     "source": [
      "# INCOMPLETE #\n",
      "## Do not use! #"
     ]
    },
    {
     "cell_type": "markdown",
     "metadata": {},
     "source": [
      "# Task: Get Volume measurements for database population\n",
      "\n",
      "Mask the ICV in the probabilities and sum for these regions:\n",
      "\n",
      "* Cerebral WM\n",
      "* Cerebellar WM\n",
      "* Cerebral GM (+ Surface GM)\n",
      "* Cerebellar GM\n",
      "* CSF\n",
      "* Venous blood"
     ]
    },
    {
     "cell_type": "code",
     "collapsed": false,
     "input": [
      "import csv\n",
      "import os\n",
      "import re\n",
      "import sys\n",
      "from decimal import Decimal\n",
      "\n",
      "import numpy as np\n",
      "import SimpleITK as sitk\n",
      "\n",
      "toolname = 'tissueMaskVolume20130604'\n",
      "basedir = ['/paulsen/Experiments/20130202_PREDICTHD_Results', '/hjohnson/TrackOn/Experiments/20130109_TrackOn_Results']\n",
      "outfile = '/raid0/homes/dmwelch/Desktop/20130710_{0}.csv'.format(toolname)\n",
      "\n",
      "lower_threshold = 0.0099\n",
      "upper_threshold = 1.0099\n",
      "\n",
      "imgkeys = {\"globus\":\"POSTERIOR_GLOBUS_TOTAL.nii.gz\",\n",
      "           \"gray_matter\":\"POSTERIOR_GM_TOTAL.nii.gz\",\n",
      "           \"cranial_csf\":\"POSTERIOR_CSF_TOTAL.nii.gz\",\n",
      "           \"venous_blood\":\"POSTERIOR_VB_TOTAL.nii.gz\",\n",
      "           \"white_matter\":\"POSTERIOR_WM_TOTAL.nii.gz\",\n",
      "           \"bkg\":\"POSTERIOR_BACKGROUND_TOTAL.nii.gz\"}\n",
      "\n",
      "def imageList(d, keys):\n",
      "    images = []\n",
      "    for key in keys:\n",
      "        images.append(d[key])\n",
      "    return images\n",
      "\n",
      "def sumOverKeys(d, keys=[]):\n",
      "    if len(keys) == 0:\n",
      "        keys = d.keys()\n",
      "    castList = [sitk.Cast(image, sitk.sitkFloat32) for image in imageList(d, keys)]\n",
      "    return sitk.NaryAdd(castList)\n",
      "\n",
      "def sumImage(image):\n",
      "    array = sitk.GetArrayFromImage(sitk.Cast(image, sitk.sitkFloat32))\n",
      "    total = np.sum(array)\n",
      "    spacing = image.GetSpacing()\n",
      "    x = reduce(lambda x, y: x * y, spacing, 1)\n",
      "    volume = total * x\n",
      "    return volume"
     ],
     "language": "python",
     "metadata": {},
     "outputs": [],
     "prompt_number": 57
    },
    {
     "cell_type": "markdown",
     "metadata": {},
     "source": [
      "## Step 1: get the 'easy' volumes"
     ]
    },
    {
     "cell_type": "raw",
     "metadata": {},
     "source": [
      "image = sitk.ReadImage(os.path.join(basedir, \"FMRI_HD_024\", \"0135/52907/ACCUMULATED_POSTERIORS/POSTERIOR_BACKGROUND_TOTAL.nii.gz\"))\n",
      "size = image.GetSize()\n",
      "totalsize = size[0]*size[1]*size[2]  # 1mm resolution\n",
      "print (D['bkg'] + ICV)/totalsize                                                         # 1.00026274583"
     ]
    },
    {
     "cell_type": "code",
     "collapsed": false,
     "input": [
      "def computeVolumes(path, fileDict):\n",
      "    voldict = dict.fromkeys(fileDict)\n",
      "    imgdict = dict.fromkeys(fileDict)\n",
      "    for key, value in fileDict.items():\n",
      "        img = sitk.ReadImage(os.path.join(path, value))\n",
      "        voldict[key] = sumImage(img)\n",
      "        imgdict[key] = img\n",
      "    return voldict, imgdict\n",
      "\n",
      "def checkVolumes(voldict, imgdict):\n",
      "    tol = 1e-3\n",
      "    total = sumImage(sumOverKeys(imgdict))\n",
      "    total2 = reduce(lambda x,y: x + y, voldict.values())\n",
      "    assert (total / total2) <= (1.0 + tol) \\\n",
      "      and (total / total2) >= (1.0 - tol), 'Check of summations failed: {0}, {1}, {2}'.format(total, total2, total/total2)\n",
      "    ICV = sumImage(sumOverKeys(imgdict, ['gray_matter', 'white_matter', 'cranial_csf', 'venous_blood', 'globus']))\n",
      "    ratio1 = sumImage(sumOverKeys(imgdict, ['gray_matter', 'white_matter', 'globus'])) / ICV\n",
      "    ratio2 = sumImage(sumOverKeys(imgdict, ['cranial_csf', 'venous_blood'])) / ICV\n",
      "    assert (ratio1 / (1.0 - ratio2)) <= (1.0 + tol) \\\n",
      "      and (ratio1 / (1.0 - ratio2)) >= (1.0 - tol), 'Check of ratios failed: {0}, {1}, {2}'.format(ratio1, (1.0 - ratio2), ratio1/(1.0 - ratio2))\n",
      "    total3 = ICV + voldict['bkg']\n",
      "    size = reduce(lambda x,y: x * y, imgdict['bkg'].GetSize())\n",
      "    assert (total3 / size) <= (1.0 + tol) \\\n",
      "      and (total3 / size) >= (1.0 - tol), 'Check of total summation failed: {0}, {1}, {2}'.format(total3, size, total3/size)"
     ],
     "language": "python",
     "metadata": {},
     "outputs": [],
     "prompt_number": 76
    },
    {
     "cell_type": "markdown",
     "metadata": {},
     "source": [
      "## Step 2: compute the above measurements for all sessions"
     ]
    },
    {
     "cell_type": "code",
     "collapsed": false,
     "input": [
      "def writeRecord(fid, rowDict):\n",
      "    labels = ['white_matter', 'cranial_csf', 'gray_matter', 'venous_blood', 'globus']\n",
      "    for key in labels:\n",
      "        valueString = \"{0},{1},{2},{3},{4:.0f},{5}\\n\".format(rowDict['experiment'], rowDict['session'], key, 'mm_3', rowDict[key], rowDict['toolname'])\n",
      "        print valueString\n",
      "        fid.write(valueString)"
     ],
     "language": "python",
     "metadata": {},
     "outputs": [],
     "prompt_number": 74
    },
    {
     "cell_type": "markdown",
     "metadata": {},
     "source": [
      "## Step 3: Calculate volume measures for all sessions"
     ]
    },
    {
     "cell_type": "code",
     "collapsed": false,
     "input": [
      "with open(outfile, 'a', 1) as fid:\n",
      "    fid.write(\"experiment, session, label, measurement_type, value, tool\\n\")\n",
      "target_dir = 'ACCUMULATED_POSTERIORS'\n",
      "for basedir in basedirs:\n",
      "# analysisPath = os.path.join(basedir, \"FMRI_HD_024\", \"0135\", \"52907\") # basedir\n",
      "for base, dirs, _ in os.walk(basedir):\n",
      "    if os.path.basename(base).endswith(target_dir):\n",
      "        pathElements = base.split(os.path.sep)\n",
      "        assert pathElements.pop() == target_dir \n",
      "        session = pathElements.pop()\n",
      "        subject = pathElements.pop()\n",
      "        site = pathElements.pop()\n",
      "        experiment = pathElements.pop()\n",
      "        try:\n",
      "            voldict, imgdict = computeVolumes(base, imgkeys)\n",
      "            checkVolumes(voldict, imgdict)\n",
      "            voldict['session'] = session\n",
      "            voldict['experiment'] = experiment\n",
      "            voldict['toolname'] = toolname\n",
      "            # with open(os.path.join(base, '{0}.csv'.format(toolname)), 'w', 1) as fid:\n",
      "            #     fid.write(\"experiment, session, label, measurement_type, value, tool\\n\")\n",
      "            #     writeRecord(fid, voldict)\n",
      "            # Write to the universal file\n",
      "            with open(outfile, 'a', 1) as fid:\n",
      "                writeRecord(fid, voldict)\n",
      "        except Exception, err:\n",
      "            raise\n",
      "        print \". \",\n",
      "print \"Done\""
     ],
     "language": "python",
     "metadata": {},
     "outputs": [
      {
       "output_type": "stream",
       "stream": "stdout",
       "text": [
        "20130202_PREDICTHD_Results,52907,white_matter,mm_3,529811,tissueMaskVolume20130604\n",
        "\n",
        "20130202_PREDICTHD_Results,52907,cranial_csf,mm_3,229368,tissueMaskVolume20130604\n",
        "\n",
        "20130202_PREDICTHD_Results,52907,gray_matter,mm_3,626041,tissueMaskVolume20130604\n",
        "\n",
        "20130202_PREDICTHD_Results,52907,venous_blood,mm_3,39104,tissueMaskVolume20130604\n",
        "\n",
        "20130202_PREDICTHD_Results,52907,globus,mm_3,4486,tissueMaskVolume20130604\n",
        "\n",
        ".  "
       ]
      },
      {
       "output_type": "stream",
       "stream": "stdout",
       "text": [
        "Done\n"
       ]
      }
     ],
     "prompt_number": 78
    },
    {
     "cell_type": "code",
     "collapsed": false,
     "input": [
      "print 1 +1e-3"
     ],
     "language": "python",
     "metadata": {},
     "outputs": [
      {
       "output_type": "stream",
       "stream": "stdout",
       "text": [
        "1.001\n"
       ]
      }
     ],
     "prompt_number": 72
    },
    {
     "cell_type": "markdown",
     "metadata": {},
     "source": [
      "## Step 4: insert measures into database"
     ]
    },
    {
     "cell_type": "code",
     "collapsed": false,
     "input": [
      "for base, dirs, _ in os.walk(analysisPath):\n",
      "    if os.path.basename(base).endswith(target_dir):\n",
      "        with open(os.path.join(base, 'tissueMaskVolumeCalculation.csv'), 'r', 1) as fid:\n",
      "            output = fid.readlines()\n",
      "        count = 0\n",
      "        D = {}\n",
      "        for line in output:\n",
      "            if count == 0:\n",
      "                pass\n",
      "            else:\n",
      "                values = line.split(',')\n",
      "                D[values[2]] = float(values[4])\n",
      "            count += 1\n",
      "        ICV = (D['gray_matter'] + D['white_matter'] + D['cranial_csf'] + D['venous_blood'])\n",
      "        print base\n",
      "        print \"(GM + WM)ICV = {:.4f}\".format(((D['gray_matter'] + D['white_matter'])/ICV))\n",
      "        #print \"1-(CSF+VB)ICV = {:.4f}\".format((1 - (D['cranial_csf'] + D['venous_blood'])/ICV))\n",
      "        print \"\""
     ],
     "language": "python",
     "metadata": {},
     "outputs": [
      {
       "output_type": "stream",
       "stream": "stdout",
       "text": [
        "/paulsen/Experiments/20130202_PREDICTHD_Results/FMRI_HD_024/0135/52907/ACCUMULATED_POSTERIORS\n",
        "(GM + WM)ICV = 0.8119\n",
        "\n"
       ]
      }
     ],
     "prompt_number": 82
    },
    {
     "cell_type": "raw",
     "metadata": {},
     "source": [
      "import pinc\n",
      "connection = pinc.connectToPostgres()\n",
      "isHeader = True\n",
      "with open('/raid0/homes/dmwelch/Desktop/trackon_tissue_mask_bkp.csv', 'r') as fid:\n",
      "    for line in fid.readlines():\n",
      "        if not isHeader:\n",
      "            values = line.strip('\\n').split(',')\n",
      "            values.append(True)\n",
      "            cursor = connection.cursor()\n",
      "            try:\n",
      "                sqlFid = open('/raid0/homes/dmwelch/Desktop/trackon_tissue_masks.sql', 'a')\n",
      "                ### HACK: cursor.execute() doesn't work, but manual insertion does!\n",
      "                sqlFid.write(cursor.mogrify(\"SELECT add_measurements(%s, %s, %s, %s, %s, %s, %s);\", tuple(values)))\n",
      "                sqlFid.close()\n",
      "                ### END HACK\n",
      "                cursor.close()\n",
      "            except Exception, err:\n",
      "                print cursor.query\n",
      "                cursor.close()\n",
      "                connection.close()\n",
      "                raise\n",
      "        else:\n",
      "            isHeader = False\n",
      "connection.close()\n",
      "print \"Done\""
     ]
    }
   ],
   "metadata": {}
  }
 ]
}