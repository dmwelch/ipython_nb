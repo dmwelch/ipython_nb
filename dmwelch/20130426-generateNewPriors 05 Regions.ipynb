{
 "metadata": {
  "name": "20130426-generateNewPriors 05 Regions"
 },
 "nbformat": 3,
 "nbformat_minor": 0,
 "worksheets": [
  {
   "cells": [
    {
     "cell_type": "code",
     "collapsed": false,
     "input": [
      "import os\n",
      "import sys\n",
      "\n",
      "import SimpleITK as sitk\n",
      "notebookDir = os.path.dirname(os.getcwd())\n",
      "sys.path.insert(0, os.path.join(notebookDir, 'common'))\n",
      "sys.path.insert(1, os.path.join(notebookDir, 'SimpleITK-Notebooks'))\n",
      "\n",
      "import pinc\n",
      "import myshow as sitk_show\n",
      "\n",
      "def show(img, **kwds):\n",
      "    size = img.GetSize()\n",
      "    if kwds == {}:\n",
      "        zslices=range(size[2]/10,size[2]-size[2]/10,size[2]/10)\n",
      "        sitk_show.myshow3d(img, xslices=[], yslices=[], zslices=zslices, dpi=30)\n",
      "        return 0\n",
      "    for key, value in kwds.items():\n",
      "        if key.lower() == 'x':\n",
      "            if value == []:\n",
      "                xslices = range(50,size[0]-50,10)\n",
      "            else: \n",
      "                xslices = value\n",
      "        elif key.lower() == 'y':\n",
      "            if value == []:\n",
      "                yslices=range(50,size[1]-50,20)\n",
      "            else: \n",
      "                yslices = value\n",
      "        elif key.lower() == 'z':\n",
      "            if value == []:\n",
      "                zslices=range(120,size[2]-120,20)\n",
      "            else:\n",
      "                zslices = value\n",
      "        else:\n",
      "            raise Exception(\"Unknown dimension\")\n",
      "    sitk_show.myshow3d(img, xslices=xslices, yslices=yslices, zslices=zslices, dpi=30)\n",
      "    return 0\n",
      "\n",
      "def filesplit(filename):\n",
      "    \"\"\" \n",
      "    Split filename by the first '.' in order to append to filename (not extension)\n",
      "    \"\"\"\n",
      "    flist = filename.split('.')\n",
      "    if len(flist) == 2:\n",
      "        return flist[0], '.' + flist[1]\n",
      "    else:\n",
      "        return flist[0], '.' + '.'.join(flist[1:])"
     ],
     "language": "python",
     "metadata": {},
     "outputs": [],
     "prompt_number": 1
    },
    {
     "cell_type": "code",
     "collapsed": false,
     "input": [
      "experimentDir = os.path.join('/paulsen', 'Experiments', '20130426-generateNewPriors')\n",
      "resampledDir = os.path.join(experimentDir, 'summed_1456', 'resampled')\n",
      "os.listdir(resampledDir)"
     ],
     "language": "python",
     "metadata": {},
     "outputs": [
      {
       "output_type": "pyout",
       "prompt_number": 3,
       "text": [
        "['AIR_03.nii.gz',\n",
        " 'resamp_thalamus_left_summed_1456_075.nrrd',\n",
        " 'POSTERIOR_CRBLGM_summed_1456_resamp_075.nrrd',\n",
        " 'normed',\n",
        " 'resamp_POSTERIOR_NOTCSF_summed_1456_075.nrrd',\n",
        " 'resamp_putamen_right_summed_1456_075.nrrd',\n",
        " 'resamp_POSTERIOR_VB_summed_1456_075.nrrd',\n",
        " 'resamp_accumben_right_summed_1456_075.nrrd',\n",
        " 'ACCUMULATE_POST_GM_summed_1456_resamp_075.nrrd',\n",
        " 'resamp_caudate_right_summed_1456_075.nrrd',\n",
        " 'resamp_POSTERIOR_NOTWM_summed_1456_075.nrrd',\n",
        " 'resamp_POSTERIOR_NOTVB_summed_1456_075.nrrd',\n",
        " 'POSTERIOR_NOTGM_summed_1456_resamp_075.nrrd',\n",
        " 'resamp_hippocampus_left_summed_1456_075.nrrd',\n",
        " 'resamp_thalamus_right_summed_1456_075.nrrd',\n",
        " 'resamp_POSTERIOR_AIR_summed_1456_075.nrrd',\n",
        " 'smooth_AIR.nii.gz',\n",
        " 'resamp_POSTERIOR_WM_summed_1456_075.nrrd',\n",
        " 'resamp_accumben_left_summed_1456_075.nrrd',\n",
        " 'resamp_POSTERIOR_CRBLWM_summed_1456_075.nrrd',\n",
        " 'resamp_hippocampus_right_summed_1456_075.nrrd',\n",
        " 'resamp_caudate_left_summed_1456_075.nrrd',\n",
        " 'normalized',\n",
        " 'POSTERIOR_SURFGM_summed_1456_resamp_075.nrrd',\n",
        " 'cerebellum',\n",
        " 'resamp_globus_left_summed_1456_075.nrrd',\n",
        " 'resamp_globus_right_summed_1456_075.nrrd',\n",
        " 'resamp_putamen_left_summed_1456_075.nrrd',\n",
        " 'resamp_POSTERIOR_CSF_summed_1456_075.nrrd']"
       ]
      }
     ],
     "prompt_number": 3
    },
    {
     "cell_type": "markdown",
     "metadata": {},
     "source": [
      "# Basal Ganglia #\n",
      "\n",
      "Sum the caudate, accumbens, and putamen into a new region file"
     ]
    },
    {
     "cell_type": "code",
     "collapsed": false,
     "input": [
      "bgFiles = ['resamp_putamen_right_summed_1456_075.nrrd',\n",
      "           'resamp_putamen_left_summed_1456_075.nrrd',\n",
      "           'resamp_caudate_right_summed_1456_075.nrrd',\n",
      "           'resamp_caudate_left_summed_1456_075.nrrd',\n",
      "           'resamp_accumben_right_summed_1456_075.nrrd',\n",
      "           'resamp_accumben_left_summed_1456_075.nrrd']\n",
      "count = 0\n",
      "for fname in bgFiles:\n",
      "    fullname = os.path.join(resampledDir, fname)\n",
      "    if os.path.exists(fullname):\n",
      "        if count == 0:\n",
      "            image = sitk.ReadImage(fullname)\n",
      "        else:\n",
      "            image += sitk.ReadImage(fullname)\n",
      "        count += 1\n",
      "                      "
     ],
     "language": "python",
     "metadata": {},
     "outputs": [],
     "prompt_number": 5
    },
    {
     "cell_type": "markdown",
     "metadata": {},
     "source": [
      "There is overlap between the accumbens and caudate and between the caudate and putamen that make the result have pixels with a probability > 1.0\n",
      "Scaling would be inappropriate, so we will clamp the ceiling of the image values to 1.0"
     ]
    },
    {
     "cell_type": "code",
     "collapsed": false,
     "input": [
      "def clampImage(image, lowerValue=0.0, upperValue=1.0):\n",
      "    array = sitk.GetArrayFromImage(image)\n",
      "    clamped_array = numpy.where(array > upperValue, numpy.ones(array.shape) * upperValue, array)\n",
      "    clamped_array = numpy.where(clamped_array < lowerValue, numpy.ones(array.shape) * lowerValue, clamped_array)\n",
      "    clamped_image = sitk.GetImageFromArray(clamped_array)\n",
      "    clamped_image.CopyInformation(image)\n",
      "    return clamped_image\n"
     ],
     "language": "python",
     "metadata": {},
     "outputs": [],
     "prompt_number": 14
    },
    {
     "cell_type": "code",
     "collapsed": false,
     "input": [
      "new_clamp = clampImage(image)\n",
      "\n",
      "sitk.WriteImage(new_clamp, os.path.join(resampledDir, 'resamp_basal_ganglia.nii.gz'))"
     ],
     "language": "python",
     "metadata": {},
     "outputs": [],
     "prompt_number": 16
    },
    {
     "cell_type": "markdown",
     "metadata": {},
     "source": [
      "# Sum left/right #"
     ]
    },
    {
     "cell_type": "code",
     "collapsed": false,
     "input": [
      "regions = {'hippocampus':['resamp_hippocampus_right_summed_1456_075.nrrd',\n",
      "                          'resamp_hippocampus_left_summed_1456_075.nrrd'],\n",
      "           'globus':['resamp_globus_left_summed_1456_075.nrrd',\n",
      "                     'resamp_globus_right_summed_1456_075.nrrd'],\n",
      "           'thalamus':['resamp_thalamus_right_summed_1456_075.nrrd',\n",
      "                       'resamp_thalamus_left_summed_1456_075.nrrd',]}\n",
      "for key, value in regions.items():\n",
      "    image1 = sitk.ReadImage(os.path.join(resampledDir, value[0]))\n",
      "    image2 = sitk.ReadImage(os.path.join(resampledDir, value[1]))\n",
      "    new_image = clampImage(image1 + image2)\n",
      "    sitk.WriteImage(new_image, os.path.join(resampledDir, 'resamp_' + key + '.nii.gz'))\n",
      "    "
     ],
     "language": "python",
     "metadata": {},
     "outputs": [],
     "prompt_number": 17
    },
    {
     "cell_type": "code",
     "collapsed": false,
     "input": [],
     "language": "python",
     "metadata": {},
     "outputs": []
    }
   ],
   "metadata": {}
  }
 ]
}