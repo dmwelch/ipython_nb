{
 "metadata": {
  "name": "Reference"
 },
 "nbformat": 3,
 "nbformat_minor": 0,
 "worksheets": [
  {
   "cells": [
    {
     "cell_type": "heading",
     "level": 1,
     "metadata": {},
     "source": [
      "Subprocess"
     ]
    },
    {
     "cell_type": "code",
     "collapsed": false,
     "input": [
      "from subprocess import *\n",
      "# call(['pwd'])\n",
      "p1 = Popen([\"ls\"], stdout=PIPE)\n",
      "p2 = Popen([\"grep\", \"ipynb\"], stdin=p1.stdout, stdout=PIPE)\n",
      "# print p1.stdout.readlines() ### BUG: Weird behavior when this is uncommented...\n",
      "p1.stdout.close()  # Allow p1 to receive a SIGPIPE if p2 exits.\n",
      "output, outerr = p2.communicate()\n",
      "p2.stdout.close()\n",
      "print \"Output:\", output\n",
      "print \"Outerr:\", outerr\n",
      "q = Popen([\"ls\", \"-al\", \"-1\"], stdout=PIPE)#, stderr=STDOUT)\n",
      "print \"stdout:\", q.stdout.readlines()"
     ],
     "language": "python",
     "metadata": {},
     "outputs": [
      {
       "output_type": "stream",
       "stream": "stdout",
       "text": [
        "Output: 01 Image Basics.ipynb\n",
        "02 Pythonic Image.ipynb\n",
        "10 matplotlib's imshow.ipynb\n",
        "20 Expand With Interpolators.ipynb\n",
        "21 Transform and Resampling.ipynb\n",
        "30 Segmentation Region Growing.ipynb\n",
        "31 Levelset Segementation.ipynb\n",
        "AntsConvertNAC2IA_Atlas_labels.ipynb\n",
        "BRAINSTools 01 - output documentation .ipynb\n",
        "BRAINSTools 02 brains package - metrics.ipynb\n",
        "CleanUpPosteriorsFromAllData.ipynb\n",
        "DWIPrecision.ipynb\n",
        "Developer-Nipype.ipynb\n",
        "ErodeBrainMasks.ipynb\n",
        "FreeSurfer autorecon1 replacement.ipynb\n",
        "GM_Mask_For_Regina.ipynb\n",
        "ParallelDWIPrototyping-Copy0.ipynb\n",
        "ParallelDWIPrototyping.ipynb\n",
        "Postgres_updateDerivedCounts.ipynb\n",
        "Reference.ipynb\n",
        "SGE usage plotting.ipynb\n",
        "Scalar measures - distance.ipynb\n",
        "SimpleITK DemoSlot.ipynb\n",
        "Untitled0.ipynb\n",
        "binaryBrainMask20130405.ipynb\n",
        "gtractConcatDWI.ipynb\n",
        "labelVolumes.ipynb~\n",
        "mergeCSVs.ipynb\n",
        "plotting example.ipynb\n",
        "restingState_writeMat_debug.ipynb\n",
        "rs_fmriNotebook.ipynb\n",
        "tissueMaskIntensityStatistics20130201.ipynb\n",
        "tissueMaskVolumeCalculation20130404.ipynb\n",
        "volumeMeasurements20130408.ipynb\n",
        "\n",
        "Outerr: None\n",
        "stdout: ['.\\n', '..\\n', '01 Image Basics.ipynb\\n', '02 Pythonic Image.ipynb\\n', \"10 matplotlib's imshow.ipynb\\n\", '20 Expand With Interpolators.ipynb\\n', '21 Transform and Resampling.ipynb\\n', '30 Segmentation Region Growing.ipynb\\n', '31 Levelset Segementation.ipynb\\n', 'AntsConvertNAC2IA_Atlas_labels.ipynb\\n', 'BRAINSTools 01 - output documentation .ipynb\\n', 'BRAINSTools 02 brains package - metrics.ipynb\\n', 'CleanUpPosteriorsFromAllData.ipynb\\n', 'DWIPrecision.ipynb\\n', 'Developer-Nipype.ipynb\\n', 'Developer-Nipype.py\\n', 'ErodeBrainMasks.ipynb\\n', 'FreeSurfer autorecon1 replacement.ipynb\\n', 'GM_Mask_For_Regina.ipynb\\n', 'ParallelDWIPrototyping-Copy0.ipynb\\n', 'ParallelDWIPrototyping.ipynb\\n', 'Postgres_updateDerivedCounts.ipynb\\n', 'Reference.ipynb\\n', 'Reference.py\\n', 'SGE usage plotting-Copy0.py\\n', 'SGE usage plotting.ipynb\\n', 'SGE usage plotting.py\\n', 'Scalar measures - distance.ipynb\\n', 'Scalar_measures_distance.py\\n', 'Scalar_measures_distance.py~\\n', 'SimpleITK DemoSlot.ipynb\\n', 'SimpleITK DemoSlot.py\\n', 'Untitled0.ipynb\\n', 'binaryBrainMask20130405.ipynb\\n', 'binaryBrainMask20130405.py\\n', 'binaryBrainMask20130405.py~\\n', 'csfPerSumOfGreyAndWhiteMatter.csv\\n', 'export\\n', 'gtractConcatDWI.ipynb\\n', 'icv.csv\\n', 'img\\n', 'labelVolumes.ipynb~\\n', 'labelVolumes_writeToDB.py\\n', 'labelVolumes_writeToDB.py~\\n', 'mergeCSVs.ipynb\\n', 'plotting example.ipynb\\n', 'restingState_writeMat_debug.ipynb\\n', 'rs_fmriNotebook.ipynb\\n', 'rs_fmriNotebook.py\\n', 'test.py\\n', 'tissueMaskIntensityStatistics20130201.ipynb\\n', 'tissueMaskVolumeCalculation20130404.ipynb\\n', 'volumeMeasurements20130408.ipynb\\n']\n"
       ]
      }
     ],
     "prompt_number": 20
    },
    {
     "cell_type": "heading",
     "level": 1,
     "metadata": {},
     "source": [
      "Argparse"
     ]
    },
    {
     "cell_type": "code",
     "collapsed": false,
     "input": [
      "import argparse\n",
      "temp = argparse.ArgumentParser()\n",
      "temp.add_argument('--foo')\n",
      "kwds = vars(temp.parse_args(['--foo', 'BAR']))"
     ],
     "language": "python",
     "metadata": {},
     "outputs": [],
     "prompt_number": 95
    },
    {
     "cell_type": "heading",
     "level": 1,
     "metadata": {},
     "source": [
      "    *args and **kwds"
     ]
    },
    {
     "cell_type": "code",
     "collapsed": false,
     "input": [
      "class Test(object):\n",
      "    def __init__(self, *args, **kwds):\n",
      "        self.a = 5\n",
      "        keys = ['a', 'b', 'c', 'd']\n",
      "        keys.reverse()\n",
      "        args = list(args)\n",
      "        for key in keys:\n",
      "            # print eval(\"kwds.pop('{0}', None)\".format(key))\n",
      "            value = kwds.pop(key, None)\n",
      "            if value is None:\n",
      "                value = args.pop()\n",
      "            self.__setattr__(key, value)\n",
      "        super(Test, self).__init__()\n",
      "        print \"Test.a: \", self.a\n",
      "        print \"Test.b: \", self.b\n",
      "        print args\n",
      "        print kwds\n",
      "        \n",
      "        \n",
      "def test(*args, **kwds):\n",
      "    print 'args', args\n",
      "    print 'kwds: ', kwds\n",
      "\n",
      "\n",
      "args = (1,2,3)\n",
      "kwds = {'foo': 'BAR'}\n",
      "\n",
      "test(6, 5, 4, foo='bar')\n",
      "test(*args, **kwds)\n",
      "\n",
      "Test('z', 'y', 'x', a=1, c=4, d=5, e=3)"
     ],
     "language": "python",
     "metadata": {},
     "outputs": [
      {
       "output_type": "stream",
       "stream": "stdout",
       "text": [
        "args (6, 5, 4)\n",
        "kwds:  {'foo': 'bar'}\n",
        "args (1, 2, 3)\n",
        "kwds:  {'foo': 'BAR'}\n",
        "Test.a:  1\n",
        "Test.b:  x\n",
        "['z', 'y']\n",
        "{'e': 3}\n"
       ]
      },
      {
       "output_type": "pyout",
       "prompt_number": 39,
       "text": [
        "<__main__.Test at 0x10d2a9dd0>"
       ]
      }
     ],
     "prompt_number": 39
    },
    {
     "cell_type": "markdown",
     "metadata": {},
     "source": [
      "# I/O"
     ]
    },
    {
     "cell_type": "code",
     "collapsed": false,
     "input": [
      "with open(\"test.csv\", 'w') as fid:\n",
      "    fid.write('experiment, session, label, measurement_type, value, tool\\n')\n",
      "    fid.write('20130202_PREDICTHD_Results,52907,white_matter,mm_3,529484,tissueMaskVolumeCalculation-20130604\\n')\n",
      "# file is closed\n",
      "\n",
      "with open(\"test.csv\", 'r') as fid:\n",
      "    output = fid.readlines()\n",
      "# file is closed    \n",
      "count = 0\n",
      "for line in output:\n",
      "    print \"Line {:d}: {!r}\".format(count, line)\n",
      "    count += 1"
     ],
     "language": "python",
     "metadata": {},
     "outputs": [
      {
       "output_type": "stream",
       "stream": "stdout",
       "text": [
        "Line 0: 'experiment, session, label, measurement_type, value, tool\\n'\n",
        "Line 1: '20130202_PREDICTHD_Results,52907,white_matter,mm_3,529484,tissueMaskVolumeCalculation-20130604\\n'\n"
       ]
      }
     ],
     "prompt_number": 18
    },
    {
     "cell_type": "markdown",
     "metadata": {},
     "source": [
      "# csv"
     ]
    },
    {
     "cell_type": "code",
     "collapsed": false,
     "input": [
      "import csv\n",
      "filename = 'test.csv'\n",
      "csvFile = open(filename, 'w')\n",
      "dWriter = csv.DictWriter(csvFile, \n",
      "                         ['projectid', 'subjectid', 'sessionid', \n",
      "                          'Structure', 'LabelCode', 'Volume_mm3', \"FileName\"], \n",
      "                         restval='', extrasaction='raise', dialect='excel')\n",
      "dWriter.writeheader()\n",
      "csvFile.close()\n",
      "\n",
      "csvFile = open(filename, 'a')\n",
      "writeDictionary = {}\n",
      "writeDictionary['Volume_mm3'] = structVolume\n",
      "writeDictionary['Structure'] = name\n",
      "writeDictionary['LabelCode'] = value\n",
      "writeDictionary['FileName'] = os.path.abspath(labelImageName)\n",
      "writeDictionary['projectid'] = project\n",
      "writeDictionary['subjectid'] = subject\n",
      "writeDictionary['sessionid'] = session\n",
      "dWriter.writerow(writeDictionary)\n",
      "csvFile.close()\n",
      "\n",
      "with open('eggs.csv', 'rb') as csvfile:\n",
      "     spamreader = csv.reader(csvfile, delimiter=' ', quotechar='|')\n",
      "     for row in spamreader:\n",
      "         print ', '.join(row)"
     ],
     "language": "python",
     "metadata": {},
     "outputs": []
    },
    {
     "cell_type": "heading",
     "level": 1,
     "metadata": {},
     "source": [
      "tempfile"
     ]
    },
    {
     "cell_type": "code",
     "collapsed": false,
     "input": [
      "import tempfile\n",
      "test = tempfile.NamedTemporaryFile()\n",
      "print test.name\n",
      "with open(test.name, 'w') as fid:\n",
      "    fid.write('This is a test')\n",
      "with open(test.name, 'r') as fid:\n",
      "    print fid.readlines()"
     ],
     "language": "python",
     "metadata": {},
     "outputs": [
      {
       "output_type": "stream",
       "stream": "stdout",
       "text": [
        "/var/folders/60/p1smm36d6hl_dfxdsbwtrpxr000_8x/T/tmpVzL6Eb\n",
        "['This is a test']\n"
       ]
      }
     ],
     "prompt_number": 6
    },
    {
     "cell_type": "heading",
     "level": 1,
     "metadata": {},
     "source": [
      "re"
     ]
    },
    {
     "cell_type": "code",
     "collapsed": false,
     "input": [
      "import re\n",
      "\n",
      "test = '1234'\n",
      "found = re.search(r'P?[0-9]{4}', test).group(0)\n",
      "ptrn = re.search(r'[0-9]{1}(P?<ptrn>[0-9]{1})[0-9]{2}', test)\n",
      "print ptrn\n",
      "assert found == test\n"
     ],
     "language": "python",
     "metadata": {},
     "outputs": [
      {
       "output_type": "stream",
       "stream": "stdout",
       "text": [
        "None\n"
       ]
      }
     ],
     "prompt_number": 11
    },
    {
     "cell_type": "markdown",
     "metadata": {},
     "source": [
      "# os\n",
      "### os.walk()\n",
      "\n",
      "    for basedir, dirs, files in os.walk('/'):\n",
      "        if basedir = '/raid0/homes/dmwelch':\n",
      "            print \"I'm home!\"\n",
      "        elif 'dmwelch' in dirs or 'welchdm' in dirs:\n",
      "            print \"I'm on the town!\"\n",
      "        elif 'init.el' in files:\n",
      "            assert basedir == '/raid0/homes/dmwelch/.emacs.d'\n",
      "            assert 'yasnippet' in dirs\n",
      "        else:\n",
      "            pass"
     ]
    },
    {
     "cell_type": "markdown",
     "metadata": {},
     "source": [
      "# PostgresSQL"
     ]
    },
    {
     "cell_type": "code",
     "collapsed": false,
     "input": [
      "import psycopg2 as sql\n",
      "connection = sql.connect(host='psych-db.psychiatry.uiowa.edu',port=5432, database='AutoWorkUp', \n",
      "                         user='autoworkup', password='...')\n",
      "cursor = connection.cursor()\n",
      "cursor.arraysize = 0\n",
      "\n",
      "cursor.execute(\"\\\n",
      "INSERT INTO some_table (column, column1) \\\n",
      "VALUES (%s,%s);\", (value1, value2))\n",
      "connection.commit() # <--- DON'T FORGET!!!\n",
      "\n",
      "connection.cursor().execute(\"\\\n",
      "INSERT INTO temp_expanded_volumes (\\\n",
      "  _analysis, _project, _subject, _session, crblgm, crbrgm, crblwm, crbrwm, csf, vb) \\\n",
      "VALUES (\\\n",
      "  %(_analysis)s, %(_project)s, %(_subject)s, %(_session)s, \\\n",
      "  %(crblgm)s, %(crbrgm)s, %(crblwm)s, %(crbrwm)s, %(csf)s, %(vb)s);\", rowDict)\n",
      "connection.commit() # <--- DON'T FORGET!!!\n",
      "\n",
      "cursor.close()\n",
      "connection.close()"
     ],
     "language": "python",
     "metadata": {},
     "outputs": []
    }
   ],
   "metadata": {}
  }
 ]
}