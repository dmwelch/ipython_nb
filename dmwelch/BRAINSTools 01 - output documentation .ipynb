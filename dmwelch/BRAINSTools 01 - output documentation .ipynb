{
 "metadata": {
  "name": "BRAINSTools 01 - output documentation "
 },
 "nbformat": 3,
 "nbformat_minor": 0,
 "worksheets": [
  {
   "cells": [
    {
     "cell_type": "code",
     "collapsed": false,
     "input": [
      "import sys\n",
      "sys.path.insert(1, '/ipldev/scratch/welchdm/bld/rs-fMRI/BSA/SimpleITK-build/lib/')\n",
      "sys.path.insert(2, '/ipldev/scratch/welchdm/bld/rs-fMRI/BSA/SimpleITK-build/bin/')\n",
      "sys.path.insert(3, '/ipldev/scratch/welchdm/bld/rs-fMRI/BSA/SimpleITK-build/Wrapping/')"
     ],
     "language": "python",
     "metadata": {},
     "outputs": [],
     "prompt_number": 2
    },
    {
     "cell_type": "code",
     "collapsed": false,
     "input": [
      "import matplotlib\n",
      "matplotlib.use('Agg')\n",
      "# import pylab\n",
      "import matplotlib.pylab as plt\n",
      "import SimpleITK as sitk\n",
      "# print sitk.__file__"
     ],
     "language": "python",
     "metadata": {},
     "outputs": [],
     "prompt_number": 3
    },
    {
     "cell_type": "code",
     "collapsed": false,
     "input": [
      "def myshow(img, title=None, margin=0.05, dpi=80, factor=2):\n",
      "    nda = sitk.GetArrayFromImage(img)\n",
      "    spacing = img.GetSpacing()\n",
      "    \n",
      "    if nda.ndim == 3:\n",
      "        # fastest dim, either component or x\n",
      "        c = nda.shape[-1]\n",
      "        \n",
      "        # the the number of components is 3 or 4 consider it an RGB image\n",
      "        if not c in (3,4):\n",
      "            nda = nda[nda.shape[0]//factor,:,:]\n",
      "    \n",
      "    elif nda.ndim == 4:\n",
      "        c = nda.shape[-1]\n",
      "        \n",
      "        if not c in (3,4):\n",
      "            raise Runtime(\"Unable to show 3D-vector Image\")\n",
      "            \n",
      "        # take a z-slice\n",
      "        nda = nda[nda.shape[0]//factor,:,:,:]\n",
      "            \n",
      "    ysize = nda.shape[0]\n",
      "    xsize = nda.shape[1]\n",
      "   \n",
      "    \n",
      "    # Make a figure big enough to accomodate an axis of xpixels by ypixels\n",
      "    # as well as the ticklabels, etc...\n",
      "    figsize = (1 + margin) * ysize / dpi, (1 + margin) * xsize / dpi\n",
      "\n",
      "    fig = plt.figure(figsize=figsize, dpi=dpi)\n",
      "    # Make the axis the right size...\n",
      "    ax = fig.add_axes([margin, margin, 1 - 2*margin, 1 - 2*margin])\n",
      "    \n",
      "    extent = (0, xsize*spacing[1], ysize*spacing[0], 0)\n",
      "    \n",
      "    t = ax.imshow(nda, extent=extent, interpolation=None)\n",
      "    \n",
      "    if nda.ndim == 2:\n",
      "        t.set_cmap(\"gray\")\n",
      "    \n",
      "    if(title):\n",
      "        plt.title(title)\n",
      "   \n",
      "        fig.savefig('/raid0/homes/dmwelch/Desktop/TrackOnImages/%s.png' % title.split('.')[0])\n"
     ],
     "language": "python",
     "metadata": {},
     "outputs": [],
     "prompt_number": 4
    },
    {
     "cell_type": "code",
     "collapsed": false,
     "input": [
      "def myanimate(img, title=None, margin=0.05, dpi=80, factor=2):\n",
      "    nda = sitk.GetArrayFromImage(img)\n",
      "    spacing = img.GetSpacing()\n",
      "    files = []\n",
      "    \n",
      "    # fastest dim, either component or x\n",
      "    c = nda.shape[-1]\n",
      "    \n",
      "    ysize = nda.shape[0]\n",
      "    xsize = nda.shape[1]\n",
      "            \n",
      "    # Make a figure big enough to accomodate an axis of xpixels by ypixels\n",
      "    # as well as the ticklabels, etc...\n",
      "    figsize = (1 + margin) * ysize / dpi, (1 + margin) * xsize / dpi\n",
      "    \n",
      "    fig = plt.figure(figsize=figsize, dpi=dpi)\n",
      "            \n",
      "    # Make the axis the right size...\n",
      "    ax = fig.add_axes([margin, margin, 1 - 2*margin, 1 - 2*margin], adjustable='datalim')\n",
      "    \n",
      "    extent = (0, xsize*spacing[1], ysize*spacing[0], 0)\n",
      "\n",
      "    if nda.ndim == 3:\n",
      "        # the the number of components is 3 or 4 consider it an RGB image\n",
      "        if not c in (3,4):\n",
      "            stepsize = int(nda.shape[0]//factor)\n",
      "            # print 'Range: %d\\nStep size: %d' % (nda.shape[0], factor)\n",
      "            \n",
      "            for step in range(1, factor + 1):\n",
      "                index = step * stepsize; # print step, index\n",
      "                \n",
      "                nda1 = nda[index, :, :]\n",
      "\n",
      "                t = ax.imshow(nda1, extent=extent, aspect='auto', interpolation=None)\n",
      "                                \n",
      "                if nda1.ndim == 2:\n",
      "                    if title.find('/fixed_') > -1 or title.find('abel') > -1:\n",
      "                        t.set_cmap(\"spectral\")\n",
      "                    else:\n",
      "                        t.set_cmap(\"gray\")\n",
      "    \n",
      "                # if(title):\n",
      "                #     plt.title(title)\n",
      "   \n",
      "                fname = '/raid0/homes/dmwelch/Desktop/TrackOnImages/%s_%03d.png' % (title.split('.')[0], step)\n",
      "                fig.savefig(fname)\n",
      "                files.append(fname)\n",
      "                \n",
      "    \"\"\"elif nda.ndim == 4:\n",
      "        if not c in (3,4):\n",
      "            raise Runtime(\"Unable to show 3D-vector Image\")\n",
      "            \n",
      "        # take a z-slice\n",
      "        for step in range(1, factor-1):\n",
      "            nda = nda[(step * nda.shape[0])//factor,:,:,:]\n",
      "            \n",
      "            ysize = nda.shape[0]\n",
      "            xsize = nda.shape[1]\n",
      "            # Make a figure big enough to accomodate an axis of xpixels by ypixels\n",
      "            # as well as the ticklabels, etc...\n",
      "            figsize = (1 + margin) * ysize / dpi, (1 + margin) * xsize / dpi\n",
      "\n",
      "            fig = plt.figure(figsize=figsize, dpi=dpi)\n",
      "            # Make the axis the right size...\n",
      "            ax = fig.add_axes([margin, margin, 1 - 2*margin, 1 - 2*margin])\n",
      "    \n",
      "            extent = (0, xsize*spacing[1], ysize*spacing[0], 0)\n",
      "    \n",
      "            t = ax.imshow(nda, extent=extent, interpolation=None)\n",
      "    \n",
      "            if nda.ndim == 2:\n",
      "                t.set_cmap(\"gray\")\n",
      "    \n",
      "            if(title):\n",
      "                plt.title(title)\n",
      "           \n",
      "            fname = '/raid0/homes/dmwelch/Desktop/TrackOnImages/%s_tmp_%03d.png' % (title.split('.')[0], step)\n",
      "            fig.savefig(fname)\n",
      "            files.append(fname)\"\"\"\n",
      "\n",
      "    # print 'Making movie %s.mp4' % title.split('.')[0]\n",
      "    # os.system(\"rm -f /raid0/homes/dmwelch/Desktop/TrackOnImages/{filename}.mp4\".format(filename=title.split('.')[0]))\n",
      "    # os.system(\"ffmpeg -y -f image2 -r 1 -i /raid0/homes/dmwelch/Desktop/TrackOnImages/{filename}_\\%03d.png -vcodec mpeg4 -s 100x130 -r 24 /raid0/homes/dmwelch/Desktop/TrackOnImages/{filename}.mp4\".format(filename=title.split('.')[0]))\n"
     ],
     "language": "python",
     "metadata": {},
     "outputs": [],
     "prompt_number": 5
    },
    {
     "cell_type": "code",
     "collapsed": false,
     "input": [
      "import os.path\n",
      "\n",
      "mylist = !ls /hjohnson/TrackOn/Experiments/20130109_TrackOn_Results/HDNI_004/677054536/677054536_20090505_30/*/*\n",
      "for filename in mylist:\n",
      "    dirname_old, basename = os.path.split(filename)\n",
      "    _, dirname = os.path.split(dirname_old)\n",
      "    title = dirname + os.path.sep + basename\n",
      "    if not basename.split('.')[-1] in ['fcsv', 'h5', 'csv']:\n",
      "        try:\n",
      "            img = sitk.ReadImage(filename)\n",
      "            if not os.path.exists('/raid0/homes/dmwelch/Desktop/TrackOnImages/' + dirname):\n",
      "                print \"Making directory: \" + '/raid0/homes/dmwelch/Desktop/TrackOnImages/' + dirname\n",
      "                os.mkdir('/raid0/homes/dmwelch/Desktop/TrackOnImages/' + dirname)\n",
      "        except Exception, err:\n",
      "            print filename\n",
      "            raise err\n",
      "        #myshow(img, title=title, dpi=10)\n",
      "        myanimate(img, title=title, dpi=20, factor=20)\n",
      "    else:\n",
      "        print \"*** Not image: \" + title + \" ***\""
     ],
     "language": "python",
     "metadata": {},
     "outputs": [
      {
       "output_type": "stream",
       "stream": "stdout",
       "text": [
        "Making directory: /raid0/homes/dmwelch/Desktop/TrackOnImages/ACCUMULATED_POSTERIORS\n",
        "*** Not image: ACPCAlign/BCD_ACPC_Landmarks.fcsv ***"
       ]
      },
      {
       "output_type": "stream",
       "stream": "stdout",
       "text": [
        "\n",
        "*** Not image: ACPCAlign/BCD_Original.fcsv ***\n",
        "*** Not image: ACPCAlign/BCD_Original2ACPC_transform.h5 ***\n",
        "Making directory: /raid0/homes/dmwelch/Desktop/TrackOnImages/ACPCAlign"
       ]
      },
      {
       "output_type": "stream",
       "stream": "stdout",
       "text": [
        "\n",
        "*** Not image: ACPCAlign/landmarkInitializer_atlas_to_subject_transform.h5 ***"
       ]
      },
      {
       "output_type": "stream",
       "stream": "stdout",
       "text": [
        "\n",
        "Making directory: /raid0/homes/dmwelch/Desktop/TrackOnImages/AntsLabelWarpedToSubject"
       ]
      },
      {
       "output_type": "stream",
       "stream": "stdout",
       "text": [
        "\n",
        "*** Not image: CleanedDenoisedRFSegmentations/allLabels_seg.csv ***"
       ]
      },
      {
       "output_type": "stream",
       "stream": "stdout",
       "text": [
        "\n",
        "Making directory: /raid0/homes/dmwelch/Desktop/TrackOnImages/CleanedDenoisedRFSegmentations"
       ]
      },
      {
       "output_type": "stream",
       "stream": "stdout",
       "text": [
        "\n",
        "Making directory: /raid0/homes/dmwelch/Desktop/TrackOnImages/FREESURFER_PREP"
       ]
      },
      {
       "output_type": "stream",
       "stream": "stdout",
       "text": [
        "\n",
        "Making directory: /raid0/homes/dmwelch/Desktop/TrackOnImages/STAPLERFSegmentations"
       ]
      },
      {
       "output_type": "stream",
       "stream": "stdout",
       "text": [
        "\n",
        "Making directory: /raid0/homes/dmwelch/Desktop/TrackOnImages/TissueClassify"
       ]
      },
      {
       "output_type": "stream",
       "stream": "stdout",
       "text": [
        "\n",
        "*** Not image: TissueClassify/atlas_to_subject.h5 ***"
       ]
      },
      {
       "output_type": "stream",
       "stream": "stdout",
       "text": [
        "\n",
        "*** Not image: TissueClassify/atlas_to_subject_Inverse.h5 ***\n"
       ]
      }
     ],
     "prompt_number": 7
    },
    {
     "cell_type": "code",
     "collapsed": false,
     "input": [
      "!ls /raid0/homes/dmwelch/Desktop/TrackOnImages/"
     ],
     "language": "python",
     "metadata": {},
     "outputs": [
      {
       "output_type": "stream",
       "stream": "stdout",
       "text": [
        "\u001b[34mACCUMULATED_POSTERIORS\u001b[m\u001b[m\r\n"
       ]
      }
     ],
     "prompt_number": 13
    },
    {
     "cell_type": "code",
     "collapsed": false,
     "input": [
      "!ls /raid0/homes/dmwelch/Desktop/TrackOnImages/ACCUMULATED_POSTERIORS"
     ],
     "language": "python",
     "metadata": {},
     "outputs": [
      {
       "output_type": "stream",
       "stream": "stdout",
       "text": [
        "POSTERIOR_BACKGROUND_TOTAL.png     POSTERIOR_BACKGROUND_TOTAL_008.png\r\n",
        "POSTERIOR_BACKGROUND_TOTAL_000.png POSTERIOR_BACKGROUND_TOTAL_009.png\r\n",
        "POSTERIOR_BACKGROUND_TOTAL_001.png POSTERIOR_BACKGROUND_TOTAL_010.png\r\n",
        "POSTERIOR_BACKGROUND_TOTAL_002.png POSTERIOR_CSF_TOTAL.png\r\n",
        "POSTERIOR_BACKGROUND_TOTAL_003.png POSTERIOR_GLOBUS_TOTAL.png\r\n",
        "POSTERIOR_BACKGROUND_TOTAL_004.png POSTERIOR_GM_TOTAL.png\r\n",
        "POSTERIOR_BACKGROUND_TOTAL_005.png POSTERIOR_VB_TOTAL.png\r\n",
        "POSTERIOR_BACKGROUND_TOTAL_006.png POSTERIOR_WM_TOTAL.png\r\n",
        "POSTERIOR_BACKGROUND_TOTAL_007.png\r\n"
       ]
      }
     ],
     "prompt_number": 51
    },
    {
     "cell_type": "code",
     "collapsed": false,
     "input": [
      "range(1)\n",
      "\n"
     ],
     "language": "python",
     "metadata": {},
     "outputs": [
      {
       "output_type": "pyout",
       "prompt_number": 20,
       "text": [
        "[0]"
       ]
      }
     ],
     "prompt_number": 20
    },
    {
     "cell_type": "code",
     "collapsed": false,
     "input": [
      "int(2.0/2.01)"
     ],
     "language": "python",
     "metadata": {},
     "outputs": [
      {
       "output_type": "pyout",
       "prompt_number": 31,
       "text": [
        "0"
       ]
      }
     ],
     "prompt_number": 31
    },
    {
     "cell_type": "code",
     "collapsed": false,
     "input": [],
     "language": "python",
     "metadata": {},
     "outputs": []
    }
   ],
   "metadata": {}
  }
 ]
}