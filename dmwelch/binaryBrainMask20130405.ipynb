{
 "metadata": {
  "name": "binaryBrainMask20130405"
 },
 "nbformat": 3,
 "nbformat_minor": 0,
 "worksheets": [
  {
   "cells": [
    {
     "cell_type": "markdown",
     "metadata": {},
     "source": [
      "# Description #\n",
      "\n",
      "BRAINSTools does not currently create robust segmentations of brain labels, and sometimes the brain labels are __severely__ incorrect.  In the test cases, the labels are outside the brain mask (in the neck) and that affects our intercranial volume (ICV) measurements.  \n",
      "\n",
      "* * *\n",
      "\n",
      "## Purpose ##\n",
      "\n",
      "The purpose of this script is to remove these abborrent segmentations and calculate the resulting ICV volume.\n",
      "\n",
      "## Methods ##\n",
      "\n",
      "1.  Create a simple dilated mask of the [NAC atlas](http://nac.spl.harvard.edu/publications/item/view/1265)[1].\n",
      "2.  Remove the dilated mask inclusion of the eyes\n",
      "2.  BRAINSTools calculates the transforms between sessions to the atlas. We will apply the transform from atlas --> session on the mask\n",
      "3.  Using the mask, we will remove the labeled volumes outside the mask\n",
      "4.  Remove surviving 'islands' near valid labels by a binary mask of the result label image and masking by the largest region\n",
      "\n",
      "__This order is necessary to remove labels that might have been connected to the largest region mask initially, but are incorrect.__\n",
      "\n",
      "[1] Nota Bene: BRAINSTools atlas is slightly different than the original.  It can be found on the MIDAS site or in the `.../build/BRAINSTools/ReferenceAtlas-build/Atlas/` directory."
     ]
    },
    {
     "cell_type": "code",
     "collapsed": false,
     "input": [
      "test = [('PHD_024', '0246', '40641'),\n",
      "        ('PHD_024', '0815', '43578'),\n",
      "        ('PHD_024', '1154', '90302'),\n",
      "        ('PHD_045', '0472', '77148'),\n",
      "        ('PHD_045', '0472', '38345'),\n",
      "        ('PHD_048', '0164', '34395'),\n",
      "        ('PHD_050', '0424', '79770'),\n",
      "        ('PHD_180', '0784', '93114')]\n",
      "baseDir = '/paulsen/Experiments/20130202_PREDICTHD_Results'\n",
      "atlas = '/ipldev/scratch/welchdm/bld/BTools-20130312/ReferenceAtlas-build/Atlas/Atlas_20130106/template_nac_labels.nii.gz'\n",
      "nacFile = '/ipldev/scratch/welchdm/bld/BTools-20130312/ReferenceAtlas-build/Atlas/Atlas_20130106/hncma-atlas.nii.gz'\n",
      "avg_t1 = '/ipldev/scratch/welchdm/bld/BTools-20130312/ReferenceAtlas-build/Atlas/Atlas_20130106/template_t1.nii.gz'"
     ],
     "language": "python",
     "metadata": {},
     "outputs": [],
     "prompt_number": 4
    },
    {
     "cell_type": "code",
     "collapsed": false,
     "input": [
      "import os\n",
      "import sys\n",
      "sys.path.insert(1, '/ipldev/sharedopt/ipython_notebooks/common')\n",
      "sys.path.insert(1, '/ipldev/sharedopt/ipython_notebooks/SimpleITK-Notebooks')\n",
      "\n",
      "import SimpleITK as sitk\n",
      "import myshow as sitk_show\n",
      "import pinc\n",
      "from nipype.interfaces import ants"
     ],
     "language": "python",
     "metadata": {},
     "outputs": [],
     "prompt_number": 1
    },
    {
     "cell_type": "code",
     "collapsed": false,
     "input": [
      "def show(img, dims=['z']):\n",
      "    size = img.GetSize()\n",
      "    xslices = []\n",
      "    yslices = []\n",
      "    zslices = []\n",
      "    for index in dims:\n",
      "        if index.lower() == 'x':\n",
      "            xslices=range(50,size[0]-50,10)\n",
      "        elif index.lower() == 'y':\n",
      "            yslices=range(50,size[1]-50,20)\n",
      "        elif index.lower() == 'z':\n",
      "            zslices=range(50,size[2]-50,5)\n",
      "        else:\n",
      "            raise Exception(\"Unknown dimension\")\n",
      "    sitk_show.myshow3d(img, xslices=xslices, yslices=yslices, zslices=zslices, dpi=10)"
     ],
     "language": "python",
     "metadata": {},
     "outputs": [],
     "prompt_number": 53
    },
    {
     "cell_type": "code",
     "collapsed": true,
     "input": [
      "# Add AntsApplyTransform path to environment variable in a recoverable way\n",
      "import copy\n",
      "os.environ = temp\n",
      "temp = copy.deepcopy(os.environ)\n",
      "os.environ[\"PATH\"] += ':/ipldev/scratch/welchdm/bld/BTools-20130403/bin'\n",
      "# print os.environ[\"PATH\"]"
     ],
     "language": "python",
     "metadata": {},
     "outputs": [],
     "prompt_number": 5
    },
    {
     "cell_type": "code",
     "collapsed": false,
     "input": [
      "# Make the atlas mask\n",
      "labels = sitk.ReadImage(atlas)\n",
      "mask = sitk.BinaryThreshold(labels, 1.0)\n",
      "dilate = sitk.DilateObjectMorphology(mask, 10)\n",
      "nac = sitk.ReadImage(nacFile)\n",
      "# right eye = 4028\n",
      "# left eye = 4027\n",
      "eyes_mask = sitk.BinaryThreshold(nac, 4027, 4028)\n",
      "dilated_eyes = sitk.DilateObjectMorphology(eyes_mask, 6)\n",
      "full_mask = dilate * (1 - dilated_eyes)\n",
      "sitk.WriteImage(full_mask, '/tmp/atlasMask.nii.gz')\n",
      "# show(dilate)\n",
      "# show(full_mask)"
     ],
     "language": "python",
     "metadata": {},
     "outputs": [],
     "prompt_number": 85
    },
    {
     "cell_type": "code",
     "collapsed": true,
     "input": [
      "transformDir = 'SubjectToAtlasWarped'\n",
      "# transformFile = 'AtlasToSubject_InverseComposite.h5' \n",
      "test = [('PHD_024', '0246', '40641')]\n",
      "for record in test: # for base, dirs, _ in os.walk(baseDir):\n",
      "    # if 'TissueClassify' in dirs:\n",
      "    #     pathElements = os.path.split(base)\n",
      "    session = record[2] #     session = pathElements.pop()\n",
      "    subject = record[1] #     subject = pathElements.pop()\n",
      "    project = record[0] #     project = pathElements.pop()\n",
      "    experiment = '20130202_PREDICTHD_Results' #     experiment = pathElements.pop()\n",
      "    original = os.path.join(baseDir, project, subject, session, 'TissueClassify', 'fixed_brainlabels_seg.nii.gz')\n",
      "    transformRegex = os.path.join(baseDir, transformDir, session,'*.h5')\n",
      "    transformList = !ls {transformRegex}\n",
      "    registered = ants.ApplyTransforms()\n",
      "    registered.inputs.reference_image = original\n",
      "    registered.inputs.transformation_files = [transformList[0]] # ONLY USE THE FORWARD TRANSFORM!\n",
      "    registered.inputs.interpolation = 'NearestNeighbor' # For label file, for T1 use 'Linear'\n",
      "    # print registered.cmdline\n",
      "    registered.inputs.input_image = '/tmp/atlasMask.nii.gz' #atlas\n",
      "    registered.inputs.output_image = \"/tmp/registeredAtlasMask_%s.nii.gz\" % session ### TODO: Create filename variable # os.path.join(baseDir, project, subject, session, 'TissueClassify', 'registered_atlas_mask.nii.gz'))\n",
      "    registered.run()\n",
      "    \n",
      "    uncorrected = sitk.ReadImage(os.path.join(baseDir, project, subject, session, 'TissueClassify', 'fixed_brainlabels_seg.nii.gz'))\n",
      "    atlas_mask = sitk.Cast(sitk.ReadImage(registered.inputs.output_image), uncorrected.GetPixelIDValue())\n",
      "    # Remove the islands but keep the venous blood\n",
      "    opened = sitk.DilateObjectMorphology(sitk.ErodeObjectMorphology(sitk.BinaryThreshold(uncorrected * atlas_mask, 1.0), 1), 3)\n",
      "    sitk.WriteImage(opened, '/tmp/opened_final_%s.nii.gz' % session)\n",
      "    new_labels = opened * uncorrected\n",
      "    connected = sitk.ConnectedComponent(new_labels, True)\n",
      "    relabeled = sitk.RelabelComponent(connected)\n",
      "    final_mask = sitk.BinaryThreshold(relabeled, 1, 1)\n",
      "    sitk.WriteImage(uncorrected * final_mask, '/tmp/masked_fixed_brainlabels_seg_%s.nii.gz' % session) # os.path.join(baseDir, project, subject, session, 'TissueClassify', 'masked_fixed_brainlabels_seg.nii.gz'))"
     ],
     "language": "python",
     "metadata": {},
     "outputs": [
      {
       "output_type": "stream",
       "stream": "stdout",
       "text": [
        "['/paulsen/Experiments/20130202_PREDICTHD_Results/SubjectToAtlasWarped/40641/AtlasToSubject_Composite.h5']\n"
       ]
      }
     ],
     "prompt_number": 6
    },
    {
     "cell_type": "markdown",
     "metadata": {},
     "source": [
      "# Notes #\n",
      "\n",
      "* Hole-filling for ICV measurement (43578)\n",
      "* 93114 has _weird_ T1 & T2 registrations (possibly due to heavily biased scans?)\n",
      "* 34394 and 79770 have large venous blood regions (mainly at the posterior edge of the brain)"
     ]
    }
   ],
   "metadata": {}
  }
 ]
}