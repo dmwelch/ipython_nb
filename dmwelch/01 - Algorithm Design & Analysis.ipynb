{
 "metadata": {
  "name": "01 - Algorithm Design & Analysis"
 },
 "nbformat": 3,
 "nbformat_minor": 0,
 "worksheets": [
  {
   "cells": [
    {
     "cell_type": "markdown",
     "metadata": {},
     "source": [
      "# Question 1\n",
      "Download the text file here. The file contains all of the 100,000 integers between 1 and 100,000 (inclusive) in some order, with no integer repeated.\n",
      "\n",
      "Your task is to compute the number of inversions in the file given, where the ith row of the file indicates the ith entry of an array.\n",
      "Because of the large size of this array, you should implement the fast divide-and-conquer algorithm covered in the video lectures.\n",
      "\n",
      "_TIP: before submitting, first test the correctness of your program on some small test files or your own devising. Then post your best test cases to the discussion forums to help your fellow students!_"
     ]
    },
    {
     "cell_type": "code",
     "collapsed": false,
     "input": [
      "import math\n",
      "\n",
      "def mergeAndCount(left, right):\n",
      "    return array, count\n",
      "\n",
      "def fastDivideAndConquer(array):\n",
      "    if len(array) > 2:\n",
      "        index = len(array)//2\n",
      "        left, left_count = fastDivideAndConquer(array[:index])\n",
      "        right, right_count = fastDivideAndConquer(array[index:])\n",
      "        final = []\n",
      "        count = left_count + right_count\n",
      "        for k in range(len(left) + len(right)):\n",
      "            print \"Left: \", left,  \" Right: \", right\n",
      "            if len(right) == 0 or (len(left) > 0 and left[-1] < right[-1]):\n",
      "                final.append(left.pop())\n",
      "                count += 1\n",
      "            elif len(left) == 0 or (len(right) > 0 and left[-1] >= right[-1]):\n",
      "                final.append(right.pop())\n",
      "            else:\n",
      "                raise Exception(\"Unknown state!\")\n",
      "        final.reverse()        \n",
      "        print final, count\n",
      "        return final, count \n",
      "    else:\n",
      "        print array, 0\n",
      "        return array, 0\n"
     ],
     "language": "python",
     "metadata": {},
     "outputs": [],
     "prompt_number": 17
    },
    {
     "cell_type": "code",
     "collapsed": false,
     "input": [
      "test = [1, 3, 5, 2, 4, 6]\n",
      "sort, count = fastDivideAndConquer(test)\n",
      "# print sort, \" | \", count  # count == 3"
     ],
     "language": "python",
     "metadata": {},
     "outputs": [
      {
       "output_type": "stream",
       "stream": "stdout",
       "text": [
        "[1] 0\n",
        "[3, 5] 0\n",
        "Left:  [1]  Right:  [3, 5]\n",
        "Left:  []  Right:  [3, 5]\n",
        "Left:  []  Right:  [3]\n",
        "[3, 5, 1] 1\n",
        "[2] 0\n",
        "[4, 6] 0\n",
        "Left:  [2]  Right:  [4, 6]\n",
        "Left:  []  Right:  [4, 6]\n",
        "Left:  []  Right:  [4]\n",
        "[4, 6, 2] 1\n",
        "Left:  [3, 5, 1]  Right:  [4, 6, 2]\n",
        "Left:  [3, 5]  Right:  [4, 6, 2]\n",
        "Left:  [3, 5]  Right:  [4, 6]\n",
        "Left:  [3]  Right:  [4, 6]\n",
        "Left:  []  Right:  [4, 6]\n",
        "Left:  []  Right:  [4]\n",
        "[4, 6, 3, 5, 2, 1] 5\n"
       ]
      }
     ],
     "prompt_number": 18
    },
    {
     "cell_type": "code",
     "collapsed": true,
     "input": [
      "test = [6, 5, 4, 3, 2, 1]\n",
      "sort, count = fastDivideAndConquer(test)\n",
      "# print sort, \" | \", count  # count == 15"
     ],
     "language": "python",
     "metadata": {},
     "outputs": [
      {
       "output_type": "stream",
       "stream": "stdout",
       "text": [
        "[6] 0\n",
        "[5, 4] 0\n",
        "Left:  [6]  Right:  [5, 4]\n",
        "Left:  [6]  Right:  [5]\n",
        "Left:  [6]  Right:  []\n",
        "[6, 5, 4] 1\n",
        "[3] 0\n",
        "[2, 1] 0\n",
        "Left:  [3]  Right:  [2, 1]\n",
        "Left:  [3]  Right:  [2]\n",
        "Left:  [3]  Right:  []\n",
        "[3, 2, 1] 1\n",
        "Left:  [6, 5, 4]  Right:  [3, 2, 1]\n",
        "Left:  [6, 5, 4]  Right:  [3, 2]\n",
        "Left:  [6, 5, 4]  Right:  [3]\n",
        "Left:  [6, 5, 4]  Right:  []\n",
        "Left:  [6, 5]  Right:  []\n",
        "Left:  [6]  Right:  []\n",
        "[6, 5, 4, 3, 2, 1] 5\n"
       ]
      }
     ],
     "prompt_number": 19
    },
    {
     "cell_type": "code",
     "collapsed": true,
     "input": [
      "test = [1, 2, 3, 4, 5, 6]\n",
      "sort, count = fastDivideAndConquer(test)\n",
      "# print sort, \" | \", count  # count == 0"
     ],
     "language": "python",
     "metadata": {},
     "outputs": [
      {
       "output_type": "stream",
       "stream": "stdout",
       "text": [
        "[1] 0\n",
        "[2, 3] 0\n",
        "Left:  [1]  Right:  [2, 3]\n",
        "Left:  []  Right:  [2, 3]\n",
        "Left:  []  Right:  [2]\n",
        "[2, 3, 1] 1\n",
        "[4] 0\n",
        "[5, 6] 0\n",
        "Left:  [4]  Right:  [5, 6]\n",
        "Left:  []  Right:  [5, 6]\n",
        "Left:  []  Right:  [5]\n",
        "[5, 6, 4] 1\n",
        "Left:  [2, 3, 1]  Right:  [5, 6, 4]\n",
        "Left:  [2, 3]  Right:  [5, 6, 4]\n",
        "Left:  [2]  Right:  [5, 6, 4]\n",
        "Left:  []  Right:  [5, 6, 4]\n",
        "Left:  []  Right:  [5, 6]\n",
        "Left:  []  Right:  [5]\n",
        "[5, 6, 4, 2, 3, 1] 5\n"
       ]
      }
     ],
     "prompt_number": 20
    },
    {
     "cell_type": "code",
     "collapsed": false,
     "input": [],
     "language": "python",
     "metadata": {},
     "outputs": []
    }
   ],
   "metadata": {}
  }
 ]
}