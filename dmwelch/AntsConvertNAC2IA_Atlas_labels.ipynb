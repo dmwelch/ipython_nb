{
 "metadata": {
  "name": "AntsConvertNAC2IA_Atlas_labels"
 },
 "nbformat": 3,
 "nbformat_minor": 0,
 "worksheets": [
  {
   "cells": [
    {
     "cell_type": "markdown",
     "metadata": {},
     "source": [
      "* First define some basic information regarding inputs and output\n",
      "* Basic python \n",
      "\n",
      "from  nipype.interfaces.ants.registration import Registration\n",
      "\n",
      "reg=Registration()\n",
      "reg.inputs.dimension =3\n",
      "reg.inputs.fixed_image = FIXED\n",
      "reg.inputs.moving_image = MOVING\n",
      "reg.inputs.metric = [ 'MI' ]\n",
      "reg.inputs.radius_or_number_of_bins = [ 32 ]\n",
      "reg.inputs.sampling_strategy=['Random']\n",
      "reg.inputs.sampling_percentage=[0.2]\n",
      "reg.inputs.metric_weight = [1.0]\n",
      "reg.inputs.convergence_threshold= [ 1e-6 ]\n",
      "reg.inputs.convergence_window_size = [ 10 ]\n",
      "reg.inputs.transforms = ['Rigid']\n",
      "reg.inputs.transform_parameters = [[0.1]]\n",
      "reg.inputs.number_of_iterations = [[4000,4000,4000] ]\n",
      "reg.inputs.shrink_factors = [[8,2,1]]\n",
      "reg.inputs.smoothing_sigmas = [[8,2,0]]\n",
      "reg.inputs.use_histogram_matching = [ False ]\n",
      "reg.inputs.write_composite_transform = True\n",
      "reg.inputs.output_transform_prefix = 'NAC2IA_'\n",
      "reg.inputs.output_warped_image='nac2ia.nii.gz'\n",
      "reg.inputs.output_inverse_warped_image='ia2nac.nii.gz'\n",
      "print reg.cmdline"
     ]
    },
    {
     "cell_type": "code",
     "collapsed": false,
     "input": [
      "import numpy\n",
      "import sys\n",
      "import os\n",
      "\n",
      "def DisplayCenterSlice(image, title=\"\"):\n",
      "    \"\"\" Display the center slice of an sitkImage\"\"\"\n",
      "    size=list(image.GetSize())\n",
      "    index=[0,0,size[2]/2]\n",
      "    size[2]=0\n",
      "    twoDImage=sitk.Extract(image,size,index)\n",
      "    np_image=sitk.GetArrayFromImage(twoDImage)\n",
      "    myplot=plt.imshow(np_image, cmap=cm.gray, interpolation=None)\n",
      "    myplot.set_label(\"T2_image\")\n",
      "    plt.title(title)\n",
      "    plt.show()\n",
      "    return myplot\n",
      "\n",
      "os.environ['PATH']=os.environ['PATH']+\":\"+\"/Users/johnsonhj/src/BSA-clang31/bin\"\n",
      "from BRAINSTools import BRAINSFit\n",
      "\n",
      "FIXED='/Users/johnsonhj/src/BSA-clang31/ReferenceAtlas-build/Atlas/Atlas_20120830/template_t1.nii.gz'\n",
      "MOVING='/Users/johnsonhj/Desktop/SPL/nac-brain-atlas-1.0/volumes/A1_grayT1.nrrd'\n",
      "labelImage='/Users/johnsonhj/Desktop/SPL/nac-brain-atlas-1.0/volumes/A1_labels.nrrd'\n",
      "output_path='/Users/johnsonhj/Desktop/transfer_labels'\n",
      "if not os.path.exists(output_path):\n",
      "    os.makedirs(output_path)\n"
     ],
     "language": "python",
     "metadata": {},
     "outputs": [],
     "prompt_number": 1
    },
    {
     "cell_type": "code",
     "collapsed": false,
     "input": [
      "bf=BRAINSFit()\n",
      "bf.inputs.fixedVolume=FIXED\n",
      "bf.inputs.movingVolume=MOVING\n",
      "bf.inputs.initializeTransformMode='useCenterOfHeadAlign'\n",
      "bf.inputs.maskProcessingMode='ROIAUTO'\n",
      "bf.inputs.useRigid=True\n",
      "bf.inputs.histogramMatch=True\n",
      "bf.inputs.outputVolume=os.path.join(output_path,'nac2ia.nii.gz')\n",
      "bf.inputs.outputTransform=os.path.join(output_path,'bf_rigid.mat')\n",
      "bf.cmdline"
     ],
     "language": "python",
     "metadata": {},
     "outputs": [
      {
       "output_type": "pyout",
       "prompt_number": 9,
       "text": [
        "' BRAINSFit  --fixedVolume /Users/johnsonhj/src/BSA-clang31/ReferenceAtlas-build/Atlas/Atlas_20120830/template_t1.nii.gz --histogramMatch  --initializeTransformMode useCenterOfHeadAlign --maskProcessingMode ROIAUTO --movingVolume /Users/johnsonhj/Desktop/SPL/nac-brain-atlas-1.0/volumes/A1_grayT1.nrrd --outputTransform /Users/johnsonhj/Desktop/transfer_labels/bf_rigid.mat --outputVolume /Users/johnsonhj/Desktop/transfer_labels/nac2ia.nii.gz --useRigid '"
       ]
      }
     ],
     "prompt_number": 9
    },
    {
     "cell_type": "code",
     "collapsed": false,
     "input": [
      "bf.run()"
     ],
     "language": "python",
     "metadata": {},
     "outputs": [
      {
       "output_type": "stream",
       "stream": "stdout",
       "text": [
        "121102-17:15:32,860 interface INFO:\n",
        "\t stdout 2012-11-02T17:15:32.860472:Original Fixed image origin[-127.5, -127.5, -127.5, 0]\n"
       ]
      },
      {
       "output_type": "stream",
       "stream": "stdout",
       "text": [
        "121102-17:15:33,449 interface INFO:\n",
        "\t stdout 2012-11-02T17:15:33.449841:ListSample TotalFrequency is  16777216\n"
       ]
      },
      {
       "output_type": "stream",
       "stream": "stdout",
       "text": [
        "121102-17:15:35,156 interface INFO:\n",
        "\t stdout 2012-11-02T17:15:35.155941:4097 ValidHistogramsEntries,  16777216 TotalFrequency\n"
       ]
      },
      {
       "output_type": "stream",
       "stream": "stdout",
       "text": [
        "121102-17:15:35,156 interface INFO:\n",
        "\t stdout 2012-11-02T17:15:35.155941:0.01 ---> 0\n"
       ]
      },
      {
       "output_type": "stream",
       "stream": "stdout",
       "text": [
        "121102-17:15:35,157 interface INFO:\n",
        "\t stdout 2012-11-02T17:15:35.155941:0.99 ---> 27343\n"
       ]
      },
      {
       "output_type": "stream",
       "stream": "stdout",
       "text": [
        "121102-17:15:36,569 interface INFO:\n",
        "\t stdout 2012-11-02T17:15:36.569301:LowHigh Thresholds: [10112,2147483647]\n"
       ]
      },
      {
       "output_type": "stream",
       "stream": "stdout",
       "text": [
        "121102-17:15:56,370 interface INFO:\n",
        "\t stdout 2012-11-02T17:15:56.370602:ListSample TotalFrequency is  16777216\n"
       ]
      },
      {
       "output_type": "stream",
       "stream": "stdout",
       "text": [
        "121102-17:15:57,775 interface INFO:\n",
        "\t stdout 2012-11-02T17:15:57.775046:1722 ValidHistogramsEntries,  16777216 TotalFrequency\n"
       ]
      },
      {
       "output_type": "stream",
       "stream": "stdout",
       "text": [
        "121102-17:15:57,775 interface INFO:\n",
        "\t stdout 2012-11-02T17:15:57.775046:0.01 ---> 0\n"
       ]
      },
      {
       "output_type": "stream",
       "stream": "stdout",
       "text": [
        "121102-17:15:57,776 interface INFO:\n",
        "\t stdout 2012-11-02T17:15:57.775046:0.99 ---> 644\n"
       ]
      },
      {
       "output_type": "stream",
       "stream": "stdout",
       "text": [
        "121102-17:15:59,365 interface INFO:\n",
        "\t stdout 2012-11-02T17:15:59.365175:LowHigh Thresholds: [238,2147483647]\n"
       ]
      },
      {
       "output_type": "stream",
       "stream": "stdout",
       "text": [
        "121102-17:16:20,15 interface INFO:\n",
        "\t stdout 2012-11-02T17:16:20.015853:HACK: 0  TransformFileReader\n"
       ]
      },
      {
       "output_type": "stream",
       "stream": "stdout",
       "text": [
        "121102-17:16:20,16 interface INFO:\n",
        "\t stdout 2012-11-02T17:16:20.016616:source stats\n"
       ]
      },
      {
       "output_type": "stream",
       "stream": "stdout",
       "text": [
        "121102-17:16:22,272 interface INFO:\n",
        "\t stdout 2012-11-02T17:16:22.271938: Quantile Fixed Points 0.005: 0 700 slope: 707.071\n"
       ]
      },
      {
       "output_type": "stream",
       "stream": "stdout",
       "text": [
        "121102-17:16:22,272 interface INFO:\n",
        "\t stdout 2012-11-02T17:16:22.271938: Quantile Range: -3.53535 703.535\n"
       ]
      },
      {
       "output_type": "stream",
       "stream": "stdout",
       "text": [
        "121102-17:16:22,273 interface INFO:\n",
        "\t stdout 2012-11-02T17:16:22.271938:PreFix Range: -103 2126\n"
       ]
      },
      {
       "output_type": "stream",
       "stream": "stdout",
       "text": [
        "121102-17:16:22,273 interface INFO:\n",
        "\t stdout 2012-11-02T17:16:22.271938:PostFix Range: -3.53535 703.535\n"
       ]
      },
      {
       "output_type": "stream",
       "stream": "stdout",
       "text": [
        "121102-17:16:22,314 interface INFO:\n",
        "\t stdout 2012-11-02T17:16:22.314853:reference stats\n"
       ]
      },
      {
       "output_type": "stream",
       "stream": "stdout",
       "text": [
        "121102-17:16:24,553 interface INFO:\n",
        "\t stdout 2012-11-02T17:16:24.553037: Quantile Fixed Points 0.005: 0 29551.1 slope: 29849.6\n"
       ]
      },
      {
       "output_type": "stream",
       "stream": "stdout",
       "text": [
        "121102-17:16:24,553 interface INFO:\n",
        "\t stdout 2012-11-02T17:16:24.553037: Quantile Range: -149.248 29700.3\n"
       ]
      },
      {
       "output_type": "stream",
       "stream": "stdout",
       "text": [
        "121102-17:16:24,554 interface INFO:\n",
        "\t stdout 2012-11-02T17:16:24.553037:PreFix Range: 0 32767\n"
       ]
      },
      {
       "output_type": "stream",
       "stream": "stdout",
       "text": [
        "121102-17:16:24,554 interface INFO:\n",
        "\t stdout 2012-11-02T17:16:24.553037:PostFix Range: 0 29700.3\n"
       ]
      },
      {
       "output_type": "stream",
       "stream": "stdout",
       "text": [
        "121102-17:16:29,27 interface INFO:\n",
        "\t stdout 2012-11-02T17:16:29.027230:output stats\n"
       ]
      },
      {
       "output_type": "stream",
       "stream": "stdout",
       "text": [
        "121102-17:16:31,370 interface INFO:\n",
        "\t stdout 2012-11-02T17:16:31.370302: Quantile Fixed Points 0.005: 0 29589.4 slope: 29888.3\n"
       ]
      },
      {
       "output_type": "stream",
       "stream": "stdout",
       "text": [
        "121102-17:16:31,370 interface INFO:\n",
        "\t stdout 2012-11-02T17:16:31.370302: Quantile Range: -149.441 29738.8\n"
       ]
      },
      {
       "output_type": "stream",
       "stream": "stdout",
       "text": [
        "121102-17:16:31,371 interface INFO:\n",
        "\t stdout 2012-11-02T17:16:31.370302:PreFix Range: 0 29700.3\n"
       ]
      },
      {
       "output_type": "stream",
       "stream": "stdout",
       "text": [
        "121102-17:16:31,372 interface INFO:\n",
        "\t stdout 2012-11-02T17:16:31.370302:PostFix Range: 0 29700.3\n"
       ]
      },
      {
       "output_type": "stream",
       "stream": "stdout",
       "text": [
        "121102-17:16:36,186 interface INFO:\n",
        "\t stdout 2012-11-02T17:16:36.186116:TranformTypes: Rigid(1 of 1).\n"
       ]
      },
      {
       "output_type": "stream",
       "stream": "stdout",
       "text": [
        "121102-17:16:36,187 interface INFO:\n",
        "\t stdout 2012-11-02T17:16:36.186116:\n"
       ]
      },
      {
       "output_type": "stream",
       "stream": "stdout",
       "text": [
        "121102-17:16:36,188 interface INFO:\n",
        "\t stdout 2012-11-02T17:16:36.186116:Initializing transform with useCenterOfHeadAlign\n"
       ]
      },
      {
       "output_type": "stream",
       "stream": "stdout",
       "text": [
        "121102-17:16:36,335 interface INFO:\n",
        "\t stdout 2012-11-02T17:16:36.335713:maxSIDirection = 127.5\n"
       ]
      },
      {
       "output_type": "stream",
       "stream": "stdout",
       "text": [
        "121102-17:16:36,448 interface INFO:\n",
        "\t stdout 2012-11-02T17:16:36.448328:Computing Sampled Distance Computations\n"
       ]
      },
      {
       "output_type": "stream",
       "stream": "stdout",
       "text": [
        "121102-17:16:38,911 interface INFO:\n",
        "\t stdout 2012-11-02T17:16:38.910995:maxSIDirection = 127.5\n"
       ]
      },
      {
       "output_type": "stream",
       "stream": "stdout",
       "text": [
        "121102-17:16:39,15 interface INFO:\n",
        "\t stdout 2012-11-02T17:16:39.015274:Computing Sampled Distance Computations\n"
       ]
      },
      {
       "output_type": "stream",
       "stream": "stdout",
       "text": [
        "121102-17:16:44,875 interface INFO:\n",
        "\t stdout 2012-11-02T17:16:44.875045:Initializing transform with useCenterOfHeadAlign to \n"
       ]
      },
      {
       "output_type": "stream",
       "stream": "stdout",
       "text": [
        "121102-17:16:44,875 interface INFO:\n",
        "\t stdout 2012-11-02T17:16:44.875045:VersorRigid3DTransform (0x7f907c2070f0)\n"
       ]
      },
      {
       "output_type": "stream",
       "stream": "stdout",
       "text": [
        "121102-17:16:44,876 interface INFO:\n",
        "\t stdout 2012-11-02T17:16:44.875045:  RTTI typeinfo:   itk::VersorRigid3DTransform<double>\n"
       ]
      },
      {
       "output_type": "stream",
       "stream": "stdout",
       "text": [
        "121102-17:16:44,876 interface INFO:\n",
        "\t stdout 2012-11-02T17:16:44.875045:  Reference Count: 2\n"
       ]
      },
      {
       "output_type": "stream",
       "stream": "stdout",
       "text": [
        "121102-17:16:44,877 interface INFO:\n",
        "\t stdout 2012-11-02T17:16:44.875045:  Modified Time: 4427\n"
       ]
      },
      {
       "output_type": "stream",
       "stream": "stdout",
       "text": [
        "121102-17:16:44,877 interface INFO:\n",
        "\t stdout 2012-11-02T17:16:44.875045:  Debug: Off\n"
       ]
      },
      {
       "output_type": "stream",
       "stream": "stdout",
       "text": [
        "121102-17:16:44,878 interface INFO:\n",
        "\t stdout 2012-11-02T17:16:44.875045:  Observers: \n"
       ]
      },
      {
       "output_type": "stream",
       "stream": "stdout",
       "text": [
        "121102-17:16:44,878 interface INFO:\n",
        "\t stdout 2012-11-02T17:16:44.875045:    none\n"
       ]
      },
      {
       "output_type": "stream",
       "stream": "stdout",
       "text": [
        "121102-17:16:44,879 interface INFO:\n",
        "\t stdout 2012-11-02T17:16:44.875045:  Matrix: \n"
       ]
      },
      {
       "output_type": "stream",
       "stream": "stdout",
       "text": [
        "121102-17:16:44,880 interface INFO:\n",
        "\t stdout 2012-11-02T17:16:44.875045:    0.99863 -0.0511923 -0.0108813 \n"
       ]
      },
      {
       "output_type": "stream",
       "stream": "stdout",
       "text": [
        "121102-17:16:44,880 interface INFO:\n",
        "\t stdout 2012-11-02T17:16:44.875045:    0.052336 0.976807 0.207627 \n"
       ]
      },
      {
       "output_type": "stream",
       "stream": "stdout",
       "text": [
        "121102-17:16:44,881 interface INFO:\n",
        "\t stdout 2012-11-02T17:16:44.875045:    8.67362e-19 -0.207912 0.978148 \n"
       ]
      },
      {
       "output_type": "stream",
       "stream": "stdout",
       "text": [
        "121102-17:16:44,881 interface INFO:\n",
        "\t stdout 2012-11-02T17:16:44.875045:  Offset: [1.87619, -15.1168, -2.56323]\n"
       ]
      },
      {
       "output_type": "stream",
       "stream": "stdout",
       "text": [
        "121102-17:16:44,882 interface INFO:\n",
        "\t stdout 2012-11-02T17:16:44.875045:  Center: [-0.575862, 22.6618, -3.32851]\n"
       ]
      },
      {
       "output_type": "stream",
       "stream": "stdout",
       "text": [
        "121102-17:16:44,882 interface INFO:\n",
        "\t stdout 2012-11-02T17:16:44.875045:  Translation: [0.753088, -16.3636, -7.20216]\n"
       ]
      },
      {
       "output_type": "stream",
       "stream": "stdout",
       "text": [
        "121102-17:16:44,883 interface INFO:\n",
        "\t stdout 2012-11-02T17:16:44.875045:  Inverse: \n"
       ]
      },
      {
       "output_type": "stream",
       "stream": "stdout",
       "text": [
        "121102-17:16:44,883 interface INFO:\n",
        "\t stdout 2012-11-02T17:16:44.883846:    0.99863 0.052336 8.67362e-19 \n"
       ]
      },
      {
       "output_type": "stream",
       "stream": "stdout",
       "text": [
        "121102-17:16:44,884 interface INFO:\n",
        "\t stdout 2012-11-02T17:16:44.883846:    -0.0511923 0.976807 -0.207912 \n"
       ]
      },
      {
       "output_type": "stream",
       "stream": "stdout",
       "text": [
        "121102-17:16:44,885 interface INFO:\n",
        "\t stdout 2012-11-02T17:16:44.883846:    -0.0108813 0.207627 0.978148 \n"
       ]
      },
      {
       "output_type": "stream",
       "stream": "stdout",
       "text": [
        "121102-17:16:44,885 interface INFO:\n",
        "\t stdout 2012-11-02T17:16:44.883846:  Singular: 0\n"
       ]
      },
      {
       "output_type": "stream",
       "stream": "stdout",
       "text": [
        "121102-17:16:44,886 interface INFO:\n",
        "\t stdout 2012-11-02T17:16:44.883846:  Versor: [ -0.104493, -0.00273624, 0.0260335, 0.994181 ]\n"
       ]
      },
      {
       "output_type": "stream",
       "stream": "stdout",
       "text": [
        "121102-17:16:44,887 interface INFO:\n",
        "\t stdout 2012-11-02T17:16:44.883846:\n"
       ]
      },
      {
       "output_type": "stream",
       "stream": "stdout",
       "text": [
        "121102-17:16:44,887 interface INFO:\n",
        "\t stdout 2012-11-02T17:16:44.883846:===============================================\n"
       ]
      },
      {
       "output_type": "stream",
       "stream": "stdout",
       "text": [
        "121102-17:16:44,888 interface INFO:\n",
        "\t stdout 2012-11-02T17:16:44.883846:\n"
       ]
      },
      {
       "output_type": "stream",
       "stream": "stdout",
       "text": [
        "121102-17:16:44,888 interface INFO:\n",
        "\t stdout 2012-11-02T17:16:44.883846:\n"
       ]
      },
      {
       "output_type": "stream",
       "stream": "stdout",
       "text": [
        "121102-17:16:44,889 interface INFO:\n",
        "\t stdout 2012-11-02T17:16:44.883846:\n"
       ]
      },
      {
       "output_type": "stream",
       "stream": "stdout",
       "text": [
        "121102-17:16:44,889 interface INFO:\n",
        "\t stdout 2012-11-02T17:16:44.883846:=============================== Starting Transform Estimations for Rigid(1 of 1).===============================\n"
       ]
      },
      {
       "output_type": "stream",
       "stream": "stdout",
       "text": [
        "121102-17:16:44,889 interface INFO:\n",
        "\t stdout 2012-11-02T17:16:44.883846:\n"
       ]
      },
      {
       "output_type": "stream",
       "stream": "stdout",
       "text": [
        "121102-17:16:44,890 interface INFO:\n",
        "\t stdout 2012-11-02T17:16:44.883846:WARNING USING MAX MMI NUMBER OF THREADS:   -1\n"
       ]
      },
      {
       "output_type": "stream",
       "stream": "stdout",
       "text": [
        "121102-17:16:44,890 interface INFO:\n",
        "\t stdout 2012-11-02T17:16:44.883846:Initializer, optimizerScales: [1, 1, 1, 0.001, 0.001, 0.001].\n"
       ]
      },
      {
       "output_type": "stream",
       "stream": "stdout",
       "text": [
        "121102-17:16:44,891 interface INFO:\n",
        "\t stdout 2012-11-02T17:16:44.883846:METRIC       THREADS USED: 4 of 4\n"
       ]
      },
      {
       "output_type": "stream",
       "stream": "stdout",
       "text": [
        "121102-17:16:44,891 interface INFO:\n",
        "\t stdout 2012-11-02T17:16:44.883846:REGISTRATION THREADS USED: 4 of 4\n"
       ]
      },
      {
       "output_type": "stream",
       "stream": "stdout",
       "text": [
        "121102-17:16:47,94 interface INFO:\n",
        "\t stdout 2012-11-02T17:16:47.094727:   0    -0.158582   [-0.113385, -0.0100775, 0.0276357, 0.744606, -16.2422, -7.35912]\n"
       ]
      },
      {
       "output_type": "stream",
       "stream": "stdout",
       "text": [
        "121102-17:16:47,246 interface INFO:\n",
        "\t stdout 2012-11-02T17:16:47.246610:   1    -0.180393   [-0.119072, -0.0183231, 0.0307088, 0.826278, -16.1541, -7.51764]\n"
       ]
      },
      {
       "output_type": "stream",
       "stream": "stdout",
       "text": [
        "121102-17:16:47,383 interface INFO:\n",
        "\t stdout 2012-11-02T17:16:47.383509:   2    -0.203042   [-0.132592, -0.0216384, 0.0325382, 0.704852, -16.0802, -7.65545]\n"
       ]
      },
      {
       "output_type": "stream",
       "stream": "stdout",
       "text": [
        "121102-17:16:47,495 interface INFO:\n",
        "\t stdout 2012-11-02T17:16:47.495517:   3    -0.235318   [-0.144875, -0.0248313, 0.0283458, 0.652701, -15.9888, -7.82334]\n"
       ]
      },
      {
       "output_type": "stream",
       "stream": "stdout",
       "text": [
        "121102-17:16:47,605 interface INFO:\n",
        "\t stdout 2012-11-02T17:16:47.605831:   4    -0.281915   [-0.152739, -0.0272246, 0.0262255, 0.615177, -15.8407, -7.95135]\n"
       ]
      },
      {
       "output_type": "stream",
       "stream": "stdout",
       "text": [
        "121102-17:16:47,711 interface INFO:\n",
        "\t stdout 2012-11-02T17:16:47.711149:   5    -0.314398   [-0.156141, -0.0263813, 0.0264799, 0.576495, -15.6788, -8.06194]\n"
       ]
      },
      {
       "output_type": "stream",
       "stream": "stdout",
       "text": [
        "121102-17:16:47,817 interface INFO:\n",
        "\t stdout 2012-11-02T17:16:47.817622:   6     -0.33416   [-0.157346, -0.0265773, 0.0273959, 0.563984, -15.5262, -8.19064]\n"
       ]
      },
      {
       "output_type": "stream",
       "stream": "stdout",
       "text": [
        "121102-17:16:47,928 interface INFO:\n",
        "\t stdout 2012-11-02T17:16:47.928017:   7    -0.352997   [-0.158938, -0.0265607, 0.0266245, 0.540157, -15.3793, -8.32417]\n"
       ]
      },
      {
       "output_type": "stream",
       "stream": "stdout",
       "text": [
        "121102-17:16:48,63 interface INFO:\n",
        "\t stdout 2012-11-02T17:16:48.063531:   8    -0.375336   [-0.160089, -0.0270609, 0.0270498, 0.530945, -15.2356, -8.46289]\n"
       ]
      },
      {
       "output_type": "stream",
       "stream": "stdout",
       "text": [
        "121102-17:16:48,170 interface INFO:\n",
        "\t stdout 2012-11-02T17:16:48.170447:   9    -0.399437   [-0.160983, -0.026962, 0.0264236, 0.512321, -15.0964, -8.60529]\n"
       ]
      },
      {
       "output_type": "stream",
       "stream": "stdout",
       "text": [
        "121102-17:16:48,276 interface INFO:\n",
        "\t stdout 2012-11-02T17:16:48.276696:  10    -0.426371   [-0.162381, -0.0273061, 0.0270969, 0.507959, -14.9594, -8.75092]\n"
       ]
      },
      {
       "output_type": "stream",
       "stream": "stdout",
       "text": [
        "121102-17:16:48,387 interface INFO:\n",
        "\t stdout 2012-11-02T17:16:48.387643:  11    -0.458913   [-0.163704, -0.0270874, 0.0262487, 0.491513, -14.8273, -8.90012]\n"
       ]
      },
      {
       "output_type": "stream",
       "stream": "stdout",
       "text": [
        "121102-17:16:48,492 interface INFO:\n",
        "\t stdout 2012-11-02T17:16:48.491926:  12    -0.497352   [-0.165079, -0.027457, 0.0268289, 0.491889, -14.6949, -9.05004]\n"
       ]
      },
      {
       "output_type": "stream",
       "stream": "stdout",
       "text": [
        "121102-17:16:48,599 interface INFO:\n",
        "\t stdout 2012-11-02T17:16:48.599582:  13    -0.542668   [-0.166376, -0.0274094, 0.0263028, 0.484582, -14.5696, -9.20569]\n"
       ]
      },
      {
       "output_type": "stream",
       "stream": "stdout",
       "text": [
        "121102-17:16:48,707 interface INFO:\n",
        "\t stdout 2012-11-02T17:16:48.707237:  14    -0.594018   [-0.167571, -0.0275591, 0.026861, 0.48482, -14.4474, -9.36401]\n"
       ]
      },
      {
       "output_type": "stream",
       "stream": "stdout",
       "text": [
        "121102-17:16:48,822 interface INFO:\n",
        "\t stdout 2012-11-02T17:16:48.822289:  15      -0.6568   [-0.168956, -0.0274159, 0.026383, 0.477067, -14.3322, -9.52728]\n"
       ]
      },
      {
       "output_type": "stream",
       "stream": "stdout",
       "text": [
        "121102-17:16:48,929 interface INFO:\n",
        "\t stdout 2012-11-02T17:16:48.929422:  16    -0.738824   [-0.17031, -0.0277933, 0.0266799, 0.480187, -14.2211, -9.69349]\n"
       ]
      },
      {
       "output_type": "stream",
       "stream": "stdout",
       "text": [
        "121102-17:16:49,42 interface INFO:\n",
        "\t stdout 2012-11-02T17:16:49.042176:  17    -0.840949   [-0.171351, -0.0278865, 0.0260189, 0.479737, -14.1166, -9.864]\n"
       ]
      },
      {
       "output_type": "stream",
       "stream": "stdout",
       "text": [
        "121102-17:16:49,151 interface INFO:\n",
        "\t stdout 2012-11-02T17:16:49.151170:  18    -0.956425   [-0.17178, -0.0278888, 0.0267853, 0.486374, -14.0115, -10.034]\n"
       ]
      },
      {
       "output_type": "stream",
       "stream": "stdout",
       "text": [
        "121102-17:16:49,278 interface INFO:\n",
        "\t stdout 2012-11-02T17:16:49.278711:  19     -1.06176   [-0.172147, -0.0288328, 0.0240708, 0.480522, -13.9027, -10.2017]\n"
       ]
      },
      {
       "output_type": "stream",
       "stream": "stdout",
       "text": [
        "121102-17:16:49,384 interface INFO:\n",
        "\t stdout 2012-11-02T17:16:49.384837:  20     -1.04955   [-0.176329, -0.00552494, 0.073921, 0.613932, -13.8572, -10.2906]\n"
       ]
      },
      {
       "output_type": "stream",
       "stream": "stdout",
       "text": [
        "121102-17:16:49,509 interface INFO:\n",
        "\t stdout 2012-11-02T17:16:49.508986:  21    -0.188988   [-0.173873, -0.0246055, 0.0467601, 0.768134, -13.9495, -10.2336]\n"
       ]
      },
      {
       "output_type": "stream",
       "stream": "stdout",
       "text": [
        "121102-17:16:49,652 interface INFO:\n",
        "\t stdout 2012-11-02T17:16:49.652506:  22    -0.426467   [-0.162471, -0.0561235, -0.0245236, 0.68663, -13.9205, -10.1459]\n"
       ]
      },
      {
       "output_type": "stream",
       "stream": "stdout",
       "text": [
        "121102-17:16:49,805 interface INFO:\n",
        "\t stdout 2012-11-02T17:16:49.805646:  23     -0.16753   [-0.166689, -0.0453319, -0.00772326, 0.596514, -13.92, -10.1605]\n"
       ]
      },
      {
       "output_type": "stream",
       "stream": "stdout",
       "text": [
        "121102-17:16:49,919 interface INFO:\n",
        "\t stdout 2012-11-02T17:16:49.919088:  24    -0.253634   [-0.171463, -0.0279926, 0.0195799, 0.557127, -13.8928, -10.2191]\n"
       ]
      },
      {
       "output_type": "stream",
       "stream": "stdout",
       "text": [
        "121102-17:16:50,63 interface INFO:\n",
        "\t stdout 2012-11-02T17:16:50.063540:  25    -0.809337   [-0.179079, -0.0195022, 0.063731, 0.517335, -13.8854, -10.2169]\n"
       ]
      },
      {
       "output_type": "stream",
       "stream": "stdout",
       "text": [
        "121102-17:16:50,192 interface INFO:\n",
        "\t stdout 2012-11-02T17:16:50.192527:  26    -0.249205   [-0.176226, -0.0245518, 0.0502933, 0.538875, -13.9072, -10.1906]\n"
       ]
      },
      {
       "output_type": "stream",
       "stream": "stdout",
       "text": [
        "121102-17:16:50,318 interface INFO:\n",
        "\t stdout 2012-11-02T17:16:50.318455:  27    -0.374738   [-0.173015, -0.0309555, 0.0342983, 0.572105, -13.9161, -10.1997]\n"
       ]
      },
      {
       "output_type": "stream",
       "stream": "stdout",
       "text": [
        "121102-17:16:50,451 interface INFO:\n",
        "\t stdout 2012-11-02T17:16:50.451285:  28    -0.734791   [-0.172014, -0.0302471, 0.0264119, 0.554804, -13.9114, -10.2066]\n"
       ]
      },
      {
       "output_type": "stream",
       "stream": "stdout",
       "text": [
        "121102-17:16:50,572 interface INFO:\n",
        "\t stdout 2012-11-02T17:16:50.572797:  29     -1.05579   [-0.172293, -0.0282499, 0.0257595, 0.530662, -13.9086, -10.2106]\n"
       ]
      },
      {
       "output_type": "stream",
       "stream": "stdout",
       "text": [
        "121102-17:16:50,691 interface INFO:\n",
        "\t stdout 2012-11-02T17:16:50.691436:  30     -1.11311   [-0.172093, -0.027462, 0.0269939, 0.507672, -13.9014, -10.2166]\n"
       ]
      },
      {
       "output_type": "stream",
       "stream": "stdout",
       "text": [
        "121102-17:16:50,817 interface INFO:\n",
        "\t stdout 2012-11-02T17:16:50.817592:  31     -1.10696   [-0.172379, -0.030995, 0.0228851, 0.485697, -13.8968, -10.2186]\n"
       ]
      },
      {
       "output_type": "stream",
       "stream": "stdout",
       "text": [
        "121102-17:16:50,934 interface INFO:\n",
        "\t stdout 2012-11-02T17:16:50.934159:  32     -0.93999   [-0.172515, -0.0271379, 0.0268324, 0.488572, -13.8945, -10.2231]\n"
       ]
      },
      {
       "output_type": "stream",
       "stream": "stdout",
       "text": [
        "121102-17:16:51,46 interface INFO:\n",
        "\t stdout 2012-11-02T17:16:51.046617:  33     -1.10282   [-0.171723, -0.0288582, 0.0259486, 0.492884, -13.893, -10.2224]\n"
       ]
      },
      {
       "output_type": "stream",
       "stream": "stdout",
       "text": [
        "121102-17:16:51,159 interface INFO:\n",
        "\t stdout 2012-11-02T17:16:51.159324:Stop condition from optimizer.VersorRigid3DTransformOptimizer: Step too small after 34 iterations. Current step (0.003125) is less than minimum step (0.005).\n"
       ]
      },
      {
       "output_type": "stream",
       "stream": "stdout",
       "text": [
        "121102-17:16:51,160 interface INFO:\n",
        "\t stdout 2012-11-02T17:16:51.159324:\n"
       ]
      },
      {
       "output_type": "stream",
       "stream": "stdout",
       "text": [
        "121102-17:16:51,160 interface INFO:\n",
        "\t stdout 2012-11-02T17:16:51.159324:Matrix = \n"
       ]
      },
      {
       "output_type": "stream",
       "stream": "stdout",
       "text": [
        "121102-17:16:51,161 interface INFO:\n",
        "\t stdout 2012-11-02T17:16:51.159324:0.996988 -0.0411754 -0.065727\n"
       ]
      },
      {
       "output_type": "stream",
       "stream": "stdout",
       "text": [
        "121102-17:16:51,161 interface INFO:\n",
        "\t stdout 2012-11-02T17:16:51.159324:0.0609979 0.939676 0.336585\n"
       ]
      },
      {
       "output_type": "stream",
       "stream": "stdout",
       "text": [
        "121102-17:16:51,162 interface INFO:\n",
        "\t stdout 2012-11-02T17:16:51.159324:0.047903 -0.33958 0.939357\n"
       ]
      },
      {
       "output_type": "stream",
       "stream": "stdout",
       "text": [
        "121102-17:16:51,162 interface INFO:\n",
        "\t stdout 2012-11-02T17:16:51.159324:\n"
       ]
      },
      {
       "output_type": "stream",
       "stream": "stdout",
       "text": [
        "121102-17:16:51,163 interface INFO:\n",
        "\t stdout 2012-11-02T17:16:51.159324:Offset = [1.20549, -11.3705, -2.70113]\n"
       ]
      },
      {
       "output_type": "stream",
       "stream": "stdout",
       "text": [
        "121102-17:16:51,163 interface INFO:\n",
        "\t stdout 2012-11-02T17:16:51.159324:\n"
       ]
      },
      {
       "output_type": "pyout",
       "prompt_number": 44,
       "text": [
        "<nipype.interfaces.base.InterfaceResult at 0x1101ca2d0>"
       ]
      }
     ],
     "prompt_number": 44
    },
    {
     "cell_type": "code",
     "collapsed": false,
     "input": [
      "from nipype.interfaces.ants.resampling import ApplyTransforms\n",
      "warp=ApplyTransforms()\n",
      "warp.inputs.input_image=labelImage\n",
      "warp.inputs.reference_image=FIXED\n",
      "warp.inputs.interpolation='MultiLabel'\n",
      "warp.inputs.transforms=[os.path.join(output_path,'bf_rigid.mat')]\n",
      "warp.inputs.output_image=os.path.join(output_path,'multi_label.nii.gz')\n",
      "warp.cmdline"
     ],
     "language": "python",
     "metadata": {},
     "outputs": [
      {
       "output_type": "pyout",
       "prompt_number": 6,
       "text": [
        "'antsApplyTransforms --default-value 0 --dimensionality 3 --input /Users/johnsonhj/Desktop/SPL/nac-brain-atlas-1.0/volumes/A1_labels.nrrd --interpolation MultiLabel --output /Users/johnsonhj/Desktop/transfer_labels/multi_label.nii.gz --reference-image /Users/johnsonhj/src/BSA-clang31/ReferenceAtlas-build/Atlas/Atlas_20120830/template_t1.nii.gz --transform /Users/johnsonhj/Desktop/transfer_labels/bf_rigid.mat'"
       ]
      }
     ],
     "prompt_number": 6
    },
    {
     "cell_type": "code",
     "collapsed": false,
     "input": [
      "warp2=ApplyTransforms()\n",
      "warp2.inputs.input_image=labelImage\n",
      "warp2.inputs.reference_image=FIXED\n",
      "warp2.inputs.interpolation='NearestNeighbor'\n",
      "warp2.inputs.transforms=[os.path.join(output_path,'bf_rigid.mat')]\n",
      "warp2.inputs.output_image=os.path.join(output_path,'NearestNeighbor.nii.gz')\n",
      "warp2.cmdline"
     ],
     "language": "python",
     "metadata": {},
     "outputs": [
      {
       "output_type": "pyout",
       "prompt_number": 5,
       "text": [
        "'antsApplyTransforms --default-value 0 --dimensionality 3 --input /Users/johnsonhj/Desktop/SPL/nac-brain-atlas-1.0/volumes/A1_labels.nrrd --interpolation NearestNeighbor --output /Users/johnsonhj/Desktop/transfer_labels/NearestNeighbor.nii.gz --reference-image /Users/johnsonhj/src/BSA-clang31/ReferenceAtlas-build/Atlas/Atlas_20120830/template_t1.nii.gz --transform /Users/johnsonhj/Desktop/transfer_labels/bf_rigid.mat'"
       ]
      }
     ],
     "prompt_number": 5
    },
    {
     "cell_type": "code",
     "collapsed": false,
     "input": [],
     "language": "python",
     "metadata": {},
     "outputs": [],
     "prompt_number": 1
    },
    {
     "cell_type": "code",
     "collapsed": false,
     "input": [
      "\n",
      "#reg.run()"
     ],
     "language": "python",
     "metadata": {},
     "outputs": [],
     "prompt_number": 2
    },
    {
     "cell_type": "code",
     "collapsed": false,
     "input": [
      "import SimpleITK as sitk\n",
      "abc_labels=sitk.Cast(sitk.ReadImage('/Users/johnsonhj/src/BSA-clang31/ReferenceAtlas-build/Atlas/Atlas_20120830/template_ABC_lables.nii.gz'),sitk.sitkUInt16)\n",
      "csf_vb_mask=sitk.Cast(sitk.BinaryThreshold(abc_labels,1,100,1),sitk.sitkUInt16)\n",
      "csf_vb=(csf_vb_mask*abc_labels+9000)*csf_vb_mask\n",
      "\n",
      "nac_labels=sitk.Cast(sitk.ReadImage(os.path.join(output_path,'multi_label.nii.gz')),sitk.sitkUInt16)\n",
      "not_nac_mask=sitk.Cast(sitk.BinaryThreshold(nac_labels,1,40000000,0,1),sitk.sitkUInt16)\n",
      "\n",
      "exclusive_csf_vb=csf_vb*not_nac_mask\n",
      "\n",
      "LabelMap=sitk.Cast(nac_labels,sitk.sitkUInt16)+sitk.Cast(exclusive_csf_vb, sitk.sitkUInt16)\n",
      "new_labelMap_name=os.path.join(output_path,'new_multi_label.nii.gz')\n",
      "sitk.WriteImage(LabelMap,new_labelMap_name)\n",
      "#sitk.Show(LabelMap,'xx.nii.gz')"
     ],
     "language": "python",
     "metadata": {},
     "outputs": [],
     "prompt_number": 8
    },
    {
     "cell_type": "code",
     "collapsed": false,
     "input": [
      "DisplayCenterSlice(LabelMap)\n"
     ],
     "language": "python",
     "metadata": {},
     "outputs": [
      {
       "output_type": "display_data",
       "png": "[encoded data removed]"
      },
      {
       "output_type": "pyout",
       "prompt_number": 9,
       "text": [
        "<matplotlib.image.AxesImage at 0x126c05ed0>"
       ]
      }
     ],
     "prompt_number": 9
    },
    {
     "cell_type": "code",
     "collapsed": false,
     "input": [
      "DisplayCenterSlice(not_nac_mask)\n"
     ],
     "language": "python",
     "metadata": {},
     "outputs": [
      {
       "output_type": "display_data",
       "png": "[encoded data removed]"
      },
      {
       "output_type": "pyout",
       "prompt_number": 5,
       "text": [
        "<matplotlib.image.AxesImage at 0x126b97590>"
       ]
      }
     ],
     "prompt_number": 5
    },
    {
     "cell_type": "code",
     "collapsed": false,
     "input": [],
     "language": "python",
     "metadata": {},
     "outputs": []
    }
   ],
   "metadata": {}
  }
 ]
}