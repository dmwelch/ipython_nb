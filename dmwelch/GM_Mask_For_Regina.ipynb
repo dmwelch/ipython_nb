{
 "metadata": {
  "name": "GM_Mask_For_Regina"
 },
 "nbformat": 3,
 "nbformat_minor": 0,
 "worksheets": [
  {
   "cells": [
    {
     "cell_type": "code",
     "collapsed": false,
     "input": [
      "AllPosteriors=!ls /hjohnson/TrackOn/Experiments/20130109_TrackOn_Results/HDNI_004/677054536/677054536_20110620_30/TissueClassify/POS*\n",
      "AIR=!ls '/hjohnson/TrackOn/Experiments/20130109_TrackOn_Results/HDNI_004/677054536/677054536_20110620_30/TissueClassify/POSTERIOR_AIR.nii.gz'\n",
      "CSF=!ls '/hjohnson/TrackOn/Experiments/20130109_TrackOn_Results/HDNI_004/677054536/677054536_20110620_30/TissueClassify/POSTERIOR_CSF.nii.gz'\n",
      "VB=!ls '/hjohnson/TrackOn/Experiments/20130109_TrackOn_Results/HDNI_004/677054536/677054536_20110620_30/TissueClassify/POSTERIOR_VB.nii.gz'\n",
      "WM=!ls '/hjohnson/TrackOn/Experiments/20130109_TrackOn_Results/HDNI_004/677054536/677054536_20110620_30/TissueClassify/POSTERIOR_WM.nii.gz'\n",
      "\n",
      "print AllPosteriors"
     ],
     "language": "python",
     "metadata": {},
     "outputs": [
      {
       "output_type": "stream",
       "stream": "stdout",
       "text": [
        "['/hjohnson/TrackOn/Experiments/20130109_TrackOn_Results/HDNI_004/677054536/677054536_20110620_30/TissueClassify/POSTERIOR_ACCUMBEN.nii.gz', '/hjohnson/TrackOn/Experiments/20130109_TrackOn_Results/HDNI_004/677054536/677054536_20110620_30/TissueClassify/POSTERIOR_AIR.nii.gz', '/hjohnson/TrackOn/Experiments/20130109_TrackOn_Results/HDNI_004/677054536/677054536_20110620_30/TissueClassify/POSTERIOR_CAUDATE.nii.gz', '/hjohnson/TrackOn/Experiments/20130109_TrackOn_Results/HDNI_004/677054536/677054536_20110620_30/TissueClassify/POSTERIOR_CRBLGM.nii.gz', '/hjohnson/TrackOn/Experiments/20130109_TrackOn_Results/HDNI_004/677054536/677054536_20110620_30/TissueClassify/POSTERIOR_CRBLWM.nii.gz', '/hjohnson/TrackOn/Experiments/20130109_TrackOn_Results/HDNI_004/677054536/677054536_20110620_30/TissueClassify/POSTERIOR_CSF.nii.gz', '/hjohnson/TrackOn/Experiments/20130109_TrackOn_Results/HDNI_004/677054536/677054536_20110620_30/TissueClassify/POSTERIOR_GLOBUS.nii.gz', '/hjohnson/TrackOn/Experiments/20130109_TrackOn_Results/HDNI_004/677054536/677054536_20110620_30/TissueClassify/POSTERIOR_HIPPOCAMPUS.nii.gz', '/hjohnson/TrackOn/Experiments/20130109_TrackOn_Results/HDNI_004/677054536/677054536_20110620_30/TissueClassify/POSTERIOR_NOTCSF.nii.gz', '/hjohnson/TrackOn/Experiments/20130109_TrackOn_Results/HDNI_004/677054536/677054536_20110620_30/TissueClassify/POSTERIOR_NOTGM.nii.gz', '/hjohnson/TrackOn/Experiments/20130109_TrackOn_Results/HDNI_004/677054536/677054536_20110620_30/TissueClassify/POSTERIOR_NOTVB.nii.gz', '/hjohnson/TrackOn/Experiments/20130109_TrackOn_Results/HDNI_004/677054536/677054536_20110620_30/TissueClassify/POSTERIOR_NOTWM.nii.gz', '/hjohnson/TrackOn/Experiments/20130109_TrackOn_Results/HDNI_004/677054536/677054536_20110620_30/TissueClassify/POSTERIOR_PUTAMEN.nii.gz', '/hjohnson/TrackOn/Experiments/20130109_TrackOn_Results/HDNI_004/677054536/677054536_20110620_30/TissueClassify/POSTERIOR_SURFGM.nii.gz', '/hjohnson/TrackOn/Experiments/20130109_TrackOn_Results/HDNI_004/677054536/677054536_20110620_30/TissueClassify/POSTERIOR_THALAMUS.nii.gz', '/hjohnson/TrackOn/Experiments/20130109_TrackOn_Results/HDNI_004/677054536/677054536_20110620_30/TissueClassify/POSTERIOR_VB.nii.gz', '/hjohnson/TrackOn/Experiments/20130109_TrackOn_Results/HDNI_004/677054536/677054536_20110620_30/TissueClassify/POSTERIOR_WM.nii.gz']\n"
       ]
      }
     ],
     "prompt_number": 3
    },
    {
     "cell_type": "code",
     "collapsed": false,
     "input": [
      "def MakeInclusionMaskForGMStructures( AIR_FN, CSF_FN, VB_FN, WM_FN ):\n",
      "    import SimpleITK as sitk\n",
      "    AIR_PROB=sitk.ReadImage(AIR_FN)\n",
      "    CSF_PROB=sitk.ReadImage(CSF_FN)\n",
      "    VB_PROB=sitk.ReadImage(VB_FN)\n",
      "    WM_PROB=sitk.ReadImage(WM_FN)\n",
      "    \n",
      "    AIR_Region=sitk.BinaryThreshold(AIR_PROB,0.51,1.01,1,0)\n",
      "    CSF_Region=sitk.BinaryThreshold(CSF_PROB,0.51,1.01,1,0)\n",
      "    VB_Region=sitk.BinaryThreshold(VB_PROB,0.51,1.01,1,0)\n",
      "    WM_Region=sitk.BinaryThreshold(WM_PROB,0.99,1.01,1,0) #NOTE: Higher tolerance for WM regions!\n",
      "    \n",
      "    AllGMStructureInclusionRegion=sitk.BinaryThreshold(AIR_Region+CSF_Region+VB_Region+WM_Region,1,100,0,1) #NOTE: Inversion of input/output definitions\n",
      "    \n",
      "    return AllGMStructureInclusionRegion\n"
     ],
     "language": "python",
     "metadata": {},
     "outputs": [],
     "prompt_number": 13
    },
    {
     "cell_type": "code",
     "collapsed": false,
     "input": [
      "GMStructureCandidiate=MakeInclusionMaskForGMStructures(AIR[0],CSF[0],VB[0],WM[0])\n",
      "sitk.Show(GMStructureCandidiate*255,'GMStructureCandidate.nii.gz') \n",
      "sitk.WriteImage(GMStructureCandidiate,'/tmp/GMStructure_seg.nii.gz')"
     ],
     "language": "python",
     "metadata": {},
     "outputs": [],
     "prompt_number": 15
    },
    {
     "cell_type": "code",
     "collapsed": false,
     "input": [],
     "language": "python",
     "metadata": {},
     "outputs": []
    }
   ],
   "metadata": {}
  }
 ]
}