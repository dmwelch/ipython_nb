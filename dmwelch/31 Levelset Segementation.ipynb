{
 "metadata": {
  "name": "31 Levelset Segementation"
 },
 "nbformat": 3,
 "nbformat_minor": 0,
 "worksheets": [
  {
   "cells": [
    {
     "cell_type": "code",
     "collapsed": false,
     "input": [
      "import pylab\n",
      "import SimpleITK as sitk\n",
      "from myshow import myshow, myshow3d"
     ],
     "language": "python",
     "metadata": {},
     "outputs": [],
     "prompt_number": 9
    },
    {
     "cell_type": "code",
     "collapsed": false,
     "input": [
      "img_T1 = sitk.ReadImage(\"Data/nac-brain-atlas-1.0/volumes/A1_grayT1.nrrd\")\n",
      "img_T2 = sitk.ReadImage(\"Data/nac-brain-atlas-1.0/volumes/A1_grayT2.nrrd\")\n",
      "img_T1_255 = sitk.Cast(sitk.RescaleIntensity(img_T1), sitk.sitkUInt8)\n",
      "img_T1_255 = sitk.Cast(sitk.RescaleIntensity(img_T1), sitk.sitkUInt8)"
     ],
     "language": "python",
     "metadata": {},
     "outputs": [],
     "prompt_number": 2
    },
    {
     "cell_type": "code",
     "collapsed": false,
     "input": [
      "sitk.Show(img_T1, title=\"T1\")"
     ],
     "language": "python",
     "metadata": {},
     "outputs": [],
     "prompt_number": 3
    },
    {
     "cell_type": "code",
     "collapsed": false,
     "input": [
      "idx = (106,116,141)\n",
      "pt = img_T1.TransformIndexToPhysicalPoint(idx)"
     ],
     "language": "python",
     "metadata": {},
     "outputs": [],
     "prompt_number": 5
    },
    {
     "cell_type": "code",
     "collapsed": false,
     "input": [
      "seg = sitk.Image(img_T1.GetSize(), sitk.sitkUInt8)\n",
      "seg.CopyInformation(img_T1)\n",
      "seg[idx] = 1\n",
      "seg = sitk.BinaryDilate(seg, 3)\n",
      "myshow3d(sitk.LabelOverlay(img_T1_255, seg), zslices=range(idx[2]-3, idx[2]+4, 3), dpi=30, title=\"Initial Seed\")"
     ],
     "language": "python",
     "metadata": {},
     "outputs": [],
     "prompt_number": 10
    },
    {
     "cell_type": "code",
     "collapsed": false,
     "input": [
      "stats = sitk.LabelStatisticsImageFilter()\n",
      "stats.Execute(img_T1, seg)\n",
      "print stats"
     ],
     "language": "python",
     "metadata": {},
     "outputs": [
      {
       "output_type": "stream",
       "stream": "stdout",
       "text": [
        "itk::simple::LabelStatisticsImageFilter\n",
        "\t Label(0)[Count] = 1.91691e+07\n",
        "\t Label(0)[Maximum] = 2131.87\n",
        "\t Label(0)[Mean] = 182.056\n",
        "\t Label(0)[Minimum] = -135.632\n",
        "\t Label(0)[Sigma] = 217.934\n",
        "\t Label(0)[Sum] = 3.48986e+09\n",
        "\t Label(0)[Variance] = 47495.3\n",
        "\t Label(0)[approxMedian] = 28.2305\n",
        "\t Label(1)[Count] = 179\n",
        "\t Label(1)[Maximum] = 561.325\n",
        "\t Label(1)[Mean] = 476.567\n",
        "\t Label(1)[Minimum] = 323.044\n",
        "\t Label(1)[Sigma] = 67.6929\n",
        "\t Label(1)[Sum] = 85305.5\n",
        "\t Label(1)[Variance] = 4582.33\n",
        "\t Label(1)[approxMedian] = 506.531\n",
        "\n"
       ]
      }
     ],
     "prompt_number": 11
    },
    {
     "cell_type": "code",
     "collapsed": false,
     "input": [
      "factor = 1.5\n",
      "lower_threshold = stats.GetMean(1)-factor*stats.GetSigma(1)\n",
      "upper_threshold = stats.GetMean(1)+factor*stats.GetSigma(1)"
     ],
     "language": "python",
     "metadata": {},
     "outputs": [],
     "prompt_number": 12
    },
    {
     "cell_type": "code",
     "collapsed": false,
     "input": [
      "init_ls = sitk.SignedMaurerDistanceMap(seg, insideIsPositive=True, useImageSpacing=True)"
     ],
     "language": "python",
     "metadata": {},
     "outputs": [],
     "prompt_number": 13
    },
    {
     "cell_type": "code",
     "collapsed": false,
     "input": [
      "lsFilter = sitk.ThresholdSegmentationLevelSetImageFilter()\n",
      "lsFilter.SetLowerThreshold(lower_threshold)\n",
      "lsFilter.SetUpperThreshold(upper_threshold)\n",
      "lsFilter.SetMaximumRMSError(0.02)\n",
      "lsFilter.SetNumberOfIterations(100)\n",
      "lsFilter.SetCurvatureScaling(1)\n",
      "lsFilter.SetPropagationScaling(1)\n",
      "lsFilter.ReverseExpansionDirectionOn()"
     ],
     "language": "python",
     "metadata": {},
     "outputs": [
      {
       "output_type": "pyout",
       "prompt_number": 14,
       "text": [
        "<SimpleITK.ThresholdSegmentationLevelSetImageFilter; proxy of <Swig Object of type 'itk::simple::ThresholdSegmentationLevelSetImageFilter::Self *' at 0x11687c990> >"
       ]
      }
     ],
     "prompt_number": 14
    },
    {
     "cell_type": "code",
     "collapsed": false,
     "input": [
      "ls = lsFilter.Execute(init_ls, sitk.Cast(img_T1, sitk.sitkFloat32))\n",
      "print lsFilter\n"
     ],
     "language": "python",
     "metadata": {},
     "outputs": [
      {
       "output_type": "stream",
       "stream": "stdout",
       "text": [
        "itk::simple::ThresholdSegmentationLevelSetImageFilter\n",
        "  LowerThreshold: 375.028\n",
        "  UpperThreshold: 578.107\n",
        "  MaximumRMSError: 0.02\n",
        "  PropagationScaling: 1\n",
        "  CurvatureScaling: 1\n",
        "  NumberOfIterations: 100\n",
        "  ReverseExpansionDirection: 1\n",
        "  ElapsedIterations: 100\n",
        "  RMSChange: 0.0691501\n",
        "\n"
       ]
      }
     ],
     "prompt_number": 15
    },
    {
     "cell_type": "code",
     "collapsed": false,
     "input": [
      "zslice_offset = 4\n",
      "t = \"LevelSet after \"+str(lsFilter.GetNumberOfIterations())+\" iterations\"\n",
      "myshow3d(sitk.LabelOverlay(img_T1_255, ls > 0), zslices=range(idx[2]-zslice_offset,idx[2]+zslice_offset+1,zslice_offset), dpi=20, title=t)"
     ],
     "language": "python",
     "metadata": {},
     "outputs": [],
     "prompt_number": 16
    },
    {
     "cell_type": "code",
     "collapsed": false,
     "input": [
      "lsFilter.SetNumberOfIterations(25)\n",
      "img_T1f = sitk.Cast(img_T1, sitk.sitkFloat32)\n",
      "ls = init_ls\n",
      "niter = 0\n",
      "for i in range(0, 10):\n",
      "    ls = lsFilter.Execute(ls, img_T1f)\n",
      "    niter += lsFilter.GetNumberOfIterations()\n",
      "    t = \"LevelSet after \"+str(niter)+\" iterations and RMS \"+str(lsFilter.GetRMSChange())\n",
      "    fig = myshow3d(sitk.LabelOverlay(img_T1_255, ls > 0), zslices=range(idx[2]-zslice_offset,idx[2]+zslice_offset+1,zslice_offset), dpi=20, title=t)\n"
     ],
     "language": "python",
     "metadata": {},
     "outputs": [],
     "prompt_number": 17
    },
    {
     "cell_type": "code",
     "collapsed": false,
     "input": [
      "fig = myshow3d(sitk.LabelOverlay(img_T1_255, ls > 0), zslices=range(idx[2]-zslice_offset,idx[2]+zslice_offset+1,zslice_offset), dpi=20, title=t)"
     ],
     "language": "python",
     "metadata": {},
     "outputs": [],
     "prompt_number": 18
    },
    {
     "cell_type": "code",
     "collapsed": false,
     "input": [
      "fig.sh"
     ],
     "language": "python",
     "metadata": {},
     "outputs": []
    }
   ],
   "metadata": {}
  }
 ]
}