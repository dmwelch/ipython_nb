{
 "metadata": {
  "name": "Developer-Nipype"
 },
 "nbformat": 3,
 "nbformat_minor": 0,
 "worksheets": [
  {
   "cells": [
    {
     "cell_type": "heading",
     "level": 1,
     "metadata": {},
     "source": [
      "Nipype helper code and misc examples/functions"
     ]
    },
    {
     "cell_type": "code",
     "collapsed": false,
     "input": [
      "def examineNode(filename):\n",
      "    \"\"\" Load a .plkz file and print out important information.  Return the node object \"\"\"\n",
      "    import pickle\n",
      "    import pprint\n",
      "    import gzip\n",
      "    \n",
      "    try:\n",
      "        in_file = gzip.open(filename)\n",
      "        temp = pickle.load(in_file)\n",
      "    except ImportError, err:\n",
      "        raise ImportError('Please add path to module %s to PYTHONPATH' % err.message.split(' ')[-1])\n",
      "    finally:\n",
      "        in_file.close()\n",
      "    print(temp)\n",
      "    # pprintint.pprint(temp.inputs)\n",
      "    # pprint.pprint(temp.outputs)\n",
      "    # out = temp.interface._list_outputs()\n",
      "    # pprint.pprint(out)\n",
      "    # pprint.pprint(temp.outputs)\n",
      "    # temp.inputs.trait_view\n",
      "    # temp.interface.input\n",
      "    # temp.interface._format_arg('in_file', temp.inputs.trait, temp.inputs.in_file)\n",
      "    return temp"
     ],
     "language": "python",
     "metadata": {},
     "outputs": [],
     "prompt_number": 5
    },
    {
     "cell_type": "heading",
     "level": 2,
     "metadata": {},
     "source": [
      "Example use of examineNode"
     ]
    },
    {
     "cell_type": "code",
     "collapsed": false,
     "input": [
      "node = examineNode('rsDataSink/_node.pklz')\n",
      "node.inputs\n",
      "#node.outputs"
     ],
     "language": "python",
     "metadata": {},
     "outputs": [
      {
       "output_type": "stream",
       "stream": "stdout",
       "text": [
        "workflow_20121217.rsDataSink.a0\n"
       ]
      },
      {
       "output_type": "pyout",
       "prompt_number": 50,
       "text": [
        "\n",
        "_outputs = {'aparca2009s.@raw': 'errts_Decon+orig_dtroiStat_raw.mat', 'aparc.@corr': 'errts_Decon+orig_dtroiStat_corr.mat', 'aparca2009s.@corr': 'errts_Decon+orig_dtroiStat_corr.mat', 'aparca2009s.@label': 'errts_Decon+orig_dtroiStat_labels.mat', 'aparc.@raw': 'errts_Decon+orig_dtroiStat_raw.mat', 'aparc.@label': 'errts_Decon+orig_dtroiStat_labels.mat'}\n",
        "base_directory = /paulsen/Experiments/rsFMRI-test/Results\n",
        "container = 95097\n",
        "ignore_exception = False\n",
        "parameterization = True\n",
        "regexp_substitutions = <undefined>\n",
        "remove_dest_dir = False\n",
        "strip_dir = <undefined>\n",
        "substitutions = [('errts', 'freesurfer')]\n"
       ]
      }
     ],
     "prompt_number": 50
    }
   ],
   "metadata": {}
  }
 ]
}