{
 "metadata": {
  "name": "20130426-generateNewPriors 03 Brainstem"
 },
 "nbformat": 3,
 "nbformat_minor": 0,
 "worksheets": [
  {
   "cells": [
    {
     "cell_type": "code",
     "collapsed": false,
     "input": [
      "import os\n",
      "import sys\n",
      "\n",
      "import SimpleITK as sitk"
     ],
     "language": "python",
     "metadata": {},
     "outputs": [],
     "prompt_number": 2
    },
    {
     "cell_type": "code",
     "collapsed": false,
     "input": [
      "notebookDir = os.path.dirname(os.getcwd())\n",
      "# print notebookDir\n",
      "experimentDir = os.path.join('/paulsen', 'Experiments', '20130426-generateNewPriors')\n",
      "# print experimentDir"
     ],
     "language": "python",
     "metadata": {},
     "outputs": [],
     "prompt_number": 3
    },
    {
     "cell_type": "code",
     "collapsed": false,
     "input": [
      "sys.path.insert(0, os.path.join(notebookDir, 'common'))\n",
      "import pinc\n",
      "\n",
      "# POSTERIOR_DIR = '/paulsen/Experiments/20130202_PREDICTHD_Results/SubjectToAtlasWarped/'"
     ],
     "language": "python",
     "metadata": {},
     "outputs": [],
     "prompt_number": 4
    },
    {
     "cell_type": "code",
     "collapsed": false,
     "input": [
      "sys.path.insert(1, os.path.join(notebookDir, 'SimpleITK-Notebooks'))\n",
      "\n",
      "import myshow as sitk_show\n",
      "\n",
      "def show(img, **kwds):\n",
      "    size = img.GetSize()\n",
      "    if kwds == {}:\n",
      "        zslices=range(size[2]/10,size[2]-size[2]/10,size[2]/10)\n",
      "        sitk_show.myshow3d(img, xslices=[], yslices=[], zslices=zslices, dpi=30)\n",
      "        return 0\n",
      "    for key, value in kwds.items():\n",
      "        if key.lower() == 'x':\n",
      "            if value == []:\n",
      "                xslices = range(50,size[0]-50,10)\n",
      "            else: \n",
      "                xslices = value\n",
      "        elif key.lower() == 'y':\n",
      "            if value == []:\n",
      "                yslices=range(50,size[1]-50,20)\n",
      "            else: \n",
      "                yslices = value\n",
      "        elif key.lower() == 'z':\n",
      "            if value == []:\n",
      "                zslices=range(120,size[2]-120,20)\n",
      "            else:\n",
      "                zslices = value\n",
      "        else:\n",
      "            raise Exception(\"Unknown dimension\")\n",
      "    sitk_show.myshow3d(img, xslices=xslices, yslices=yslices, zslices=zslices, dpi=30)\n",
      "    return 0"
     ],
     "language": "python",
     "metadata": {},
     "outputs": [],
     "prompt_number": 5
    },
    {
     "cell_type": "code",
     "collapsed": false,
     "input": [
      "def filesplit(filename):\n",
      "    \"\"\" \n",
      "    Split filename by the first '.' in order to append to filename (not extension)\n",
      "    \"\"\"\n",
      "    flist = filename.split('.')\n",
      "    if len(flist) == 2:\n",
      "        # HACK\n",
      "        # return flist[0], '.' + flist[1]\n",
      "        return flist[0], '.nii.gz'\n",
      "        # END HACK\n",
      "    else:\n",
      "        return flist[0], '.' + '.'.join(flist[1:])"
     ],
     "language": "python",
     "metadata": {},
     "outputs": [],
     "prompt_number": 1
    },
    {
     "cell_type": "markdown",
     "metadata": {},
     "source": [
      "# BRAINSTEM #\n",
      "\n",
      "The WM probabilities in the brainstem are in the cerebellum map, NOT the cerebral map.\n",
      "\n",
      "1. Create a brainstem mask\n",
      "2. Dilate by 1mm\n",
      "3. Sum (mask * cerebellum) + cerebral map = new cerebral map\n",
      "4. Sum (1 - mask) * cerebellum map = new cerebellum map\n",
      "\n",
      "NOTE: This is done BEFORE cerebellar masking of the cerebellar WM!"
     ]
    },
    {
     "cell_type": "code",
     "collapsed": false,
     "input": [
      "originalAtlas = os.path.join(experimentDir,'newAtlas/atlas_075mm.nii.gz')\n",
      "atlas = sitk.ReadImage(originalAtlas)\n",
      "# sitk.Show(atlas)"
     ],
     "language": "python",
     "metadata": {},
     "outputs": [],
     "prompt_number": 6
    },
    {
     "cell_type": "code",
     "collapsed": false,
     "input": [
      "cerebellumDir = os.path.join(experimentDir, 'summed_1456', 'resampled', 'cerebellum')"
     ],
     "language": "python",
     "metadata": {},
     "outputs": [],
     "prompt_number": 9
    },
    {
     "cell_type": "code",
     "collapsed": false,
     "input": [
      "brainStemLabels = {'wm':[35, 40, 61], 'csf':[15, 19]}\n",
      "\n",
      "white_matter_crbl = 'soft_resamp_POSTERIOR_CRBLWM_summed_1456_075.nrrd'\n",
      "white_matter = 'soft_resamp_POSTERIOR_WM_summed_1456_075.nrrd'\n",
      "not_white = 'soft_resamp_POSTERIOR_NOTWM_summed_1456_075.nrrd'\n",
      "gray_matter = 'soft_POSTERIOR_SURFGM_summed_1456_resamp_075.nrrd'\n",
      "gray_matter_crbl = 'soft_POSTERIOR_CRBLGM_summed_1456_resamp_075.nrrd'\n",
      "not_gray = 'soft_POSTERIOR_NOTGM_summed_1456_resamp_075.nrrd'\n",
      "csf = 'soft_resamp_POSTERIOR_CSF_summed_1456_075.nrrd'\n",
      "not_csf = 'soft_resamp_POSTERIOR_NOTCSF_summed_1456_075.nrrd'"
     ],
     "language": "python",
     "metadata": {},
     "outputs": [],
     "prompt_number": 14
    },
    {
     "cell_type": "code",
     "collapsed": false,
     "input": [
      "brainstemDir = os.path.join(cerebellumDir, 'brainstem')\n",
      "# os.mkdir(brainstemDir)\n",
      "if not os.path.exists(brainstemDir):\n",
      "    os.mkdir(brainstemDir)"
     ],
     "language": "python",
     "metadata": {},
     "outputs": [],
     "prompt_number": 20
    },
    {
     "cell_type": "code",
     "collapsed": false,
     "input": [
      "atlas = sitk.Cast(atlas, sitk.sitkUInt32)\n",
      "labelnp = sitk.GetArrayFromImage(atlas)\n",
      "binarynp = np.zeros(labelnp.shape)\n",
      "for ii in brainStemLabels['wm']:\n",
      "    binarynp = numpy.where(labelnp == ii, np.ones(labelnp.shape), binarynp)\n",
      "\n",
      "new_atlas = sitk.Cast(sitk.GetImageFromArray(binarynp), sitk.sitkUInt8)\n",
      "new_atlas.CopyInformation(atlas)\n",
      "#new_atlas.SetDirection(cerebral_wm.GetDirection())\n",
      "#new_atlas.SetOrigin(cerebral_wm.GetOrigin())\n",
      "#new_atlas.SetSpacing(cerebral_wm.GetSpacing())\n",
      "#sitk.Show(new_atlas)\n",
      "sitk.WriteImage(new_atlas, os.path.join(experimentDir, 'newAtlas', 'brainstem_mask_075mm.nii.gz'))"
     ],
     "language": "python",
     "metadata": {},
     "outputs": [],
     "prompt_number": 11
    },
    {
     "cell_type": "code",
     "collapsed": false,
     "input": [
      "cerebellum_wm = sitk.ReadImage(os.path.join(cerebellumDir, gray_matter_crbl))\n",
      "resample_to_wm = sitk.Resample(new_atlas, \n",
      "                               interpolator=sitk.sitkNearestNeighbor, \n",
      "                               size=cerebellum_wm.GetSize(),\n",
      "                               outputOrigin=cerebellum_wm.GetOrigin(),\n",
      "                               outputSpacing=cerebellum_wm.GetSpacing(),\n",
      "                               outputDirection=cerebellum_wm.GetDirection())"
     ],
     "language": "python",
     "metadata": {},
     "outputs": [],
     "prompt_number": 15
    },
    {
     "cell_type": "code",
     "collapsed": false,
     "input": [
      "### 1 mm was chosen after comparison with 1 mm and 3 mm.  3 mm had too much overlap in the cerebellum to be desirable\n",
      "dilate_by_one = sitk.BinaryDilate(resample_to_wm, 1)\n",
      "sitk.WriteImage(dilate_by_one, os.path.join(experimentDir, 'newAtlas', 'brainstem_mask_075mm_dilate_1mm.nii.gz'))"
     ],
     "language": "python",
     "metadata": {},
     "outputs": [],
     "prompt_number": 16
    },
    {
     "cell_type": "markdown",
     "metadata": {},
     "source": [
      "Width of Gaussian:\n",
      "\n",
      "The soft mask is blurred evenly across the border _if_ you use the RecursiveGaussianImageFilter.\n",
      "\n",
      "To get the width of the blurred edge at $1/10$ of maximum (FWTM): \n",
      "\n",
      "$$FWTM = 2\\sigma\\sqrt{2\\ln(10))}$$\n",
      "$$\\sigma = {{FWTM}\\over{(2\\sqrt{2\\ln(10)}}}$$"
     ]
    },
    {
     "cell_type": "code",
     "collapsed": false,
     "input": [
      "def SoftMask(image, FWTM, directions=[0,1,2]):\n",
      "    \"\"\" \n",
      "    Returns the Gaussian blurred (soft) mask of a binary (hard) mask with the full-width-tenth-max (FWTM) width \n",
      "    \"\"\"\n",
      "    import math\n",
      "    factor = 2 * math.sqrt(2 * math.log(10))\n",
      "    sigma = FWTM / factor\n",
      "    soft = image\n",
      "    for direction in directions:\n",
      "        soft = sitk.RecursiveGaussian(soft, sigma=sigma, direction=direction)\n",
      "    return soft"
     ],
     "language": "python",
     "metadata": {},
     "outputs": [],
     "prompt_number": 17
    },
    {
     "cell_type": "code",
     "collapsed": false,
     "input": [
      "# SoftMask testing\n",
      "test = sitk.Image([64]*3, sitk.sitkFloat32)\n",
      "for x in range(20,45):\n",
      "    for y in range(20,45):\n",
      "         for z in range(20,45):\n",
      "              test.SetPixel(x,y,z,1.0)\n",
      "# sitk.Show(test)\n",
      "binaryMask = sitk.BinaryThreshold(test, lowerThreshold=0.9)\n",
      "#sitk.Show(binaryMask)\n",
      "softMask = SoftMask(binaryMask, 5.0)\n",
      "sitk.Show(softMask)"
     ],
     "language": "python",
     "metadata": {},
     "outputs": [],
     "prompt_number": 8
    },
    {
     "cell_type": "markdown",
     "metadata": {},
     "source": [
      "#### White matter"
     ]
    },
    {
     "cell_type": "code",
     "collapsed": false,
     "input": [
      "cerebellum_wm = sitk.ReadImage(os.path.join(cerebellumDir, white_matter_crbl))\n",
      "cerebral_wm = sitk.ReadImage(os.path.join(cerebellumDir, white_matter))\n",
      "\n",
      "# Mask with a 'hard' binary mask\n",
      "masked_wm = sitk.Mask(cerebellum_wm, dilate_by_one)\n",
      "# sitk.Show(masked_wm)\n",
      "\n",
      "new_cerebral_wm = cerebral_wm + masked_wm\n",
      "sitk.WriteImage(new_cerebral_wm, os.path.join(brainstemDir, 'hard_' + white_matter))\n",
      "new_cerebellum_wm = cerebellum_wm - masked_wm\n",
      "sitk.WriteImage(new_cerebellum_wm, os.path.join(brainstemDir, 'hard_' + white_matter_crbl))\n",
      "\n",
      "# Mask with a 'soft' mask\n",
      "soft_mask = SoftMask(dilate_by_one, 2)\n",
      "soft_masked_wm = cerebellum_wm * soft_mask\n",
      "#sitk.Show(soft_masked_wm)\n",
      "#sitk.Show(resample_to_wm_three)\n",
      "#sitk.Show(soft_mask)\n",
      "\n",
      "soft_new_cerebral_wm = cerebral_wm + soft_masked_wm\n",
      "sitk.WriteImage(soft_new_cerebral_wm, os.path.join(brainstemDir, 'soft_' + white_matter))\n",
      "soft_new_cerebellum_wm = cerebellum_wm - soft_masked_wm\n",
      "sitk.WriteImage(soft_new_cerebellum_wm, os.path.join(brainstemDir, 'soft_' + white_matter_crbl))"
     ],
     "language": "python",
     "metadata": {},
     "outputs": [],
     "prompt_number": 21
    },
    {
     "cell_type": "markdown",
     "metadata": {},
     "source": [
      "#### Gray matter"
     ]
    },
    {
     "cell_type": "code",
     "collapsed": false,
     "input": [
      "cerebellum_gm = sitk.ReadImage(os.path.join(cerebellumDir, gray_matter_crbl))\n",
      "cerebral_gm = sitk.ReadImage(os.path.join(cerebellumDir, gray_matter))\n",
      "\n",
      "# Mask with a 'hard' binary mask\n",
      "masked_gm = sitk.Mask(cerebellum_gm, dilate_by_one)\n",
      "# sitk.Show(masked_wm)\n",
      "\n",
      "new_cerebral_gm = cerebral_gm + masked_gm\n",
      "sitk.WriteImage(new_cerebral_gm, os.path.join(brainstemDir, 'hard_' + gray_matter))\n",
      "new_cerebellum_gm = cerebellum_gm - masked_gm\n",
      "sitk.WriteImage(new_cerebellum_gm, os.path.join(brainstemDir, 'hard_' + gray_matter_crbl))\n",
      "\n",
      "# Mask with a 'soft' mask\n",
      "soft_mask = SoftMask(dilate_by_one, 2)\n",
      "soft_masked_gm = cerebellum_gm * soft_mask\n",
      "#sitk.Show(soft_masked_gm)\n",
      "#sitk.Show(resample_to_gm_three)\n",
      "#sitk.Show(soft_mask)\n",
      "\n",
      "soft_new_cerebral_gm = cerebral_gm + soft_masked_gm\n",
      "sitk.WriteImage(soft_new_cerebral_gm, os.path.join(brainstemDir, 'soft_' + gray_matter))\n",
      "soft_new_cerebellum_gm = cerebellum_gm - soft_masked_gm\n",
      "sitk.WriteImage(soft_new_cerebellum_gm, os.path.join(brainstemDir, 'soft_' + gray_matter_crbl))"
     ],
     "language": "python",
     "metadata": {},
     "outputs": [],
     "prompt_number": 23
    },
    {
     "cell_type": "code",
     "collapsed": false,
     "input": [],
     "language": "python",
     "metadata": {},
     "outputs": []
    }
   ],
   "metadata": {}
  }
 ]
}