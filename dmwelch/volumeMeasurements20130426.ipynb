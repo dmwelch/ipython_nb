{
 "metadata": {
  "name": "volumeMeasurements20130426"
 },
 "nbformat": 3,
 "nbformat_minor": 0,
 "worksheets": [
  {
   "cells": [
    {
     "cell_type": "code",
     "collapsed": false,
     "input": [
      "import os\n",
      "import sys\n",
      "\n",
      "import SimpleITK as sitk"
     ],
     "language": "python",
     "metadata": {},
     "outputs": [],
     "prompt_number": 24
    },
    {
     "cell_type": "code",
     "collapsed": false,
     "input": [
      "valueDict = {\n",
      "    \"l_caudate\": 1,\n",
      "    \"r_caudate\": 2,\n",
      "    \"l_putamen\": 3,\n",
      "    \"r_putamen\": 4,\n",
      "    \"l_hippocampus\": 5,\n",
      "    \"r_hippocampus\": 6,\n",
      "    \"l_thalamus\": 7,\n",
      "    \"r_thalamus\": 8,\n",
      "    \"l_accumbens\": 9,\n",
      "    \"r_accumbens\": 10,\n",
      "    \"l_globus\": 11,\n",
      "    \"r_globus\": 12\n",
      "}\n",
      "\n",
      "orderOfPriority = [\"l_caudate\", \n",
      "                   \"r_caudate\",\n",
      "                   \"l_putamen\",\n",
      "                   \"r_putamen\",\n",
      "                   \"l_hippocampus\",\n",
      "                   \"r_hippocampus\",\n",
      "                   \"l_thalamus\",\n",
      "                   \"r_thalamus\",\n",
      "                   \"l_accumbens\",\n",
      "                   \"r_accumbens\",\n",
      "                   \"l_globus\",\n",
      "                   \"r_globus\"]"
     ],
     "language": "python",
     "metadata": {},
     "outputs": [],
     "prompt_number": 12
    },
    {
     "cell_type": "code",
     "collapsed": false,
     "input": [
      "def getVolumes(outfile, labelImageDir):\n",
      "    parts = labelImageDir.split(os.path.sep)\n",
      "    _dummy = parts.pop()\n",
      "    session = parts.pop()\n",
      "    subject = parts.pop()\n",
      "    project = parts.pop()\n",
      "    experiment = parts.pop()\n",
      "    labelImageName = os.path.join(labelImageDir, \"allLabels_seg.nii.gz\")\n",
      "    labelImage = sitk.ReadImage(labelImageName)\n",
      "    lstat = sitk.LabelStatisticsImageFilter()\n",
      "    lstat.Execute(labelImage, labelImage)\n",
      "    \n",
      "    ImageSpacing = labelImage.GetSpacing()\n",
      "    for name in orderOfPriority:\n",
      "        value = valueDict[name]\n",
      "        if lstat.HasLabel(value):\n",
      "            myMeasurementMap = lstat.GetMeasurementMap(value)\n",
      "            dictKeys = myMeasurementMap.GetVectorOfMeasurementNames()\n",
      "            dictValues = myMeasurementMap.GetVectorOfMeasurementValues()\n",
      "            measurementDict = dict(zip(dictKeys, dictValues))\n",
      "            volume = ImageSpacing[0] * ImageSpacing[1] * ImageSpacing[2] * measurementDict['Count']\n",
      "            try: \n",
      "                fid.open(outfile, 'a')\n",
      "                fid.write(\"{experiment},{site},{subject},{session},{name},{volume}\\n\".format(experiment=experiment, site=site, subject=subject, \n",
      "                                                                                             session=session, name=name, volume=volume))\n",
      "                fid.flush()\n",
      "            finally:\n",
      "                fid.close()"
     ],
     "language": "python",
     "metadata": {},
     "outputs": [],
     "prompt_number": 5
    },
    {
     "cell_type": "code",
     "collapsed": false,
     "input": [
      "def main(args):\n",
      "    baseDir = args.baseDir\n",
      "    outfile = args.outfile\n",
      "    for base, dirs, _ in os.walk(baseDir):\n",
      "        if 'CleanedDenoisedRFSegmentations' in dirs:\n",
      "            labelImageDir = os.path.join(base, 'CleanedDenoisedRFSegmentations')\n",
      "            getVolumes(outfile, labelImageDir)"
     ],
     "language": "python",
     "metadata": {},
     "outputs": [
      {
       "ename": "SyntaxError",
       "evalue": "invalid syntax (<ipython-input-1-7e0edff1a013>, line 1)",
       "output_type": "pyerr",
       "traceback": [
        "\u001b[0;36m  File \u001b[0;32m\"<ipython-input-1-7e0edff1a013>\"\u001b[0;36m, line \u001b[0;32m1\u001b[0m\n\u001b[0;31m    def main(args):for base, dirs, _ in os.walk(baseDir):\u001b[0m\n\u001b[0m                     ^\u001b[0m\n\u001b[0;31mSyntaxError\u001b[0m\u001b[0;31m:\u001b[0m invalid syntax\n"
       ]
      }
     ],
     "prompt_number": 1
    },
    {
     "cell_type": "code",
     "collapsed": false,
     "input": [
      "if __name__ == \"__main__\":\n",
      "    import argparse\n",
      "    import sys\n",
      "    parser = argparse.ArgumentParser(description='BRAINSABC segmentation volume calculation script 2013-04-26')\n",
      "    parser.add_argument('-d', '--directory', action='store', dest='baseDir', type=str, required=True,\n",
      "                        help='The base directory to search for TissueClassify/ directories')\n",
      "    parser.add_argument('-f','--file', action='store', dest='outfile', type=str, required=True,\n",
      "                        help='The filename for the output csv.  If it exists already, it will be appended.')\n",
      "    args = parser.parse_args()\n",
      "    sys.exit(main(args))"
     ],
     "language": "python",
     "metadata": {},
     "outputs": []
    }
   ],
   "metadata": {}
  }
 ]
}