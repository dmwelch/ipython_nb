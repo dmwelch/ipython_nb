{
 "metadata": {
  "name": "mergeCSVs"
 },
 "nbformat": 3,
 "nbformat_minor": 0,
 "worksheets": [
  {
   "cells": [
    {
     "cell_type": "code",
     "collapsed": false,
     "input": [
      "import csv\n",
      "\n",
      "volumeFile = '/raid0/homes/dmwelch/Desktop/predicthd_volumes.csv'\n",
      "qaReviewFile = '/raid0/homes/dmwelch/Desktop/predictReviews20130214_1700.csv'\n",
      "scanCountFile = '/raid0/homes/dmwelch/Desktop/Predict_good_scans_count.csv'\n",
      "\n",
      "count = 0\n",
      "master = dict()\n",
      "with open(volumeFile, 'r') as csvfile:\n",
      "    reader = csv.DictReader(csvfile) # , fieldnames=['Structure', 'LabelCode', 'Volume_mm3', 'FileName'], restkey='record')\n",
      "    for row in reader:\n",
      "        experiment = row.pop('experiment')\n",
      "        site = row.pop('site')\n",
      "        subject = row.pop('subject')\n",
      "        session = row.pop('session')\n",
      "        if experiment in master.keys():\n",
      "            if site in master[experiment].keys():\n",
      "                if subject in master[experiment][site].keys():\n",
      "                    if session in master[experiment][site][subject][session].keys():\n",
      "                        for key, value in row:\n",
      "                            master[experiment][site][subject][session][key] = value\n",
      "                    else:\n",
      "                        print \"Found \n",
      "                        master[experiment][site][subject][session] = row\n",
      "                else:\n",
      "                    master[experiment][site][subject] = {session:row}\n",
      "            else:\n",
      "                master[experiment][site] = {subject:{session:row}}\n",
      "        else:\n",
      "            master[experiment] = {site:{subject:{session:row}}}\n",
      "        count += 1\n",
      "        if count > 10:\n",
      "            break\n",
      "        \n",
      "        "
     ],
     "language": "python",
     "metadata": {},
     "outputs": [],
     "prompt_number": 40
    },
    {
     "cell_type": "code",
     "collapsed": false,
     "input": [
      "import psycopg2 as sql\n",
      "import ConfigParser as cp\n",
      "from warnings import warn\n",
      "import os\n",
      "\n",
      "class Database(object):\n",
      "    \"\"\" Connect to the Postgres database and prevent multiple user collisions\n",
      "        during simultaneous evaluations\n",
      "    \"\"\"\n",
      "    def __init__(self, *args, **kwds):\n",
      "        \"\"\"\n",
      "        Class attributes needed for connecting to and interacting with the database\n",
      "\n",
      "        ------------------------\n",
      "        Arguments:\n",
      "        - `host`: The name of the host machine (default = 'localhost')\n",
      "        - `port`: The port number (default = 5432)\n",
      "        - `pguser`: The username to connect to the Postgres server with (default = 'postgres')\n",
      "        - `database`: The name of the database to connect to.  If omitted, it is the same as the `user`\n",
      "        - `password`: The password associated with the `user` on the Postgres server (default = 'postgres')\n",
      "        - `login`: The reviewer login ID (default = $USER)\n",
      "        - `arraySize`: The number of rows to return (default = 1)\n",
      "        - `imageTable`: The database table to query for records (default = None)\n",
      "        - `reviewTable`: The database table to update with reviews (default = None)\n",
      "        ------------------------\n",
      "\n",
      "        \"\"\"\n",
      "        validArgs = ('host', 'port', 'pguser', 'database', 'password',\n",
      "                     'login', 'arraySize', 'imageTable', 'reviewTable')\n",
      "        defaults = ('localhost', 5432, 'postgres', None, 'postgres',\n",
      "                    os.environ['USER'], 0, None, None)\n",
      "        self._testing = False\n",
      "        self._lines = None\n",
      "        self.rows = None\n",
      "        self.connection = None\n",
      "        self.cursor = None\n",
      "        self.reviewer_id = None\n",
      "        self.imageTable = None\n",
      "        self.reviewTable = None\n",
      "        argsList = list(args)\n",
      "        for key in validArgs:\n",
      "            if key in kwds.keys():\n",
      "                value = kwds[key]\n",
      "            elif len(argsList) != 0:\n",
      "                value =  argsList.pop(0)\n",
      "            else:\n",
      "                value = defaults[validArgs.index(key)]\n",
      "            setattr(self, key, value)\n",
      "        if self.database is None:\n",
      "            self.database = self.pguser\n",
      "        super(Database,self).__init__()\n",
      "        \n",
      "\n",
      "    def open(self):\n",
      "        \"\"\" Open the database and create a cursor \"\"\"\n",
      "        self.connection = sql.connect(host=self.host,\n",
      "                                      port=self.port,\n",
      "                                      database=self.database,\n",
      "                                      user=self.pguser,\n",
      "                                      password=self.password)\n",
      "        self.cursor = self.connection.cursor()\n",
      "        self.cursor.arraysize = self.arraySize\n",
      "\n",
      "\n",
      "    def close(self):\n",
      "        \"\"\" Close cursor and connection, setting values to None \"\"\"\n",
      "        self.cursor.close()\n",
      "        self.cursor = None\n",
      "        self.connection.close()\n",
      "        self.connection = None\n",
      "\n",
      "        \n",
      "    def getRecords(self, status='R', imageTable=None, **kwds):\n",
      "        \"\"\" Return a dictionary of rows where the number of rows == self.arraySize \"\"\"\n",
      "        if imageTable is None:\n",
      "            imageTable = self.imageTable\n",
      "        assert not imageTable is None, 'Table is not specified: value is \"None\"'\n",
      "        self.imageTable = imageTable\n",
      "        assert self.cursor is not None, 'The database is not open! Run Database.open()'\n",
      "        getRecord = \"SELECT record_id FROM {0} WHERE \".format(imageTable)\n",
      "        for key, value in kwds.items():\n",
      "            getRecord += \"{key} = '{value}' AND \".format(key=key, value=value)\n",
      "        getRecord = getRecord[:-5]\n",
      "        # print getRecord\n",
      "        try:\n",
      "            # logging.info(getRecord)\n",
      "            self.cursor.execute(getRecord)\n",
      "        except sql.ProgrammingError:\n",
      "            raise ValueError(\"The table '%s' does not exist in the database!\" % imageTable)\n",
      "        except sql.InternalError:\n",
      "            raise ValueError(\"The status '%s' is not a valid one\" % status)\n",
      "        except:\n",
      "            # logging.error()\n",
      "            print(\"SQL query: %s\" % getRecord)\n",
      "            raise\n",
      "        self.rows = self.cursor.fetchall()\n",
      "        if self.rows is None or self.rows == []:\n",
      "            # logging.warning()\n",
      "            print(\"No rows in table %s with status %s were found!\" % (imageTable, status))\n",
      "\n",
      "\n",
      "\n",
      "    def readRecords(self, **kwds):\n",
      "        \"\"\" Find a given number of records with status == 'R' and return the records in a dictionary-like object \"\"\"\n",
      "        self.open()\n",
      "        try:\n",
      "            if self._testing and 'imageTable' in kwds.keys():\n",
      "                self.imageTable = kwds['imageTable']\n",
      "            self.getRecords(**kwds)\n",
      "        finally:\n",
      "            self.close()\n",
      "        return self.rows\n",
      "        \n",
      "    def writeRecords(self, *args):\n",
      "        self.open()\n",
      "        writeRecord = \"INSERT INTO derived_volumes (\\\n",
      "            record_id, _analysis, _project, _subject, _session, \\\n",
      "            putamen_right, caudate_left, hippocampus_left, globus_right, \\\n",
      "            thalamus_right, globus_left, accumben_left, caudate_right, \\\n",
      "            thalamus_left, hippocampus_right, accumben_right, putamen_left, icv) \\\n",
      "    VALUES (%s, '%s', '%s', '%s', '%s', \\\n",
      "            %s, %s, %s, %s, \\\n",
      "            %s, %s, %s, %s, \\\n",
      "            %s, %s, %s, %s, %s); \\n\" % args\n",
      "        try:\n",
      "            return writeRecord\n",
      "            #self.cursor.execute(writeRecord)\n",
      "        except:\n",
      "            # logging.error()\n",
      "            print(\"SQL query: %s\" % writeRecord)\n",
      "            raise \n",
      "        finally:\n",
      "            self.close()\n",
      "            \n",
      "    def writeCountRecords(self, *args):\n",
      "        self.open()\n",
      "        writeRecord = \"INSERT INTO derived_counts (\\\n",
      "            record_id, _analysis, _project, _subject, _session, \\\n",
      "            good_T1_30, good_T2_30, good_T1_15 , good_T2_15 , good_PD_15, good_PDT2_15, good_DWI, good_RestingState) \\\n",
      "    VALUES (%s, '%s', '%s', '%s', '%s', \\\n",
      "            %s, %s, %s, %s, \\\n",
      "            %s, %s, %s, %s); \\n\" % args\n",
      "        try:\n",
      "            return writeRecord\n",
      "            #self.cursor.execute(writeRecord)\n",
      "        except:\n",
      "            # logging.error()\n",
      "            print(\"SQL query: %s\" % writeRecord)\n",
      "            raise \n",
      "        finally:\n",
      "            self.close()\n"
     ],
     "language": "python",
     "metadata": {},
     "outputs": [],
     "prompt_number": 1
    },
    {
     "cell_type": "code",
     "collapsed": false,
     "input": [
      "import keyring\n",
      "db = Database(host='psych-db.psychiatry.uiowa.edu', database='AutoWorkUp', pguser='autoworkup', password=keyring.get_password('autoworkup', user))\n",
      "db.imageTable = 'derived_images'"
     ],
     "language": "python",
     "metadata": {},
     "outputs": [],
     "prompt_number": 2
    },
    {
     "cell_type": "code",
     "collapsed": true,
     "input": [
      "import csv\n",
      "\n",
      "volumeFile = '/raid0/homes/dmwelch/Desktop/predicthd_volumes.csv'\n",
      "count = 0\n",
      "\n",
      "def getValues(row, valueDict={}):\n",
      "    fname = row.pop()\n",
      "    volume = row.pop()\n",
      "    label = row.pop()\n",
      "    region = row.pop()\n",
      "    valueDict[region] = volume\n",
      "    return valueDict\n",
      "\n",
      "sqlfile = open('/raid0/homes/dmwelch/Desktop/derived_volumesHACK.sql', 'w')\n",
      "\n",
      "with open(volumeFile, 'r') as csvfile:\n",
      "    reader = csv.reader(csvfile)\n",
      "    header = reader.next()\n",
      "    valueDict = {}\n",
      "    \n",
      "    for row in reader:\n",
      "        _analysis = row[0]\n",
      "        _project = row[1]\n",
      "        _subject = row[2]\n",
      "        _session = row[3]\n",
      "        db.readRecords(imageTable='derived_images', _analysis=row[0], _project=row[1], _subject=row[2], _session=row[3])\n",
      "        if len(db.rows) > 0:\n",
      "            record_id = db.rows[0][0]\n",
      "        \n",
      "            while not (db.rows is None or db.rows == []) and record_id == db.rows[0][0]:\n",
      "                valueDict = getValues(row, valueDict)\n",
      "                row = reader.next()\n",
      "                db.readRecords(imageTable='derived_images', _analysis=row[0], _project=row[1], _subject=row[2], _session=row[3])\n",
      "            \n",
      "                if db.rows is None or db.rows == [] or record_id != db.rows[0][0]:\n",
      "                    ### HACK\n",
      "                    sqlfile.write(db.writeRecords(record_id, _analysis, _project, _subject, _session, *valueDict.values()))\n",
      "                    sqlfile.flush()\n",
      "                    ### END HACK\n",
      "                    valueDict = getValues(row)\n",
      "        \n",
      "        # for key, value in valueDict.items():\n",
      "        #     print key, value\n",
      "        \n",
      "        # count += 1\n",
      "        # if count > 2:\n",
      "        #     break\n",
      "\n",
      "sqlfile.write(db.writeRecords(record_id, _analysis, _project, _subject, _session, *valueDict.values()))\n",
      "sqlfile.close()\n"
     ],
     "language": "python",
     "metadata": {},
     "outputs": [
      {
       "output_type": "stream",
       "stream": "stdout",
       "text": [
        "No rows in table derived_images with status R were found!\n",
        "No rows in table derived_images with status R were found!\n",
        "No rows in table derived_images with status R were found!\n",
        "No rows in table derived_images with status R were found!\n",
        "No rows in table derived_images with status R were found!\n",
        "No rows in table derived_images with status R were found!"
       ]
      },
      {
       "output_type": "stream",
       "stream": "stdout",
       "text": [
        "\n",
        "No rows in table derived_images with status R were found!\n",
        "No rows in table derived_images with status R were found!\n",
        "No rows in table derived_images with status R were found!\n",
        "No rows in table derived_images with status R were found!\n",
        "No rows in table derived_images with status R were found!\n",
        "No rows in table derived_images with status R were found!"
       ]
      },
      {
       "output_type": "stream",
       "stream": "stdout",
       "text": [
        "\n",
        "No rows in table derived_images with status R were found!\n",
        "No rows in table derived_images with status R were found!"
       ]
      },
      {
       "output_type": "stream",
       "stream": "stdout",
       "text": [
        "\n",
        "No rows in table derived_images with status R were found!\n",
        "No rows in table derived_images with status R were found!\n",
        "No rows in table derived_images with status R were found!\n",
        "No rows in table derived_images with status R were found!\n",
        "No rows in table derived_images with status R were found!"
       ]
      },
      {
       "output_type": "stream",
       "stream": "stdout",
       "text": [
        "\n",
        "No rows in table derived_images with status R were found!\n",
        "No rows in table derived_images with status R were found!\n",
        "No rows in table derived_images with status R were found!\n",
        "No rows in table derived_images with status R were found!\n",
        "No rows in table derived_images with status R were found!\n",
        "No rows in table derived_images with status R were found!"
       ]
      },
      {
       "output_type": "stream",
       "stream": "stdout",
       "text": [
        "\n",
        "No rows in table derived_images with status R were found!\n",
        "No rows in table derived_images with status R were found!"
       ]
      },
      {
       "output_type": "stream",
       "stream": "stdout",
       "text": [
        "\n",
        "No rows in table derived_images with status R were found!\n",
        "No rows in table derived_images with status R were found!\n",
        "No rows in table derived_images with status R were found!\n",
        "No rows in table derived_images with status R were found!\n",
        "No rows in table derived_images with status R were found!"
       ]
      },
      {
       "output_type": "stream",
       "stream": "stdout",
       "text": [
        "\n",
        "No rows in table derived_images with status R were found!\n",
        "No rows in table derived_images with status R were found!\n",
        "No rows in table derived_images with status R were found!\n",
        "No rows in table derived_images with status R were found!\n",
        "No rows in table derived_images with status R were found!\n",
        "No rows in table derived_images with status R were found!"
       ]
      },
      {
       "output_type": "stream",
       "stream": "stdout",
       "text": [
        "\n",
        "No rows in table derived_images with status R were found!\n",
        "No rows in table derived_images with status R were found!"
       ]
      },
      {
       "output_type": "stream",
       "stream": "stdout",
       "text": [
        "\n",
        "No rows in table derived_images with status R were found!\n",
        "No rows in table derived_images with status R were found!\n",
        "No rows in table derived_images with status R were found!\n",
        "No rows in table derived_images with status R were found!\n",
        "No rows in table derived_images with status R were found!"
       ]
      },
      {
       "output_type": "stream",
       "stream": "stdout",
       "text": [
        "\n",
        "No rows in table derived_images with status R were found!\n",
        "No rows in table derived_images with status R were found!\n",
        "No rows in table derived_images with status R were found!\n",
        "No rows in table derived_images with status R were found!\n",
        "No rows in table derived_images with status R were found!\n",
        "No rows in table derived_images with status R were found!"
       ]
      },
      {
       "output_type": "stream",
       "stream": "stdout",
       "text": [
        "\n",
        "No rows in table derived_images with status R were found!\n",
        "No rows in table derived_images with status R were found!"
       ]
      },
      {
       "output_type": "stream",
       "stream": "stdout",
       "text": [
        "\n",
        "No rows in table derived_images with status R were found!\n",
        "No rows in table derived_images with status R were found!\n",
        "No rows in table derived_images with status R were found!\n",
        "No rows in table derived_images with status R were found!\n",
        "No rows in table derived_images with status R were found!"
       ]
      },
      {
       "output_type": "stream",
       "stream": "stdout",
       "text": [
        "\n",
        "No rows in table derived_images with status R were found!\n",
        "No rows in table derived_images with status R were found!\n",
        "No rows in table derived_images with status R were found!\n",
        "No rows in table derived_images with status R were found!\n",
        "No rows in table derived_images with status R were found!\n",
        "No rows in table derived_images with status R were found!"
       ]
      },
      {
       "output_type": "stream",
       "stream": "stdout",
       "text": [
        "\n",
        "No rows in table derived_images with status R were found!\n",
        "No rows in table derived_images with status R were found!"
       ]
      },
      {
       "output_type": "stream",
       "stream": "stdout",
       "text": [
        "\n",
        "No rows in table derived_images with status R were found!\n",
        "No rows in table derived_images with status R were found!\n",
        "No rows in table derived_images with status R were found!\n",
        "No rows in table derived_images with status R were found!\n",
        "No rows in table derived_images with status R were found!"
       ]
      },
      {
       "output_type": "stream",
       "stream": "stdout",
       "text": [
        "\n",
        "No rows in table derived_images with status R were found!\n",
        "No rows in table derived_images with status R were found!\n",
        "No rows in table derived_images with status R were found!\n",
        "No rows in table derived_images with status R were found!\n",
        "No rows in table derived_images with status R were found!\n",
        "No rows in table derived_images with status R were found!"
       ]
      },
      {
       "output_type": "stream",
       "stream": "stdout",
       "text": [
        "\n",
        "No rows in table derived_images with status R were found!\n",
        "No rows in table derived_images with status R were found!"
       ]
      },
      {
       "output_type": "stream",
       "stream": "stdout",
       "text": [
        "\n",
        "No rows in table derived_images with status R were found!\n",
        "No rows in table derived_images with status R were found!\n",
        "No rows in table derived_images with status R were found!\n",
        "No rows in table derived_images with status R were found!\n",
        "No rows in table derived_images with status R were found!"
       ]
      },
      {
       "output_type": "stream",
       "stream": "stdout",
       "text": [
        "\n",
        "No rows in table derived_images with status R were found!\n",
        "No rows in table derived_images with status R were found!\n",
        "No rows in table derived_images with status R were found!\n",
        "No rows in table derived_images with status R were found!\n",
        "No rows in table derived_images with status R were found!\n",
        "No rows in table derived_images with status R were found!"
       ]
      },
      {
       "output_type": "stream",
       "stream": "stdout",
       "text": [
        "\n",
        "No rows in table derived_images with status R were found!\n",
        "No rows in table derived_images with status R were found!"
       ]
      },
      {
       "output_type": "stream",
       "stream": "stdout",
       "text": [
        "\n",
        "No rows in table derived_images with status R were found!\n",
        "No rows in table derived_images with status R were found!\n",
        "No rows in table derived_images with status R were found!\n",
        "No rows in table derived_images with status R were found!\n",
        "No rows in table derived_images with status R were found!"
       ]
      },
      {
       "output_type": "stream",
       "stream": "stdout",
       "text": [
        "\n",
        "No rows in table derived_images with status R were found!\n",
        "No rows in table derived_images with status R were found!\n",
        "No rows in table derived_images with status R were found!\n",
        "No rows in table derived_images with status R were found!\n",
        "No rows in table derived_images with status R were found!\n",
        "No rows in table derived_images with status R were found!"
       ]
      },
      {
       "output_type": "stream",
       "stream": "stdout",
       "text": [
        "\n",
        "No rows in table derived_images with status R were found!\n",
        "No rows in table derived_images with status R were found!"
       ]
      },
      {
       "output_type": "stream",
       "stream": "stdout",
       "text": [
        "\n",
        "No rows in table derived_images with status R were found!\n",
        "No rows in table derived_images with status R were found!\n",
        "No rows in table derived_images with status R were found!\n",
        "No rows in table derived_images with status R were found!\n",
        "No rows in table derived_images with status R were found!"
       ]
      },
      {
       "output_type": "stream",
       "stream": "stdout",
       "text": [
        "\n",
        "No rows in table derived_images with status R were found!\n",
        "No rows in table derived_images with status R were found!\n",
        "No rows in table derived_images with status R were found!\n",
        "No rows in table derived_images with status R were found!\n",
        "No rows in table derived_images with status R were found!\n",
        "No rows in table derived_images with status R were found!"
       ]
      },
      {
       "output_type": "stream",
       "stream": "stdout",
       "text": [
        "\n",
        "No rows in table derived_images with status R were found!\n",
        "No rows in table derived_images with status R were found!"
       ]
      },
      {
       "output_type": "stream",
       "stream": "stdout",
       "text": [
        "\n",
        "No rows in table derived_images with status R were found!\n",
        "No rows in table derived_images with status R were found!\n",
        "No rows in table derived_images with status R were found!\n",
        "No rows in table derived_images with status R were found!\n",
        "No rows in table derived_images with status R were found!"
       ]
      },
      {
       "output_type": "stream",
       "stream": "stdout",
       "text": [
        "\n",
        "No rows in table derived_images with status R were found!\n",
        "No rows in table derived_images with status R were found!\n",
        "No rows in table derived_images with status R were found!\n",
        "No rows in table derived_images with status R were found!\n",
        "No rows in table derived_images with status R were found!\n",
        "No rows in table derived_images with status R were found!"
       ]
      },
      {
       "output_type": "stream",
       "stream": "stdout",
       "text": [
        "\n",
        "No rows in table derived_images with status R were found!\n",
        "No rows in table derived_images with status R were found!"
       ]
      },
      {
       "output_type": "stream",
       "stream": "stdout",
       "text": [
        "\n",
        "No rows in table derived_images with status R were found!\n",
        "No rows in table derived_images with status R were found!\n",
        "No rows in table derived_images with status R were found!\n",
        "No rows in table derived_images with status R were found!\n",
        "No rows in table derived_images with status R were found!"
       ]
      },
      {
       "output_type": "stream",
       "stream": "stdout",
       "text": [
        "\n",
        "No rows in table derived_images with status R were found!\n",
        "No rows in table derived_images with status R were found!\n",
        "No rows in table derived_images with status R were found!\n",
        "No rows in table derived_images with status R were found!\n",
        "No rows in table derived_images with status R were found!\n",
        "No rows in table derived_images with status R were found!"
       ]
      },
      {
       "output_type": "stream",
       "stream": "stdout",
       "text": [
        "\n",
        "No rows in table derived_images with status R were found!\n",
        "No rows in table derived_images with status R were found!"
       ]
      },
      {
       "output_type": "stream",
       "stream": "stdout",
       "text": [
        "\n",
        "No rows in table derived_images with status R were found!\n",
        "No rows in table derived_images with status R were found!\n",
        "No rows in table derived_images with status R were found!\n",
        "No rows in table derived_images with status R were found!\n",
        "No rows in table derived_images with status R were found!"
       ]
      },
      {
       "output_type": "stream",
       "stream": "stdout",
       "text": [
        "\n",
        "No rows in table derived_images with status R were found!\n",
        "No rows in table derived_images with status R were found!\n",
        "No rows in table derived_images with status R were found!\n",
        "No rows in table derived_images with status R were found!\n",
        "No rows in table derived_images with status R were found!\n",
        "No rows in table derived_images with status R were found!"
       ]
      },
      {
       "ename": "StopIteration",
       "evalue": "",
       "output_type": "pyerr",
       "traceback": [
        "\u001b[0;31m---------------------------------------------------------------------------\u001b[0m\n\u001b[0;31mStopIteration\u001b[0m                             Traceback (most recent call last)",
        "\u001b[0;32m<ipython-input-8-85d8099f9c06>\u001b[0m in \u001b[0;36m<module>\u001b[0;34m()\u001b[0m\n\u001b[1;32m     30\u001b[0m             \u001b[0;32mwhile\u001b[0m \u001b[0;32mnot\u001b[0m \u001b[0;34m(\u001b[0m\u001b[0mdb\u001b[0m\u001b[0;34m.\u001b[0m\u001b[0mrows\u001b[0m \u001b[0;32mis\u001b[0m \u001b[0mNone\u001b[0m \u001b[0;32mor\u001b[0m \u001b[0mdb\u001b[0m\u001b[0;34m.\u001b[0m\u001b[0mrows\u001b[0m \u001b[0;34m==\u001b[0m \u001b[0;34m[\u001b[0m\u001b[0;34m]\u001b[0m\u001b[0;34m)\u001b[0m \u001b[0;32mand\u001b[0m \u001b[0mrecord_id\u001b[0m \u001b[0;34m==\u001b[0m \u001b[0mdb\u001b[0m\u001b[0;34m.\u001b[0m\u001b[0mrows\u001b[0m\u001b[0;34m[\u001b[0m\u001b[0;36m0\u001b[0m\u001b[0;34m]\u001b[0m\u001b[0;34m[\u001b[0m\u001b[0;36m0\u001b[0m\u001b[0;34m]\u001b[0m\u001b[0;34m:\u001b[0m\u001b[0;34m\u001b[0m\u001b[0m\n\u001b[1;32m     31\u001b[0m                 \u001b[0mvalueDict\u001b[0m \u001b[0;34m=\u001b[0m \u001b[0mgetValues\u001b[0m\u001b[0;34m(\u001b[0m\u001b[0mrow\u001b[0m\u001b[0;34m,\u001b[0m \u001b[0mvalueDict\u001b[0m\u001b[0;34m)\u001b[0m\u001b[0;34m\u001b[0m\u001b[0m\n\u001b[0;32m---> 32\u001b[0;31m                 \u001b[0mrow\u001b[0m \u001b[0;34m=\u001b[0m \u001b[0mreader\u001b[0m\u001b[0;34m.\u001b[0m\u001b[0mnext\u001b[0m\u001b[0;34m(\u001b[0m\u001b[0;34m)\u001b[0m\u001b[0;34m\u001b[0m\u001b[0m\n\u001b[0m\u001b[1;32m     33\u001b[0m                 \u001b[0mdb\u001b[0m\u001b[0;34m.\u001b[0m\u001b[0mreadRecords\u001b[0m\u001b[0;34m(\u001b[0m\u001b[0mimageTable\u001b[0m\u001b[0;34m=\u001b[0m\u001b[0;34m'derived_images'\u001b[0m\u001b[0;34m,\u001b[0m \u001b[0m_analysis\u001b[0m\u001b[0;34m=\u001b[0m\u001b[0mrow\u001b[0m\u001b[0;34m[\u001b[0m\u001b[0;36m0\u001b[0m\u001b[0;34m]\u001b[0m\u001b[0;34m,\u001b[0m \u001b[0m_project\u001b[0m\u001b[0;34m=\u001b[0m\u001b[0mrow\u001b[0m\u001b[0;34m[\u001b[0m\u001b[0;36m1\u001b[0m\u001b[0;34m]\u001b[0m\u001b[0;34m,\u001b[0m \u001b[0m_subject\u001b[0m\u001b[0;34m=\u001b[0m\u001b[0mrow\u001b[0m\u001b[0;34m[\u001b[0m\u001b[0;36m2\u001b[0m\u001b[0;34m]\u001b[0m\u001b[0;34m,\u001b[0m \u001b[0m_session\u001b[0m\u001b[0;34m=\u001b[0m\u001b[0mrow\u001b[0m\u001b[0;34m[\u001b[0m\u001b[0;36m3\u001b[0m\u001b[0;34m]\u001b[0m\u001b[0;34m)\u001b[0m\u001b[0;34m\u001b[0m\u001b[0m\n\u001b[1;32m     34\u001b[0m \u001b[0;34m\u001b[0m\u001b[0m\n",
        "\u001b[0;31mStopIteration\u001b[0m: "
       ]
      },
      {
       "output_type": "stream",
       "stream": "stdout",
       "text": [
        "\n",
        "No rows in table derived_images with status R were found!\n"
       ]
      }
     ],
     "prompt_number": 8
    },
    {
     "cell_type": "code",
     "collapsed": true,
     "input": [
      "import csv\n",
      "\n",
      "volumeFile = '/raid0/homes/dmwelch/Desktop/Predict_good_scans_count.csv'\n",
      "count = 0\n",
      "\n",
      "def getValues(row, valueDict={}):\n",
      "    fname = row.pop()\n",
      "    volume = row.pop()\n",
      "    label = row.pop()\n",
      "    region = row.pop()\n",
      "    valueDict[region] = volume\n",
      "    return valueDict\n",
      "\n",
      "sqlfile = open('/raid0/homes/dmwelch/Desktop/good_scansHACK.sql', 'w')\n",
      "\n",
      "with open(volumeFile, 'r') as csvfile:\n",
      "    reader = csv.DictReader(csvfile)\n",
      "    \n",
      "    for row in reader:\n",
      "        _analysis = '20130202_PREDICTHD_Results'\n",
      "        _project = row['site']\n",
      "        _subject = row['subject']\n",
      "        _session = row['session']\n",
      "        db.readRecords(imageTable='derived_images', _analysis=_analysis, _project=_project, _subject=_subject, _session=_session)\n",
      "        if not (db.rows is None or db.rows == []):\n",
      "            record_id = db.rows[0][0]\n",
      "            ### HACK\n",
      "            seq = (row['good_T1_30'], row['good_T2_30'], row['good_T1_15'] , row['good_T2_15'] , row['good_PD_15'], row['good_PDT2_15'], \n",
      "                   row['good_DWI'], row['good_RestingState'])\n",
      "            sqlfile.write(db.writeCountRecords(record_id, _analysis, _project, _subject, _session, *seq))\n",
      "            sqlfile.flush()\n",
      "            ### END HACK\n",
      "\n",
      "        \n",
      "        # for key, value in valueDict.items():\n",
      "        #     print key, value\n",
      "        \n",
      "        # count += 1\n",
      "        # if count > 2:\n",
      "        #     break\n",
      "\n",
      "\n",
      "sqlfile.close()\n"
     ],
     "language": "python",
     "metadata": {},
     "outputs": [
      {
       "output_type": "stream",
       "stream": "stdout",
       "text": [
        "No rows in table derived_images with status R were found!\n",
        "No rows in table derived_images with status R were found!"
       ]
      },
      {
       "output_type": "stream",
       "stream": "stdout",
       "text": [
        "\n",
        "No rows in table derived_images with status R were found!"
       ]
      },
      {
       "output_type": "stream",
       "stream": "stdout",
       "text": [
        "\n",
        "No rows in table derived_images with status R were found!"
       ]
      },
      {
       "output_type": "stream",
       "stream": "stdout",
       "text": [
        "\n",
        "No rows in table derived_images with status R were found!"
       ]
      },
      {
       "output_type": "stream",
       "stream": "stdout",
       "text": [
        "\n",
        "No rows in table derived_images with status R were found!\n",
        "No rows in table derived_images with status R were found!"
       ]
      },
      {
       "output_type": "stream",
       "stream": "stdout",
       "text": [
        "\n",
        "No rows in table derived_images with status R were found!\n",
        "No rows in table derived_images with status R were found!\n",
        "No rows in table derived_images with status R were found!\n",
        "No rows in table derived_images with status R were found!\n",
        "No rows in table derived_images with status R were found!\n",
        "No rows in table derived_images with status R were found!"
       ]
      },
      {
       "output_type": "stream",
       "stream": "stdout",
       "text": [
        "\n",
        "No rows in table derived_images with status R were found!\n",
        "No rows in table derived_images with status R were found!\n",
        "No rows in table derived_images with status R were found!\n",
        "No rows in table derived_images with status R were found!"
       ]
      },
      {
       "output_type": "stream",
       "stream": "stdout",
       "text": [
        "\n",
        "No rows in table derived_images with status R were found!\n",
        "No rows in table derived_images with status R were found!\n",
        "No rows in table derived_images with status R were found!\n",
        "No rows in table derived_images with status R were found!\n",
        "No rows in table derived_images with status R were found!\n",
        "No rows in table derived_images with status R were found!"
       ]
      },
      {
       "output_type": "stream",
       "stream": "stdout",
       "text": [
        "\n",
        "No rows in table derived_images with status R were found!\n",
        "No rows in table derived_images with status R were found!"
       ]
      },
      {
       "output_type": "stream",
       "stream": "stdout",
       "text": [
        "\n",
        "No rows in table derived_images with status R were found!\n",
        "No rows in table derived_images with status R were found!\n",
        "No rows in table derived_images with status R were found!\n",
        "No rows in table derived_images with status R were found!"
       ]
      },
      {
       "output_type": "stream",
       "stream": "stdout",
       "text": [
        "\n",
        "No rows in table derived_images with status R were found!"
       ]
      },
      {
       "output_type": "stream",
       "stream": "stdout",
       "text": [
        "\n",
        "No rows in table derived_images with status R were found!\n",
        "No rows in table derived_images with status R were found!\n",
        "No rows in table derived_images with status R were found!\n",
        "No rows in table derived_images with status R were found!\n",
        "No rows in table derived_images with status R were found!\n",
        "No rows in table derived_images with status R were found!"
       ]
      },
      {
       "output_type": "stream",
       "stream": "stdout",
       "text": [
        "\n",
        "No rows in table derived_images with status R were found!\n",
        "No rows in table derived_images with status R were found!\n",
        "No rows in table derived_images with status R were found!\n",
        "No rows in table derived_images with status R were found!\n",
        "No rows in table derived_images with status R were found!\n",
        "No rows in table derived_images with status R were found!"
       ]
      },
      {
       "output_type": "stream",
       "stream": "stdout",
       "text": [
        "\n",
        "No rows in table derived_images with status R were found!"
       ]
      },
      {
       "output_type": "stream",
       "stream": "stdout",
       "text": [
        "\n",
        "No rows in table derived_images with status R were found!\n",
        "No rows in table derived_images with status R were found!"
       ]
      },
      {
       "output_type": "stream",
       "stream": "stdout",
       "text": [
        "\n",
        "No rows in table derived_images with status R were found!\n",
        "No rows in table derived_images with status R were found!\n",
        "No rows in table derived_images with status R were found!\n",
        "No rows in table derived_images with status R were found!"
       ]
      },
      {
       "output_type": "stream",
       "stream": "stdout",
       "text": [
        "\n",
        "No rows in table derived_images with status R were found!\n",
        "No rows in table derived_images with status R were found!\n",
        "No rows in table derived_images with status R were found!"
       ]
      },
      {
       "output_type": "stream",
       "stream": "stdout",
       "text": [
        "\n",
        "No rows in table derived_images with status R were found!"
       ]
      },
      {
       "output_type": "stream",
       "stream": "stdout",
       "text": [
        "\n",
        "No rows in table derived_images with status R were found!\n",
        "No rows in table derived_images with status R were found!\n",
        "No rows in table derived_images with status R were found!"
       ]
      },
      {
       "output_type": "stream",
       "stream": "stdout",
       "text": [
        "\n",
        "No rows in table derived_images with status R were found!\n",
        "No rows in table derived_images with status R were found!\n",
        "No rows in table derived_images with status R were found!"
       ]
      },
      {
       "output_type": "stream",
       "stream": "stdout",
       "text": [
        "\n",
        "No rows in table derived_images with status R were found!\n",
        "No rows in table derived_images with status R were found!\n",
        "No rows in table derived_images with status R were found!"
       ]
      },
      {
       "output_type": "stream",
       "stream": "stdout",
       "text": [
        "\n",
        "No rows in table derived_images with status R were found!\n",
        "No rows in table derived_images with status R were found!\n",
        "No rows in table derived_images with status R were found!\n",
        "No rows in table derived_images with status R were found!\n",
        "No rows in table derived_images with status R were found!"
       ]
      },
      {
       "output_type": "stream",
       "stream": "stdout",
       "text": [
        "\n",
        "No rows in table derived_images with status R were found!\n",
        "No rows in table derived_images with status R were found!\n",
        "No rows in table derived_images with status R were found!\n",
        "No rows in table derived_images with status R were found!\n",
        "No rows in table derived_images with status R were found!"
       ]
      },
      {
       "output_type": "stream",
       "stream": "stdout",
       "text": [
        "\n",
        "No rows in table derived_images with status R were found!\n",
        "No rows in table derived_images with status R were found!\n",
        "No rows in table derived_images with status R were found!\n",
        "No rows in table derived_images with status R were found!\n",
        "No rows in table derived_images with status R were found!\n",
        "No rows in table derived_images with status R were found!"
       ]
      },
      {
       "output_type": "stream",
       "stream": "stdout",
       "text": [
        "\n",
        "No rows in table derived_images with status R were found!\n",
        "No rows in table derived_images with status R were found!\n",
        "No rows in table derived_images with status R were found!\n",
        "No rows in table derived_images with status R were found!\n",
        "No rows in table derived_images with status R were found!\n",
        "No rows in table derived_images with status R were found!"
       ]
      },
      {
       "output_type": "stream",
       "stream": "stdout",
       "text": [
        "\n",
        "No rows in table derived_images with status R were found!\n",
        "No rows in table derived_images with status R were found!\n",
        "No rows in table derived_images with status R were found!"
       ]
      },
      {
       "output_type": "stream",
       "stream": "stdout",
       "text": [
        "\n",
        "No rows in table derived_images with status R were found!\n",
        "No rows in table derived_images with status R were found!\n",
        "No rows in table derived_images with status R were found!\n",
        "No rows in table derived_images with status R were found!\n",
        "No rows in table derived_images with status R were found!\n",
        "No rows in table derived_images with status R were found!"
       ]
      },
      {
       "output_type": "stream",
       "stream": "stdout",
       "text": [
        "\n",
        "No rows in table derived_images with status R were found!\n",
        "No rows in table derived_images with status R were found!\n",
        "No rows in table derived_images with status R were found!\n",
        "No rows in table derived_images with status R were found!\n",
        "No rows in table derived_images with status R were found!"
       ]
      },
      {
       "output_type": "stream",
       "stream": "stdout",
       "text": [
        "\n",
        "No rows in table derived_images with status R were found!\n",
        "No rows in table derived_images with status R were found!\n",
        "No rows in table derived_images with status R were found!\n",
        "No rows in table derived_images with status R were found!"
       ]
      },
      {
       "output_type": "stream",
       "stream": "stdout",
       "text": [
        "\n",
        "No rows in table derived_images with status R were found!\n",
        "No rows in table derived_images with status R were found!\n",
        "No rows in table derived_images with status R were found!"
       ]
      },
      {
       "output_type": "stream",
       "stream": "stdout",
       "text": [
        "\n",
        "No rows in table derived_images with status R were found!\n",
        "No rows in table derived_images with status R were found!\n",
        "No rows in table derived_images with status R were found!\n",
        "No rows in table derived_images with status R were found!\n",
        "No rows in table derived_images with status R were found!\n",
        "No rows in table derived_images with status R were found!"
       ]
      },
      {
       "output_type": "stream",
       "stream": "stdout",
       "text": [
        "\n",
        "No rows in table derived_images with status R were found!\n",
        "No rows in table derived_images with status R were found!\n",
        "No rows in table derived_images with status R were found!\n",
        "No rows in table derived_images with status R were found!\n",
        "No rows in table derived_images with status R were found!"
       ]
      },
      {
       "output_type": "stream",
       "stream": "stdout",
       "text": [
        "\n",
        "No rows in table derived_images with status R were found!\n",
        "No rows in table derived_images with status R were found!"
       ]
      },
      {
       "output_type": "stream",
       "stream": "stdout",
       "text": [
        "\n",
        "No rows in table derived_images with status R were found!\n",
        "No rows in table derived_images with status R were found!\n",
        "No rows in table derived_images with status R were found!\n",
        "No rows in table derived_images with status R were found!\n",
        "No rows in table derived_images with status R were found!"
       ]
      },
      {
       "output_type": "stream",
       "stream": "stdout",
       "text": [
        "\n",
        "No rows in table derived_images with status R were found!\n",
        "No rows in table derived_images with status R were found!\n",
        "No rows in table derived_images with status R were found!"
       ]
      },
      {
       "output_type": "stream",
       "stream": "stdout",
       "text": [
        "\n",
        "No rows in table derived_images with status R were found!\n",
        "No rows in table derived_images with status R were found!"
       ]
      },
      {
       "output_type": "stream",
       "stream": "stdout",
       "text": [
        "\n",
        "No rows in table derived_images with status R were found!\n",
        "No rows in table derived_images with status R were found!\n",
        "No rows in table derived_images with status R were found!"
       ]
      },
      {
       "output_type": "stream",
       "stream": "stdout",
       "text": [
        "\n",
        "No rows in table derived_images with status R were found!\n",
        "No rows in table derived_images with status R were found!\n",
        "No rows in table derived_images with status R were found!\n",
        "No rows in table derived_images with status R were found!"
       ]
      },
      {
       "output_type": "stream",
       "stream": "stdout",
       "text": [
        "\n",
        "No rows in table derived_images with status R were found!"
       ]
      },
      {
       "output_type": "stream",
       "stream": "stdout",
       "text": [
        "\n",
        "No rows in table derived_images with status R were found!"
       ]
      },
      {
       "output_type": "stream",
       "stream": "stdout",
       "text": [
        "\n",
        "No rows in table derived_images with status R were found!"
       ]
      },
      {
       "output_type": "stream",
       "stream": "stdout",
       "text": [
        "\n",
        "No rows in table derived_images with status R were found!"
       ]
      },
      {
       "output_type": "stream",
       "stream": "stdout",
       "text": [
        "\n",
        "No rows in table derived_images with status R were found!"
       ]
      },
      {
       "output_type": "stream",
       "stream": "stdout",
       "text": [
        "\n",
        "No rows in table derived_images with status R were found!"
       ]
      },
      {
       "output_type": "stream",
       "stream": "stdout",
       "text": [
        "\n",
        "No rows in table derived_images with status R were found!\n",
        "No rows in table derived_images with status R were found!\n",
        "No rows in table derived_images with status R were found!\n",
        "No rows in table derived_images with status R were found!"
       ]
      },
      {
       "output_type": "stream",
       "stream": "stdout",
       "text": [
        "\n",
        "No rows in table derived_images with status R were found!\n",
        "No rows in table derived_images with status R were found!\n",
        "No rows in table derived_images with status R were found!"
       ]
      },
      {
       "output_type": "stream",
       "stream": "stdout",
       "text": [
        "\n",
        "No rows in table derived_images with status R were found!\n",
        "No rows in table derived_images with status R were found!\n",
        "No rows in table derived_images with status R were found!\n",
        "No rows in table derived_images with status R were found!\n",
        "No rows in table derived_images with status R were found!\n",
        "No rows in table derived_images with status R were found!"
       ]
      },
      {
       "output_type": "stream",
       "stream": "stdout",
       "text": [
        "\n",
        "No rows in table derived_images with status R were found!\n",
        "No rows in table derived_images with status R were found!\n",
        "No rows in table derived_images with status R were found!\n",
        "No rows in table derived_images with status R were found!\n",
        "No rows in table derived_images with status R were found!"
       ]
      },
      {
       "output_type": "stream",
       "stream": "stdout",
       "text": [
        "\n",
        "No rows in table derived_images with status R were found!\n",
        "No rows in table derived_images with status R were found!\n",
        "No rows in table derived_images with status R were found!\n",
        "No rows in table derived_images with status R were found!\n",
        "No rows in table derived_images with status R were found!\n",
        "No rows in table derived_images with status R were found!"
       ]
      },
      {
       "output_type": "stream",
       "stream": "stdout",
       "text": [
        "\n",
        "No rows in table derived_images with status R were found!\n",
        "No rows in table derived_images with status R were found!\n",
        "No rows in table derived_images with status R were found!"
       ]
      },
      {
       "output_type": "stream",
       "stream": "stdout",
       "text": [
        "\n",
        "No rows in table derived_images with status R were found!\n",
        "No rows in table derived_images with status R were found!\n",
        "No rows in table derived_images with status R were found!\n",
        "No rows in table derived_images with status R were found!"
       ]
      },
      {
       "output_type": "stream",
       "stream": "stdout",
       "text": [
        "\n",
        "No rows in table derived_images with status R were found!"
       ]
      },
      {
       "output_type": "stream",
       "stream": "stdout",
       "text": [
        "\n",
        "No rows in table derived_images with status R were found!\n",
        "No rows in table derived_images with status R were found!\n",
        "No rows in table derived_images with status R were found!\n",
        "No rows in table derived_images with status R were found!\n",
        "No rows in table derived_images with status R were found!\n",
        "No rows in table derived_images with status R were found!"
       ]
      },
      {
       "output_type": "stream",
       "stream": "stdout",
       "text": [
        "\n",
        "No rows in table derived_images with status R were found!"
       ]
      },
      {
       "output_type": "stream",
       "stream": "stdout",
       "text": [
        "\n",
        "No rows in table derived_images with status R were found!\n",
        "No rows in table derived_images with status R were found!\n",
        "No rows in table derived_images with status R were found!\n",
        "No rows in table derived_images with status R were found!"
       ]
      },
      {
       "output_type": "stream",
       "stream": "stdout",
       "text": [
        "\n",
        "No rows in table derived_images with status R were found!"
       ]
      },
      {
       "output_type": "stream",
       "stream": "stdout",
       "text": [
        "\n",
        "No rows in table derived_images with status R were found!\n",
        "No rows in table derived_images with status R were found!\n",
        "No rows in table derived_images with status R were found!\n",
        "No rows in table derived_images with status R were found!"
       ]
      },
      {
       "output_type": "stream",
       "stream": "stdout",
       "text": [
        "\n",
        "No rows in table derived_images with status R were found!\n",
        "No rows in table derived_images with status R were found!\n",
        "No rows in table derived_images with status R were found!"
       ]
      },
      {
       "output_type": "stream",
       "stream": "stdout",
       "text": [
        "\n",
        "No rows in table derived_images with status R were found!\n",
        "No rows in table derived_images with status R were found!\n",
        "No rows in table derived_images with status R were found!\n",
        "No rows in table derived_images with status R were found!"
       ]
      },
      {
       "output_type": "stream",
       "stream": "stdout",
       "text": [
        "\n",
        "No rows in table derived_images with status R were found!\n",
        "No rows in table derived_images with status R were found!\n",
        "No rows in table derived_images with status R were found!\n",
        "No rows in table derived_images with status R were found!"
       ]
      },
      {
       "output_type": "stream",
       "stream": "stdout",
       "text": [
        "\n",
        "No rows in table derived_images with status R were found!\n",
        "No rows in table derived_images with status R were found!\n",
        "No rows in table derived_images with status R were found!\n",
        "No rows in table derived_images with status R were found!"
       ]
      },
      {
       "output_type": "stream",
       "stream": "stdout",
       "text": [
        "\n",
        "No rows in table derived_images with status R were found!\n",
        "No rows in table derived_images with status R were found!\n",
        "No rows in table derived_images with status R were found!"
       ]
      },
      {
       "output_type": "stream",
       "stream": "stdout",
       "text": [
        "\n",
        "No rows in table derived_images with status R were found!\n",
        "No rows in table derived_images with status R were found!\n",
        "No rows in table derived_images with status R were found!\n",
        "No rows in table derived_images with status R were found!"
       ]
      },
      {
       "output_type": "stream",
       "stream": "stdout",
       "text": [
        "\n",
        "No rows in table derived_images with status R were found!\n",
        "No rows in table derived_images with status R were found!\n",
        "No rows in table derived_images with status R were found!\n",
        "No rows in table derived_images with status R were found!"
       ]
      },
      {
       "output_type": "stream",
       "stream": "stdout",
       "text": [
        "\n",
        "No rows in table derived_images with status R were found!\n",
        "No rows in table derived_images with status R were found!\n",
        "No rows in table derived_images with status R were found!\n",
        "No rows in table derived_images with status R were found!"
       ]
      },
      {
       "output_type": "stream",
       "stream": "stdout",
       "text": [
        "\n",
        "No rows in table derived_images with status R were found!\n",
        "No rows in table derived_images with status R were found!\n",
        "No rows in table derived_images with status R were found!\n",
        "No rows in table derived_images with status R were found!"
       ]
      },
      {
       "output_type": "stream",
       "stream": "stdout",
       "text": [
        "\n",
        "No rows in table derived_images with status R were found!\n",
        "No rows in table derived_images with status R were found!"
       ]
      },
      {
       "output_type": "stream",
       "stream": "stdout",
       "text": [
        "\n",
        "No rows in table derived_images with status R were found!\n",
        "No rows in table derived_images with status R were found!\n",
        "No rows in table derived_images with status R were found!"
       ]
      },
      {
       "output_type": "stream",
       "stream": "stdout",
       "text": [
        "\n",
        "No rows in table derived_images with status R were found!\n",
        "No rows in table derived_images with status R were found!\n",
        "No rows in table derived_images with status R were found!\n",
        "No rows in table derived_images with status R were found!"
       ]
      },
      {
       "output_type": "stream",
       "stream": "stdout",
       "text": [
        "\n",
        "No rows in table derived_images with status R were found!\n",
        "No rows in table derived_images with status R were found!\n",
        "No rows in table derived_images with status R were found!\n",
        "No rows in table derived_images with status R were found!\n",
        "No rows in table derived_images with status R were found!\n",
        "No rows in table derived_images with status R were found!"
       ]
      },
      {
       "output_type": "stream",
       "stream": "stdout",
       "text": [
        "\n",
        "No rows in table derived_images with status R were found!\n",
        "No rows in table derived_images with status R were found!\n",
        "No rows in table derived_images with status R were found!\n",
        "No rows in table derived_images with status R were found!\n",
        "No rows in table derived_images with status R were found!\n",
        "No rows in table derived_images with status R were found!"
       ]
      },
      {
       "output_type": "stream",
       "stream": "stdout",
       "text": [
        "\n",
        "No rows in table derived_images with status R were found!\n",
        "No rows in table derived_images with status R were found!\n",
        "No rows in table derived_images with status R were found!\n",
        "No rows in table derived_images with status R were found!\n",
        "No rows in table derived_images with status R were found!\n",
        "No rows in table derived_images with status R were found!"
       ]
      },
      {
       "output_type": "stream",
       "stream": "stdout",
       "text": [
        "\n",
        "No rows in table derived_images with status R were found!\n",
        "No rows in table derived_images with status R were found!\n",
        "No rows in table derived_images with status R were found!"
       ]
      },
      {
       "output_type": "stream",
       "stream": "stdout",
       "text": [
        "\n",
        "No rows in table derived_images with status R were found!\n",
        "No rows in table derived_images with status R were found!\n",
        "No rows in table derived_images with status R were found!\n",
        "No rows in table derived_images with status R were found!\n",
        "No rows in table derived_images with status R were found!"
       ]
      },
      {
       "output_type": "stream",
       "stream": "stdout",
       "text": [
        "\n",
        "No rows in table derived_images with status R were found!\n",
        "No rows in table derived_images with status R were found!\n",
        "No rows in table derived_images with status R were found!"
       ]
      },
      {
       "output_type": "stream",
       "stream": "stdout",
       "text": [
        "\n",
        "No rows in table derived_images with status R were found!\n",
        "No rows in table derived_images with status R were found!\n",
        "No rows in table derived_images with status R were found!\n",
        "No rows in table derived_images with status R were found!"
       ]
      },
      {
       "output_type": "stream",
       "stream": "stdout",
       "text": [
        "\n",
        "No rows in table derived_images with status R were found!\n",
        "No rows in table derived_images with status R were found!\n",
        "No rows in table derived_images with status R were found!\n",
        "No rows in table derived_images with status R were found!\n",
        "No rows in table derived_images with status R were found!\n",
        "No rows in table derived_images with status R were found!"
       ]
      },
      {
       "output_type": "stream",
       "stream": "stdout",
       "text": [
        "\n",
        "No rows in table derived_images with status R were found!\n",
        "No rows in table derived_images with status R were found!\n",
        "No rows in table derived_images with status R were found!\n",
        "No rows in table derived_images with status R were found!"
       ]
      },
      {
       "output_type": "stream",
       "stream": "stdout",
       "text": [
        "\n",
        "No rows in table derived_images with status R were found!\n",
        "No rows in table derived_images with status R were found!\n",
        "No rows in table derived_images with status R were found!\n",
        "No rows in table derived_images with status R were found!\n",
        "No rows in table derived_images with status R were found!\n",
        "No rows in table derived_images with status R were found!"
       ]
      },
      {
       "output_type": "stream",
       "stream": "stdout",
       "text": [
        "\n",
        "No rows in table derived_images with status R were found!\n",
        "No rows in table derived_images with status R were found!\n",
        "No rows in table derived_images with status R were found!\n",
        "No rows in table derived_images with status R were found!\n",
        "No rows in table derived_images with status R were found!"
       ]
      },
      {
       "output_type": "stream",
       "stream": "stdout",
       "text": [
        "\n",
        "No rows in table derived_images with status R were found!\n",
        "No rows in table derived_images with status R were found!\n",
        "No rows in table derived_images with status R were found!\n",
        "No rows in table derived_images with status R were found!"
       ]
      },
      {
       "output_type": "stream",
       "stream": "stdout",
       "text": [
        "\n",
        "No rows in table derived_images with status R were found!\n",
        "No rows in table derived_images with status R were found!"
       ]
      },
      {
       "output_type": "stream",
       "stream": "stdout",
       "text": [
        "\n",
        "No rows in table derived_images with status R were found!\n",
        "No rows in table derived_images with status R were found!\n",
        "No rows in table derived_images with status R were found!\n",
        "No rows in table derived_images with status R were found!\n",
        "No rows in table derived_images with status R were found!\n",
        "No rows in table derived_images with status R were found!"
       ]
      },
      {
       "output_type": "stream",
       "stream": "stdout",
       "text": [
        "\n",
        "No rows in table derived_images with status R were found!\n",
        "No rows in table derived_images with status R were found!\n",
        "No rows in table derived_images with status R were found!\n",
        "No rows in table derived_images with status R were found!\n",
        "No rows in table derived_images with status R were found!"
       ]
      },
      {
       "output_type": "stream",
       "stream": "stdout",
       "text": [
        "\n",
        "No rows in table derived_images with status R were found!\n",
        "No rows in table derived_images with status R were found!\n",
        "No rows in table derived_images with status R were found!"
       ]
      },
      {
       "output_type": "stream",
       "stream": "stdout",
       "text": [
        "\n",
        "No rows in table derived_images with status R were found!\n",
        "No rows in table derived_images with status R were found!\n",
        "No rows in table derived_images with status R were found!\n",
        "No rows in table derived_images with status R were found!\n",
        "No rows in table derived_images with status R were found!\n",
        "No rows in table derived_images with status R were found!"
       ]
      },
      {
       "output_type": "stream",
       "stream": "stdout",
       "text": [
        "\n",
        "No rows in table derived_images with status R were found!\n",
        "No rows in table derived_images with status R were found!"
       ]
      },
      {
       "output_type": "stream",
       "stream": "stdout",
       "text": [
        "\n",
        "No rows in table derived_images with status R were found!\n",
        "No rows in table derived_images with status R were found!"
       ]
      },
      {
       "output_type": "stream",
       "stream": "stdout",
       "text": [
        "\n",
        "No rows in table derived_images with status R were found!\n",
        "No rows in table derived_images with status R were found!\n",
        "No rows in table derived_images with status R were found!"
       ]
      },
      {
       "output_type": "stream",
       "stream": "stdout",
       "text": [
        "\n",
        "No rows in table derived_images with status R were found!\n",
        "No rows in table derived_images with status R were found!\n",
        "No rows in table derived_images with status R were found!\n",
        "No rows in table derived_images with status R were found!"
       ]
      },
      {
       "output_type": "stream",
       "stream": "stdout",
       "text": [
        "\n",
        "No rows in table derived_images with status R were found!\n",
        "No rows in table derived_images with status R were found!\n",
        "No rows in table derived_images with status R were found!\n",
        "No rows in table derived_images with status R were found!"
       ]
      },
      {
       "output_type": "stream",
       "stream": "stdout",
       "text": [
        "\n",
        "No rows in table derived_images with status R were found!\n",
        "No rows in table derived_images with status R were found!\n",
        "No rows in table derived_images with status R were found!\n",
        "No rows in table derived_images with status R were found!\n",
        "No rows in table derived_images with status R were found!\n",
        "No rows in table derived_images with status R were found!"
       ]
      },
      {
       "output_type": "stream",
       "stream": "stdout",
       "text": [
        "\n",
        "No rows in table derived_images with status R were found!\n",
        "No rows in table derived_images with status R were found!\n",
        "No rows in table derived_images with status R were found!\n",
        "No rows in table derived_images with status R were found!\n",
        "No rows in table derived_images with status R were found!\n",
        "No rows in table derived_images with status R were found!"
       ]
      },
      {
       "output_type": "stream",
       "stream": "stdout",
       "text": [
        "\n",
        "No rows in table derived_images with status R were found!\n",
        "No rows in table derived_images with status R were found!\n",
        "No rows in table derived_images with status R were found!"
       ]
      },
      {
       "output_type": "stream",
       "stream": "stdout",
       "text": [
        "\n",
        "No rows in table derived_images with status R were found!\n",
        "No rows in table derived_images with status R were found!\n",
        "No rows in table derived_images with status R were found!\n",
        "No rows in table derived_images with status R were found!"
       ]
      },
      {
       "output_type": "stream",
       "stream": "stdout",
       "text": [
        "\n",
        "No rows in table derived_images with status R were found!\n",
        "No rows in table derived_images with status R were found!\n",
        "No rows in table derived_images with status R were found!"
       ]
      },
      {
       "output_type": "stream",
       "stream": "stdout",
       "text": [
        "\n",
        "No rows in table derived_images with status R were found!\n",
        "No rows in table derived_images with status R were found!\n",
        "No rows in table derived_images with status R were found!"
       ]
      },
      {
       "output_type": "stream",
       "stream": "stdout",
       "text": [
        "\n",
        "No rows in table derived_images with status R were found!\n",
        "No rows in table derived_images with status R were found!"
       ]
      },
      {
       "output_type": "stream",
       "stream": "stdout",
       "text": [
        "\n",
        "No rows in table derived_images with status R were found!\n",
        "No rows in table derived_images with status R were found!\n",
        "No rows in table derived_images with status R were found!\n",
        "No rows in table derived_images with status R were found!\n",
        "No rows in table derived_images with status R were found!\n",
        "No rows in table derived_images with status R were found!"
       ]
      },
      {
       "output_type": "stream",
       "stream": "stdout",
       "text": [
        "\n",
        "No rows in table derived_images with status R were found!\n",
        "No rows in table derived_images with status R were found!\n",
        "No rows in table derived_images with status R were found!\n",
        "No rows in table derived_images with status R were found!\n",
        "No rows in table derived_images with status R were found!\n",
        "No rows in table derived_images with status R were found!"
       ]
      },
      {
       "output_type": "stream",
       "stream": "stdout",
       "text": [
        "\n",
        "No rows in table derived_images with status R were found!\n",
        "No rows in table derived_images with status R were found!\n",
        "No rows in table derived_images with status R were found!\n",
        "No rows in table derived_images with status R were found!"
       ]
      },
      {
       "output_type": "stream",
       "stream": "stdout",
       "text": [
        "\n",
        "No rows in table derived_images with status R were found!\n",
        "No rows in table derived_images with status R were found!\n",
        "No rows in table derived_images with status R were found!\n",
        "No rows in table derived_images with status R were found!\n",
        "No rows in table derived_images with status R were found!\n",
        "No rows in table derived_images with status R were found!"
       ]
      },
      {
       "output_type": "stream",
       "stream": "stdout",
       "text": [
        "\n",
        "No rows in table derived_images with status R were found!\n",
        "No rows in table derived_images with status R were found!\n",
        "No rows in table derived_images with status R were found!\n",
        "No rows in table derived_images with status R were found!\n",
        "No rows in table derived_images with status R were found!\n",
        "No rows in table derived_images with status R were found!"
       ]
      },
      {
       "output_type": "stream",
       "stream": "stdout",
       "text": [
        "\n",
        "No rows in table derived_images with status R were found!\n",
        "No rows in table derived_images with status R were found!\n",
        "No rows in table derived_images with status R were found!"
       ]
      },
      {
       "output_type": "stream",
       "stream": "stdout",
       "text": [
        "\n",
        "No rows in table derived_images with status R were found!\n",
        "No rows in table derived_images with status R were found!\n",
        "No rows in table derived_images with status R were found!"
       ]
      },
      {
       "output_type": "stream",
       "stream": "stdout",
       "text": [
        "\n",
        "No rows in table derived_images with status R were found!\n",
        "No rows in table derived_images with status R were found!\n",
        "No rows in table derived_images with status R were found!\n",
        "No rows in table derived_images with status R were found!\n",
        "No rows in table derived_images with status R were found!"
       ]
      },
      {
       "output_type": "stream",
       "stream": "stdout",
       "text": [
        "\n",
        "No rows in table derived_images with status R were found!\n",
        "No rows in table derived_images with status R were found!\n",
        "No rows in table derived_images with status R were found!"
       ]
      },
      {
       "output_type": "stream",
       "stream": "stdout",
       "text": [
        "\n",
        "No rows in table derived_images with status R were found!\n",
        "No rows in table derived_images with status R were found!\n",
        "No rows in table derived_images with status R were found!\n",
        "No rows in table derived_images with status R were found!\n",
        "No rows in table derived_images with status R were found!"
       ]
      },
      {
       "output_type": "stream",
       "stream": "stdout",
       "text": [
        "\n",
        "No rows in table derived_images with status R were found!\n",
        "No rows in table derived_images with status R were found!"
       ]
      },
      {
       "output_type": "stream",
       "stream": "stdout",
       "text": [
        "\n",
        "No rows in table derived_images with status R were found!\n",
        "No rows in table derived_images with status R were found!\n",
        "No rows in table derived_images with status R were found!"
       ]
      },
      {
       "output_type": "stream",
       "stream": "stdout",
       "text": [
        "\n",
        "No rows in table derived_images with status R were found!\n",
        "No rows in table derived_images with status R were found!\n",
        "No rows in table derived_images with status R were found!"
       ]
      },
      {
       "output_type": "stream",
       "stream": "stdout",
       "text": [
        "\n",
        "No rows in table derived_images with status R were found!\n",
        "No rows in table derived_images with status R were found!\n",
        "No rows in table derived_images with status R were found!"
       ]
      },
      {
       "output_type": "stream",
       "stream": "stdout",
       "text": [
        "\n",
        "No rows in table derived_images with status R were found!\n",
        "No rows in table derived_images with status R were found!\n",
        "No rows in table derived_images with status R were found!\n",
        "No rows in table derived_images with status R were found!\n",
        "No rows in table derived_images with status R were found!\n",
        "No rows in table derived_images with status R were found!"
       ]
      },
      {
       "output_type": "stream",
       "stream": "stdout",
       "text": [
        "\n",
        "No rows in table derived_images with status R were found!\n",
        "No rows in table derived_images with status R were found!\n",
        "No rows in table derived_images with status R were found!\n",
        "No rows in table derived_images with status R were found!"
       ]
      },
      {
       "output_type": "stream",
       "stream": "stdout",
       "text": [
        "\n",
        "No rows in table derived_images with status R were found!\n",
        "No rows in table derived_images with status R were found!\n",
        "No rows in table derived_images with status R were found!\n",
        "No rows in table derived_images with status R were found!\n",
        "No rows in table derived_images with status R were found!\n",
        "No rows in table derived_images with status R were found!"
       ]
      },
      {
       "output_type": "stream",
       "stream": "stdout",
       "text": [
        "\n",
        "No rows in table derived_images with status R were found!\n",
        "No rows in table derived_images with status R were found!"
       ]
      },
      {
       "output_type": "stream",
       "stream": "stdout",
       "text": [
        "\n",
        "No rows in table derived_images with status R were found!\n",
        "No rows in table derived_images with status R were found!\n",
        "No rows in table derived_images with status R were found!\n",
        "No rows in table derived_images with status R were found!\n",
        "No rows in table derived_images with status R were found!\n",
        "No rows in table derived_images with status R were found!"
       ]
      },
      {
       "output_type": "stream",
       "stream": "stdout",
       "text": [
        "\n",
        "No rows in table derived_images with status R were found!\n",
        "No rows in table derived_images with status R were found!\n",
        "No rows in table derived_images with status R were found!"
       ]
      },
      {
       "output_type": "stream",
       "stream": "stdout",
       "text": [
        "\n",
        "No rows in table derived_images with status R were found!\n",
        "No rows in table derived_images with status R were found!\n",
        "No rows in table derived_images with status R were found!\n",
        "No rows in table derived_images with status R were found!"
       ]
      },
      {
       "output_type": "stream",
       "stream": "stdout",
       "text": [
        "\n",
        "No rows in table derived_images with status R were found!\n",
        "No rows in table derived_images with status R were found!\n",
        "No rows in table derived_images with status R were found!\n",
        "No rows in table derived_images with status R were found!\n",
        "No rows in table derived_images with status R were found!"
       ]
      },
      {
       "output_type": "stream",
       "stream": "stdout",
       "text": [
        "\n",
        "No rows in table derived_images with status R were found!\n",
        "No rows in table derived_images with status R were found!\n",
        "No rows in table derived_images with status R were found!"
       ]
      },
      {
       "output_type": "stream",
       "stream": "stdout",
       "text": [
        "\n",
        "No rows in table derived_images with status R were found!\n",
        "No rows in table derived_images with status R were found!\n",
        "No rows in table derived_images with status R were found!\n",
        "No rows in table derived_images with status R were found!"
       ]
      },
      {
       "output_type": "stream",
       "stream": "stdout",
       "text": [
        "\n",
        "No rows in table derived_images with status R were found!\n",
        "No rows in table derived_images with status R were found!\n",
        "No rows in table derived_images with status R were found!\n",
        "No rows in table derived_images with status R were found!\n",
        "No rows in table derived_images with status R were found!\n",
        "No rows in table derived_images with status R were found!"
       ]
      },
      {
       "output_type": "stream",
       "stream": "stdout",
       "text": [
        "\n",
        "No rows in table derived_images with status R were found!\n",
        "No rows in table derived_images with status R were found!\n",
        "No rows in table derived_images with status R were found!"
       ]
      },
      {
       "output_type": "stream",
       "stream": "stdout",
       "text": [
        "\n",
        "No rows in table derived_images with status R were found!\n",
        "No rows in table derived_images with status R were found!\n",
        "No rows in table derived_images with status R were found!"
       ]
      },
      {
       "output_type": "stream",
       "stream": "stdout",
       "text": [
        "\n",
        "No rows in table derived_images with status R were found!\n",
        "No rows in table derived_images with status R were found!\n",
        "No rows in table derived_images with status R were found!\n",
        "No rows in table derived_images with status R were found!"
       ]
      },
      {
       "output_type": "stream",
       "stream": "stdout",
       "text": [
        "\n",
        "No rows in table derived_images with status R were found!"
       ]
      },
      {
       "output_type": "stream",
       "stream": "stdout",
       "text": [
        "\n",
        "No rows in table derived_images with status R were found!\n",
        "No rows in table derived_images with status R were found!\n",
        "No rows in table derived_images with status R were found!\n",
        "No rows in table derived_images with status R were found!"
       ]
      },
      {
       "output_type": "stream",
       "stream": "stdout",
       "text": [
        "\n",
        "No rows in table derived_images with status R were found!\n",
        "No rows in table derived_images with status R were found!\n",
        "No rows in table derived_images with status R were found!"
       ]
      },
      {
       "output_type": "stream",
       "stream": "stdout",
       "text": [
        "\n",
        "No rows in table derived_images with status R were found!\n",
        "No rows in table derived_images with status R were found!\n",
        "No rows in table derived_images with status R were found!\n",
        "No rows in table derived_images with status R were found!\n",
        "No rows in table derived_images with status R were found!"
       ]
      },
      {
       "output_type": "stream",
       "stream": "stdout",
       "text": [
        "\n",
        "No rows in table derived_images with status R were found!\n",
        "No rows in table derived_images with status R were found!\n",
        "No rows in table derived_images with status R were found!\n",
        "No rows in table derived_images with status R were found!\n",
        "No rows in table derived_images with status R were found!\n",
        "No rows in table derived_images with status R were found!"
       ]
      },
      {
       "output_type": "stream",
       "stream": "stdout",
       "text": [
        "\n",
        "No rows in table derived_images with status R were found!\n",
        "No rows in table derived_images with status R were found!\n",
        "No rows in table derived_images with status R were found!\n",
        "No rows in table derived_images with status R were found!"
       ]
      },
      {
       "output_type": "stream",
       "stream": "stdout",
       "text": [
        "\n",
        "No rows in table derived_images with status R were found!\n",
        "No rows in table derived_images with status R were found!\n",
        "No rows in table derived_images with status R were found!\n",
        "No rows in table derived_images with status R were found!\n",
        "No rows in table derived_images with status R were found!"
       ]
      },
      {
       "output_type": "stream",
       "stream": "stdout",
       "text": [
        "\n",
        "No rows in table derived_images with status R were found!\n",
        "No rows in table derived_images with status R were found!"
       ]
      },
      {
       "output_type": "stream",
       "stream": "stdout",
       "text": [
        "\n",
        "No rows in table derived_images with status R were found!\n",
        "No rows in table derived_images with status R were found!"
       ]
      },
      {
       "output_type": "stream",
       "stream": "stdout",
       "text": [
        "\n",
        "No rows in table derived_images with status R were found!"
       ]
      },
      {
       "output_type": "stream",
       "stream": "stdout",
       "text": [
        "\n",
        "No rows in table derived_images with status R were found!\n",
        "No rows in table derived_images with status R were found!\n",
        "No rows in table derived_images with status R were found!"
       ]
      },
      {
       "output_type": "stream",
       "stream": "stdout",
       "text": [
        "\n",
        "No rows in table derived_images with status R were found!\n",
        "No rows in table derived_images with status R were found!"
       ]
      },
      {
       "output_type": "stream",
       "stream": "stdout",
       "text": [
        "\n",
        "No rows in table derived_images with status R were found!\n",
        "No rows in table derived_images with status R were found!\n",
        "No rows in table derived_images with status R were found!\n",
        "No rows in table derived_images with status R were found!"
       ]
      },
      {
       "output_type": "stream",
       "stream": "stdout",
       "text": [
        "\n",
        "No rows in table derived_images with status R were found!\n",
        "No rows in table derived_images with status R were found!\n",
        "No rows in table derived_images with status R were found!"
       ]
      },
      {
       "output_type": "stream",
       "stream": "stdout",
       "text": [
        "\n",
        "No rows in table derived_images with status R were found!\n",
        "No rows in table derived_images with status R were found!\n",
        "No rows in table derived_images with status R were found!\n",
        "No rows in table derived_images with status R were found!\n",
        "No rows in table derived_images with status R were found!"
       ]
      },
      {
       "output_type": "stream",
       "stream": "stdout",
       "text": [
        "\n",
        "No rows in table derived_images with status R were found!\n",
        "No rows in table derived_images with status R were found!\n",
        "No rows in table derived_images with status R were found!\n",
        "No rows in table derived_images with status R were found!\n",
        "No rows in table derived_images with status R were found!\n",
        "No rows in table derived_images with status R were found!"
       ]
      },
      {
       "output_type": "stream",
       "stream": "stdout",
       "text": [
        "\n",
        "No rows in table derived_images with status R were found!\n",
        "No rows in table derived_images with status R were found!\n",
        "No rows in table derived_images with status R were found!\n",
        "No rows in table derived_images with status R were found!"
       ]
      },
      {
       "output_type": "stream",
       "stream": "stdout",
       "text": [
        "\n",
        "No rows in table derived_images with status R were found!\n",
        "No rows in table derived_images with status R were found!\n",
        "No rows in table derived_images with status R were found!\n",
        "No rows in table derived_images with status R were found!\n",
        "No rows in table derived_images with status R were found!"
       ]
      },
      {
       "output_type": "stream",
       "stream": "stdout",
       "text": [
        "\n",
        "No rows in table derived_images with status R were found!"
       ]
      },
      {
       "output_type": "stream",
       "stream": "stdout",
       "text": [
        "\n",
        "No rows in table derived_images with status R were found!\n",
        "No rows in table derived_images with status R were found!\n",
        "No rows in table derived_images with status R were found!\n",
        "No rows in table derived_images with status R were found!\n",
        "No rows in table derived_images with status R were found!\n",
        "No rows in table derived_images with status R were found!"
       ]
      },
      {
       "output_type": "stream",
       "stream": "stdout",
       "text": [
        "\n",
        "No rows in table derived_images with status R were found!\n",
        "No rows in table derived_images with status R were found!\n",
        "No rows in table derived_images with status R were found!\n",
        "No rows in table derived_images with status R were found!\n",
        "No rows in table derived_images with status R were found!\n",
        "No rows in table derived_images with status R were found!"
       ]
      },
      {
       "output_type": "stream",
       "stream": "stdout",
       "text": [
        "\n",
        "No rows in table derived_images with status R were found!\n",
        "No rows in table derived_images with status R were found!\n",
        "No rows in table derived_images with status R were found!"
       ]
      },
      {
       "output_type": "stream",
       "stream": "stdout",
       "text": [
        "\n",
        "No rows in table derived_images with status R were found!\n",
        "No rows in table derived_images with status R were found!\n",
        "No rows in table derived_images with status R were found!\n",
        "No rows in table derived_images with status R were found!\n",
        "No rows in table derived_images with status R were found!\n",
        "No rows in table derived_images with status R were found!"
       ]
      },
      {
       "output_type": "stream",
       "stream": "stdout",
       "text": [
        "\n",
        "No rows in table derived_images with status R were found!\n",
        "No rows in table derived_images with status R were found!\n",
        "No rows in table derived_images with status R were found!"
       ]
      },
      {
       "output_type": "stream",
       "stream": "stdout",
       "text": [
        "\n",
        "No rows in table derived_images with status R were found!\n",
        "No rows in table derived_images with status R were found!\n",
        "No rows in table derived_images with status R were found!"
       ]
      },
      {
       "output_type": "stream",
       "stream": "stdout",
       "text": [
        "\n",
        "No rows in table derived_images with status R were found!\n",
        "No rows in table derived_images with status R were found!\n",
        "No rows in table derived_images with status R were found!\n",
        "No rows in table derived_images with status R were found!\n",
        "No rows in table derived_images with status R were found!\n",
        "No rows in table derived_images with status R were found!"
       ]
      },
      {
       "output_type": "stream",
       "stream": "stdout",
       "text": [
        "\n",
        "No rows in table derived_images with status R were found!\n",
        "No rows in table derived_images with status R were found!\n",
        "No rows in table derived_images with status R were found!\n",
        "No rows in table derived_images with status R were found!\n",
        "No rows in table derived_images with status R were found!\n",
        "No rows in table derived_images with status R were found!"
       ]
      },
      {
       "output_type": "stream",
       "stream": "stdout",
       "text": [
        "\n",
        "No rows in table derived_images with status R were found!\n",
        "No rows in table derived_images with status R were found!\n",
        "No rows in table derived_images with status R were found!\n",
        "No rows in table derived_images with status R were found!\n",
        "No rows in table derived_images with status R were found!"
       ]
      },
      {
       "output_type": "stream",
       "stream": "stdout",
       "text": [
        "\n",
        "No rows in table derived_images with status R were found!\n",
        "No rows in table derived_images with status R were found!\n",
        "No rows in table derived_images with status R were found!\n",
        "No rows in table derived_images with status R were found!"
       ]
      },
      {
       "output_type": "stream",
       "stream": "stdout",
       "text": [
        "\n",
        "No rows in table derived_images with status R were found!\n",
        "No rows in table derived_images with status R were found!"
       ]
      },
      {
       "output_type": "stream",
       "stream": "stdout",
       "text": [
        "\n",
        "No rows in table derived_images with status R were found!\n",
        "No rows in table derived_images with status R were found!\n",
        "No rows in table derived_images with status R were found!\n",
        "No rows in table derived_images with status R were found!\n",
        "No rows in table derived_images with status R were found!\n",
        "No rows in table derived_images with status R were found!"
       ]
      },
      {
       "output_type": "stream",
       "stream": "stdout",
       "text": [
        "\n",
        "No rows in table derived_images with status R were found!"
       ]
      },
      {
       "output_type": "stream",
       "stream": "stdout",
       "text": [
        "\n",
        "No rows in table derived_images with status R were found!\n",
        "No rows in table derived_images with status R were found!\n",
        "No rows in table derived_images with status R were found!\n",
        "No rows in table derived_images with status R were found!\n",
        "No rows in table derived_images with status R were found!\n",
        "No rows in table derived_images with status R were found!"
       ]
      },
      {
       "output_type": "stream",
       "stream": "stdout",
       "text": [
        "\n",
        "No rows in table derived_images with status R were found!\n",
        "No rows in table derived_images with status R were found!"
       ]
      },
      {
       "output_type": "stream",
       "stream": "stdout",
       "text": [
        "\n",
        "No rows in table derived_images with status R were found!\n",
        "No rows in table derived_images with status R were found!\n",
        "No rows in table derived_images with status R were found!\n",
        "No rows in table derived_images with status R were found!"
       ]
      },
      {
       "output_type": "stream",
       "stream": "stdout",
       "text": [
        "\n",
        "No rows in table derived_images with status R were found!\n",
        "No rows in table derived_images with status R were found!"
       ]
      },
      {
       "output_type": "stream",
       "stream": "stdout",
       "text": [
        "\n",
        "No rows in table derived_images with status R were found!\n",
        "No rows in table derived_images with status R were found!\n",
        "No rows in table derived_images with status R were found!\n",
        "No rows in table derived_images with status R were found!"
       ]
      },
      {
       "output_type": "stream",
       "stream": "stdout",
       "text": [
        "\n",
        "No rows in table derived_images with status R were found!\n",
        "No rows in table derived_images with status R were found!\n",
        "No rows in table derived_images with status R were found!\n",
        "No rows in table derived_images with status R were found!"
       ]
      },
      {
       "output_type": "stream",
       "stream": "stdout",
       "text": [
        "\n",
        "No rows in table derived_images with status R were found!\n",
        "No rows in table derived_images with status R were found!\n",
        "No rows in table derived_images with status R were found!\n",
        "No rows in table derived_images with status R were found!\n",
        "No rows in table derived_images with status R were found!"
       ]
      },
      {
       "output_type": "stream",
       "stream": "stdout",
       "text": [
        "\n",
        "No rows in table derived_images with status R were found!\n",
        "No rows in table derived_images with status R were found!\n",
        "No rows in table derived_images with status R were found!"
       ]
      },
      {
       "output_type": "stream",
       "stream": "stdout",
       "text": [
        "\n",
        "No rows in table derived_images with status R were found!\n",
        "No rows in table derived_images with status R were found!\n",
        "No rows in table derived_images with status R were found!"
       ]
      },
      {
       "output_type": "stream",
       "stream": "stdout",
       "text": [
        "\n",
        "No rows in table derived_images with status R were found!\n",
        "No rows in table derived_images with status R were found!\n",
        "No rows in table derived_images with status R were found!\n",
        "No rows in table derived_images with status R were found!"
       ]
      },
      {
       "output_type": "stream",
       "stream": "stdout",
       "text": [
        "\n",
        "No rows in table derived_images with status R were found!\n",
        "No rows in table derived_images with status R were found!\n",
        "No rows in table derived_images with status R were found!"
       ]
      },
      {
       "output_type": "stream",
       "stream": "stdout",
       "text": [
        "\n",
        "No rows in table derived_images with status R were found!\n",
        "No rows in table derived_images with status R were found!\n",
        "No rows in table derived_images with status R were found!\n",
        "No rows in table derived_images with status R were found!\n",
        "No rows in table derived_images with status R were found!\n",
        "No rows in table derived_images with status R were found!"
       ]
      },
      {
       "output_type": "stream",
       "stream": "stdout",
       "text": [
        "\n",
        "No rows in table derived_images with status R were found!"
       ]
      },
      {
       "output_type": "stream",
       "stream": "stdout",
       "text": [
        "\n",
        "No rows in table derived_images with status R were found!\n",
        "No rows in table derived_images with status R were found!\n",
        "No rows in table derived_images with status R were found!\n",
        "No rows in table derived_images with status R were found!\n",
        "No rows in table derived_images with status R were found!\n",
        "No rows in table derived_images with status R were found!"
       ]
      },
      {
       "output_type": "stream",
       "stream": "stdout",
       "text": [
        "\n",
        "No rows in table derived_images with status R were found!\n",
        "No rows in table derived_images with status R were found!\n",
        "No rows in table derived_images with status R were found!"
       ]
      },
      {
       "output_type": "stream",
       "stream": "stdout",
       "text": [
        "\n",
        "No rows in table derived_images with status R were found!\n",
        "No rows in table derived_images with status R were found!\n",
        "No rows in table derived_images with status R were found!\n",
        "No rows in table derived_images with status R were found!"
       ]
      },
      {
       "output_type": "stream",
       "stream": "stdout",
       "text": [
        "\n",
        "No rows in table derived_images with status R were found!\n",
        "No rows in table derived_images with status R were found!\n",
        "No rows in table derived_images with status R were found!\n",
        "No rows in table derived_images with status R were found!\n",
        "No rows in table derived_images with status R were found!\n",
        "No rows in table derived_images with status R were found!"
       ]
      },
      {
       "output_type": "stream",
       "stream": "stdout",
       "text": [
        "\n",
        "No rows in table derived_images with status R were found!\n",
        "No rows in table derived_images with status R were found!\n",
        "No rows in table derived_images with status R were found!\n",
        "No rows in table derived_images with status R were found!\n",
        "No rows in table derived_images with status R were found!"
       ]
      },
      {
       "output_type": "stream",
       "stream": "stdout",
       "text": [
        "\n",
        "No rows in table derived_images with status R were found!\n",
        "No rows in table derived_images with status R were found!"
       ]
      },
      {
       "output_type": "stream",
       "stream": "stdout",
       "text": [
        "\n",
        "No rows in table derived_images with status R were found!\n",
        "No rows in table derived_images with status R were found!\n",
        "No rows in table derived_images with status R were found!\n",
        "No rows in table derived_images with status R were found!\n",
        "No rows in table derived_images with status R were found!"
       ]
      },
      {
       "output_type": "stream",
       "stream": "stdout",
       "text": [
        "\n",
        "No rows in table derived_images with status R were found!\n",
        "No rows in table derived_images with status R were found!"
       ]
      },
      {
       "output_type": "stream",
       "stream": "stdout",
       "text": [
        "\n",
        "No rows in table derived_images with status R were found!\n",
        "No rows in table derived_images with status R were found!\n",
        "No rows in table derived_images with status R were found!\n",
        "No rows in table derived_images with status R were found!\n",
        "No rows in table derived_images with status R were found!"
       ]
      },
      {
       "output_type": "stream",
       "stream": "stdout",
       "text": [
        "\n",
        "No rows in table derived_images with status R were found!\n",
        "No rows in table derived_images with status R were found!\n",
        "No rows in table derived_images with status R were found!\n",
        "No rows in table derived_images with status R were found!\n",
        "No rows in table derived_images with status R were found!\n",
        "No rows in table derived_images with status R were found!"
       ]
      },
      {
       "output_type": "stream",
       "stream": "stdout",
       "text": [
        "\n",
        "No rows in table derived_images with status R were found!\n",
        "No rows in table derived_images with status R were found!\n",
        "No rows in table derived_images with status R were found!\n",
        "No rows in table derived_images with status R were found!\n",
        "No rows in table derived_images with status R were found!\n",
        "No rows in table derived_images with status R were found!"
       ]
      },
      {
       "output_type": "stream",
       "stream": "stdout",
       "text": [
        "\n",
        "No rows in table derived_images with status R were found!\n",
        "No rows in table derived_images with status R were found!\n",
        "No rows in table derived_images with status R were found!\n",
        "No rows in table derived_images with status R were found!"
       ]
      },
      {
       "output_type": "stream",
       "stream": "stdout",
       "text": [
        "\n",
        "No rows in table derived_images with status R were found!"
       ]
      },
      {
       "output_type": "stream",
       "stream": "stdout",
       "text": [
        "\n",
        "No rows in table derived_images with status R were found!\n",
        "No rows in table derived_images with status R were found!"
       ]
      },
      {
       "output_type": "stream",
       "stream": "stdout",
       "text": [
        "\n",
        "No rows in table derived_images with status R were found!\n",
        "No rows in table derived_images with status R were found!\n",
        "No rows in table derived_images with status R were found!\n",
        "No rows in table derived_images with status R were found!\n",
        "No rows in table derived_images with status R were found!\n",
        "No rows in table derived_images with status R were found!"
       ]
      },
      {
       "output_type": "stream",
       "stream": "stdout",
       "text": [
        "\n",
        "No rows in table derived_images with status R were found!\n",
        "No rows in table derived_images with status R were found!\n",
        "No rows in table derived_images with status R were found!"
       ]
      },
      {
       "output_type": "stream",
       "stream": "stdout",
       "text": [
        "\n",
        "No rows in table derived_images with status R were found!"
       ]
      },
      {
       "output_type": "stream",
       "stream": "stdout",
       "text": [
        "\n",
        "No rows in table derived_images with status R were found!\n",
        "No rows in table derived_images with status R were found!"
       ]
      },
      {
       "output_type": "stream",
       "stream": "stdout",
       "text": [
        "\n",
        "No rows in table derived_images with status R were found!\n",
        "No rows in table derived_images with status R were found!\n",
        "No rows in table derived_images with status R were found!\n",
        "No rows in table derived_images with status R were found!\n",
        "No rows in table derived_images with status R were found!\n",
        "No rows in table derived_images with status R were found!"
       ]
      },
      {
       "output_type": "stream",
       "stream": "stdout",
       "text": [
        "\n",
        "No rows in table derived_images with status R were found!\n",
        "No rows in table derived_images with status R were found!\n",
        "No rows in table derived_images with status R were found!\n",
        "No rows in table derived_images with status R were found!\n",
        "No rows in table derived_images with status R were found!\n",
        "No rows in table derived_images with status R were found!"
       ]
      },
      {
       "output_type": "stream",
       "stream": "stdout",
       "text": [
        "\n",
        "No rows in table derived_images with status R were found!"
       ]
      },
      {
       "output_type": "stream",
       "stream": "stdout",
       "text": [
        "\n",
        "No rows in table derived_images with status R were found!\n",
        "No rows in table derived_images with status R were found!\n",
        "No rows in table derived_images with status R were found!\n",
        "No rows in table derived_images with status R were found!\n",
        "No rows in table derived_images with status R were found!\n",
        "No rows in table derived_images with status R were found!"
       ]
      },
      {
       "output_type": "stream",
       "stream": "stdout",
       "text": [
        "\n",
        "No rows in table derived_images with status R were found!\n",
        "No rows in table derived_images with status R were found!\n",
        "No rows in table derived_images with status R were found!\n",
        "No rows in table derived_images with status R were found!\n",
        "No rows in table derived_images with status R were found!\n",
        "No rows in table derived_images with status R were found!"
       ]
      },
      {
       "output_type": "stream",
       "stream": "stdout",
       "text": [
        "\n",
        "No rows in table derived_images with status R were found!\n",
        "No rows in table derived_images with status R were found!\n",
        "No rows in table derived_images with status R were found!\n",
        "No rows in table derived_images with status R were found!\n",
        "No rows in table derived_images with status R were found!\n",
        "No rows in table derived_images with status R were found!"
       ]
      },
      {
       "output_type": "stream",
       "stream": "stdout",
       "text": [
        "\n",
        "No rows in table derived_images with status R were found!\n",
        "No rows in table derived_images with status R were found!\n",
        "No rows in table derived_images with status R were found!\n",
        "No rows in table derived_images with status R were found!"
       ]
      },
      {
       "output_type": "stream",
       "stream": "stdout",
       "text": [
        "\n",
        "No rows in table derived_images with status R were found!\n",
        "No rows in table derived_images with status R were found!\n",
        "No rows in table derived_images with status R were found!\n",
        "No rows in table derived_images with status R were found!\n",
        "No rows in table derived_images with status R were found!\n",
        "No rows in table derived_images with status R were found!"
       ]
      },
      {
       "output_type": "stream",
       "stream": "stdout",
       "text": [
        "\n",
        "No rows in table derived_images with status R were found!\n",
        "No rows in table derived_images with status R were found!"
       ]
      },
      {
       "output_type": "stream",
       "stream": "stdout",
       "text": [
        "\n",
        "No rows in table derived_images with status R were found!\n",
        "No rows in table derived_images with status R were found!"
       ]
      },
      {
       "output_type": "stream",
       "stream": "stdout",
       "text": [
        "\n",
        "No rows in table derived_images with status R were found!\n",
        "No rows in table derived_images with status R were found!\n",
        "No rows in table derived_images with status R were found!"
       ]
      },
      {
       "output_type": "stream",
       "stream": "stdout",
       "text": [
        "\n",
        "No rows in table derived_images with status R were found!\n",
        "No rows in table derived_images with status R were found!\n",
        "No rows in table derived_images with status R were found!"
       ]
      },
      {
       "output_type": "stream",
       "stream": "stdout",
       "text": [
        "\n",
        "No rows in table derived_images with status R were found!\n",
        "No rows in table derived_images with status R were found!\n",
        "No rows in table derived_images with status R were found!\n",
        "No rows in table derived_images with status R were found!\n",
        "No rows in table derived_images with status R were found!\n",
        "No rows in table derived_images with status R were found!"
       ]
      },
      {
       "output_type": "stream",
       "stream": "stdout",
       "text": [
        "\n",
        "No rows in table derived_images with status R were found!\n",
        "No rows in table derived_images with status R were found!\n",
        "No rows in table derived_images with status R were found!"
       ]
      },
      {
       "output_type": "stream",
       "stream": "stdout",
       "text": [
        "\n",
        "No rows in table derived_images with status R were found!\n",
        "No rows in table derived_images with status R were found!\n",
        "No rows in table derived_images with status R were found!"
       ]
      },
      {
       "output_type": "stream",
       "stream": "stdout",
       "text": [
        "\n",
        "No rows in table derived_images with status R were found!\n",
        "No rows in table derived_images with status R were found!\n",
        "No rows in table derived_images with status R were found!\n",
        "No rows in table derived_images with status R were found!\n",
        "No rows in table derived_images with status R were found!\n",
        "No rows in table derived_images with status R were found!"
       ]
      },
      {
       "output_type": "stream",
       "stream": "stdout",
       "text": [
        "\n",
        "No rows in table derived_images with status R were found!\n",
        "No rows in table derived_images with status R were found!\n",
        "No rows in table derived_images with status R were found!\n",
        "No rows in table derived_images with status R were found!\n",
        "No rows in table derived_images with status R were found!\n",
        "No rows in table derived_images with status R were found!"
       ]
      },
      {
       "output_type": "stream",
       "stream": "stdout",
       "text": [
        "\n",
        "No rows in table derived_images with status R were found!\n",
        "No rows in table derived_images with status R were found!"
       ]
      },
      {
       "output_type": "stream",
       "stream": "stdout",
       "text": [
        "\n",
        "No rows in table derived_images with status R were found!\n",
        "No rows in table derived_images with status R were found!\n",
        "No rows in table derived_images with status R were found!"
       ]
      },
      {
       "output_type": "stream",
       "stream": "stdout",
       "text": [
        "\n",
        "No rows in table derived_images with status R were found!\n",
        "No rows in table derived_images with status R were found!"
       ]
      },
      {
       "output_type": "stream",
       "stream": "stdout",
       "text": [
        "\n",
        "No rows in table derived_images with status R were found!\n",
        "No rows in table derived_images with status R were found!\n",
        "No rows in table derived_images with status R were found!\n",
        "No rows in table derived_images with status R were found!"
       ]
      },
      {
       "output_type": "stream",
       "stream": "stdout",
       "text": [
        "\n",
        "No rows in table derived_images with status R were found!"
       ]
      },
      {
       "output_type": "stream",
       "stream": "stdout",
       "text": [
        "\n",
        "No rows in table derived_images with status R were found!\n",
        "No rows in table derived_images with status R were found!\n",
        "No rows in table derived_images with status R were found!\n",
        "No rows in table derived_images with status R were found!"
       ]
      },
      {
       "output_type": "stream",
       "stream": "stdout",
       "text": [
        "\n",
        "No rows in table derived_images with status R were found!"
       ]
      },
      {
       "output_type": "stream",
       "stream": "stdout",
       "text": [
        "\n",
        "No rows in table derived_images with status R were found!\n",
        "No rows in table derived_images with status R were found!"
       ]
      },
      {
       "output_type": "stream",
       "stream": "stdout",
       "text": [
        "\n",
        "No rows in table derived_images with status R were found!\n",
        "No rows in table derived_images with status R were found!\n",
        "No rows in table derived_images with status R were found!\n",
        "No rows in table derived_images with status R were found!"
       ]
      },
      {
       "output_type": "stream",
       "stream": "stdout",
       "text": [
        "\n",
        "No rows in table derived_images with status R were found!\n",
        "No rows in table derived_images with status R were found!\n",
        "No rows in table derived_images with status R were found!\n",
        "No rows in table derived_images with status R were found!\n",
        "No rows in table derived_images with status R were found!"
       ]
      },
      {
       "output_type": "stream",
       "stream": "stdout",
       "text": [
        "\n",
        "No rows in table derived_images with status R were found!\n",
        "No rows in table derived_images with status R were found!"
       ]
      },
      {
       "output_type": "stream",
       "stream": "stdout",
       "text": [
        "\n",
        "No rows in table derived_images with status R were found!\n",
        "No rows in table derived_images with status R were found!\n",
        "No rows in table derived_images with status R were found!\n",
        "No rows in table derived_images with status R were found!"
       ]
      },
      {
       "output_type": "stream",
       "stream": "stdout",
       "text": [
        "\n",
        "No rows in table derived_images with status R were found!\n",
        "No rows in table derived_images with status R were found!\n",
        "No rows in table derived_images with status R were found!\n",
        "No rows in table derived_images with status R were found!\n",
        "No rows in table derived_images with status R were found!\n",
        "No rows in table derived_images with status R were found!"
       ]
      },
      {
       "output_type": "stream",
       "stream": "stdout",
       "text": [
        "\n",
        "No rows in table derived_images with status R were found!\n",
        "No rows in table derived_images with status R were found!\n",
        "No rows in table derived_images with status R were found!"
       ]
      },
      {
       "output_type": "stream",
       "stream": "stdout",
       "text": [
        "\n",
        "No rows in table derived_images with status R were found!\n",
        "No rows in table derived_images with status R were found!\n",
        "No rows in table derived_images with status R were found!\n",
        "No rows in table derived_images with status R were found!\n",
        "No rows in table derived_images with status R were found!\n",
        "No rows in table derived_images with status R were found!"
       ]
      },
      {
       "output_type": "stream",
       "stream": "stdout",
       "text": [
        "\n",
        "No rows in table derived_images with status R were found!\n",
        "No rows in table derived_images with status R were found!\n",
        "No rows in table derived_images with status R were found!"
       ]
      },
      {
       "output_type": "stream",
       "stream": "stdout",
       "text": [
        "\n",
        "No rows in table derived_images with status R were found!\n",
        "No rows in table derived_images with status R were found!\n",
        "No rows in table derived_images with status R were found!"
       ]
      },
      {
       "output_type": "stream",
       "stream": "stdout",
       "text": [
        "\n",
        "No rows in table derived_images with status R were found!"
       ]
      },
      {
       "output_type": "stream",
       "stream": "stdout",
       "text": [
        "\n",
        "No rows in table derived_images with status R were found!\n",
        "No rows in table derived_images with status R were found!\n",
        "No rows in table derived_images with status R were found!\n",
        "No rows in table derived_images with status R were found!"
       ]
      },
      {
       "output_type": "stream",
       "stream": "stdout",
       "text": [
        "\n",
        "No rows in table derived_images with status R were found!"
       ]
      },
      {
       "output_type": "stream",
       "stream": "stdout",
       "text": [
        "\n",
        "No rows in table derived_images with status R were found!\n",
        "No rows in table derived_images with status R were found!\n",
        "No rows in table derived_images with status R were found!"
       ]
      },
      {
       "output_type": "stream",
       "stream": "stdout",
       "text": [
        "\n",
        "No rows in table derived_images with status R were found!\n",
        "No rows in table derived_images with status R were found!\n",
        "No rows in table derived_images with status R were found!\n",
        "No rows in table derived_images with status R were found!"
       ]
      },
      {
       "output_type": "stream",
       "stream": "stdout",
       "text": [
        "\n",
        "No rows in table derived_images with status R were found!\n",
        "No rows in table derived_images with status R were found!\n",
        "No rows in table derived_images with status R were found!"
       ]
      },
      {
       "output_type": "stream",
       "stream": "stdout",
       "text": [
        "\n",
        "No rows in table derived_images with status R were found!"
       ]
      },
      {
       "output_type": "stream",
       "stream": "stdout",
       "text": [
        "\n",
        "No rows in table derived_images with status R were found!\n",
        "No rows in table derived_images with status R were found!\n",
        "No rows in table derived_images with status R were found!\n",
        "No rows in table derived_images with status R were found!\n",
        "No rows in table derived_images with status R were found!"
       ]
      },
      {
       "output_type": "stream",
       "stream": "stdout",
       "text": [
        "\n",
        "No rows in table derived_images with status R were found!\n",
        "No rows in table derived_images with status R were found!\n",
        "No rows in table derived_images with status R were found!\n",
        "No rows in table derived_images with status R were found!\n",
        "No rows in table derived_images with status R were found!\n",
        "No rows in table derived_images with status R were found!"
       ]
      },
      {
       "output_type": "stream",
       "stream": "stdout",
       "text": [
        "\n",
        "No rows in table derived_images with status R were found!\n",
        "No rows in table derived_images with status R were found!"
       ]
      },
      {
       "output_type": "stream",
       "stream": "stdout",
       "text": [
        "\n",
        "No rows in table derived_images with status R were found!\n",
        "No rows in table derived_images with status R were found!\n",
        "No rows in table derived_images with status R were found!\n",
        "No rows in table derived_images with status R were found!\n",
        "No rows in table derived_images with status R were found!\n",
        "No rows in table derived_images with status R were found!"
       ]
      },
      {
       "output_type": "stream",
       "stream": "stdout",
       "text": [
        "\n",
        "No rows in table derived_images with status R were found!\n",
        "No rows in table derived_images with status R were found!\n",
        "No rows in table derived_images with status R were found!"
       ]
      },
      {
       "output_type": "stream",
       "stream": "stdout",
       "text": [
        "\n",
        "No rows in table derived_images with status R were found!"
       ]
      },
      {
       "output_type": "stream",
       "stream": "stdout",
       "text": [
        "\n",
        "No rows in table derived_images with status R were found!\n",
        "No rows in table derived_images with status R were found!\n",
        "No rows in table derived_images with status R were found!\n",
        "No rows in table derived_images with status R were found!"
       ]
      },
      {
       "output_type": "stream",
       "stream": "stdout",
       "text": [
        "\n",
        "No rows in table derived_images with status R were found!\n",
        "No rows in table derived_images with status R were found!\n",
        "No rows in table derived_images with status R were found!\n",
        "No rows in table derived_images with status R were found!\n",
        "No rows in table derived_images with status R were found!\n",
        "No rows in table derived_images with status R were found!"
       ]
      },
      {
       "output_type": "stream",
       "stream": "stdout",
       "text": [
        "\n",
        "No rows in table derived_images with status R were found!\n",
        "No rows in table derived_images with status R were found!\n",
        "No rows in table derived_images with status R were found!"
       ]
      },
      {
       "output_type": "stream",
       "stream": "stdout",
       "text": [
        "\n",
        "No rows in table derived_images with status R were found!\n",
        "No rows in table derived_images with status R were found!\n",
        "No rows in table derived_images with status R were found!"
       ]
      },
      {
       "output_type": "stream",
       "stream": "stdout",
       "text": [
        "\n",
        "No rows in table derived_images with status R were found!\n",
        "No rows in table derived_images with status R were found!"
       ]
      },
      {
       "output_type": "stream",
       "stream": "stdout",
       "text": [
        "\n",
        "No rows in table derived_images with status R were found!\n",
        "No rows in table derived_images with status R were found!\n",
        "No rows in table derived_images with status R were found!\n",
        "No rows in table derived_images with status R were found!\n",
        "No rows in table derived_images with status R were found!\n",
        "No rows in table derived_images with status R were found!"
       ]
      },
      {
       "output_type": "stream",
       "stream": "stdout",
       "text": [
        "\n",
        "No rows in table derived_images with status R were found!\n",
        "No rows in table derived_images with status R were found!\n",
        "No rows in table derived_images with status R were found!\n",
        "No rows in table derived_images with status R were found!\n",
        "No rows in table derived_images with status R were found!\n",
        "No rows in table derived_images with status R were found!"
       ]
      },
      {
       "output_type": "stream",
       "stream": "stdout",
       "text": [
        "\n",
        "No rows in table derived_images with status R were found!\n",
        "No rows in table derived_images with status R were found!\n",
        "No rows in table derived_images with status R were found!\n",
        "No rows in table derived_images with status R were found!\n",
        "No rows in table derived_images with status R were found!\n",
        "No rows in table derived_images with status R were found!"
       ]
      },
      {
       "output_type": "stream",
       "stream": "stdout",
       "text": [
        "\n",
        "No rows in table derived_images with status R were found!"
       ]
      },
      {
       "output_type": "stream",
       "stream": "stdout",
       "text": [
        "\n",
        "No rows in table derived_images with status R were found!\n",
        "No rows in table derived_images with status R were found!\n",
        "No rows in table derived_images with status R were found!\n",
        "No rows in table derived_images with status R were found!\n",
        "No rows in table derived_images with status R were found!\n",
        "No rows in table derived_images with status R were found!"
       ]
      },
      {
       "output_type": "stream",
       "stream": "stdout",
       "text": [
        "\n",
        "No rows in table derived_images with status R were found!\n",
        "No rows in table derived_images with status R were found!"
       ]
      },
      {
       "output_type": "stream",
       "stream": "stdout",
       "text": [
        "\n",
        "No rows in table derived_images with status R were found!\n",
        "No rows in table derived_images with status R were found!\n",
        "No rows in table derived_images with status R were found!"
       ]
      },
      {
       "output_type": "stream",
       "stream": "stdout",
       "text": [
        "\n",
        "No rows in table derived_images with status R were found!\n",
        "No rows in table derived_images with status R were found!\n",
        "No rows in table derived_images with status R were found!"
       ]
      },
      {
       "output_type": "stream",
       "stream": "stdout",
       "text": [
        "\n",
        "No rows in table derived_images with status R were found!\n",
        "No rows in table derived_images with status R were found!\n",
        "No rows in table derived_images with status R were found!\n",
        "No rows in table derived_images with status R were found!\n",
        "No rows in table derived_images with status R were found!\n",
        "No rows in table derived_images with status R were found!"
       ]
      },
      {
       "output_type": "stream",
       "stream": "stdout",
       "text": [
        "\n",
        "No rows in table derived_images with status R were found!\n",
        "No rows in table derived_images with status R were found!\n",
        "No rows in table derived_images with status R were found!\n",
        "No rows in table derived_images with status R were found!"
       ]
      },
      {
       "output_type": "stream",
       "stream": "stdout",
       "text": [
        "\n",
        "No rows in table derived_images with status R were found!\n",
        "No rows in table derived_images with status R were found!"
       ]
      },
      {
       "output_type": "stream",
       "stream": "stdout",
       "text": [
        "\n",
        "No rows in table derived_images with status R were found!\n",
        "No rows in table derived_images with status R were found!\n",
        "No rows in table derived_images with status R were found!"
       ]
      },
      {
       "output_type": "stream",
       "stream": "stdout",
       "text": [
        "\n",
        "No rows in table derived_images with status R were found!\n",
        "No rows in table derived_images with status R were found!\n",
        "No rows in table derived_images with status R were found!"
       ]
      },
      {
       "output_type": "stream",
       "stream": "stdout",
       "text": [
        "\n",
        "No rows in table derived_images with status R were found!\n",
        "No rows in table derived_images with status R were found!\n",
        "No rows in table derived_images with status R were found!\n",
        "No rows in table derived_images with status R were found!"
       ]
      },
      {
       "output_type": "stream",
       "stream": "stdout",
       "text": [
        "\n",
        "No rows in table derived_images with status R were found!\n",
        "No rows in table derived_images with status R were found!\n",
        "No rows in table derived_images with status R were found!\n",
        "No rows in table derived_images with status R were found!"
       ]
      },
      {
       "output_type": "stream",
       "stream": "stdout",
       "text": [
        "\n",
        "No rows in table derived_images with status R were found!\n",
        "No rows in table derived_images with status R were found!\n",
        "No rows in table derived_images with status R were found!"
       ]
      },
      {
       "output_type": "stream",
       "stream": "stdout",
       "text": [
        "\n",
        "No rows in table derived_images with status R were found!\n",
        "No rows in table derived_images with status R were found!\n",
        "No rows in table derived_images with status R were found!\n",
        "No rows in table derived_images with status R were found!\n",
        "No rows in table derived_images with status R were found!\n",
        "No rows in table derived_images with status R were found!"
       ]
      },
      {
       "output_type": "stream",
       "stream": "stdout",
       "text": [
        "\n",
        "No rows in table derived_images with status R were found!\n",
        "No rows in table derived_images with status R were found!\n",
        "No rows in table derived_images with status R were found!\n",
        "No rows in table derived_images with status R were found!\n",
        "No rows in table derived_images with status R were found!\n",
        "No rows in table derived_images with status R were found!"
       ]
      },
      {
       "output_type": "stream",
       "stream": "stdout",
       "text": [
        "\n",
        "No rows in table derived_images with status R were found!\n",
        "No rows in table derived_images with status R were found!\n",
        "No rows in table derived_images with status R were found!\n",
        "No rows in table derived_images with status R were found!\n",
        "No rows in table derived_images with status R were found!"
       ]
      },
      {
       "output_type": "stream",
       "stream": "stdout",
       "text": [
        "\n",
        "No rows in table derived_images with status R were found!\n",
        "No rows in table derived_images with status R were found!\n",
        "No rows in table derived_images with status R were found!"
       ]
      },
      {
       "output_type": "stream",
       "stream": "stdout",
       "text": [
        "\n",
        "No rows in table derived_images with status R were found!\n",
        "No rows in table derived_images with status R were found!\n",
        "No rows in table derived_images with status R were found!"
       ]
      },
      {
       "output_type": "stream",
       "stream": "stdout",
       "text": [
        "\n",
        "No rows in table derived_images with status R were found!\n",
        "No rows in table derived_images with status R were found!\n",
        "No rows in table derived_images with status R were found!"
       ]
      },
      {
       "output_type": "stream",
       "stream": "stdout",
       "text": [
        "\n",
        "No rows in table derived_images with status R were found!\n",
        "No rows in table derived_images with status R were found!\n",
        "No rows in table derived_images with status R were found!\n",
        "No rows in table derived_images with status R were found!"
       ]
      },
      {
       "output_type": "stream",
       "stream": "stdout",
       "text": [
        "\n",
        "No rows in table derived_images with status R were found!\n",
        "No rows in table derived_images with status R were found!\n",
        "No rows in table derived_images with status R were found!\n",
        "No rows in table derived_images with status R were found!\n",
        "No rows in table derived_images with status R were found!"
       ]
      },
      {
       "output_type": "stream",
       "stream": "stdout",
       "text": [
        "\n",
        "No rows in table derived_images with status R were found!\n",
        "No rows in table derived_images with status R were found!\n",
        "No rows in table derived_images with status R were found!\n",
        "No rows in table derived_images with status R were found!\n",
        "No rows in table derived_images with status R were found!\n",
        "No rows in table derived_images with status R were found!"
       ]
      },
      {
       "output_type": "stream",
       "stream": "stdout",
       "text": [
        "\n",
        "No rows in table derived_images with status R were found!"
       ]
      },
      {
       "output_type": "stream",
       "stream": "stdout",
       "text": [
        "\n",
        "No rows in table derived_images with status R were found!\n",
        "No rows in table derived_images with status R were found!\n",
        "No rows in table derived_images with status R were found!\n",
        "No rows in table derived_images with status R were found!\n",
        "No rows in table derived_images with status R were found!"
       ]
      },
      {
       "output_type": "stream",
       "stream": "stdout",
       "text": [
        "\n",
        "No rows in table derived_images with status R were found!"
       ]
      },
      {
       "output_type": "stream",
       "stream": "stdout",
       "text": [
        "\n",
        "No rows in table derived_images with status R were found!\n",
        "No rows in table derived_images with status R were found!\n",
        "No rows in table derived_images with status R were found!"
       ]
      },
      {
       "output_type": "stream",
       "stream": "stdout",
       "text": [
        "\n",
        "No rows in table derived_images with status R were found!\n",
        "No rows in table derived_images with status R were found!\n",
        "No rows in table derived_images with status R were found!\n",
        "No rows in table derived_images with status R were found!\n",
        "No rows in table derived_images with status R were found!\n",
        "No rows in table derived_images with status R were found!"
       ]
      },
      {
       "output_type": "stream",
       "stream": "stdout",
       "text": [
        "\n",
        "No rows in table derived_images with status R were found!\n",
        "No rows in table derived_images with status R were found!\n",
        "No rows in table derived_images with status R were found!\n",
        "No rows in table derived_images with status R were found!\n",
        "No rows in table derived_images with status R were found!"
       ]
      },
      {
       "output_type": "stream",
       "stream": "stdout",
       "text": [
        "\n",
        "No rows in table derived_images with status R were found!\n",
        "No rows in table derived_images with status R were found!\n",
        "No rows in table derived_images with status R were found!"
       ]
      },
      {
       "output_type": "stream",
       "stream": "stdout",
       "text": [
        "\n",
        "No rows in table derived_images with status R were found!\n",
        "No rows in table derived_images with status R were found!\n",
        "No rows in table derived_images with status R were found!\n",
        "No rows in table derived_images with status R were found!\n",
        "No rows in table derived_images with status R were found!\n",
        "No rows in table derived_images with status R were found!"
       ]
      },
      {
       "output_type": "stream",
       "stream": "stdout",
       "text": [
        "\n",
        "No rows in table derived_images with status R were found!"
       ]
      },
      {
       "output_type": "stream",
       "stream": "stdout",
       "text": [
        "\n",
        "No rows in table derived_images with status R were found!\n",
        "No rows in table derived_images with status R were found!\n",
        "No rows in table derived_images with status R were found!\n",
        "No rows in table derived_images with status R were found!\n",
        "No rows in table derived_images with status R were found!\n",
        "No rows in table derived_images with status R were found!"
       ]
      },
      {
       "output_type": "stream",
       "stream": "stdout",
       "text": [
        "\n",
        "No rows in table derived_images with status R were found!"
       ]
      },
      {
       "output_type": "stream",
       "stream": "stdout",
       "text": [
        "\n",
        "No rows in table derived_images with status R were found!"
       ]
      },
      {
       "output_type": "stream",
       "stream": "stdout",
       "text": [
        "\n",
        "No rows in table derived_images with status R were found!\n",
        "No rows in table derived_images with status R were found!\n",
        "No rows in table derived_images with status R were found!\n",
        "No rows in table derived_images with status R were found!\n",
        "No rows in table derived_images with status R were found!\n",
        "No rows in table derived_images with status R were found!"
       ]
      },
      {
       "output_type": "stream",
       "stream": "stdout",
       "text": [
        "\n",
        "No rows in table derived_images with status R were found!\n",
        "No rows in table derived_images with status R were found!"
       ]
      },
      {
       "output_type": "stream",
       "stream": "stdout",
       "text": [
        "\n",
        "No rows in table derived_images with status R were found!"
       ]
      },
      {
       "output_type": "stream",
       "stream": "stdout",
       "text": [
        "\n",
        "No rows in table derived_images with status R were found!\n",
        "No rows in table derived_images with status R were found!\n",
        "No rows in table derived_images with status R were found!\n",
        "No rows in table derived_images with status R were found!\n",
        "No rows in table derived_images with status R were found!\n",
        "No rows in table derived_images with status R were found!"
       ]
      },
      {
       "output_type": "stream",
       "stream": "stdout",
       "text": [
        "\n",
        "No rows in table derived_images with status R were found!\n",
        "No rows in table derived_images with status R were found!\n",
        "No rows in table derived_images with status R were found!\n",
        "No rows in table derived_images with status R were found!\n",
        "No rows in table derived_images with status R were found!\n",
        "No rows in table derived_images with status R were found!"
       ]
      },
      {
       "output_type": "stream",
       "stream": "stdout",
       "text": [
        "\n",
        "No rows in table derived_images with status R were found!\n",
        "No rows in table derived_images with status R were found!\n",
        "No rows in table derived_images with status R were found!\n",
        "No rows in table derived_images with status R were found!\n",
        "No rows in table derived_images with status R were found!\n",
        "No rows in table derived_images with status R were found!"
       ]
      },
      {
       "output_type": "stream",
       "stream": "stdout",
       "text": [
        "\n",
        "No rows in table derived_images with status R were found!\n",
        "No rows in table derived_images with status R were found!\n",
        "No rows in table derived_images with status R were found!\n",
        "No rows in table derived_images with status R were found!\n",
        "No rows in table derived_images with status R were found!\n",
        "No rows in table derived_images with status R were found!"
       ]
      },
      {
       "output_type": "stream",
       "stream": "stdout",
       "text": [
        "\n",
        "No rows in table derived_images with status R were found!\n",
        "No rows in table derived_images with status R were found!\n",
        "No rows in table derived_images with status R were found!\n",
        "No rows in table derived_images with status R were found!"
       ]
      },
      {
       "output_type": "stream",
       "stream": "stdout",
       "text": [
        "\n",
        "No rows in table derived_images with status R were found!\n",
        "No rows in table derived_images with status R were found!\n",
        "No rows in table derived_images with status R were found!"
       ]
      },
      {
       "output_type": "stream",
       "stream": "stdout",
       "text": [
        "\n",
        "No rows in table derived_images with status R were found!\n",
        "No rows in table derived_images with status R were found!\n",
        "No rows in table derived_images with status R were found!\n",
        "No rows in table derived_images with status R were found!\n",
        "No rows in table derived_images with status R were found!"
       ]
      },
      {
       "output_type": "stream",
       "stream": "stdout",
       "text": [
        "\n",
        "No rows in table derived_images with status R were found!\n",
        "No rows in table derived_images with status R were found!\n",
        "No rows in table derived_images with status R were found!"
       ]
      },
      {
       "output_type": "stream",
       "stream": "stdout",
       "text": [
        "\n",
        "No rows in table derived_images with status R were found!\n",
        "No rows in table derived_images with status R were found!\n",
        "No rows in table derived_images with status R were found!\n",
        "No rows in table derived_images with status R were found!"
       ]
      },
      {
       "output_type": "stream",
       "stream": "stdout",
       "text": [
        "\n",
        "No rows in table derived_images with status R were found!\n",
        "No rows in table derived_images with status R were found!"
       ]
      },
      {
       "output_type": "stream",
       "stream": "stdout",
       "text": [
        "\n",
        "No rows in table derived_images with status R were found!\n",
        "No rows in table derived_images with status R were found!\n",
        "No rows in table derived_images with status R were found!\n",
        "No rows in table derived_images with status R were found!\n",
        "No rows in table derived_images with status R were found!\n",
        "No rows in table derived_images with status R were found!"
       ]
      },
      {
       "output_type": "stream",
       "stream": "stdout",
       "text": [
        "\n",
        "No rows in table derived_images with status R were found!\n",
        "No rows in table derived_images with status R were found!\n",
        "No rows in table derived_images with status R were found!\n",
        "No rows in table derived_images with status R were found!\n",
        "No rows in table derived_images with status R were found!\n",
        "No rows in table derived_images with status R were found!"
       ]
      },
      {
       "output_type": "stream",
       "stream": "stdout",
       "text": [
        "\n",
        "No rows in table derived_images with status R were found!\n",
        "No rows in table derived_images with status R were found!\n",
        "No rows in table derived_images with status R were found!\n",
        "No rows in table derived_images with status R were found!\n",
        "No rows in table derived_images with status R were found!\n",
        "No rows in table derived_images with status R were found!"
       ]
      },
      {
       "output_type": "stream",
       "stream": "stdout",
       "text": [
        "\n",
        "No rows in table derived_images with status R were found!"
       ]
      },
      {
       "output_type": "stream",
       "stream": "stdout",
       "text": [
        "\n",
        "No rows in table derived_images with status R were found!\n",
        "No rows in table derived_images with status R were found!\n",
        "No rows in table derived_images with status R were found!\n",
        "No rows in table derived_images with status R were found!"
       ]
      },
      {
       "output_type": "stream",
       "stream": "stdout",
       "text": [
        "\n",
        "No rows in table derived_images with status R were found!\n",
        "No rows in table derived_images with status R were found!\n",
        "No rows in table derived_images with status R were found!"
       ]
      },
      {
       "output_type": "stream",
       "stream": "stdout",
       "text": [
        "\n",
        "No rows in table derived_images with status R were found!\n",
        "No rows in table derived_images with status R were found!\n",
        "No rows in table derived_images with status R were found!\n",
        "No rows in table derived_images with status R were found!"
       ]
      },
      {
       "output_type": "stream",
       "stream": "stdout",
       "text": [
        "\n",
        "No rows in table derived_images with status R were found!\n",
        "No rows in table derived_images with status R were found!\n",
        "No rows in table derived_images with status R were found!"
       ]
      },
      {
       "output_type": "stream",
       "stream": "stdout",
       "text": [
        "\n",
        "No rows in table derived_images with status R were found!\n",
        "No rows in table derived_images with status R were found!\n",
        "No rows in table derived_images with status R were found!\n",
        "No rows in table derived_images with status R were found!\n",
        "No rows in table derived_images with status R were found!\n",
        "No rows in table derived_images with status R were found!"
       ]
      },
      {
       "output_type": "stream",
       "stream": "stdout",
       "text": [
        "\n",
        "No rows in table derived_images with status R were found!\n",
        "No rows in table derived_images with status R were found!\n",
        "No rows in table derived_images with status R were found!\n",
        "No rows in table derived_images with status R were found!\n",
        "No rows in table derived_images with status R were found!"
       ]
      },
      {
       "output_type": "stream",
       "stream": "stdout",
       "text": [
        "\n",
        "No rows in table derived_images with status R were found!\n",
        "No rows in table derived_images with status R were found!"
       ]
      },
      {
       "output_type": "stream",
       "stream": "stdout",
       "text": [
        "\n",
        "No rows in table derived_images with status R were found!\n",
        "No rows in table derived_images with status R were found!\n",
        "No rows in table derived_images with status R were found!"
       ]
      },
      {
       "output_type": "stream",
       "stream": "stdout",
       "text": [
        "\n",
        "No rows in table derived_images with status R were found!\n",
        "No rows in table derived_images with status R were found!\n",
        "No rows in table derived_images with status R were found!\n",
        "No rows in table derived_images with status R were found!\n",
        "No rows in table derived_images with status R were found!\n",
        "No rows in table derived_images with status R were found!"
       ]
      },
      {
       "output_type": "stream",
       "stream": "stdout",
       "text": [
        "\n",
        "No rows in table derived_images with status R were found!\n",
        "No rows in table derived_images with status R were found!\n",
        "No rows in table derived_images with status R were found!\n",
        "No rows in table derived_images with status R were found!"
       ]
      },
      {
       "output_type": "stream",
       "stream": "stdout",
       "text": [
        "\n",
        "No rows in table derived_images with status R were found!"
       ]
      },
      {
       "output_type": "stream",
       "stream": "stdout",
       "text": [
        "\n",
        "No rows in table derived_images with status R were found!\n",
        "No rows in table derived_images with status R were found!"
       ]
      },
      {
       "output_type": "stream",
       "stream": "stdout",
       "text": [
        "\n",
        "No rows in table derived_images with status R were found!\n",
        "No rows in table derived_images with status R were found!\n",
        "No rows in table derived_images with status R were found!\n",
        "No rows in table derived_images with status R were found!\n",
        "No rows in table derived_images with status R were found!\n",
        "No rows in table derived_images with status R were found!"
       ]
      },
      {
       "output_type": "stream",
       "stream": "stdout",
       "text": [
        "\n",
        "No rows in table derived_images with status R were found!"
       ]
      },
      {
       "output_type": "stream",
       "stream": "stdout",
       "text": [
        "\n",
        "No rows in table derived_images with status R were found!\n",
        "No rows in table derived_images with status R were found!\n",
        "No rows in table derived_images with status R were found!\n",
        "No rows in table derived_images with status R were found!"
       ]
      },
      {
       "output_type": "stream",
       "stream": "stdout",
       "text": [
        "\n",
        "No rows in table derived_images with status R were found!\n",
        "No rows in table derived_images with status R were found!"
       ]
      },
      {
       "output_type": "stream",
       "stream": "stdout",
       "text": [
        "\n",
        "No rows in table derived_images with status R were found!\n",
        "No rows in table derived_images with status R were found!\n",
        "No rows in table derived_images with status R were found!"
       ]
      },
      {
       "output_type": "stream",
       "stream": "stdout",
       "text": [
        "\n",
        "No rows in table derived_images with status R were found!\n",
        "No rows in table derived_images with status R were found!\n",
        "No rows in table derived_images with status R were found!"
       ]
      },
      {
       "output_type": "stream",
       "stream": "stdout",
       "text": [
        "\n",
        "No rows in table derived_images with status R were found!\n",
        "No rows in table derived_images with status R were found!\n",
        "No rows in table derived_images with status R were found!"
       ]
      },
      {
       "output_type": "stream",
       "stream": "stdout",
       "text": [
        "\n",
        "No rows in table derived_images with status R were found!\n",
        "No rows in table derived_images with status R were found!\n",
        "No rows in table derived_images with status R were found!\n",
        "No rows in table derived_images with status R were found!"
       ]
      },
      {
       "output_type": "stream",
       "stream": "stdout",
       "text": [
        "\n",
        "No rows in table derived_images with status R were found!"
       ]
      },
      {
       "output_type": "stream",
       "stream": "stdout",
       "text": [
        "\n",
        "No rows in table derived_images with status R were found!\n",
        "No rows in table derived_images with status R were found!\n",
        "No rows in table derived_images with status R were found!\n",
        "No rows in table derived_images with status R were found!\n",
        "No rows in table derived_images with status R were found!\n",
        "No rows in table derived_images with status R were found!"
       ]
      },
      {
       "output_type": "stream",
       "stream": "stdout",
       "text": [
        "\n",
        "No rows in table derived_images with status R were found!"
       ]
      },
      {
       "output_type": "stream",
       "stream": "stdout",
       "text": [
        "\n",
        "No rows in table derived_images with status R were found!\n",
        "No rows in table derived_images with status R were found!\n",
        "No rows in table derived_images with status R were found!"
       ]
      },
      {
       "output_type": "stream",
       "stream": "stdout",
       "text": [
        "\n",
        "No rows in table derived_images with status R were found!"
       ]
      },
      {
       "output_type": "stream",
       "stream": "stdout",
       "text": [
        "\n",
        "No rows in table derived_images with status R were found!\n",
        "No rows in table derived_images with status R were found!\n",
        "No rows in table derived_images with status R were found!"
       ]
      },
      {
       "output_type": "stream",
       "stream": "stdout",
       "text": [
        "\n",
        "No rows in table derived_images with status R were found!\n",
        "No rows in table derived_images with status R were found!\n",
        "No rows in table derived_images with status R were found!\n",
        "No rows in table derived_images with status R were found!"
       ]
      },
      {
       "output_type": "stream",
       "stream": "stdout",
       "text": [
        "\n",
        "No rows in table derived_images with status R were found!"
       ]
      },
      {
       "output_type": "stream",
       "stream": "stdout",
       "text": [
        "\n",
        "No rows in table derived_images with status R were found!\n",
        "No rows in table derived_images with status R were found!\n",
        "No rows in table derived_images with status R were found!"
       ]
      },
      {
       "output_type": "stream",
       "stream": "stdout",
       "text": [
        "\n",
        "No rows in table derived_images with status R were found!\n",
        "No rows in table derived_images with status R were found!\n",
        "No rows in table derived_images with status R were found!\n",
        "No rows in table derived_images with status R were found!\n"
       ]
      },
      {
       "output_type": "stream",
       "stream": "stdout",
       "text": [
        "No rows in table derived_images with status R were found!\n",
        "No rows in table derived_images with status R were found!\n",
        "No rows in table derived_images with status R were found!\n",
        "No rows in table derived_images with status R were found!\n",
        "No rows in table derived_images with status R were found!\n",
        "No rows in table derived_images with status R were found!\n",
        "No rows in table derived_images with status R were found!"
       ]
      },
      {
       "output_type": "stream",
       "stream": "stdout",
       "text": [
        "\n",
        "No rows in table derived_images with status R were found!\n",
        "No rows in table derived_images with status R were found!\n",
        "No rows in table derived_images with status R were found!\n",
        "No rows in table derived_images with status R were found!\n",
        "No rows in table derived_images with status R were found!\n",
        "No rows in table derived_images with status R were found!"
       ]
      },
      {
       "output_type": "stream",
       "stream": "stdout",
       "text": [
        "\n",
        "No rows in table derived_images with status R were found!\n",
        "No rows in table derived_images with status R were found!\n",
        "No rows in table derived_images with status R were found!\n",
        "No rows in table derived_images with status R were found!\n",
        "No rows in table derived_images with status R were found!\n",
        "No rows in table derived_images with status R were found!"
       ]
      },
      {
       "output_type": "stream",
       "stream": "stdout",
       "text": [
        "\n",
        "No rows in table derived_images with status R were found!\n",
        "No rows in table derived_images with status R were found!\n",
        "No rows in table derived_images with status R were found!\n",
        "No rows in table derived_images with status R were found!"
       ]
      },
      {
       "output_type": "stream",
       "stream": "stdout",
       "text": [
        "\n",
        "No rows in table derived_images with status R were found!\n",
        "No rows in table derived_images with status R were found!\n",
        "No rows in table derived_images with status R were found!\n",
        "No rows in table derived_images with status R were found!\n",
        "No rows in table derived_images with status R were found!"
       ]
      },
      {
       "output_type": "stream",
       "stream": "stdout",
       "text": [
        "\n",
        "No rows in table derived_images with status R were found!\n",
        "No rows in table derived_images with status R were found!\n",
        "No rows in table derived_images with status R were found!\n",
        "No rows in table derived_images with status R were found!"
       ]
      },
      {
       "output_type": "stream",
       "stream": "stdout",
       "text": [
        "\n",
        "No rows in table derived_images with status R were found!\n",
        "No rows in table derived_images with status R were found!\n",
        "No rows in table derived_images with status R were found!\n",
        "No rows in table derived_images with status R were found!"
       ]
      },
      {
       "output_type": "stream",
       "stream": "stdout",
       "text": [
        "\n",
        "No rows in table derived_images with status R were found!\n",
        "No rows in table derived_images with status R were found!\n",
        "No rows in table derived_images with status R were found!"
       ]
      },
      {
       "output_type": "stream",
       "stream": "stdout",
       "text": [
        "\n",
        "No rows in table derived_images with status R were found!\n",
        "No rows in table derived_images with status R were found!\n",
        "No rows in table derived_images with status R were found!"
       ]
      },
      {
       "output_type": "stream",
       "stream": "stdout",
       "text": [
        "\n",
        "No rows in table derived_images with status R were found!\n",
        "No rows in table derived_images with status R were found!\n",
        "No rows in table derived_images with status R were found!\n",
        "No rows in table derived_images with status R were found!"
       ]
      },
      {
       "output_type": "stream",
       "stream": "stdout",
       "text": [
        "\n",
        "No rows in table derived_images with status R were found!\n",
        "No rows in table derived_images with status R were found!"
       ]
      },
      {
       "output_type": "stream",
       "stream": "stdout",
       "text": [
        "\n",
        "No rows in table derived_images with status R were found!\n",
        "No rows in table derived_images with status R were found!\n",
        "No rows in table derived_images with status R were found!\n",
        "No rows in table derived_images with status R were found!"
       ]
      },
      {
       "output_type": "stream",
       "stream": "stdout",
       "text": [
        "\n",
        "No rows in table derived_images with status R were found!\n",
        "No rows in table derived_images with status R were found!\n",
        "No rows in table derived_images with status R were found!\n",
        "No rows in table derived_images with status R were found!"
       ]
      },
      {
       "output_type": "stream",
       "stream": "stdout",
       "text": [
        "\n",
        "No rows in table derived_images with status R were found!\n",
        "No rows in table derived_images with status R were found!\n",
        "No rows in table derived_images with status R were found!\n",
        "No rows in table derived_images with status R were found!"
       ]
      },
      {
       "output_type": "stream",
       "stream": "stdout",
       "text": [
        "\n",
        "No rows in table derived_images with status R were found!\n",
        "No rows in table derived_images with status R were found!\n",
        "No rows in table derived_images with status R were found!"
       ]
      },
      {
       "output_type": "stream",
       "stream": "stdout",
       "text": [
        "\n",
        "No rows in table derived_images with status R were found!\n",
        "No rows in table derived_images with status R were found!\n",
        "No rows in table derived_images with status R were found!\n",
        "No rows in table derived_images with status R were found!\n",
        "No rows in table derived_images with status R were found!\n",
        "No rows in table derived_images with status R were found!"
       ]
      },
      {
       "output_type": "stream",
       "stream": "stdout",
       "text": [
        "\n",
        "No rows in table derived_images with status R were found!\n",
        "No rows in table derived_images with status R were found!\n",
        "No rows in table derived_images with status R were found!"
       ]
      },
      {
       "output_type": "stream",
       "stream": "stdout",
       "text": [
        "\n",
        "No rows in table derived_images with status R were found!\n",
        "No rows in table derived_images with status R were found!\n",
        "No rows in table derived_images with status R were found!\n",
        "No rows in table derived_images with status R were found!"
       ]
      },
      {
       "output_type": "stream",
       "stream": "stdout",
       "text": [
        "\n",
        "No rows in table derived_images with status R were found!\n",
        "No rows in table derived_images with status R were found!\n",
        "No rows in table derived_images with status R were found!\n",
        "No rows in table derived_images with status R were found!"
       ]
      },
      {
       "output_type": "stream",
       "stream": "stdout",
       "text": [
        "\n",
        "No rows in table derived_images with status R were found!\n",
        "No rows in table derived_images with status R were found!"
       ]
      },
      {
       "output_type": "stream",
       "stream": "stdout",
       "text": [
        "\n",
        "No rows in table derived_images with status R were found!\n",
        "No rows in table derived_images with status R were found!\n",
        "No rows in table derived_images with status R were found!"
       ]
      },
      {
       "output_type": "stream",
       "stream": "stdout",
       "text": [
        "\n",
        "No rows in table derived_images with status R were found!\n",
        "No rows in table derived_images with status R were found!\n",
        "No rows in table derived_images with status R were found!"
       ]
      },
      {
       "output_type": "stream",
       "stream": "stdout",
       "text": [
        "\n",
        "No rows in table derived_images with status R were found!\n",
        "No rows in table derived_images with status R were found!\n",
        "No rows in table derived_images with status R were found!\n",
        "No rows in table derived_images with status R were found!\n",
        "No rows in table derived_images with status R were found!\n",
        "No rows in table derived_images with status R were found!"
       ]
      },
      {
       "output_type": "stream",
       "stream": "stdout",
       "text": [
        "\n",
        "No rows in table derived_images with status R were found!\n",
        "No rows in table derived_images with status R were found!\n",
        "No rows in table derived_images with status R were found!"
       ]
      },
      {
       "output_type": "stream",
       "stream": "stdout",
       "text": [
        "\n",
        "No rows in table derived_images with status R were found!\n",
        "No rows in table derived_images with status R were found!\n",
        "No rows in table derived_images with status R were found!"
       ]
      },
      {
       "output_type": "stream",
       "stream": "stdout",
       "text": [
        "\n",
        "No rows in table derived_images with status R were found!\n",
        "No rows in table derived_images with status R were found!\n",
        "No rows in table derived_images with status R were found!"
       ]
      },
      {
       "output_type": "stream",
       "stream": "stdout",
       "text": [
        "\n",
        "No rows in table derived_images with status R were found!\n",
        "No rows in table derived_images with status R were found!\n",
        "No rows in table derived_images with status R were found!\n",
        "No rows in table derived_images with status R were found!"
       ]
      },
      {
       "output_type": "stream",
       "stream": "stdout",
       "text": [
        "\n",
        "No rows in table derived_images with status R were found!\n",
        "No rows in table derived_images with status R were found!\n",
        "No rows in table derived_images with status R were found!\n",
        "No rows in table derived_images with status R were found!"
       ]
      },
      {
       "output_type": "stream",
       "stream": "stdout",
       "text": [
        "\n",
        "No rows in table derived_images with status R were found!\n",
        "No rows in table derived_images with status R were found!\n",
        "No rows in table derived_images with status R were found!\n",
        "No rows in table derived_images with status R were found!"
       ]
      },
      {
       "output_type": "stream",
       "stream": "stdout",
       "text": [
        "\n",
        "No rows in table derived_images with status R were found!\n",
        "No rows in table derived_images with status R were found!\n",
        "No rows in table derived_images with status R were found!"
       ]
      },
      {
       "output_type": "stream",
       "stream": "stdout",
       "text": [
        "\n",
        "No rows in table derived_images with status R were found!\n",
        "No rows in table derived_images with status R were found!\n",
        "No rows in table derived_images with status R were found!"
       ]
      },
      {
       "output_type": "stream",
       "stream": "stdout",
       "text": [
        "\n",
        "No rows in table derived_images with status R were found!\n",
        "No rows in table derived_images with status R were found!\n",
        "No rows in table derived_images with status R were found!\n",
        "No rows in table derived_images with status R were found!"
       ]
      },
      {
       "output_type": "stream",
       "stream": "stdout",
       "text": [
        "\n",
        "No rows in table derived_images with status R were found!\n",
        "No rows in table derived_images with status R were found!\n",
        "No rows in table derived_images with status R were found!\n",
        "No rows in table derived_images with status R were found!\n",
        "No rows in table derived_images with status R were found!\n",
        "No rows in table derived_images with status R were found!"
       ]
      },
      {
       "output_type": "stream",
       "stream": "stdout",
       "text": [
        "\n",
        "No rows in table derived_images with status R were found!\n",
        "No rows in table derived_images with status R were found!\n",
        "No rows in table derived_images with status R were found!\n",
        "No rows in table derived_images with status R were found!\n",
        "No rows in table derived_images with status R were found!"
       ]
      },
      {
       "output_type": "stream",
       "stream": "stdout",
       "text": [
        "\n",
        "No rows in table derived_images with status R were found!"
       ]
      },
      {
       "output_type": "stream",
       "stream": "stdout",
       "text": [
        "\n",
        "No rows in table derived_images with status R were found!"
       ]
      },
      {
       "output_type": "stream",
       "stream": "stdout",
       "text": [
        "\n",
        "No rows in table derived_images with status R were found!\n",
        "No rows in table derived_images with status R were found!\n",
        "No rows in table derived_images with status R were found!"
       ]
      },
      {
       "output_type": "stream",
       "stream": "stdout",
       "text": [
        "\n",
        "No rows in table derived_images with status R were found!\n",
        "No rows in table derived_images with status R were found!\n",
        "No rows in table derived_images with status R were found!\n",
        "No rows in table derived_images with status R were found!"
       ]
      },
      {
       "output_type": "stream",
       "stream": "stdout",
       "text": [
        "\n",
        "No rows in table derived_images with status R were found!\n",
        "No rows in table derived_images with status R were found!\n",
        "No rows in table derived_images with status R were found!\n",
        "No rows in table derived_images with status R were found!\n",
        "No rows in table derived_images with status R were found!"
       ]
      },
      {
       "output_type": "stream",
       "stream": "stdout",
       "text": [
        "\n",
        "No rows in table derived_images with status R were found!\n",
        "No rows in table derived_images with status R were found!\n",
        "No rows in table derived_images with status R were found!"
       ]
      },
      {
       "output_type": "stream",
       "stream": "stdout",
       "text": [
        "\n",
        "No rows in table derived_images with status R were found!\n",
        "No rows in table derived_images with status R were found!\n",
        "No rows in table derived_images with status R were found!\n",
        "No rows in table derived_images with status R were found!"
       ]
      },
      {
       "output_type": "stream",
       "stream": "stdout",
       "text": [
        "\n",
        "No rows in table derived_images with status R were found!\n",
        "No rows in table derived_images with status R were found!\n",
        "No rows in table derived_images with status R were found!"
       ]
      },
      {
       "output_type": "stream",
       "stream": "stdout",
       "text": [
        "\n",
        "No rows in table derived_images with status R were found!\n",
        "No rows in table derived_images with status R were found!"
       ]
      },
      {
       "output_type": "stream",
       "stream": "stdout",
       "text": [
        "\n",
        "No rows in table derived_images with status R were found!\n",
        "No rows in table derived_images with status R were found!\n",
        "No rows in table derived_images with status R were found!"
       ]
      },
      {
       "output_type": "stream",
       "stream": "stdout",
       "text": [
        "\n",
        "No rows in table derived_images with status R were found!\n",
        "No rows in table derived_images with status R were found!\n",
        "No rows in table derived_images with status R were found!"
       ]
      },
      {
       "output_type": "stream",
       "stream": "stdout",
       "text": [
        "\n",
        "No rows in table derived_images with status R were found!\n",
        "No rows in table derived_images with status R were found!\n",
        "No rows in table derived_images with status R were found!\n",
        "No rows in table derived_images with status R were found!"
       ]
      },
      {
       "output_type": "stream",
       "stream": "stdout",
       "text": [
        "\n",
        "No rows in table derived_images with status R were found!\n",
        "No rows in table derived_images with status R were found!\n",
        "No rows in table derived_images with status R were found!"
       ]
      },
      {
       "output_type": "stream",
       "stream": "stdout",
       "text": [
        "\n",
        "No rows in table derived_images with status R were found!\n",
        "No rows in table derived_images with status R were found!\n",
        "No rows in table derived_images with status R were found!\n",
        "No rows in table derived_images with status R were found!\n",
        "No rows in table derived_images with status R were found!\n",
        "No rows in table derived_images with status R were found!"
       ]
      },
      {
       "output_type": "stream",
       "stream": "stdout",
       "text": [
        "\n",
        "No rows in table derived_images with status R were found!\n",
        "No rows in table derived_images with status R were found!\n",
        "No rows in table derived_images with status R were found!"
       ]
      },
      {
       "output_type": "stream",
       "stream": "stdout",
       "text": [
        "\n",
        "No rows in table derived_images with status R were found!\n",
        "No rows in table derived_images with status R were found!"
       ]
      },
      {
       "output_type": "stream",
       "stream": "stdout",
       "text": [
        "\n",
        "No rows in table derived_images with status R were found!\n",
        "No rows in table derived_images with status R were found!\n",
        "No rows in table derived_images with status R were found!"
       ]
      },
      {
       "output_type": "stream",
       "stream": "stdout",
       "text": [
        "\n",
        "No rows in table derived_images with status R were found!\n",
        "No rows in table derived_images with status R were found!\n",
        "No rows in table derived_images with status R were found!\n",
        "No rows in table derived_images with status R were found!\n",
        "No rows in table derived_images with status R were found!\n",
        "No rows in table derived_images with status R were found!"
       ]
      },
      {
       "output_type": "stream",
       "stream": "stdout",
       "text": [
        "\n",
        "No rows in table derived_images with status R were found!\n",
        "No rows in table derived_images with status R were found!\n",
        "No rows in table derived_images with status R were found!"
       ]
      },
      {
       "output_type": "stream",
       "stream": "stdout",
       "text": [
        "\n",
        "No rows in table derived_images with status R were found!\n",
        "No rows in table derived_images with status R were found!"
       ]
      },
      {
       "output_type": "stream",
       "stream": "stdout",
       "text": [
        "\n",
        "No rows in table derived_images with status R were found!"
       ]
      },
      {
       "output_type": "stream",
       "stream": "stdout",
       "text": [
        "\n",
        "No rows in table derived_images with status R were found!\n",
        "No rows in table derived_images with status R were found!\n",
        "No rows in table derived_images with status R were found!\n",
        "No rows in table derived_images with status R were found!\n",
        "No rows in table derived_images with status R were found!"
       ]
      },
      {
       "output_type": "stream",
       "stream": "stdout",
       "text": [
        "\n",
        "No rows in table derived_images with status R were found!\n",
        "No rows in table derived_images with status R were found!\n",
        "No rows in table derived_images with status R were found!\n",
        "No rows in table derived_images with status R were found!"
       ]
      },
      {
       "output_type": "stream",
       "stream": "stdout",
       "text": [
        "\n",
        "No rows in table derived_images with status R were found!"
       ]
      },
      {
       "output_type": "stream",
       "stream": "stdout",
       "text": [
        "\n",
        "No rows in table derived_images with status R were found!\n",
        "No rows in table derived_images with status R were found!\n",
        "No rows in table derived_images with status R were found!\n",
        "No rows in table derived_images with status R were found!\n",
        "No rows in table derived_images with status R were found!\n",
        "No rows in table derived_images with status R were found!"
       ]
      },
      {
       "output_type": "stream",
       "stream": "stdout",
       "text": [
        "\n",
        "No rows in table derived_images with status R were found!\n",
        "No rows in table derived_images with status R were found!\n",
        "No rows in table derived_images with status R were found!\n",
        "No rows in table derived_images with status R were found!"
       ]
      },
      {
       "output_type": "stream",
       "stream": "stdout",
       "text": [
        "\n",
        "No rows in table derived_images with status R were found!\n",
        "No rows in table derived_images with status R were found!\n",
        "No rows in table derived_images with status R were found!"
       ]
      },
      {
       "output_type": "stream",
       "stream": "stdout",
       "text": [
        "\n",
        "No rows in table derived_images with status R were found!\n",
        "No rows in table derived_images with status R were found!\n",
        "No rows in table derived_images with status R were found!"
       ]
      },
      {
       "output_type": "stream",
       "stream": "stdout",
       "text": [
        "\n",
        "No rows in table derived_images with status R were found!"
       ]
      },
      {
       "output_type": "stream",
       "stream": "stdout",
       "text": [
        "\n",
        "No rows in table derived_images with status R were found!\n",
        "No rows in table derived_images with status R were found!\n",
        "No rows in table derived_images with status R were found!"
       ]
      },
      {
       "output_type": "stream",
       "stream": "stdout",
       "text": [
        "\n",
        "No rows in table derived_images with status R were found!\n",
        "No rows in table derived_images with status R were found!\n",
        "No rows in table derived_images with status R were found!\n",
        "No rows in table derived_images with status R were found!\n",
        "No rows in table derived_images with status R were found!\n",
        "No rows in table derived_images with status R were found!"
       ]
      },
      {
       "output_type": "stream",
       "stream": "stdout",
       "text": [
        "\n",
        "No rows in table derived_images with status R were found!\n",
        "No rows in table derived_images with status R were found!\n",
        "No rows in table derived_images with status R were found!"
       ]
      },
      {
       "output_type": "stream",
       "stream": "stdout",
       "text": [
        "\n",
        "No rows in table derived_images with status R were found!\n",
        "No rows in table derived_images with status R were found!"
       ]
      },
      {
       "output_type": "stream",
       "stream": "stdout",
       "text": [
        "\n",
        "No rows in table derived_images with status R were found!\n",
        "No rows in table derived_images with status R were found!\n",
        "No rows in table derived_images with status R were found!\n",
        "No rows in table derived_images with status R were found!"
       ]
      },
      {
       "output_type": "stream",
       "stream": "stdout",
       "text": [
        "\n",
        "No rows in table derived_images with status R were found!\n",
        "No rows in table derived_images with status R were found!\n",
        "No rows in table derived_images with status R were found!\n",
        "No rows in table derived_images with status R were found!\n",
        "No rows in table derived_images with status R were found!\n",
        "No rows in table derived_images with status R were found!"
       ]
      },
      {
       "output_type": "stream",
       "stream": "stdout",
       "text": [
        "\n",
        "No rows in table derived_images with status R were found!\n",
        "No rows in table derived_images with status R were found!\n",
        "No rows in table derived_images with status R were found!\n",
        "No rows in table derived_images with status R were found!"
       ]
      },
      {
       "output_type": "stream",
       "stream": "stdout",
       "text": [
        "\n",
        "No rows in table derived_images with status R were found!\n",
        "No rows in table derived_images with status R were found!\n",
        "No rows in table derived_images with status R were found!\n",
        "No rows in table derived_images with status R were found!\n",
        "No rows in table derived_images with status R were found!\n",
        "No rows in table derived_images with status R were found!"
       ]
      },
      {
       "output_type": "stream",
       "stream": "stdout",
       "text": [
        "\n",
        "No rows in table derived_images with status R were found!"
       ]
      },
      {
       "output_type": "stream",
       "stream": "stdout",
       "text": [
        "\n",
        "No rows in table derived_images with status R were found!\n",
        "No rows in table derived_images with status R were found!\n",
        "No rows in table derived_images with status R were found!\n",
        "No rows in table derived_images with status R were found!"
       ]
      },
      {
       "output_type": "stream",
       "stream": "stdout",
       "text": [
        "\n",
        "No rows in table derived_images with status R were found!\n",
        "No rows in table derived_images with status R were found!\n",
        "No rows in table derived_images with status R were found!\n"
       ]
      }
     ],
     "prompt_number": 10
    },
    {
     "cell_type": "code",
     "collapsed": false,
     "input": [
      "!ls /raid0/homes/dmwelch/Desktop/predicthd_volumes.csv"
     ],
     "language": "python",
     "metadata": {},
     "outputs": [
      {
       "output_type": "stream",
       "stream": "stdout",
       "text": [
        "/raid0/homes/dmwelch/Desktop/predicthd_volumes.csv\r\n"
       ]
      }
     ],
     "prompt_number": 14
    },
    {
     "cell_type": "code",
     "collapsed": false,
     "input": [
      "valueDict"
     ],
     "language": "python",
     "metadata": {},
     "outputs": [
      {
       "output_type": "pyout",
       "prompt_number": 37,
       "text": [
        "{'ICV': '1370043.0'}"
       ]
      }
     ],
     "prompt_number": 37
    },
    {
     "cell_type": "code",
     "collapsed": false,
     "input": [
      "db.rows"
     ],
     "language": "python",
     "metadata": {},
     "outputs": [
      {
       "output_type": "pyout",
       "prompt_number": 29,
       "text": [
        "[(13837,)]"
       ]
      }
     ],
     "prompt_number": 29
    },
    {
     "cell_type": "code",
     "collapsed": false,
     "input": [
      "db.open()"
     ],
     "language": "python",
     "metadata": {},
     "outputs": [],
     "prompt_number": 6
    },
    {
     "cell_type": "code",
     "collapsed": false,
     "input": [
      "db.cursor.execute(\"INSERT INTO derived_volumes (record_id, _analysis, _project, _subject, _session, putamen_right, caudate_left, hippocampus_left, globus_right, thalamus_right, globus_left, accumben_left, caudate_right, thalamus_left, hippocampus_right, accumben_right, putamen_left, icv) VALUES (13840, '20130202_PREDICTHD_Results', 'PHD_156', '0876', '57364', 3761.0, 3237.0, 2309.0, 948.0, 8203.0, 810.0, 288.0, 3373.0, 8336.0, 2219.0, 356.0, 3903.0, 1640892.0);\")"
     ],
     "language": "python",
     "metadata": {},
     "outputs": [],
     "prompt_number": 8
    },
    {
     "cell_type": "code",
     "collapsed": false,
     "input": [],
     "language": "python",
     "metadata": {},
     "outputs": []
    }
   ],
   "metadata": {}
  }
 ]
}